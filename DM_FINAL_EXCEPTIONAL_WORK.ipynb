{
 "cells": [
  {
   "cell_type": "markdown",
   "metadata": {},
   "source": [
    "#### This project was done as part of Data Mining course from the Master of Science in Data Science at SMU"
   ]
  },
  {
   "cell_type": "markdown",
   "metadata": {},
   "source": [
    "<h4><b>Team Members:</b></h4><ul>  <li>Lisa Mendez</li>  <li>Brandon Lawrence</li>  <li>Dominique Edwards</li>  <li>Mariana Llamas-Cendon</li></ul>"
   ]
  },
  {
   "cell_type": "markdown",
   "metadata": {},
   "source": [
    "Is weather an important factor to predict the number of fatalities involved in car accidents in each U.S. state in 2015? \n",
    "\n",
    "In this case, we are using 2015 data from FARS (Fatality Analysis Reporting System) that we have previously cleaned and prepared for analysis. The variable STATE is used as the user_id, then there will be only 50 users."
   ]
  },
  {
   "cell_type": "code",
   "execution_count": 91,
   "metadata": {
    "collapsed": false
   },
   "outputs": [
    {
     "data": {
      "text/html": [
       "<pre>Finished parsing file /Users/marianallamas-cendon/Documents/DM/Project/FINAL/accident_good.csv</pre>"
      ],
      "text/plain": [
       "Finished parsing file /Users/marianallamas-cendon/Documents/DM/Project/FINAL/accident_good.csv"
      ]
     },
     "metadata": {},
     "output_type": "display_data"
    },
    {
     "data": {
      "text/html": [
       "<pre>Parsing completed. Parsed 100 lines in 0.10772 secs.</pre>"
      ],
      "text/plain": [
       "Parsing completed. Parsed 100 lines in 0.10772 secs."
      ]
     },
     "metadata": {},
     "output_type": "display_data"
    },
    {
     "name": "stdout",
     "output_type": "stream",
     "text": [
      "------------------------------------------------------\n",
      "Inferred types from first 100 line(s) of file as \n",
      "column_type_hints=[int,int,int,int,int,int,int,int,int,int,int,int,int,int,int,int,int,int,int,int,int]\n",
      "If parsing fails due to incorrect types, you can correct\n",
      "the inferred type list above and pass it to read_csv in\n",
      "the column_type_hints argument\n",
      "------------------------------------------------------\n"
     ]
    },
    {
     "data": {
      "text/html": [
       "<pre>Finished parsing file /Users/marianallamas-cendon/Documents/DM/Project/FINAL/accident_good.csv</pre>"
      ],
      "text/plain": [
       "Finished parsing file /Users/marianallamas-cendon/Documents/DM/Project/FINAL/accident_good.csv"
      ]
     },
     "metadata": {},
     "output_type": "display_data"
    },
    {
     "data": {
      "text/html": [
       "<pre>Parsing completed. Parsed 28823 lines in 0.079148 secs.</pre>"
      ],
      "text/plain": [
       "Parsing completed. Parsed 28823 lines in 0.079148 secs."
      ]
     },
     "metadata": {},
     "output_type": "display_data"
    },
    {
     "data": {
      "text/html": [
       "<pre>Recsys training: model = ranking_factorization_recommender</pre>"
      ],
      "text/plain": [
       "Recsys training: model = ranking_factorization_recommender"
      ]
     },
     "metadata": {},
     "output_type": "display_data"
    },
    {
     "data": {
      "text/html": [
       "<pre>Preparing data set.</pre>"
      ],
      "text/plain": [
       "Preparing data set."
      ]
     },
     "metadata": {},
     "output_type": "display_data"
    },
    {
     "data": {
      "text/html": [
       "<pre>    Data has 28823 observations with 50 users and 9 items.</pre>"
      ],
      "text/plain": [
       "    Data has 28823 observations with 50 users and 9 items."
      ]
     },
     "metadata": {},
     "output_type": "display_data"
    },
    {
     "data": {
      "text/html": [
       "<pre>    Data prepared in: 0.236465s</pre>"
      ],
      "text/plain": [
       "    Data prepared in: 0.236465s"
      ]
     },
     "metadata": {},
     "output_type": "display_data"
    },
    {
     "data": {
      "text/html": [
       "<pre>Training ranking_factorization_recommender for recommendations.</pre>"
      ],
      "text/plain": [
       "Training ranking_factorization_recommender for recommendations."
      ]
     },
     "metadata": {},
     "output_type": "display_data"
    },
    {
     "data": {
      "text/html": [
       "<pre>+--------------------------------+--------------------------------------------------+----------+</pre>"
      ],
      "text/plain": [
       "+--------------------------------+--------------------------------------------------+----------+"
      ]
     },
     "metadata": {},
     "output_type": "display_data"
    },
    {
     "data": {
      "text/html": [
       "<pre>| Parameter                      | Description                                      | Value    |</pre>"
      ],
      "text/plain": [
       "| Parameter                      | Description                                      | Value    |"
      ]
     },
     "metadata": {},
     "output_type": "display_data"
    },
    {
     "data": {
      "text/html": [
       "<pre>+--------------------------------+--------------------------------------------------+----------+</pre>"
      ],
      "text/plain": [
       "+--------------------------------+--------------------------------------------------+----------+"
      ]
     },
     "metadata": {},
     "output_type": "display_data"
    },
    {
     "data": {
      "text/html": [
       "<pre>| num_factors                    | Factor Dimension                                 | 32       |</pre>"
      ],
      "text/plain": [
       "| num_factors                    | Factor Dimension                                 | 32       |"
      ]
     },
     "metadata": {},
     "output_type": "display_data"
    },
    {
     "data": {
      "text/html": [
       "<pre>| regularization                 | L2 Regularization on Factors                     | 1e-09    |</pre>"
      ],
      "text/plain": [
       "| regularization                 | L2 Regularization on Factors                     | 1e-09    |"
      ]
     },
     "metadata": {},
     "output_type": "display_data"
    },
    {
     "data": {
      "text/html": [
       "<pre>| solver                         | Solver used for training                         | adagrad  |</pre>"
      ],
      "text/plain": [
       "| solver                         | Solver used for training                         | adagrad  |"
      ]
     },
     "metadata": {},
     "output_type": "display_data"
    },
    {
     "data": {
      "text/html": [
       "<pre>| linear_regularization          | L2 Regularization on Linear Coefficients         | 1e-09    |</pre>"
      ],
      "text/plain": [
       "| linear_regularization          | L2 Regularization on Linear Coefficients         | 1e-09    |"
      ]
     },
     "metadata": {},
     "output_type": "display_data"
    },
    {
     "data": {
      "text/html": [
       "<pre>| ranking_regularization         | Rank-based Regularization Weight                 | 0.25     |</pre>"
      ],
      "text/plain": [
       "| ranking_regularization         | Rank-based Regularization Weight                 | 0.25     |"
      ]
     },
     "metadata": {},
     "output_type": "display_data"
    },
    {
     "data": {
      "text/html": [
       "<pre>| max_iterations                 | Maximum Number of Iterations                     | 25       |</pre>"
      ],
      "text/plain": [
       "| max_iterations                 | Maximum Number of Iterations                     | 25       |"
      ]
     },
     "metadata": {},
     "output_type": "display_data"
    },
    {
     "data": {
      "text/html": [
       "<pre>+--------------------------------+--------------------------------------------------+----------+</pre>"
      ],
      "text/plain": [
       "+--------------------------------+--------------------------------------------------+----------+"
      ]
     },
     "metadata": {},
     "output_type": "display_data"
    },
    {
     "data": {
      "text/html": [
       "<pre>  Optimizing model using SGD; tuning step size.</pre>"
      ],
      "text/plain": [
       "  Optimizing model using SGD; tuning step size."
      ]
     },
     "metadata": {},
     "output_type": "display_data"
    },
    {
     "data": {
      "text/html": [
       "<pre>  Using 10000 / 28823 points for tuning the step size.</pre>"
      ],
      "text/plain": [
       "  Using 10000 / 28823 points for tuning the step size."
      ]
     },
     "metadata": {},
     "output_type": "display_data"
    },
    {
     "data": {
      "text/html": [
       "<pre>+---------+-------------------+------------------------------------------+</pre>"
      ],
      "text/plain": [
       "+---------+-------------------+------------------------------------------+"
      ]
     },
     "metadata": {},
     "output_type": "display_data"
    },
    {
     "data": {
      "text/html": [
       "<pre>| Attempt | Initial Step Size | Estimated Objective Value                |</pre>"
      ],
      "text/plain": [
       "| Attempt | Initial Step Size | Estimated Objective Value                |"
      ]
     },
     "metadata": {},
     "output_type": "display_data"
    },
    {
     "data": {
      "text/html": [
       "<pre>+---------+-------------------+------------------------------------------+</pre>"
      ],
      "text/plain": [
       "+---------+-------------------+------------------------------------------+"
      ]
     },
     "metadata": {},
     "output_type": "display_data"
    },
    {
     "data": {
      "text/html": [
       "<pre>| 0       | 2.5               | Not Viable                               |</pre>"
      ],
      "text/plain": [
       "| 0       | 2.5               | Not Viable                               |"
      ]
     },
     "metadata": {},
     "output_type": "display_data"
    },
    {
     "data": {
      "text/html": [
       "<pre>| 1       | 0.625             | Not Viable                               |</pre>"
      ],
      "text/plain": [
       "| 1       | 0.625             | Not Viable                               |"
      ]
     },
     "metadata": {},
     "output_type": "display_data"
    },
    {
     "data": {
      "text/html": [
       "<pre>| 2       | 0.15625           | Not Viable                               |</pre>"
      ],
      "text/plain": [
       "| 2       | 0.15625           | Not Viable                               |"
      ]
     },
     "metadata": {},
     "output_type": "display_data"
    },
    {
     "data": {
      "text/html": [
       "<pre>| 3       | 0.0390625         | No Decrease (0.353963 >= 0.240391)       |</pre>"
      ],
      "text/plain": [
       "| 3       | 0.0390625         | No Decrease (0.353963 >= 0.240391)       |"
      ]
     },
     "metadata": {},
     "output_type": "display_data"
    },
    {
     "data": {
      "text/html": [
       "<pre>| 4       | 0.00976562        | 0.211903                                 |</pre>"
      ],
      "text/plain": [
       "| 4       | 0.00976562        | 0.211903                                 |"
      ]
     },
     "metadata": {},
     "output_type": "display_data"
    },
    {
     "data": {
      "text/html": [
       "<pre>| 5       | 0.00488281        | 0.222168                                 |</pre>"
      ],
      "text/plain": [
       "| 5       | 0.00488281        | 0.222168                                 |"
      ]
     },
     "metadata": {},
     "output_type": "display_data"
    },
    {
     "data": {
      "text/html": [
       "<pre>| 6       | 0.00244141        | 0.224155                                 |</pre>"
      ],
      "text/plain": [
       "| 6       | 0.00244141        | 0.224155                                 |"
      ]
     },
     "metadata": {},
     "output_type": "display_data"
    },
    {
     "data": {
      "text/html": [
       "<pre>| 7       | 0.0012207         | 0.228379                                 |</pre>"
      ],
      "text/plain": [
       "| 7       | 0.0012207         | 0.228379                                 |"
      ]
     },
     "metadata": {},
     "output_type": "display_data"
    },
    {
     "data": {
      "text/html": [
       "<pre>+---------+-------------------+------------------------------------------+</pre>"
      ],
      "text/plain": [
       "+---------+-------------------+------------------------------------------+"
      ]
     },
     "metadata": {},
     "output_type": "display_data"
    },
    {
     "data": {
      "text/html": [
       "<pre>| Final   | 0.00976562        | 0.211903                                 |</pre>"
      ],
      "text/plain": [
       "| Final   | 0.00976562        | 0.211903                                 |"
      ]
     },
     "metadata": {},
     "output_type": "display_data"
    },
    {
     "data": {
      "text/html": [
       "<pre>+---------+-------------------+------------------------------------------+</pre>"
      ],
      "text/plain": [
       "+---------+-------------------+------------------------------------------+"
      ]
     },
     "metadata": {},
     "output_type": "display_data"
    },
    {
     "data": {
      "text/html": [
       "<pre>Starting Optimization.</pre>"
      ],
      "text/plain": [
       "Starting Optimization."
      ]
     },
     "metadata": {},
     "output_type": "display_data"
    },
    {
     "data": {
      "text/html": [
       "<pre>+---------+--------------+-------------------+-----------------------+-------------+</pre>"
      ],
      "text/plain": [
       "+---------+--------------+-------------------+-----------------------+-------------+"
      ]
     },
     "metadata": {},
     "output_type": "display_data"
    },
    {
     "data": {
      "text/html": [
       "<pre>| Iter.   | Elapsed Time | Approx. Objective | Approx. Training RMSE | Step Size   |</pre>"
      ],
      "text/plain": [
       "| Iter.   | Elapsed Time | Approx. Objective | Approx. Training RMSE | Step Size   |"
      ]
     },
     "metadata": {},
     "output_type": "display_data"
    },
    {
     "data": {
      "text/html": [
       "<pre>+---------+--------------+-------------------+-----------------------+-------------+</pre>"
      ],
      "text/plain": [
       "+---------+--------------+-------------------+-----------------------+-------------+"
      ]
     },
     "metadata": {},
     "output_type": "display_data"
    },
    {
     "data": {
      "text/html": [
       "<pre>| Initial | 120us        | 0.242647          | 0.351788              |             |</pre>"
      ],
      "text/plain": [
       "| Initial | 120us        | 0.242647          | 0.351788              |             |"
      ]
     },
     "metadata": {},
     "output_type": "display_data"
    },
    {
     "data": {
      "text/html": [
       "<pre>+---------+--------------+-------------------+-----------------------+-------------+</pre>"
      ],
      "text/plain": [
       "+---------+--------------+-------------------+-----------------------+-------------+"
      ]
     },
     "metadata": {},
     "output_type": "display_data"
    },
    {
     "data": {
      "text/html": [
       "<pre>| 1       | 305.141ms    | 0.123182          | 0.350219              | 0.00976562  |</pre>"
      ],
      "text/plain": [
       "| 1       | 305.141ms    | 0.123182          | 0.350219              | 0.00976562  |"
      ]
     },
     "metadata": {},
     "output_type": "display_data"
    },
    {
     "data": {
      "text/html": [
       "<pre>| 2       | 573.336ms    | 0.117981          | 0.342759              | 0.00976562  |</pre>"
      ],
      "text/plain": [
       "| 2       | 573.336ms    | 0.117981          | 0.342759              | 0.00976562  |"
      ]
     },
     "metadata": {},
     "output_type": "display_data"
    },
    {
     "data": {
      "text/html": [
       "<pre>| 3       | 826.033ms    | 0.117427          | 0.341952              | 0.00976562  |</pre>"
      ],
      "text/plain": [
       "| 3       | 826.033ms    | 0.117427          | 0.341952              | 0.00976562  |"
      ]
     },
     "metadata": {},
     "output_type": "display_data"
    },
    {
     "data": {
      "text/html": [
       "<pre>| 4       | 1.11s        | 0.117737          | 0.342407              | 0.00976562  |</pre>"
      ],
      "text/plain": [
       "| 4       | 1.11s        | 0.117737          | 0.342407              | 0.00976562  |"
      ]
     },
     "metadata": {},
     "output_type": "display_data"
    },
    {
     "data": {
      "text/html": [
       "<pre>| 5       | 1.41s        | 0.117406          | 0.341926              | 0.00976562  |</pre>"
      ],
      "text/plain": [
       "| 5       | 1.41s        | 0.117406          | 0.341926              | 0.00976562  |"
      ]
     },
     "metadata": {},
     "output_type": "display_data"
    },
    {
     "data": {
      "text/html": [
       "<pre>| 6       | 1.72s        | 0.118027          | 0.342831              | 0.00976562  |</pre>"
      ],
      "text/plain": [
       "| 6       | 1.72s        | 0.118027          | 0.342831              | 0.00976562  |"
      ]
     },
     "metadata": {},
     "output_type": "display_data"
    },
    {
     "data": {
      "text/html": [
       "<pre>| 10      | 2.99s        | 0.118348          | 0.343309              | 0.00976562  |</pre>"
      ],
      "text/plain": [
       "| 10      | 2.99s        | 0.118348          | 0.343309              | 0.00976562  |"
      ]
     },
     "metadata": {},
     "output_type": "display_data"
    },
    {
     "data": {
      "text/html": [
       "<pre>| 11      | 3.30s        | 0.118708          | 0.343831              | 0.00976562  |</pre>"
      ],
      "text/plain": [
       "| 11      | 3.30s        | 0.118708          | 0.343831              | 0.00976562  |"
      ]
     },
     "metadata": {},
     "output_type": "display_data"
    },
    {
     "data": {
      "text/html": [
       "<pre>| 15      | 4.52s        | 0.119227          | 0.344587              | 0.00976562  |</pre>"
      ],
      "text/plain": [
       "| 15      | 4.52s        | 0.119227          | 0.344587              | 0.00976562  |"
      ]
     },
     "metadata": {},
     "output_type": "display_data"
    },
    {
     "data": {
      "text/html": [
       "<pre>| 20      | 6.08s        | 0.120449          | 0.346357              | 0.00976562  |</pre>"
      ],
      "text/plain": [
       "| 20      | 6.08s        | 0.120449          | 0.346357              | 0.00976562  |"
      ]
     },
     "metadata": {},
     "output_type": "display_data"
    },
    {
     "data": {
      "text/html": [
       "<pre>| 25      | 7.92s        | 0.121314          | 0.347605              | 0.00976562  |</pre>"
      ],
      "text/plain": [
       "| 25      | 7.92s        | 0.121314          | 0.347605              | 0.00976562  |"
      ]
     },
     "metadata": {},
     "output_type": "display_data"
    },
    {
     "data": {
      "text/html": [
       "<pre>+---------+--------------+-------------------+-----------------------+-------------+</pre>"
      ],
      "text/plain": [
       "+---------+--------------+-------------------+-----------------------+-------------+"
      ]
     },
     "metadata": {},
     "output_type": "display_data"
    },
    {
     "data": {
      "text/html": [
       "<pre>Optimization Complete: Maximum number of passes through the data reached.</pre>"
      ],
      "text/plain": [
       "Optimization Complete: Maximum number of passes through the data reached."
      ]
     },
     "metadata": {},
     "output_type": "display_data"
    },
    {
     "data": {
      "text/html": [
       "<pre>Computing final objective value and training RMSE.</pre>"
      ],
      "text/plain": [
       "Computing final objective value and training RMSE."
      ]
     },
     "metadata": {},
     "output_type": "display_data"
    },
    {
     "data": {
      "text/html": [
       "<pre>       Final objective value: 0.224073</pre>"
      ],
      "text/plain": [
       "       Final objective value: 0.224073"
      ]
     },
     "metadata": {},
     "output_type": "display_data"
    },
    {
     "data": {
      "text/html": [
       "<pre>       Final training RMSE: 0.346855</pre>"
      ],
      "text/plain": [
       "       Final training RMSE: 0.346855"
      ]
     },
     "metadata": {},
     "output_type": "display_data"
    }
   ],
   "source": [
    "import graphlab as gl\n",
    "\n",
    "#import data and create an SFrame\n",
    "df_accident = gl.SFrame.read_csv('accident_good.csv')\n",
    "\n",
    "#create an object for the model\n",
    "model = gl.recommender.create(df_accident, user_id=\"STATE\", item_id=\"WEATHER\", target=\"FATALS\")\n",
    "results = model.recommend(users=None, k=5)\n",
    "model.save(\"my_model\")"
   ]
  },
  {
   "cell_type": "code",
   "execution_count": 92,
   "metadata": {
    "collapsed": false,
    "scrolled": true
   },
   "outputs": [
    {
     "data": {
      "text/html": [
       "<div style=\"max-height:1000px;max-width:1500px;overflow:auto;\"><table frame=\"box\" rules=\"cols\">\n",
       "    <tr>\n",
       "        <th style=\"padding-left: 1em; padding-right: 1em; text-align: center\">STATE</th>\n",
       "        <th style=\"padding-left: 1em; padding-right: 1em; text-align: center\">WEATHER</th>\n",
       "        <th style=\"padding-left: 1em; padding-right: 1em; text-align: center\">score</th>\n",
       "        <th style=\"padding-left: 1em; padding-right: 1em; text-align: center\">rank</th>\n",
       "    </tr>\n",
       "    <tr>\n",
       "        <td style=\"padding-left: 1em; padding-right: 1em; text-align: center; vertical-align: top\">1</td>\n",
       "        <td style=\"padding-left: 1em; padding-right: 1em; text-align: center; vertical-align: top\">3</td>\n",
       "        <td style=\"padding-left: 1em; padding-right: 1em; text-align: center; vertical-align: top\">1.12421589345</td>\n",
       "        <td style=\"padding-left: 1em; padding-right: 1em; text-align: center; vertical-align: top\">1</td>\n",
       "    </tr>\n",
       "    <tr>\n",
       "        <td style=\"padding-left: 1em; padding-right: 1em; text-align: center; vertical-align: top\">1</td>\n",
       "        <td style=\"padding-left: 1em; padding-right: 1em; text-align: center; vertical-align: top\">11</td>\n",
       "        <td style=\"padding-left: 1em; padding-right: 1em; text-align: center; vertical-align: top\">0.99717030069</td>\n",
       "        <td style=\"padding-left: 1em; padding-right: 1em; text-align: center; vertical-align: top\">2</td>\n",
       "    </tr>\n",
       "    <tr>\n",
       "        <td style=\"padding-left: 1em; padding-right: 1em; text-align: center; vertical-align: top\">1</td>\n",
       "        <td style=\"padding-left: 1em; padding-right: 1em; text-align: center; vertical-align: top\">12</td>\n",
       "        <td style=\"padding-left: 1em; padding-right: 1em; text-align: center; vertical-align: top\">0.972869839288</td>\n",
       "        <td style=\"padding-left: 1em; padding-right: 1em; text-align: center; vertical-align: top\">3</td>\n",
       "    </tr>\n",
       "    <tr>\n",
       "        <td style=\"padding-left: 1em; padding-right: 1em; text-align: center; vertical-align: top\">1</td>\n",
       "        <td style=\"padding-left: 1em; padding-right: 1em; text-align: center; vertical-align: top\">6</td>\n",
       "        <td style=\"padding-left: 1em; padding-right: 1em; text-align: center; vertical-align: top\">0.96137911617</td>\n",
       "        <td style=\"padding-left: 1em; padding-right: 1em; text-align: center; vertical-align: top\">4</td>\n",
       "    </tr>\n",
       "    <tr>\n",
       "        <td style=\"padding-left: 1em; padding-right: 1em; text-align: center; vertical-align: top\">2</td>\n",
       "        <td style=\"padding-left: 1em; padding-right: 1em; text-align: center; vertical-align: top\">3</td>\n",
       "        <td style=\"padding-left: 1em; padding-right: 1em; text-align: center; vertical-align: top\">1.12462417782</td>\n",
       "        <td style=\"padding-left: 1em; padding-right: 1em; text-align: center; vertical-align: top\">1</td>\n",
       "    </tr>\n",
       "    <tr>\n",
       "        <td style=\"padding-left: 1em; padding-right: 1em; text-align: center; vertical-align: top\">2</td>\n",
       "        <td style=\"padding-left: 1em; padding-right: 1em; text-align: center; vertical-align: top\">11</td>\n",
       "        <td style=\"padding-left: 1em; padding-right: 1em; text-align: center; vertical-align: top\">1.00257107569</td>\n",
       "        <td style=\"padding-left: 1em; padding-right: 1em; text-align: center; vertical-align: top\">2</td>\n",
       "    </tr>\n",
       "    <tr>\n",
       "        <td style=\"padding-left: 1em; padding-right: 1em; text-align: center; vertical-align: top\">2</td>\n",
       "        <td style=\"padding-left: 1em; padding-right: 1em; text-align: center; vertical-align: top\">6</td>\n",
       "        <td style=\"padding-left: 1em; padding-right: 1em; text-align: center; vertical-align: top\">0.96471393062</td>\n",
       "        <td style=\"padding-left: 1em; padding-right: 1em; text-align: center; vertical-align: top\">3</td>\n",
       "    </tr>\n",
       "    <tr>\n",
       "        <td style=\"padding-left: 1em; padding-right: 1em; text-align: center; vertical-align: top\">4</td>\n",
       "        <td style=\"padding-left: 1em; padding-right: 1em; text-align: center; vertical-align: top\">3</td>\n",
       "        <td style=\"padding-left: 1em; padding-right: 1em; text-align: center; vertical-align: top\">1.08113625087</td>\n",
       "        <td style=\"padding-left: 1em; padding-right: 1em; text-align: center; vertical-align: top\">1</td>\n",
       "    </tr>\n",
       "    <tr>\n",
       "        <td style=\"padding-left: 1em; padding-right: 1em; text-align: center; vertical-align: top\">4</td>\n",
       "        <td style=\"padding-left: 1em; padding-right: 1em; text-align: center; vertical-align: top\">11</td>\n",
       "        <td style=\"padding-left: 1em; padding-right: 1em; text-align: center; vertical-align: top\">1.00043321494</td>\n",
       "        <td style=\"padding-left: 1em; padding-right: 1em; text-align: center; vertical-align: top\">2</td>\n",
       "    </tr>\n",
       "    <tr>\n",
       "        <td style=\"padding-left: 1em; padding-right: 1em; text-align: center; vertical-align: top\">4</td>\n",
       "        <td style=\"padding-left: 1em; padding-right: 1em; text-align: center; vertical-align: top\">12</td>\n",
       "        <td style=\"padding-left: 1em; padding-right: 1em; text-align: center; vertical-align: top\">0.98865293502</td>\n",
       "        <td style=\"padding-left: 1em; padding-right: 1em; text-align: center; vertical-align: top\">3</td>\n",
       "    </tr>\n",
       "</table>\n",
       "[150 rows x 4 columns]<br/>Note: Only the head of the SFrame is printed.<br/>You can use print_rows(num_rows=m, num_columns=n) to print more rows and columns.\n",
       "</div>"
      ],
      "text/plain": [
       "Columns:\n",
       "\tSTATE\tint\n",
       "\tWEATHER\tint\n",
       "\tscore\tfloat\n",
       "\trank\tint\n",
       "\n",
       "Rows: 150\n",
       "\n",
       "Data:\n",
       "+-------+---------+----------------+------+\n",
       "| STATE | WEATHER |     score      | rank |\n",
       "+-------+---------+----------------+------+\n",
       "|   1   |    3    | 1.12421589345  |  1   |\n",
       "|   1   |    11   | 0.99717030069  |  2   |\n",
       "|   1   |    12   | 0.972869839288 |  3   |\n",
       "|   1   |    6    | 0.96137911617  |  4   |\n",
       "|   2   |    3    | 1.12462417782  |  1   |\n",
       "|   2   |    11   | 1.00257107569  |  2   |\n",
       "|   2   |    6    | 0.96471393062  |  3   |\n",
       "|   4   |    3    | 1.08113625087  |  1   |\n",
       "|   4   |    11   | 1.00043321494  |  2   |\n",
       "|   4   |    12   | 0.98865293502  |  3   |\n",
       "+-------+---------+----------------+------+\n",
       "[150 rows x 4 columns]\n",
       "Note: Only the head of the SFrame is printed.\n",
       "You can use print_rows(num_rows=m, num_columns=n) to print more rows and columns."
      ]
     },
     "execution_count": 92,
     "metadata": {},
     "output_type": "execute_result"
    }
   ],
   "source": [
    "results"
   ]
  },
  {
   "cell_type": "markdown",
   "metadata": {},
   "source": [
    "In the above table, we can see three of the states showing: 1 (Alabama), 2 (Alaska) and 4 (Arizona). It is evident that from the nine levels of the attribute WEATHER conditions 3 (sleet, hail), 6 (Severe crosswinds), 11 (blowing snow), and 12 (freezing rain or drizzle) are the most preponderant. The three states shown display the highest scores when sleet or hail occur."
   ]
  },
  {
   "cell_type": "markdown",
   "metadata": {},
   "source": [
    "### Item-item recommendation"
   ]
  },
  {
   "cell_type": "code",
   "execution_count": 94,
   "metadata": {
    "collapsed": false,
    "scrolled": true
   },
   "outputs": [
    {
     "data": {
      "text/html": [
       "<pre>Recsys training: model = item_similarity</pre>"
      ],
      "text/plain": [
       "Recsys training: model = item_similarity"
      ]
     },
     "metadata": {},
     "output_type": "display_data"
    },
    {
     "data": {
      "text/html": [
       "<pre>Warning: Ignoring columns ﻿, VE_TOTAL, PVH_INVL, PEDS, PERNOTMVIT, PERMVIT, PERSONS, DAY_WEEK, ROUTE, MAN_COLL, RELJCT1, RELJCT2, WRK_ZONE, REL_ROAD, LGT_COND, DRUNK_DR, HARM_EV_RED, HR_RANGE;</pre>"
      ],
      "text/plain": [
       "Warning: Ignoring columns ﻿, VE_TOTAL, PVH_INVL, PEDS, PERNOTMVIT, PERMVIT, PERSONS, DAY_WEEK, ROUTE, MAN_COLL, RELJCT1, RELJCT2, WRK_ZONE, REL_ROAD, LGT_COND, DRUNK_DR, HARM_EV_RED, HR_RANGE;"
      ]
     },
     "metadata": {},
     "output_type": "display_data"
    },
    {
     "data": {
      "text/html": [
       "<pre>    To use these columns in scoring predictions, use a model that allows the use of additional features.</pre>"
      ],
      "text/plain": [
       "    To use these columns in scoring predictions, use a model that allows the use of additional features."
      ]
     },
     "metadata": {},
     "output_type": "display_data"
    },
    {
     "data": {
      "text/html": [
       "<pre>Preparing data set.</pre>"
      ],
      "text/plain": [
       "Preparing data set."
      ]
     },
     "metadata": {},
     "output_type": "display_data"
    },
    {
     "data": {
      "text/html": [
       "<pre>    Data has 28823 observations with 50 users and 9 items.</pre>"
      ],
      "text/plain": [
       "    Data has 28823 observations with 50 users and 9 items."
      ]
     },
     "metadata": {},
     "output_type": "display_data"
    },
    {
     "data": {
      "text/html": [
       "<pre>    Data prepared in: 0.07324s</pre>"
      ],
      "text/plain": [
       "    Data prepared in: 0.07324s"
      ]
     },
     "metadata": {},
     "output_type": "display_data"
    },
    {
     "data": {
      "text/html": [
       "<pre>Training model from provided data.</pre>"
      ],
      "text/plain": [
       "Training model from provided data."
      ]
     },
     "metadata": {},
     "output_type": "display_data"
    },
    {
     "data": {
      "text/html": [
       "<pre>Gathering per-item and per-user statistics.</pre>"
      ],
      "text/plain": [
       "Gathering per-item and per-user statistics."
      ]
     },
     "metadata": {},
     "output_type": "display_data"
    },
    {
     "data": {
      "text/html": [
       "<pre>+--------------------------------+------------+</pre>"
      ],
      "text/plain": [
       "+--------------------------------+------------+"
      ]
     },
     "metadata": {},
     "output_type": "display_data"
    },
    {
     "data": {
      "text/html": [
       "<pre>| Elapsed Time (Item Statistics) | % Complete |</pre>"
      ],
      "text/plain": [
       "| Elapsed Time (Item Statistics) | % Complete |"
      ]
     },
     "metadata": {},
     "output_type": "display_data"
    },
    {
     "data": {
      "text/html": [
       "<pre>+--------------------------------+------------+</pre>"
      ],
      "text/plain": [
       "+--------------------------------+------------+"
      ]
     },
     "metadata": {},
     "output_type": "display_data"
    },
    {
     "data": {
      "text/html": [
       "<pre>| 433us                          | 100        |</pre>"
      ],
      "text/plain": [
       "| 433us                          | 100        |"
      ]
     },
     "metadata": {},
     "output_type": "display_data"
    },
    {
     "data": {
      "text/html": [
       "<pre>+--------------------------------+------------+</pre>"
      ],
      "text/plain": [
       "+--------------------------------+------------+"
      ]
     },
     "metadata": {},
     "output_type": "display_data"
    },
    {
     "data": {
      "text/html": [
       "<pre>Setting up lookup tables.</pre>"
      ],
      "text/plain": [
       "Setting up lookup tables."
      ]
     },
     "metadata": {},
     "output_type": "display_data"
    },
    {
     "data": {
      "text/html": [
       "<pre>Processing data in one pass using dense lookup tables.</pre>"
      ],
      "text/plain": [
       "Processing data in one pass using dense lookup tables."
      ]
     },
     "metadata": {},
     "output_type": "display_data"
    },
    {
     "data": {
      "text/html": [
       "<pre>+-------------------------------------+------------------+-----------------+</pre>"
      ],
      "text/plain": [
       "+-------------------------------------+------------------+-----------------+"
      ]
     },
     "metadata": {},
     "output_type": "display_data"
    },
    {
     "data": {
      "text/html": [
       "<pre>| Elapsed Time (Constructing Lookups) | Total % Complete | Items Processed |</pre>"
      ],
      "text/plain": [
       "| Elapsed Time (Constructing Lookups) | Total % Complete | Items Processed |"
      ]
     },
     "metadata": {},
     "output_type": "display_data"
    },
    {
     "data": {
      "text/html": [
       "<pre>+-------------------------------------+------------------+-----------------+</pre>"
      ],
      "text/plain": [
       "+-------------------------------------+------------------+-----------------+"
      ]
     },
     "metadata": {},
     "output_type": "display_data"
    },
    {
     "data": {
      "text/html": [
       "<pre>| 914us                               | 1                | 0               |</pre>"
      ],
      "text/plain": [
       "| 914us                               | 1                | 0               |"
      ]
     },
     "metadata": {},
     "output_type": "display_data"
    },
    {
     "data": {
      "text/html": [
       "<pre>| 1.907ms                             | 100              | 9               |</pre>"
      ],
      "text/plain": [
       "| 1.907ms                             | 100              | 9               |"
      ]
     },
     "metadata": {},
     "output_type": "display_data"
    },
    {
     "data": {
      "text/html": [
       "<pre>+-------------------------------------+------------------+-----------------+</pre>"
      ],
      "text/plain": [
       "+-------------------------------------+------------------+-----------------+"
      ]
     },
     "metadata": {},
     "output_type": "display_data"
    },
    {
     "data": {
      "text/html": [
       "<pre>Finalizing lookup tables.</pre>"
      ],
      "text/plain": [
       "Finalizing lookup tables."
      ]
     },
     "metadata": {},
     "output_type": "display_data"
    },
    {
     "data": {
      "text/html": [
       "<pre>Generating candidate set for working with new users.</pre>"
      ],
      "text/plain": [
       "Generating candidate set for working with new users."
      ]
     },
     "metadata": {},
     "output_type": "display_data"
    },
    {
     "data": {
      "text/html": [
       "<pre>Finished training in 0.007469s</pre>"
      ],
      "text/plain": [
       "Finished training in 0.007469s"
      ]
     },
     "metadata": {},
     "output_type": "display_data"
    },
    {
     "data": {
      "text/html": [
       "<div style=\"max-height:1000px;max-width:1500px;overflow:auto;\"><table frame=\"box\" rules=\"cols\">\n",
       "    <tr>\n",
       "        <th style=\"padding-left: 1em; padding-right: 1em; text-align: center\">WEATHER</th>\n",
       "        <th style=\"padding-left: 1em; padding-right: 1em; text-align: center\">similar</th>\n",
       "        <th style=\"padding-left: 1em; padding-right: 1em; text-align: center\">score</th>\n",
       "        <th style=\"padding-left: 1em; padding-right: 1em; text-align: center\">rank</th>\n",
       "    </tr>\n",
       "    <tr>\n",
       "        <td style=\"padding-left: 1em; padding-right: 1em; text-align: center; vertical-align: top\">1</td>\n",
       "        <td style=\"padding-left: 1em; padding-right: 1em; text-align: center; vertical-align: top\">2</td>\n",
       "        <td style=\"padding-left: 1em; padding-right: 1em; text-align: center; vertical-align: top\">0.986107587814</td>\n",
       "        <td style=\"padding-left: 1em; padding-right: 1em; text-align: center; vertical-align: top\">1</td>\n",
       "    </tr>\n",
       "    <tr>\n",
       "        <td style=\"padding-left: 1em; padding-right: 1em; text-align: center; vertical-align: top\">1</td>\n",
       "        <td style=\"padding-left: 1em; padding-right: 1em; text-align: center; vertical-align: top\">10</td>\n",
       "        <td style=\"padding-left: 1em; padding-right: 1em; text-align: center; vertical-align: top\">0.950036883354</td>\n",
       "        <td style=\"padding-left: 1em; padding-right: 1em; text-align: center; vertical-align: top\">2</td>\n",
       "    </tr>\n",
       "    <tr>\n",
       "        <td style=\"padding-left: 1em; padding-right: 1em; text-align: center; vertical-align: top\">1</td>\n",
       "        <td style=\"padding-left: 1em; padding-right: 1em; text-align: center; vertical-align: top\">5</td>\n",
       "        <td style=\"padding-left: 1em; padding-right: 1em; text-align: center; vertical-align: top\">0.921882271767</td>\n",
       "        <td style=\"padding-left: 1em; padding-right: 1em; text-align: center; vertical-align: top\">3</td>\n",
       "    </tr>\n",
       "    <tr>\n",
       "        <td style=\"padding-left: 1em; padding-right: 1em; text-align: center; vertical-align: top\">10</td>\n",
       "        <td style=\"padding-left: 1em; padding-right: 1em; text-align: center; vertical-align: top\">2</td>\n",
       "        <td style=\"padding-left: 1em; padding-right: 1em; text-align: center; vertical-align: top\">0.956637382507</td>\n",
       "        <td style=\"padding-left: 1em; padding-right: 1em; text-align: center; vertical-align: top\">1</td>\n",
       "    </tr>\n",
       "    <tr>\n",
       "        <td style=\"padding-left: 1em; padding-right: 1em; text-align: center; vertical-align: top\">10</td>\n",
       "        <td style=\"padding-left: 1em; padding-right: 1em; text-align: center; vertical-align: top\">1</td>\n",
       "        <td style=\"padding-left: 1em; padding-right: 1em; text-align: center; vertical-align: top\">0.950036883354</td>\n",
       "        <td style=\"padding-left: 1em; padding-right: 1em; text-align: center; vertical-align: top\">2</td>\n",
       "    </tr>\n",
       "    <tr>\n",
       "        <td style=\"padding-left: 1em; padding-right: 1em; text-align: center; vertical-align: top\">10</td>\n",
       "        <td style=\"padding-left: 1em; padding-right: 1em; text-align: center; vertical-align: top\">5</td>\n",
       "        <td style=\"padding-left: 1em; padding-right: 1em; text-align: center; vertical-align: top\">0.890565276146</td>\n",
       "        <td style=\"padding-left: 1em; padding-right: 1em; text-align: center; vertical-align: top\">3</td>\n",
       "    </tr>\n",
       "    <tr>\n",
       "        <td style=\"padding-left: 1em; padding-right: 1em; text-align: center; vertical-align: top\">2</td>\n",
       "        <td style=\"padding-left: 1em; padding-right: 1em; text-align: center; vertical-align: top\">1</td>\n",
       "        <td style=\"padding-left: 1em; padding-right: 1em; text-align: center; vertical-align: top\">0.986107587814</td>\n",
       "        <td style=\"padding-left: 1em; padding-right: 1em; text-align: center; vertical-align: top\">1</td>\n",
       "    </tr>\n",
       "    <tr>\n",
       "        <td style=\"padding-left: 1em; padding-right: 1em; text-align: center; vertical-align: top\">2</td>\n",
       "        <td style=\"padding-left: 1em; padding-right: 1em; text-align: center; vertical-align: top\">10</td>\n",
       "        <td style=\"padding-left: 1em; padding-right: 1em; text-align: center; vertical-align: top\">0.956637382507</td>\n",
       "        <td style=\"padding-left: 1em; padding-right: 1em; text-align: center; vertical-align: top\">2</td>\n",
       "    </tr>\n",
       "    <tr>\n",
       "        <td style=\"padding-left: 1em; padding-right: 1em; text-align: center; vertical-align: top\">2</td>\n",
       "        <td style=\"padding-left: 1em; padding-right: 1em; text-align: center; vertical-align: top\">5</td>\n",
       "        <td style=\"padding-left: 1em; padding-right: 1em; text-align: center; vertical-align: top\">0.924809992313</td>\n",
       "        <td style=\"padding-left: 1em; padding-right: 1em; text-align: center; vertical-align: top\">3</td>\n",
       "    </tr>\n",
       "    <tr>\n",
       "        <td style=\"padding-left: 1em; padding-right: 1em; text-align: center; vertical-align: top\">5</td>\n",
       "        <td style=\"padding-left: 1em; padding-right: 1em; text-align: center; vertical-align: top\">2</td>\n",
       "        <td style=\"padding-left: 1em; padding-right: 1em; text-align: center; vertical-align: top\">0.924809992313</td>\n",
       "        <td style=\"padding-left: 1em; padding-right: 1em; text-align: center; vertical-align: top\">1</td>\n",
       "    </tr>\n",
       "</table>\n",
       "[10 rows x 4 columns]<br/>\n",
       "</div>"
      ],
      "text/plain": [
       "Columns:\n",
       "\tWEATHER\tint\n",
       "\tsimilar\tint\n",
       "\tscore\tfloat\n",
       "\trank\tint\n",
       "\n",
       "Rows: 10\n",
       "\n",
       "Data:\n",
       "+---------+---------+----------------+------+\n",
       "| WEATHER | similar |     score      | rank |\n",
       "+---------+---------+----------------+------+\n",
       "|    1    |    2    | 0.986107587814 |  1   |\n",
       "|    1    |    10   | 0.950036883354 |  2   |\n",
       "|    1    |    5    | 0.921882271767 |  3   |\n",
       "|    10   |    2    | 0.956637382507 |  1   |\n",
       "|    10   |    1    | 0.950036883354 |  2   |\n",
       "|    10   |    5    | 0.890565276146 |  3   |\n",
       "|    2    |    1    | 0.986107587814 |  1   |\n",
       "|    2    |    10   | 0.956637382507 |  2   |\n",
       "|    2    |    5    | 0.924809992313 |  3   |\n",
       "|    5    |    2    | 0.924809992313 |  1   |\n",
       "+---------+---------+----------------+------+\n",
       "[10 rows x 4 columns]"
      ]
     },
     "execution_count": 94,
     "metadata": {},
     "output_type": "execute_result"
    }
   ],
   "source": [
    "# from graphlab.recommender import item_similarity_recommender\n",
    "\n",
    "item_item = gl.recommender.item_similarity_recommender.create(df_accident, \n",
    "                                  user_id=\"STATE\", \n",
    "                                  item_id=\"WEATHER\", \n",
    "                                  target=\"FATALS\",\n",
    "                                  only_top_k=3,\n",
    "                                  similarity_type=\"cosine\")\n",
    "\n",
    "results = item_item.get_similar_items(k=3)\n",
    "results.head()"
   ]
  },
  {
   "cell_type": "markdown",
   "metadata": {},
   "source": [
    "In this case it is interesting that the item-item matrix is displaying weather 1 (clear) as similar to weather 2 (rain), weather 10 (cloudy), 5 (fog, smog, smoke). \n",
    "\n",
    "Next, we will divide the data into train (80%) and test (20%). And we will use root mean square as the measure. "
   ]
  },
  {
   "cell_type": "code",
   "execution_count": 95,
   "metadata": {
    "collapsed": true
   },
   "outputs": [],
   "source": [
    "train, test = gl.recommender.util.random_split_by_user(df_accident,\n",
    "                                                    user_id=\"STATE\", item_id=\"WEATHER\",\n",
    "                                                    max_num_users=100, item_test_proportion=0.2)"
   ]
  },
  {
   "cell_type": "markdown",
   "metadata": {},
   "source": [
    "Our data is densely populated, so using cosine is not the best option. But Graphlab only provides three metrics for similarity: Cosine, Jaccard and Pearson. So we decided to use Pearson because it measures the correlation in relation to what we are trying to predict. "
   ]
  },
  {
   "cell_type": "code",
   "execution_count": 120,
   "metadata": {
    "collapsed": false
   },
   "outputs": [
    {
     "data": {
      "text/html": [
       "<pre>Recsys training: model = item_similarity</pre>"
      ],
      "text/plain": [
       "Recsys training: model = item_similarity"
      ]
     },
     "metadata": {},
     "output_type": "display_data"
    },
    {
     "data": {
      "text/html": [
       "<pre>Warning: Ignoring columns ﻿, VE_TOTAL, PVH_INVL, PEDS, PERNOTMVIT, PERMVIT, PERSONS, DAY_WEEK, ROUTE, MAN_COLL, RELJCT1, RELJCT2, WRK_ZONE, REL_ROAD, LGT_COND, DRUNK_DR, HARM_EV_RED, HR_RANGE;</pre>"
      ],
      "text/plain": [
       "Warning: Ignoring columns ﻿, VE_TOTAL, PVH_INVL, PEDS, PERNOTMVIT, PERMVIT, PERSONS, DAY_WEEK, ROUTE, MAN_COLL, RELJCT1, RELJCT2, WRK_ZONE, REL_ROAD, LGT_COND, DRUNK_DR, HARM_EV_RED, HR_RANGE;"
      ]
     },
     "metadata": {},
     "output_type": "display_data"
    },
    {
     "data": {
      "text/html": [
       "<pre>    To use these columns in scoring predictions, use a model that allows the use of additional features.</pre>"
      ],
      "text/plain": [
       "    To use these columns in scoring predictions, use a model that allows the use of additional features."
      ]
     },
     "metadata": {},
     "output_type": "display_data"
    },
    {
     "data": {
      "text/html": [
       "<pre>Preparing data set.</pre>"
      ],
      "text/plain": [
       "Preparing data set."
      ]
     },
     "metadata": {},
     "output_type": "display_data"
    },
    {
     "data": {
      "text/html": [
       "<pre>    Data has 23035 observations with 50 users and 9 items.</pre>"
      ],
      "text/plain": [
       "    Data has 23035 observations with 50 users and 9 items."
      ]
     },
     "metadata": {},
     "output_type": "display_data"
    },
    {
     "data": {
      "text/html": [
       "<pre>    Data prepared in: 0.055159s</pre>"
      ],
      "text/plain": [
       "    Data prepared in: 0.055159s"
      ]
     },
     "metadata": {},
     "output_type": "display_data"
    },
    {
     "data": {
      "text/html": [
       "<pre>Training model from provided data.</pre>"
      ],
      "text/plain": [
       "Training model from provided data."
      ]
     },
     "metadata": {},
     "output_type": "display_data"
    },
    {
     "data": {
      "text/html": [
       "<pre>Gathering per-item and per-user statistics.</pre>"
      ],
      "text/plain": [
       "Gathering per-item and per-user statistics."
      ]
     },
     "metadata": {},
     "output_type": "display_data"
    },
    {
     "data": {
      "text/html": [
       "<pre>+--------------------------------+------------+</pre>"
      ],
      "text/plain": [
       "+--------------------------------+------------+"
      ]
     },
     "metadata": {},
     "output_type": "display_data"
    },
    {
     "data": {
      "text/html": [
       "<pre>| Elapsed Time (Item Statistics) | % Complete |</pre>"
      ],
      "text/plain": [
       "| Elapsed Time (Item Statistics) | % Complete |"
      ]
     },
     "metadata": {},
     "output_type": "display_data"
    },
    {
     "data": {
      "text/html": [
       "<pre>+--------------------------------+------------+</pre>"
      ],
      "text/plain": [
       "+--------------------------------+------------+"
      ]
     },
     "metadata": {},
     "output_type": "display_data"
    },
    {
     "data": {
      "text/html": [
       "<pre>| 944us                          | 100        |</pre>"
      ],
      "text/plain": [
       "| 944us                          | 100        |"
      ]
     },
     "metadata": {},
     "output_type": "display_data"
    },
    {
     "data": {
      "text/html": [
       "<pre>+--------------------------------+------------+</pre>"
      ],
      "text/plain": [
       "+--------------------------------+------------+"
      ]
     },
     "metadata": {},
     "output_type": "display_data"
    },
    {
     "data": {
      "text/html": [
       "<pre>Setting up lookup tables.</pre>"
      ],
      "text/plain": [
       "Setting up lookup tables."
      ]
     },
     "metadata": {},
     "output_type": "display_data"
    },
    {
     "data": {
      "text/html": [
       "<pre>Processing data in one pass using dense lookup tables.</pre>"
      ],
      "text/plain": [
       "Processing data in one pass using dense lookup tables."
      ]
     },
     "metadata": {},
     "output_type": "display_data"
    },
    {
     "data": {
      "text/html": [
       "<pre>+-------------------------------------+------------------+-----------------+</pre>"
      ],
      "text/plain": [
       "+-------------------------------------+------------------+-----------------+"
      ]
     },
     "metadata": {},
     "output_type": "display_data"
    },
    {
     "data": {
      "text/html": [
       "<pre>| Elapsed Time (Constructing Lookups) | Total % Complete | Items Processed |</pre>"
      ],
      "text/plain": [
       "| Elapsed Time (Constructing Lookups) | Total % Complete | Items Processed |"
      ]
     },
     "metadata": {},
     "output_type": "display_data"
    },
    {
     "data": {
      "text/html": [
       "<pre>+-------------------------------------+------------------+-----------------+</pre>"
      ],
      "text/plain": [
       "+-------------------------------------+------------------+-----------------+"
      ]
     },
     "metadata": {},
     "output_type": "display_data"
    },
    {
     "data": {
      "text/html": [
       "<pre>| 1.272ms                             | 1                | 0               |</pre>"
      ],
      "text/plain": [
       "| 1.272ms                             | 1                | 0               |"
      ]
     },
     "metadata": {},
     "output_type": "display_data"
    },
    {
     "data": {
      "text/html": [
       "<pre>| 1.737ms                             | 100              | 9               |</pre>"
      ],
      "text/plain": [
       "| 1.737ms                             | 100              | 9               |"
      ]
     },
     "metadata": {},
     "output_type": "display_data"
    },
    {
     "data": {
      "text/html": [
       "<pre>+-------------------------------------+------------------+-----------------+</pre>"
      ],
      "text/plain": [
       "+-------------------------------------+------------------+-----------------+"
      ]
     },
     "metadata": {},
     "output_type": "display_data"
    },
    {
     "data": {
      "text/html": [
       "<pre>Finalizing lookup tables.</pre>"
      ],
      "text/plain": [
       "Finalizing lookup tables."
      ]
     },
     "metadata": {},
     "output_type": "display_data"
    },
    {
     "data": {
      "text/html": [
       "<pre>Generating candidate set for working with new users.</pre>"
      ],
      "text/plain": [
       "Generating candidate set for working with new users."
      ]
     },
     "metadata": {},
     "output_type": "display_data"
    },
    {
     "data": {
      "text/html": [
       "<pre>Finished training in 0.006089s</pre>"
      ],
      "text/plain": [
       "Finished training in 0.006089s"
      ]
     },
     "metadata": {},
     "output_type": "display_data"
    },
    {
     "name": "stdout",
     "output_type": "stream",
     "text": [
      "\n",
      "Precision and recall summary statistics by cutoff\n",
      "+--------+-----------------+------------------+\n",
      "| cutoff |  mean_precision |   mean_recall    |\n",
      "+--------+-----------------+------------------+\n",
      "|   1    |       0.04      | 0.00021666757627 |\n",
      "|   2    |       0.04      | 0.00080480111718 |\n",
      "|   3    |       0.06      | 0.00524961579096 |\n",
      "|   4    |      0.055      | 0.00585567639702 |\n",
      "|   5    |      0.052      | 0.00585567639702 |\n",
      "|   6    | 0.0513333333333 | 0.00585567639702 |\n",
      "|   7    | 0.0513333333333 | 0.00585567639702 |\n",
      "|   8    | 0.0513333333333 | 0.00585567639702 |\n",
      "|   9    | 0.0513333333333 | 0.00585567639702 |\n",
      "|   10   | 0.0513333333333 | 0.00585567639702 |\n",
      "+--------+-----------------+------------------+\n",
      "[10 rows x 3 columns]\n",
      "\n",
      "('\\nOverall RMSE: ', 0.35860930544969194)\n",
      "\n",
      "Per User RMSE (best)\n",
      "+-------+-------+-----------------+\n",
      "| STATE | count |       rmse      |\n",
      "+-------+-------+-----------------+\n",
      "|   23  |   25  | 0.0799602579595 |\n",
      "+-------+-------+-----------------+\n",
      "[1 rows x 3 columns]\n",
      "\n",
      "\n",
      "Per User RMSE (worst)\n",
      "+-------+-------+----------------+\n",
      "| STATE | count |      rmse      |\n",
      "+-------+-------+----------------+\n",
      "|   19  |   51  | 0.654436284432 |\n",
      "+-------+-------+----------------+\n",
      "[1 rows x 3 columns]\n",
      "\n",
      "\n",
      "Per Item RMSE (best)\n",
      "+---------+-------+----------------+\n",
      "| WEATHER | count |      rmse      |\n",
      "+---------+-------+----------------+\n",
      "|    11   |   2   | 0.044691629257 |\n",
      "+---------+-------+----------------+\n",
      "[1 rows x 3 columns]\n",
      "\n",
      "\n",
      "Per Item RMSE (worst)\n",
      "+---------+-------+----------------+\n",
      "| WEATHER | count |      rmse      |\n",
      "+---------+-------+----------------+\n",
      "|    4    |   65  | 0.404771824069 |\n",
      "+---------+-------+----------------+\n",
      "[1 rows x 3 columns]\n",
      "\n"
     ]
    }
   ],
   "source": [
    "from IPython.display import display\n",
    "from IPython.display import Image\n",
    "\n",
    "gl.canvas.set_target('ipynb')\n",
    "\n",
    "\n",
    "item_item = gl.recommender.item_similarity_recommender.create(train, \n",
    "                                  user_id=\"STATE\", \n",
    "                                  item_id=\"WEATHER\", \n",
    "                                  target=\"FATALS\",\n",
    "                                  only_top_k=5,\n",
    "                                  similarity_type=\"pearson\")\n",
    "\n",
    "rmse_results = item_item.evaluate(test)\n"
   ]
  },
  {
   "cell_type": "code",
   "execution_count": 97,
   "metadata": {
    "collapsed": false
   },
   "outputs": [
    {
     "name": "stdout",
     "output_type": "stream",
     "text": [
      "dict_keys(['rmse_by_user', 'precision_recall_overall', 'rmse_by_item', 'precision_recall_by_user', 'rmse_overall'])\n"
     ]
    }
   ],
   "source": [
    "print rmse_results.viewkeys()"
   ]
  },
  {
   "cell_type": "code",
   "execution_count": 98,
   "metadata": {
    "collapsed": false
   },
   "outputs": [
    {
     "data": {
      "text/html": [
       "<div style=\"max-height:1000px;max-width:1500px;overflow:auto;\"><table frame=\"box\" rules=\"cols\">\n",
       "    <tr>\n",
       "        <th style=\"padding-left: 1em; padding-right: 1em; text-align: center\">STATE</th>\n",
       "        <th style=\"padding-left: 1em; padding-right: 1em; text-align: center\">count</th>\n",
       "        <th style=\"padding-left: 1em; padding-right: 1em; text-align: center\">rmse</th>\n",
       "    </tr>\n",
       "    <tr>\n",
       "        <td style=\"padding-left: 1em; padding-right: 1em; text-align: center; vertical-align: top\">49</td>\n",
       "        <td style=\"padding-left: 1em; padding-right: 1em; text-align: center; vertical-align: top\">49</td>\n",
       "        <td style=\"padding-left: 1em; padding-right: 1em; text-align: center; vertical-align: top\">0.398267012764</td>\n",
       "    </tr>\n",
       "    <tr>\n",
       "        <td style=\"padding-left: 1em; padding-right: 1em; text-align: center; vertical-align: top\">13</td>\n",
       "        <td style=\"padding-left: 1em; padding-right: 1em; text-align: center; vertical-align: top\">261</td>\n",
       "        <td style=\"padding-left: 1em; padding-right: 1em; text-align: center; vertical-align: top\">0.473255465995</td>\n",
       "    </tr>\n",
       "    <tr>\n",
       "        <td style=\"padding-left: 1em; padding-right: 1em; text-align: center; vertical-align: top\">36</td>\n",
       "        <td style=\"padding-left: 1em; padding-right: 1em; text-align: center; vertical-align: top\">210</td>\n",
       "        <td style=\"padding-left: 1em; padding-right: 1em; text-align: center; vertical-align: top\">0.509345362658</td>\n",
       "    </tr>\n",
       "    <tr>\n",
       "        <td style=\"padding-left: 1em; padding-right: 1em; text-align: center; vertical-align: top\">24</td>\n",
       "        <td style=\"padding-left: 1em; padding-right: 1em; text-align: center; vertical-align: top\">86</td>\n",
       "        <td style=\"padding-left: 1em; padding-right: 1em; text-align: center; vertical-align: top\">0.568055339284</td>\n",
       "    </tr>\n",
       "    <tr>\n",
       "        <td style=\"padding-left: 1em; padding-right: 1em; text-align: center; vertical-align: top\">2</td>\n",
       "        <td style=\"padding-left: 1em; padding-right: 1em; text-align: center; vertical-align: top\">13</td>\n",
       "        <td style=\"padding-left: 1em; padding-right: 1em; text-align: center; vertical-align: top\">0.479895226549</td>\n",
       "    </tr>\n",
       "    <tr>\n",
       "        <td style=\"padding-left: 1em; padding-right: 1em; text-align: center; vertical-align: top\">46</td>\n",
       "        <td style=\"padding-left: 1em; padding-right: 1em; text-align: center; vertical-align: top\">24</td>\n",
       "        <td style=\"padding-left: 1em; padding-right: 1em; text-align: center; vertical-align: top\">0.503237039163</td>\n",
       "    </tr>\n",
       "    <tr>\n",
       "        <td style=\"padding-left: 1em; padding-right: 1em; text-align: center; vertical-align: top\">30</td>\n",
       "        <td style=\"padding-left: 1em; padding-right: 1em; text-align: center; vertical-align: top\">32</td>\n",
       "        <td style=\"padding-left: 1em; padding-right: 1em; text-align: center; vertical-align: top\">0.508688817298</td>\n",
       "    </tr>\n",
       "    <tr>\n",
       "        <td style=\"padding-left: 1em; padding-right: 1em; text-align: center; vertical-align: top\">53</td>\n",
       "        <td style=\"padding-left: 1em; padding-right: 1em; text-align: center; vertical-align: top\">97</td>\n",
       "        <td style=\"padding-left: 1em; padding-right: 1em; text-align: center; vertical-align: top\">0.62243334726</td>\n",
       "    </tr>\n",
       "    <tr>\n",
       "        <td style=\"padding-left: 1em; padding-right: 1em; text-align: center; vertical-align: top\">42</td>\n",
       "        <td style=\"padding-left: 1em; padding-right: 1em; text-align: center; vertical-align: top\">225</td>\n",
       "        <td style=\"padding-left: 1em; padding-right: 1em; text-align: center; vertical-align: top\">0.539420918455</td>\n",
       "    </tr>\n",
       "    <tr>\n",
       "        <td style=\"padding-left: 1em; padding-right: 1em; text-align: center; vertical-align: top\">44</td>\n",
       "        <td style=\"padding-left: 1em; padding-right: 1em; text-align: center; vertical-align: top\">9</td>\n",
       "        <td style=\"padding-left: 1em; padding-right: 1em; text-align: center; vertical-align: top\">0.212129473686</td>\n",
       "    </tr>\n",
       "</table>\n",
       "[50 rows x 3 columns]<br/>Note: Only the head of the SFrame is printed.<br/>You can use print_rows(num_rows=m, num_columns=n) to print more rows and columns.\n",
       "</div>"
      ],
      "text/plain": [
       "Columns:\n",
       "\tSTATE\tint\n",
       "\tcount\tint\n",
       "\trmse\tfloat\n",
       "\n",
       "Rows: 50\n",
       "\n",
       "Data:\n",
       "+-------+-------+----------------+\n",
       "| STATE | count |      rmse      |\n",
       "+-------+-------+----------------+\n",
       "|   49  |   49  | 0.398267012764 |\n",
       "|   13  |  261  | 0.473255465995 |\n",
       "|   36  |  210  | 0.509345362658 |\n",
       "|   24  |   86  | 0.568055339284 |\n",
       "|   2   |   13  | 0.479895226549 |\n",
       "|   46  |   24  | 0.503237039163 |\n",
       "|   30  |   32  | 0.508688817298 |\n",
       "|   53  |   97  | 0.62243334726  |\n",
       "|   42  |  225  | 0.539420918455 |\n",
       "|   44  |   9   | 0.212129473686 |\n",
       "+-------+-------+----------------+\n",
       "[50 rows x 3 columns]\n",
       "Note: Only the head of the SFrame is printed.\n",
       "You can use print_rows(num_rows=m, num_columns=n) to print more rows and columns."
      ]
     },
     "execution_count": 98,
     "metadata": {},
     "output_type": "execute_result"
    }
   ],
   "source": [
    "rmse_results['rmse_by_user']"
   ]
  },
  {
   "cell_type": "markdown",
   "metadata": {},
   "source": [
    "States with lower counts have the lower rmse."
   ]
  },
  {
   "cell_type": "code",
   "execution_count": 99,
   "metadata": {
    "collapsed": false
   },
   "outputs": [
    {
     "data": {
      "image/png": "[encoded data removed]",
      "text/plain": [
       "<matplotlib.figure.Figure at 0x11f346b50>"
      ]
     },
     "metadata": {},
     "output_type": "display_data"
    }
   ],
   "source": [
    "from matplotlib import pyplot as plt\n",
    "%matplotlib inline\n",
    "plt.style.use('ggplot')\n",
    "\n",
    "rmsevals = rmse_results['rmse_by_user']['rmse']\n",
    "rmsevals = rmsevals[rmse_results['rmse_by_user']['count']>50]\n",
    "\n",
    "plt.hist(rmsevals,bins=20)\n",
    "plt.title('RMSE by User')\n",
    "plt.show()"
   ]
  },
  {
   "cell_type": "code",
   "execution_count": 100,
   "metadata": {
    "collapsed": false,
    "scrolled": true
   },
   "outputs": [
    {
     "data": {
      "text/html": [
       "<div style=\"max-height:1000px;max-width:1500px;overflow:auto;\"><table frame=\"box\" rules=\"cols\">\n",
       "    <tr>\n",
       "        <th style=\"padding-left: 1em; padding-right: 1em; text-align: center\">STATE</th>\n",
       "        <th style=\"padding-left: 1em; padding-right: 1em; text-align: center\">cutoff</th>\n",
       "        <th style=\"padding-left: 1em; padding-right: 1em; text-align: center\">precision</th>\n",
       "        <th style=\"padding-left: 1em; padding-right: 1em; text-align: center\">recall</th>\n",
       "        <th style=\"padding-left: 1em; padding-right: 1em; text-align: center\">count</th>\n",
       "    </tr>\n",
       "    <tr>\n",
       "        <td style=\"padding-left: 1em; padding-right: 1em; text-align: center; vertical-align: top\">1</td>\n",
       "        <td style=\"padding-left: 1em; padding-right: 1em; text-align: center; vertical-align: top\">1</td>\n",
       "        <td style=\"padding-left: 1em; padding-right: 1em; text-align: center; vertical-align: top\">0.0</td>\n",
       "        <td style=\"padding-left: 1em; padding-right: 1em; text-align: center; vertical-align: top\">0.0</td>\n",
       "        <td style=\"padding-left: 1em; padding-right: 1em; text-align: center; vertical-align: top\">148</td>\n",
       "    </tr>\n",
       "    <tr>\n",
       "        <td style=\"padding-left: 1em; padding-right: 1em; text-align: center; vertical-align: top\">1</td>\n",
       "        <td style=\"padding-left: 1em; padding-right: 1em; text-align: center; vertical-align: top\">2</td>\n",
       "        <td style=\"padding-left: 1em; padding-right: 1em; text-align: center; vertical-align: top\">0.0</td>\n",
       "        <td style=\"padding-left: 1em; padding-right: 1em; text-align: center; vertical-align: top\">0.0</td>\n",
       "        <td style=\"padding-left: 1em; padding-right: 1em; text-align: center; vertical-align: top\">148</td>\n",
       "    </tr>\n",
       "    <tr>\n",
       "        <td style=\"padding-left: 1em; padding-right: 1em; text-align: center; vertical-align: top\">1</td>\n",
       "        <td style=\"padding-left: 1em; padding-right: 1em; text-align: center; vertical-align: top\">3</td>\n",
       "        <td style=\"padding-left: 1em; padding-right: 1em; text-align: center; vertical-align: top\">0.0</td>\n",
       "        <td style=\"padding-left: 1em; padding-right: 1em; text-align: center; vertical-align: top\">0.0</td>\n",
       "        <td style=\"padding-left: 1em; padding-right: 1em; text-align: center; vertical-align: top\">148</td>\n",
       "    </tr>\n",
       "    <tr>\n",
       "        <td style=\"padding-left: 1em; padding-right: 1em; text-align: center; vertical-align: top\">1</td>\n",
       "        <td style=\"padding-left: 1em; padding-right: 1em; text-align: center; vertical-align: top\">4</td>\n",
       "        <td style=\"padding-left: 1em; padding-right: 1em; text-align: center; vertical-align: top\">0.0</td>\n",
       "        <td style=\"padding-left: 1em; padding-right: 1em; text-align: center; vertical-align: top\">0.0</td>\n",
       "        <td style=\"padding-left: 1em; padding-right: 1em; text-align: center; vertical-align: top\">148</td>\n",
       "    </tr>\n",
       "    <tr>\n",
       "        <td style=\"padding-left: 1em; padding-right: 1em; text-align: center; vertical-align: top\">1</td>\n",
       "        <td style=\"padding-left: 1em; padding-right: 1em; text-align: center; vertical-align: top\">5</td>\n",
       "        <td style=\"padding-left: 1em; padding-right: 1em; text-align: center; vertical-align: top\">0.0</td>\n",
       "        <td style=\"padding-left: 1em; padding-right: 1em; text-align: center; vertical-align: top\">0.0</td>\n",
       "        <td style=\"padding-left: 1em; padding-right: 1em; text-align: center; vertical-align: top\">148</td>\n",
       "    </tr>\n",
       "    <tr>\n",
       "        <td style=\"padding-left: 1em; padding-right: 1em; text-align: center; vertical-align: top\">1</td>\n",
       "        <td style=\"padding-left: 1em; padding-right: 1em; text-align: center; vertical-align: top\">6</td>\n",
       "        <td style=\"padding-left: 1em; padding-right: 1em; text-align: center; vertical-align: top\">0.0</td>\n",
       "        <td style=\"padding-left: 1em; padding-right: 1em; text-align: center; vertical-align: top\">0.0</td>\n",
       "        <td style=\"padding-left: 1em; padding-right: 1em; text-align: center; vertical-align: top\">148</td>\n",
       "    </tr>\n",
       "    <tr>\n",
       "        <td style=\"padding-left: 1em; padding-right: 1em; text-align: center; vertical-align: top\">1</td>\n",
       "        <td style=\"padding-left: 1em; padding-right: 1em; text-align: center; vertical-align: top\">7</td>\n",
       "        <td style=\"padding-left: 1em; padding-right: 1em; text-align: center; vertical-align: top\">0.0</td>\n",
       "        <td style=\"padding-left: 1em; padding-right: 1em; text-align: center; vertical-align: top\">0.0</td>\n",
       "        <td style=\"padding-left: 1em; padding-right: 1em; text-align: center; vertical-align: top\">148</td>\n",
       "    </tr>\n",
       "    <tr>\n",
       "        <td style=\"padding-left: 1em; padding-right: 1em; text-align: center; vertical-align: top\">1</td>\n",
       "        <td style=\"padding-left: 1em; padding-right: 1em; text-align: center; vertical-align: top\">8</td>\n",
       "        <td style=\"padding-left: 1em; padding-right: 1em; text-align: center; vertical-align: top\">0.0</td>\n",
       "        <td style=\"padding-left: 1em; padding-right: 1em; text-align: center; vertical-align: top\">0.0</td>\n",
       "        <td style=\"padding-left: 1em; padding-right: 1em; text-align: center; vertical-align: top\">148</td>\n",
       "    </tr>\n",
       "    <tr>\n",
       "        <td style=\"padding-left: 1em; padding-right: 1em; text-align: center; vertical-align: top\">1</td>\n",
       "        <td style=\"padding-left: 1em; padding-right: 1em; text-align: center; vertical-align: top\">9</td>\n",
       "        <td style=\"padding-left: 1em; padding-right: 1em; text-align: center; vertical-align: top\">0.0</td>\n",
       "        <td style=\"padding-left: 1em; padding-right: 1em; text-align: center; vertical-align: top\">0.0</td>\n",
       "        <td style=\"padding-left: 1em; padding-right: 1em; text-align: center; vertical-align: top\">148</td>\n",
       "    </tr>\n",
       "    <tr>\n",
       "        <td style=\"padding-left: 1em; padding-right: 1em; text-align: center; vertical-align: top\">1</td>\n",
       "        <td style=\"padding-left: 1em; padding-right: 1em; text-align: center; vertical-align: top\">10</td>\n",
       "        <td style=\"padding-left: 1em; padding-right: 1em; text-align: center; vertical-align: top\">0.0</td>\n",
       "        <td style=\"padding-left: 1em; padding-right: 1em; text-align: center; vertical-align: top\">0.0</td>\n",
       "        <td style=\"padding-left: 1em; padding-right: 1em; text-align: center; vertical-align: top\">148</td>\n",
       "    </tr>\n",
       "</table>\n",
       "[900 rows x 5 columns]<br/>Note: Only the head of the SFrame is printed.<br/>You can use print_rows(num_rows=m, num_columns=n) to print more rows and columns.\n",
       "</div>"
      ],
      "text/plain": [
       "Columns:\n",
       "\tSTATE\tint\n",
       "\tcutoff\tint\n",
       "\tprecision\tfloat\n",
       "\trecall\tfloat\n",
       "\tcount\tint\n",
       "\n",
       "Rows: 900\n",
       "\n",
       "Data:\n",
       "+-------+--------+-----------+--------+-------+\n",
       "| STATE | cutoff | precision | recall | count |\n",
       "+-------+--------+-----------+--------+-------+\n",
       "|   1   |   1    |    0.0    |  0.0   |  148  |\n",
       "|   1   |   2    |    0.0    |  0.0   |  148  |\n",
       "|   1   |   3    |    0.0    |  0.0   |  148  |\n",
       "|   1   |   4    |    0.0    |  0.0   |  148  |\n",
       "|   1   |   5    |    0.0    |  0.0   |  148  |\n",
       "|   1   |   6    |    0.0    |  0.0   |  148  |\n",
       "|   1   |   7    |    0.0    |  0.0   |  148  |\n",
       "|   1   |   8    |    0.0    |  0.0   |  148  |\n",
       "|   1   |   9    |    0.0    |  0.0   |  148  |\n",
       "|   1   |   10   |    0.0    |  0.0   |  148  |\n",
       "+-------+--------+-----------+--------+-------+\n",
       "[900 rows x 5 columns]\n",
       "Note: Only the head of the SFrame is printed.\n",
       "You can use print_rows(num_rows=m, num_columns=n) to print more rows and columns."
      ]
     },
     "execution_count": 100,
     "metadata": {},
     "output_type": "execute_result"
    }
   ],
   "source": [
    "\n",
    "rmse_results['precision_recall_by_user']"
   ]
  },
  {
   "cell_type": "markdown",
   "metadata": {},
   "source": [
    "We suppose that our precision and recall are equal to 0.0 because even though there ara states that have higher counts, not all of them correspond to the same count regarding weather conditions."
   ]
  },
  {
   "cell_type": "code",
   "execution_count": 101,
   "metadata": {
    "collapsed": false
   },
   "outputs": [
    {
     "data": {
      "text/html": [
       "<div style=\"max-height:1000px;max-width:1500px;overflow:auto;\"><table frame=\"box\" rules=\"cols\">\n",
       "    <tr>\n",
       "        <th style=\"padding-left: 1em; padding-right: 1em; text-align: center\">cutoff</th>\n",
       "        <th style=\"padding-left: 1em; padding-right: 1em; text-align: center\">Avg of precision</th>\n",
       "        <th style=\"padding-left: 1em; padding-right: 1em; text-align: center\">Stdv of precision</th>\n",
       "        <th style=\"padding-left: 1em; padding-right: 1em; text-align: center\">Avg of recall</th>\n",
       "        <th style=\"padding-left: 1em; padding-right: 1em; text-align: center\">Stdv of recall</th>\n",
       "    </tr>\n",
       "    <tr>\n",
       "        <td style=\"padding-left: 1em; padding-right: 1em; text-align: center; vertical-align: top\">36</td>\n",
       "        <td style=\"padding-left: 1em; padding-right: 1em; text-align: center; vertical-align: top\">0.0513333333333</td>\n",
       "        <td style=\"padding-left: 1em; padding-right: 1em; text-align: center; vertical-align: top\">0.105769140637</td>\n",
       "        <td style=\"padding-left: 1em; padding-right: 1em; text-align: center; vertical-align: top\">0.00585567639702</td>\n",
       "        <td style=\"padding-left: 1em; padding-right: 1em; text-align: center; vertical-align: top\">0.0168259490442</td>\n",
       "    </tr>\n",
       "    <tr>\n",
       "        <td style=\"padding-left: 1em; padding-right: 1em; text-align: center; vertical-align: top\">2</td>\n",
       "        <td style=\"padding-left: 1em; padding-right: 1em; text-align: center; vertical-align: top\">0.06</td>\n",
       "        <td style=\"padding-left: 1em; padding-right: 1em; text-align: center; vertical-align: top\">0.162480768093</td>\n",
       "        <td style=\"padding-left: 1em; padding-right: 1em; text-align: center; vertical-align: top\">0.00428960968761</td>\n",
       "        <td style=\"padding-left: 1em; padding-right: 1em; text-align: center; vertical-align: top\">0.0160687640684</td>\n",
       "    </tr>\n",
       "    <tr>\n",
       "        <td style=\"padding-left: 1em; padding-right: 1em; text-align: center; vertical-align: top\">46</td>\n",
       "        <td style=\"padding-left: 1em; padding-right: 1em; text-align: center; vertical-align: top\">0.0513333333333</td>\n",
       "        <td style=\"padding-left: 1em; padding-right: 1em; text-align: center; vertical-align: top\">0.105769140637</td>\n",
       "        <td style=\"padding-left: 1em; padding-right: 1em; text-align: center; vertical-align: top\">0.00585567639702</td>\n",
       "        <td style=\"padding-left: 1em; padding-right: 1em; text-align: center; vertical-align: top\">0.0168259490442</td>\n",
       "    </tr>\n",
       "    <tr>\n",
       "        <td style=\"padding-left: 1em; padding-right: 1em; text-align: center; vertical-align: top\">31</td>\n",
       "        <td style=\"padding-left: 1em; padding-right: 1em; text-align: center; vertical-align: top\">0.0513333333333</td>\n",
       "        <td style=\"padding-left: 1em; padding-right: 1em; text-align: center; vertical-align: top\">0.105769140637</td>\n",
       "        <td style=\"padding-left: 1em; padding-right: 1em; text-align: center; vertical-align: top\">0.00585567639702</td>\n",
       "        <td style=\"padding-left: 1em; padding-right: 1em; text-align: center; vertical-align: top\">0.0168259490442</td>\n",
       "    </tr>\n",
       "    <tr>\n",
       "        <td style=\"padding-left: 1em; padding-right: 1em; text-align: center; vertical-align: top\">26</td>\n",
       "        <td style=\"padding-left: 1em; padding-right: 1em; text-align: center; vertical-align: top\">0.0513333333333</td>\n",
       "        <td style=\"padding-left: 1em; padding-right: 1em; text-align: center; vertical-align: top\">0.105769140637</td>\n",
       "        <td style=\"padding-left: 1em; padding-right: 1em; text-align: center; vertical-align: top\">0.00585567639702</td>\n",
       "        <td style=\"padding-left: 1em; padding-right: 1em; text-align: center; vertical-align: top\">0.0168259490442</td>\n",
       "    </tr>\n",
       "    <tr>\n",
       "        <td style=\"padding-left: 1em; padding-right: 1em; text-align: center; vertical-align: top\">8</td>\n",
       "        <td style=\"padding-left: 1em; padding-right: 1em; text-align: center; vertical-align: top\">0.0513333333333</td>\n",
       "        <td style=\"padding-left: 1em; padding-right: 1em; text-align: center; vertical-align: top\">0.105769140637</td>\n",
       "        <td style=\"padding-left: 1em; padding-right: 1em; text-align: center; vertical-align: top\">0.00585567639702</td>\n",
       "        <td style=\"padding-left: 1em; padding-right: 1em; text-align: center; vertical-align: top\">0.0168259490442</td>\n",
       "    </tr>\n",
       "    <tr>\n",
       "        <td style=\"padding-left: 1em; padding-right: 1em; text-align: center; vertical-align: top\">5</td>\n",
       "        <td style=\"padding-left: 1em; padding-right: 1em; text-align: center; vertical-align: top\">0.052</td>\n",
       "        <td style=\"padding-left: 1em; padding-right: 1em; text-align: center; vertical-align: top\">0.106595809799</td>\n",
       "        <td style=\"padding-left: 1em; padding-right: 1em; text-align: center; vertical-align: top\">0.00585567639702</td>\n",
       "        <td style=\"padding-left: 1em; padding-right: 1em; text-align: center; vertical-align: top\">0.0168259490442</td>\n",
       "    </tr>\n",
       "    <tr>\n",
       "        <td style=\"padding-left: 1em; padding-right: 1em; text-align: center; vertical-align: top\">16</td>\n",
       "        <td style=\"padding-left: 1em; padding-right: 1em; text-align: center; vertical-align: top\">0.0513333333333</td>\n",
       "        <td style=\"padding-left: 1em; padding-right: 1em; text-align: center; vertical-align: top\">0.105769140637</td>\n",
       "        <td style=\"padding-left: 1em; padding-right: 1em; text-align: center; vertical-align: top\">0.00585567639702</td>\n",
       "        <td style=\"padding-left: 1em; padding-right: 1em; text-align: center; vertical-align: top\">0.0168259490442</td>\n",
       "    </tr>\n",
       "    <tr>\n",
       "        <td style=\"padding-left: 1em; padding-right: 1em; text-align: center; vertical-align: top\">41</td>\n",
       "        <td style=\"padding-left: 1em; padding-right: 1em; text-align: center; vertical-align: top\">0.0513333333333</td>\n",
       "        <td style=\"padding-left: 1em; padding-right: 1em; text-align: center; vertical-align: top\">0.105769140637</td>\n",
       "        <td style=\"padding-left: 1em; padding-right: 1em; text-align: center; vertical-align: top\">0.00585567639702</td>\n",
       "        <td style=\"padding-left: 1em; padding-right: 1em; text-align: center; vertical-align: top\">0.0168259490442</td>\n",
       "    </tr>\n",
       "    <tr>\n",
       "        <td style=\"padding-left: 1em; padding-right: 1em; text-align: center; vertical-align: top\">4</td>\n",
       "        <td style=\"padding-left: 1em; padding-right: 1em; text-align: center; vertical-align: top\">0.055</td>\n",
       "        <td style=\"padding-left: 1em; padding-right: 1em; text-align: center; vertical-align: top\">0.111317863197</td>\n",
       "        <td style=\"padding-left: 1em; padding-right: 1em; text-align: center; vertical-align: top\">0.00585567639702</td>\n",
       "        <td style=\"padding-left: 1em; padding-right: 1em; text-align: center; vertical-align: top\">0.0168259490442</td>\n",
       "    </tr>\n",
       "</table>\n",
       "[18 rows x 5 columns]<br/>Note: Only the head of the SFrame is printed.<br/>You can use print_rows(num_rows=m, num_columns=n) to print more rows and columns.\n",
       "</div>"
      ],
      "text/plain": [
       "Columns:\n",
       "\tcutoff\tint\n",
       "\tAvg of precision\tfloat\n",
       "\tStdv of precision\tfloat\n",
       "\tAvg of recall\tfloat\n",
       "\tStdv of recall\tfloat\n",
       "\n",
       "Rows: 18\n",
       "\n",
       "Data:\n",
       "+--------+------------------+-------------------+------------------+\n",
       "| cutoff | Avg of precision | Stdv of precision |  Avg of recall   |\n",
       "+--------+------------------+-------------------+------------------+\n",
       "|   36   | 0.0513333333333  |   0.105769140637  | 0.00585567639702 |\n",
       "|   2    |       0.06       |   0.162480768093  | 0.00428960968761 |\n",
       "|   46   | 0.0513333333333  |   0.105769140637  | 0.00585567639702 |\n",
       "|   31   | 0.0513333333333  |   0.105769140637  | 0.00585567639702 |\n",
       "|   26   | 0.0513333333333  |   0.105769140637  | 0.00585567639702 |\n",
       "|   8    | 0.0513333333333  |   0.105769140637  | 0.00585567639702 |\n",
       "|   5    |      0.052       |   0.106595809799  | 0.00585567639702 |\n",
       "|   16   | 0.0513333333333  |   0.105769140637  | 0.00585567639702 |\n",
       "|   41   | 0.0513333333333  |   0.105769140637  | 0.00585567639702 |\n",
       "|   4    |      0.055       |   0.111317863197  | 0.00585567639702 |\n",
       "+--------+------------------+-------------------+------------------+\n",
       "+-----------------+\n",
       "|  Stdv of recall |\n",
       "+-----------------+\n",
       "| 0.0168259490442 |\n",
       "| 0.0160687640684 |\n",
       "| 0.0168259490442 |\n",
       "| 0.0168259490442 |\n",
       "| 0.0168259490442 |\n",
       "| 0.0168259490442 |\n",
       "| 0.0168259490442 |\n",
       "| 0.0168259490442 |\n",
       "| 0.0168259490442 |\n",
       "| 0.0168259490442 |\n",
       "+-----------------+\n",
       "[18 rows x 5 columns]\n",
       "Note: Only the head of the SFrame is printed.\n",
       "You can use print_rows(num_rows=m, num_columns=n) to print more rows and columns."
      ]
     },
     "execution_count": 101,
     "metadata": {},
     "output_type": "execute_result"
    }
   ],
   "source": [
    "import graphlab.aggregate as agg\n",
    "\n",
    "# we will be using these aggregations\n",
    "agg_list = [agg.AVG('precision'),agg.STD('precision'),agg.AVG('recall'),agg.STD('recall')]\n",
    "\n",
    "# apply these functions to each group (we will group the results by 'k' which is the cutoff)\n",
    "# the cutoff is the number of top items to look for see the following URL for the actual equation\n",
    "# https://dato.com/products/create/docs/generated/graphlab.recommender.util.precision_recall_by_user.html#graphlab.recommender.util.precision_recall_by_user\n",
    "rmse_results['precision_recall_by_user'].groupby('cutoff',agg_list)\n",
    "\n",
    "# the groups are not sorted"
   ]
  },
  {
   "cell_type": "code",
   "execution_count": 102,
   "metadata": {
    "collapsed": false
   },
   "outputs": [
    {
     "data": {
      "text/html": [
       "<pre>Recsys training: model = ranking_factorization_recommender</pre>"
      ],
      "text/plain": [
       "Recsys training: model = ranking_factorization_recommender"
      ]
     },
     "metadata": {},
     "output_type": "display_data"
    },
    {
     "data": {
      "text/html": [
       "<pre>Preparing data set.</pre>"
      ],
      "text/plain": [
       "Preparing data set."
      ]
     },
     "metadata": {},
     "output_type": "display_data"
    },
    {
     "data": {
      "text/html": [
       "<pre>    Data has 23035 observations with 50 users and 9 items.</pre>"
      ],
      "text/plain": [
       "    Data has 23035 observations with 50 users and 9 items."
      ]
     },
     "metadata": {},
     "output_type": "display_data"
    },
    {
     "data": {
      "text/html": [
       "<pre>    Data prepared in: 0.410618s</pre>"
      ],
      "text/plain": [
       "    Data prepared in: 0.410618s"
      ]
     },
     "metadata": {},
     "output_type": "display_data"
    },
    {
     "data": {
      "text/html": [
       "<pre>Training ranking_factorization_recommender for recommendations.</pre>"
      ],
      "text/plain": [
       "Training ranking_factorization_recommender for recommendations."
      ]
     },
     "metadata": {},
     "output_type": "display_data"
    },
    {
     "data": {
      "text/html": [
       "<pre>+--------------------------------+--------------------------------------------------+----------+</pre>"
      ],
      "text/plain": [
       "+--------------------------------+--------------------------------------------------+----------+"
      ]
     },
     "metadata": {},
     "output_type": "display_data"
    },
    {
     "data": {
      "text/html": [
       "<pre>| Parameter                      | Description                                      | Value    |</pre>"
      ],
      "text/plain": [
       "| Parameter                      | Description                                      | Value    |"
      ]
     },
     "metadata": {},
     "output_type": "display_data"
    },
    {
     "data": {
      "text/html": [
       "<pre>+--------------------------------+--------------------------------------------------+----------+</pre>"
      ],
      "text/plain": [
       "+--------------------------------+--------------------------------------------------+----------+"
      ]
     },
     "metadata": {},
     "output_type": "display_data"
    },
    {
     "data": {
      "text/html": [
       "<pre>| num_factors                    | Factor Dimension                                 | 32       |</pre>"
      ],
      "text/plain": [
       "| num_factors                    | Factor Dimension                                 | 32       |"
      ]
     },
     "metadata": {},
     "output_type": "display_data"
    },
    {
     "data": {
      "text/html": [
       "<pre>| regularization                 | L2 Regularization on Factors                     | 1e-09    |</pre>"
      ],
      "text/plain": [
       "| regularization                 | L2 Regularization on Factors                     | 1e-09    |"
      ]
     },
     "metadata": {},
     "output_type": "display_data"
    },
    {
     "data": {
      "text/html": [
       "<pre>| solver                         | Solver used for training                         | adagrad  |</pre>"
      ],
      "text/plain": [
       "| solver                         | Solver used for training                         | adagrad  |"
      ]
     },
     "metadata": {},
     "output_type": "display_data"
    },
    {
     "data": {
      "text/html": [
       "<pre>| linear_regularization          | L2 Regularization on Linear Coefficients         | 1e-09    |</pre>"
      ],
      "text/plain": [
       "| linear_regularization          | L2 Regularization on Linear Coefficients         | 1e-09    |"
      ]
     },
     "metadata": {},
     "output_type": "display_data"
    },
    {
     "data": {
      "text/html": [
       "<pre>| ranking_regularization         | Rank-based Regularization Weight                 | 0.25     |</pre>"
      ],
      "text/plain": [
       "| ranking_regularization         | Rank-based Regularization Weight                 | 0.25     |"
      ]
     },
     "metadata": {},
     "output_type": "display_data"
    },
    {
     "data": {
      "text/html": [
       "<pre>| max_iterations                 | Maximum Number of Iterations                     | 25       |</pre>"
      ],
      "text/plain": [
       "| max_iterations                 | Maximum Number of Iterations                     | 25       |"
      ]
     },
     "metadata": {},
     "output_type": "display_data"
    },
    {
     "data": {
      "text/html": [
       "<pre>+--------------------------------+--------------------------------------------------+----------+</pre>"
      ],
      "text/plain": [
       "+--------------------------------+--------------------------------------------------+----------+"
      ]
     },
     "metadata": {},
     "output_type": "display_data"
    },
    {
     "data": {
      "text/html": [
       "<pre>  Optimizing model using SGD; tuning step size.</pre>"
      ],
      "text/plain": [
       "  Optimizing model using SGD; tuning step size."
      ]
     },
     "metadata": {},
     "output_type": "display_data"
    },
    {
     "data": {
      "text/html": [
       "<pre>  Using 10000 / 23035 points for tuning the step size.</pre>"
      ],
      "text/plain": [
       "  Using 10000 / 23035 points for tuning the step size."
      ]
     },
     "metadata": {},
     "output_type": "display_data"
    },
    {
     "data": {
      "text/html": [
       "<pre>+---------+-------------------+------------------------------------------+</pre>"
      ],
      "text/plain": [
       "+---------+-------------------+------------------------------------------+"
      ]
     },
     "metadata": {},
     "output_type": "display_data"
    },
    {
     "data": {
      "text/html": [
       "<pre>| Attempt | Initial Step Size | Estimated Objective Value                |</pre>"
      ],
      "text/plain": [
       "| Attempt | Initial Step Size | Estimated Objective Value                |"
      ]
     },
     "metadata": {},
     "output_type": "display_data"
    },
    {
     "data": {
      "text/html": [
       "<pre>+---------+-------------------+------------------------------------------+</pre>"
      ],
      "text/plain": [
       "+---------+-------------------+------------------------------------------+"
      ]
     },
     "metadata": {},
     "output_type": "display_data"
    },
    {
     "data": {
      "text/html": [
       "<pre>| 0       | 2.5               | Not Viable                               |</pre>"
      ],
      "text/plain": [
       "| 0       | 2.5               | Not Viable                               |"
      ]
     },
     "metadata": {},
     "output_type": "display_data"
    },
    {
     "data": {
      "text/html": [
       "<pre>| 1       | 0.625             | Not Viable                               |</pre>"
      ],
      "text/plain": [
       "| 1       | 0.625             | Not Viable                               |"
      ]
     },
     "metadata": {},
     "output_type": "display_data"
    },
    {
     "data": {
      "text/html": [
       "<pre>| 2       | 0.15625           | Not Viable                               |</pre>"
      ],
      "text/plain": [
       "| 2       | 0.15625           | Not Viable                               |"
      ]
     },
     "metadata": {},
     "output_type": "display_data"
    },
    {
     "data": {
      "text/html": [
       "<pre>| 3       | 0.0390625         | No Decrease (0.926365 >= 0.241217)       |</pre>"
      ],
      "text/plain": [
       "| 3       | 0.0390625         | No Decrease (0.926365 >= 0.241217)       |"
      ]
     },
     "metadata": {},
     "output_type": "display_data"
    },
    {
     "data": {
      "text/html": [
       "<pre>| 4       | 0.00976562        | 0.221352                                 |</pre>"
      ],
      "text/plain": [
       "| 4       | 0.00976562        | 0.221352                                 |"
      ]
     },
     "metadata": {},
     "output_type": "display_data"
    },
    {
     "data": {
      "text/html": [
       "<pre>| 5       | 0.00488281        | 0.223879                                 |</pre>"
      ],
      "text/plain": [
       "| 5       | 0.00488281        | 0.223879                                 |"
      ]
     },
     "metadata": {},
     "output_type": "display_data"
    },
    {
     "data": {
      "text/html": [
       "<pre>| 6       | 0.00244141        | 0.224925                                 |</pre>"
      ],
      "text/plain": [
       "| 6       | 0.00244141        | 0.224925                                 |"
      ]
     },
     "metadata": {},
     "output_type": "display_data"
    },
    {
     "data": {
      "text/html": [
       "<pre>| 7       | 0.0012207         | 0.230568                                 |</pre>"
      ],
      "text/plain": [
       "| 7       | 0.0012207         | 0.230568                                 |"
      ]
     },
     "metadata": {},
     "output_type": "display_data"
    },
    {
     "data": {
      "text/html": [
       "<pre>+---------+-------------------+------------------------------------------+</pre>"
      ],
      "text/plain": [
       "+---------+-------------------+------------------------------------------+"
      ]
     },
     "metadata": {},
     "output_type": "display_data"
    },
    {
     "data": {
      "text/html": [
       "<pre>| Final   | 0.00976562        | 0.221352                                 |</pre>"
      ],
      "text/plain": [
       "| Final   | 0.00976562        | 0.221352                                 |"
      ]
     },
     "metadata": {},
     "output_type": "display_data"
    },
    {
     "data": {
      "text/html": [
       "<pre>+---------+-------------------+------------------------------------------+</pre>"
      ],
      "text/plain": [
       "+---------+-------------------+------------------------------------------+"
      ]
     },
     "metadata": {},
     "output_type": "display_data"
    },
    {
     "data": {
      "text/html": [
       "<pre>Starting Optimization.</pre>"
      ],
      "text/plain": [
       "Starting Optimization."
      ]
     },
     "metadata": {},
     "output_type": "display_data"
    },
    {
     "data": {
      "text/html": [
       "<pre>+---------+--------------+-------------------+-----------------------+-------------+</pre>"
      ],
      "text/plain": [
       "+---------+--------------+-------------------+-----------------------+-------------+"
      ]
     },
     "metadata": {},
     "output_type": "display_data"
    },
    {
     "data": {
      "text/html": [
       "<pre>| Iter.   | Elapsed Time | Approx. Objective | Approx. Training RMSE | Step Size   |</pre>"
      ],
      "text/plain": [
       "| Iter.   | Elapsed Time | Approx. Objective | Approx. Training RMSE | Step Size   |"
      ]
     },
     "metadata": {},
     "output_type": "display_data"
    },
    {
     "data": {
      "text/html": [
       "<pre>+---------+--------------+-------------------+-----------------------+-------------+</pre>"
      ],
      "text/plain": [
       "+---------+--------------+-------------------+-----------------------+-------------+"
      ]
     },
     "metadata": {},
     "output_type": "display_data"
    },
    {
     "data": {
      "text/html": [
       "<pre>| Initial | 115us        | 0.240376          | 0.350149              |             |</pre>"
      ],
      "text/plain": [
       "| Initial | 115us        | 0.240376          | 0.350149              |             |"
      ]
     },
     "metadata": {},
     "output_type": "display_data"
    },
    {
     "data": {
      "text/html": [
       "<pre>+---------+--------------+-------------------+-----------------------+-------------+</pre>"
      ],
      "text/plain": [
       "+---------+--------------+-------------------+-----------------------+-------------+"
      ]
     },
     "metadata": {},
     "output_type": "display_data"
    },
    {
     "data": {
      "text/html": [
       "<pre>| 1       | 298.493ms    | 0.132287          | 0.36255               | 0.00976562  |</pre>"
      ],
      "text/plain": [
       "| 1       | 298.493ms    | 0.132287          | 0.36255               | 0.00976562  |"
      ]
     },
     "metadata": {},
     "output_type": "display_data"
    },
    {
     "data": {
      "text/html": [
       "<pre>| 2       | 539.554ms    | 0.127225          | 0.355599              | 0.00976562  |</pre>"
      ],
      "text/plain": [
       "| 2       | 539.554ms    | 0.127225          | 0.355599              | 0.00976562  |"
      ]
     },
     "metadata": {},
     "output_type": "display_data"
    },
    {
     "data": {
      "text/html": [
       "<pre>| 3       | 762.773ms    | 0.126311          | 0.35428               | 0.00976562  |</pre>"
      ],
      "text/plain": [
       "| 3       | 762.773ms    | 0.126311          | 0.35428               | 0.00976562  |"
      ]
     },
     "metadata": {},
     "output_type": "display_data"
    },
    {
     "data": {
      "text/html": [
       "<pre>| 4       | 1.02s        | 0.125283          | 0.352865              | 0.00976562  |</pre>"
      ],
      "text/plain": [
       "| 4       | 1.02s        | 0.125283          | 0.352865              | 0.00976562  |"
      ]
     },
     "metadata": {},
     "output_type": "display_data"
    },
    {
     "data": {
      "text/html": [
       "<pre>| 5       | 1.24s        | 0.125665          | 0.353381              | 0.00976562  |</pre>"
      ],
      "text/plain": [
       "| 5       | 1.24s        | 0.125665          | 0.353381              | 0.00976562  |"
      ]
     },
     "metadata": {},
     "output_type": "display_data"
    },
    {
     "data": {
      "text/html": [
       "<pre>| 6       | 1.48s        | 0.125577          | 0.353264              | 0.00976562  |</pre>"
      ],
      "text/plain": [
       "| 6       | 1.48s        | 0.125577          | 0.353264              | 0.00976562  |"
      ]
     },
     "metadata": {},
     "output_type": "display_data"
    },
    {
     "data": {
      "text/html": [
       "<pre>| 10      | 2.50s        | 0.125752          | 0.353509              | 0.00976562  |</pre>"
      ],
      "text/plain": [
       "| 10      | 2.50s        | 0.125752          | 0.353509              | 0.00976562  |"
      ]
     },
     "metadata": {},
     "output_type": "display_data"
    },
    {
     "data": {
      "text/html": [
       "<pre>| 11      | 2.75s        | 0.126066          | 0.353948              | 0.00976562  |</pre>"
      ],
      "text/plain": [
       "| 11      | 2.75s        | 0.126066          | 0.353948              | 0.00976562  |"
      ]
     },
     "metadata": {},
     "output_type": "display_data"
    },
    {
     "data": {
      "text/html": [
       "<pre>| 15      | 3.80s        | 0.126564          | 0.354641              | 0.00976562  |</pre>"
      ],
      "text/plain": [
       "| 15      | 3.80s        | 0.126564          | 0.354641              | 0.00976562  |"
      ]
     },
     "metadata": {},
     "output_type": "display_data"
    },
    {
     "data": {
      "text/html": [
       "<pre>| 20      | 5.65s        | 0.126195          | 0.354153              | 0.00976562  |</pre>"
      ],
      "text/plain": [
       "| 20      | 5.65s        | 0.126195          | 0.354153              | 0.00976562  |"
      ]
     },
     "metadata": {},
     "output_type": "display_data"
    },
    {
     "data": {
      "text/html": [
       "<pre>| 25      | 8.34s        | 0.127464          | 0.355901              | 0.00976562  |</pre>"
      ],
      "text/plain": [
       "| 25      | 8.34s        | 0.127464          | 0.355901              | 0.00976562  |"
      ]
     },
     "metadata": {},
     "output_type": "display_data"
    },
    {
     "data": {
      "text/html": [
       "<pre>+---------+--------------+-------------------+-----------------------+-------------+</pre>"
      ],
      "text/plain": [
       "+---------+--------------+-------------------+-----------------------+-------------+"
      ]
     },
     "metadata": {},
     "output_type": "display_data"
    },
    {
     "data": {
      "text/html": [
       "<pre>Optimization Complete: Maximum number of passes through the data reached.</pre>"
      ],
      "text/plain": [
       "Optimization Complete: Maximum number of passes through the data reached."
      ]
     },
     "metadata": {},
     "output_type": "display_data"
    },
    {
     "data": {
      "text/html": [
       "<pre>Computing final objective value and training RMSE.</pre>"
      ],
      "text/plain": [
       "Computing final objective value and training RMSE."
      ]
     },
     "metadata": {},
     "output_type": "display_data"
    },
    {
     "data": {
      "text/html": [
       "<pre>       Final objective value: 0.230913</pre>"
      ],
      "text/plain": [
       "       Final objective value: 0.230913"
      ]
     },
     "metadata": {},
     "output_type": "display_data"
    },
    {
     "data": {
      "text/html": [
       "<pre>       Final training RMSE: 0.35475</pre>"
      ],
      "text/plain": [
       "       Final training RMSE: 0.35475"
      ]
     },
     "metadata": {},
     "output_type": "display_data"
    },
    {
     "name": "stdout",
     "output_type": "stream",
     "text": [
      "\n",
      "Precision and recall summary statistics by cutoff\n",
      "+--------+-----------------+------------------+\n",
      "| cutoff |  mean_precision |   mean_recall    |\n",
      "+--------+-----------------+------------------+\n",
      "|   1    |       0.1       | 0.00386407777271 |\n",
      "|   2    |       0.07      | 0.00509513837877 |\n",
      "|   3    | 0.0533333333333 | 0.00552067029367 |\n",
      "|   4    |       0.05      | 0.00565765659504 |\n",
      "|   5    |      0.052      | 0.00585567639702 |\n",
      "|   6    | 0.0513333333333 | 0.00585567639702 |\n",
      "|   7    | 0.0513333333333 | 0.00585567639702 |\n",
      "|   8    | 0.0513333333333 | 0.00585567639702 |\n",
      "|   9    | 0.0513333333333 | 0.00585567639702 |\n",
      "|   10   | 0.0513333333333 | 0.00585567639702 |\n",
      "+--------+-----------------+------------------+\n",
      "[10 rows x 3 columns]\n",
      "\n",
      "('\\nOverall RMSE: ', 0.36960424218234184)\n",
      "\n",
      "Per User RMSE (best)\n",
      "+-------+-------+----------------+\n",
      "| STATE | count |      rmse      |\n",
      "+-------+-------+----------------+\n",
      "|   50  |   12  | 0.100419567997 |\n",
      "+-------+-------+----------------+\n",
      "[1 rows x 3 columns]\n",
      "\n",
      "\n",
      "Per User RMSE (worst)\n",
      "+-------+-------+----------------+\n",
      "| STATE | count |      rmse      |\n",
      "+-------+-------+----------------+\n",
      "|   44  |   9   | 0.680318360009 |\n",
      "+-------+-------+----------------+\n",
      "[1 rows x 3 columns]\n",
      "\n",
      "\n",
      "Per Item RMSE (best)\n",
      "+---------+-------+-----------------+\n",
      "| WEATHER | count |       rmse      |\n",
      "+---------+-------+-----------------+\n",
      "|    6    |   5   | 0.0928861604457 |\n",
      "+---------+-------+-----------------+\n",
      "[1 rows x 3 columns]\n",
      "\n",
      "\n",
      "Per Item RMSE (worst)\n",
      "+---------+-------+----------------+\n",
      "| WEATHER | count |      rmse      |\n",
      "+---------+-------+----------------+\n",
      "|    2    |  481  | 0.379779889662 |\n",
      "+---------+-------+----------------+\n",
      "[1 rows x 3 columns]\n",
      "\n"
     ]
    }
   ],
   "source": [
    "rec1 = gl.recommender.ranking_factorization_recommender.create(train, \n",
    "                                  user_id=\"STATE\", \n",
    "                                  item_id=\"WEATHER\", \n",
    "                                  target=\"FATALS\")\n",
    "\n",
    "rmse_results = rec1.evaluate(test)"
   ]
  },
  {
   "cell_type": "code",
   "execution_count": 103,
   "metadata": {
    "collapsed": false
   },
   "outputs": [
    {
     "data": {
      "text/html": [
       "<div style=\"max-height:1000px;max-width:1500px;overflow:auto;\"><table frame=\"box\" rules=\"cols\">\n",
       "    <tr>\n",
       "        <th style=\"padding-left: 1em; padding-right: 1em; text-align: center\">cutoff</th>\n",
       "        <th style=\"padding-left: 1em; padding-right: 1em; text-align: center\">Avg of precision</th>\n",
       "        <th style=\"padding-left: 1em; padding-right: 1em; text-align: center\">Stdv of precision</th>\n",
       "        <th style=\"padding-left: 1em; padding-right: 1em; text-align: center\">Avg of recall</th>\n",
       "        <th style=\"padding-left: 1em; padding-right: 1em; text-align: center\">Stdv of recall</th>\n",
       "    </tr>\n",
       "    <tr>\n",
       "        <td style=\"padding-left: 1em; padding-right: 1em; text-align: center; vertical-align: top\">36</td>\n",
       "        <td style=\"padding-left: 1em; padding-right: 1em; text-align: center; vertical-align: top\">0.0513333333333</td>\n",
       "        <td style=\"padding-left: 1em; padding-right: 1em; text-align: center; vertical-align: top\">0.105769140637</td>\n",
       "        <td style=\"padding-left: 1em; padding-right: 1em; text-align: center; vertical-align: top\">0.00585567639702</td>\n",
       "        <td style=\"padding-left: 1em; padding-right: 1em; text-align: center; vertical-align: top\">0.0168259490442</td>\n",
       "    </tr>\n",
       "    <tr>\n",
       "        <td style=\"padding-left: 1em; padding-right: 1em; text-align: center; vertical-align: top\">2</td>\n",
       "        <td style=\"padding-left: 1em; padding-right: 1em; text-align: center; vertical-align: top\">0.07</td>\n",
       "        <td style=\"padding-left: 1em; padding-right: 1em; text-align: center; vertical-align: top\">0.173493515729</td>\n",
       "        <td style=\"padding-left: 1em; padding-right: 1em; text-align: center; vertical-align: top\">0.00509513837877</td>\n",
       "        <td style=\"padding-left: 1em; padding-right: 1em; text-align: center; vertical-align: top\">0.0167179049896</td>\n",
       "    </tr>\n",
       "    <tr>\n",
       "        <td style=\"padding-left: 1em; padding-right: 1em; text-align: center; vertical-align: top\">46</td>\n",
       "        <td style=\"padding-left: 1em; padding-right: 1em; text-align: center; vertical-align: top\">0.0513333333333</td>\n",
       "        <td style=\"padding-left: 1em; padding-right: 1em; text-align: center; vertical-align: top\">0.105769140637</td>\n",
       "        <td style=\"padding-left: 1em; padding-right: 1em; text-align: center; vertical-align: top\">0.00585567639702</td>\n",
       "        <td style=\"padding-left: 1em; padding-right: 1em; text-align: center; vertical-align: top\">0.0168259490442</td>\n",
       "    </tr>\n",
       "    <tr>\n",
       "        <td style=\"padding-left: 1em; padding-right: 1em; text-align: center; vertical-align: top\">31</td>\n",
       "        <td style=\"padding-left: 1em; padding-right: 1em; text-align: center; vertical-align: top\">0.0513333333333</td>\n",
       "        <td style=\"padding-left: 1em; padding-right: 1em; text-align: center; vertical-align: top\">0.105769140637</td>\n",
       "        <td style=\"padding-left: 1em; padding-right: 1em; text-align: center; vertical-align: top\">0.00585567639702</td>\n",
       "        <td style=\"padding-left: 1em; padding-right: 1em; text-align: center; vertical-align: top\">0.0168259490442</td>\n",
       "    </tr>\n",
       "    <tr>\n",
       "        <td style=\"padding-left: 1em; padding-right: 1em; text-align: center; vertical-align: top\">26</td>\n",
       "        <td style=\"padding-left: 1em; padding-right: 1em; text-align: center; vertical-align: top\">0.0513333333333</td>\n",
       "        <td style=\"padding-left: 1em; padding-right: 1em; text-align: center; vertical-align: top\">0.105769140637</td>\n",
       "        <td style=\"padding-left: 1em; padding-right: 1em; text-align: center; vertical-align: top\">0.00585567639702</td>\n",
       "        <td style=\"padding-left: 1em; padding-right: 1em; text-align: center; vertical-align: top\">0.0168259490442</td>\n",
       "    </tr>\n",
       "    <tr>\n",
       "        <td style=\"padding-left: 1em; padding-right: 1em; text-align: center; vertical-align: top\">8</td>\n",
       "        <td style=\"padding-left: 1em; padding-right: 1em; text-align: center; vertical-align: top\">0.0513333333333</td>\n",
       "        <td style=\"padding-left: 1em; padding-right: 1em; text-align: center; vertical-align: top\">0.105769140637</td>\n",
       "        <td style=\"padding-left: 1em; padding-right: 1em; text-align: center; vertical-align: top\">0.00585567639702</td>\n",
       "        <td style=\"padding-left: 1em; padding-right: 1em; text-align: center; vertical-align: top\">0.0168259490442</td>\n",
       "    </tr>\n",
       "    <tr>\n",
       "        <td style=\"padding-left: 1em; padding-right: 1em; text-align: center; vertical-align: top\">5</td>\n",
       "        <td style=\"padding-left: 1em; padding-right: 1em; text-align: center; vertical-align: top\">0.052</td>\n",
       "        <td style=\"padding-left: 1em; padding-right: 1em; text-align: center; vertical-align: top\">0.106595809799</td>\n",
       "        <td style=\"padding-left: 1em; padding-right: 1em; text-align: center; vertical-align: top\">0.00585567639702</td>\n",
       "        <td style=\"padding-left: 1em; padding-right: 1em; text-align: center; vertical-align: top\">0.0168259490442</td>\n",
       "    </tr>\n",
       "    <tr>\n",
       "        <td style=\"padding-left: 1em; padding-right: 1em; text-align: center; vertical-align: top\">16</td>\n",
       "        <td style=\"padding-left: 1em; padding-right: 1em; text-align: center; vertical-align: top\">0.0513333333333</td>\n",
       "        <td style=\"padding-left: 1em; padding-right: 1em; text-align: center; vertical-align: top\">0.105769140637</td>\n",
       "        <td style=\"padding-left: 1em; padding-right: 1em; text-align: center; vertical-align: top\">0.00585567639702</td>\n",
       "        <td style=\"padding-left: 1em; padding-right: 1em; text-align: center; vertical-align: top\">0.0168259490442</td>\n",
       "    </tr>\n",
       "    <tr>\n",
       "        <td style=\"padding-left: 1em; padding-right: 1em; text-align: center; vertical-align: top\">41</td>\n",
       "        <td style=\"padding-left: 1em; padding-right: 1em; text-align: center; vertical-align: top\">0.0513333333333</td>\n",
       "        <td style=\"padding-left: 1em; padding-right: 1em; text-align: center; vertical-align: top\">0.105769140637</td>\n",
       "        <td style=\"padding-left: 1em; padding-right: 1em; text-align: center; vertical-align: top\">0.00585567639702</td>\n",
       "        <td style=\"padding-left: 1em; padding-right: 1em; text-align: center; vertical-align: top\">0.0168259490442</td>\n",
       "    </tr>\n",
       "    <tr>\n",
       "        <td style=\"padding-left: 1em; padding-right: 1em; text-align: center; vertical-align: top\">4</td>\n",
       "        <td style=\"padding-left: 1em; padding-right: 1em; text-align: center; vertical-align: top\">0.05</td>\n",
       "        <td style=\"padding-left: 1em; padding-right: 1em; text-align: center; vertical-align: top\">0.108012344973</td>\n",
       "        <td style=\"padding-left: 1em; padding-right: 1em; text-align: center; vertical-align: top\">0.00565765659504</td>\n",
       "        <td style=\"padding-left: 1em; padding-right: 1em; text-align: center; vertical-align: top\">0.016835433973</td>\n",
       "    </tr>\n",
       "</table>\n",
       "[18 rows x 5 columns]<br/>Note: Only the head of the SFrame is printed.<br/>You can use print_rows(num_rows=m, num_columns=n) to print more rows and columns.\n",
       "</div>"
      ],
      "text/plain": [
       "Columns:\n",
       "\tcutoff\tint\n",
       "\tAvg of precision\tfloat\n",
       "\tStdv of precision\tfloat\n",
       "\tAvg of recall\tfloat\n",
       "\tStdv of recall\tfloat\n",
       "\n",
       "Rows: 18\n",
       "\n",
       "Data:\n",
       "+--------+------------------+-------------------+------------------+\n",
       "| cutoff | Avg of precision | Stdv of precision |  Avg of recall   |\n",
       "+--------+------------------+-------------------+------------------+\n",
       "|   36   | 0.0513333333333  |   0.105769140637  | 0.00585567639702 |\n",
       "|   2    |       0.07       |   0.173493515729  | 0.00509513837877 |\n",
       "|   46   | 0.0513333333333  |   0.105769140637  | 0.00585567639702 |\n",
       "|   31   | 0.0513333333333  |   0.105769140637  | 0.00585567639702 |\n",
       "|   26   | 0.0513333333333  |   0.105769140637  | 0.00585567639702 |\n",
       "|   8    | 0.0513333333333  |   0.105769140637  | 0.00585567639702 |\n",
       "|   5    |      0.052       |   0.106595809799  | 0.00585567639702 |\n",
       "|   16   | 0.0513333333333  |   0.105769140637  | 0.00585567639702 |\n",
       "|   41   | 0.0513333333333  |   0.105769140637  | 0.00585567639702 |\n",
       "|   4    |       0.05       |   0.108012344973  | 0.00565765659504 |\n",
       "+--------+------------------+-------------------+------------------+\n",
       "+-----------------+\n",
       "|  Stdv of recall |\n",
       "+-----------------+\n",
       "| 0.0168259490442 |\n",
       "| 0.0167179049896 |\n",
       "| 0.0168259490442 |\n",
       "| 0.0168259490442 |\n",
       "| 0.0168259490442 |\n",
       "| 0.0168259490442 |\n",
       "| 0.0168259490442 |\n",
       "| 0.0168259490442 |\n",
       "| 0.0168259490442 |\n",
       "|  0.016835433973 |\n",
       "+-----------------+\n",
       "[18 rows x 5 columns]\n",
       "Note: Only the head of the SFrame is printed.\n",
       "You can use print_rows(num_rows=m, num_columns=n) to print more rows and columns."
      ]
     },
     "execution_count": 103,
     "metadata": {},
     "output_type": "execute_result"
    }
   ],
   "source": [
    "rmse_results['precision_recall_by_user'].groupby('cutoff',[agg.AVG('precision'),agg.STD('precision'),agg.AVG('recall'),agg.STD('recall')])"
   ]
  },
  {
   "cell_type": "code",
   "execution_count": 104,
   "metadata": {
    "collapsed": false
   },
   "outputs": [
    {
     "data": {
      "text/html": [
       "<pre>Recsys training: model = ranking_factorization_recommender</pre>"
      ],
      "text/plain": [
       "Recsys training: model = ranking_factorization_recommender"
      ]
     },
     "metadata": {},
     "output_type": "display_data"
    },
    {
     "data": {
      "text/html": [
       "<pre>Preparing data set.</pre>"
      ],
      "text/plain": [
       "Preparing data set."
      ]
     },
     "metadata": {},
     "output_type": "display_data"
    },
    {
     "data": {
      "text/html": [
       "<pre>    Data has 23035 observations with 50 users and 9 items.</pre>"
      ],
      "text/plain": [
       "    Data has 23035 observations with 50 users and 9 items."
      ]
     },
     "metadata": {},
     "output_type": "display_data"
    },
    {
     "data": {
      "text/html": [
       "<pre>    Data prepared in: 0.283237s</pre>"
      ],
      "text/plain": [
       "    Data prepared in: 0.283237s"
      ]
     },
     "metadata": {},
     "output_type": "display_data"
    },
    {
     "data": {
      "text/html": [
       "<pre>Training ranking_factorization_recommender for recommendations.</pre>"
      ],
      "text/plain": [
       "Training ranking_factorization_recommender for recommendations."
      ]
     },
     "metadata": {},
     "output_type": "display_data"
    },
    {
     "data": {
      "text/html": [
       "<pre>+--------------------------------+--------------------------------------------------+----------+</pre>"
      ],
      "text/plain": [
       "+--------------------------------+--------------------------------------------------+----------+"
      ]
     },
     "metadata": {},
     "output_type": "display_data"
    },
    {
     "data": {
      "text/html": [
       "<pre>| Parameter                      | Description                                      | Value    |</pre>"
      ],
      "text/plain": [
       "| Parameter                      | Description                                      | Value    |"
      ]
     },
     "metadata": {},
     "output_type": "display_data"
    },
    {
     "data": {
      "text/html": [
       "<pre>+--------------------------------+--------------------------------------------------+----------+</pre>"
      ],
      "text/plain": [
       "+--------------------------------+--------------------------------------------------+----------+"
      ]
     },
     "metadata": {},
     "output_type": "display_data"
    },
    {
     "data": {
      "text/html": [
       "<pre>| num_factors                    | Factor Dimension                                 | 8        |</pre>"
      ],
      "text/plain": [
       "| num_factors                    | Factor Dimension                                 | 8        |"
      ]
     },
     "metadata": {},
     "output_type": "display_data"
    },
    {
     "data": {
      "text/html": [
       "<pre>| regularization                 | L2 Regularization on Factors                     | 0.01     |</pre>"
      ],
      "text/plain": [
       "| regularization                 | L2 Regularization on Factors                     | 0.01     |"
      ]
     },
     "metadata": {},
     "output_type": "display_data"
    },
    {
     "data": {
      "text/html": [
       "<pre>| solver                         | Solver used for training                         | adagrad  |</pre>"
      ],
      "text/plain": [
       "| solver                         | Solver used for training                         | adagrad  |"
      ]
     },
     "metadata": {},
     "output_type": "display_data"
    },
    {
     "data": {
      "text/html": [
       "<pre>| linear_regularization          | L2 Regularization on Linear Coefficients         | 0.001    |</pre>"
      ],
      "text/plain": [
       "| linear_regularization          | L2 Regularization on Linear Coefficients         | 0.001    |"
      ]
     },
     "metadata": {},
     "output_type": "display_data"
    },
    {
     "data": {
      "text/html": [
       "<pre>| ranking_regularization         | Rank-based Regularization Weight                 | 0.25     |</pre>"
      ],
      "text/plain": [
       "| ranking_regularization         | Rank-based Regularization Weight                 | 0.25     |"
      ]
     },
     "metadata": {},
     "output_type": "display_data"
    },
    {
     "data": {
      "text/html": [
       "<pre>| max_iterations                 | Maximum Number of Iterations                     | 25       |</pre>"
      ],
      "text/plain": [
       "| max_iterations                 | Maximum Number of Iterations                     | 25       |"
      ]
     },
     "metadata": {},
     "output_type": "display_data"
    },
    {
     "data": {
      "text/html": [
       "<pre>+--------------------------------+--------------------------------------------------+----------+</pre>"
      ],
      "text/plain": [
       "+--------------------------------+--------------------------------------------------+----------+"
      ]
     },
     "metadata": {},
     "output_type": "display_data"
    },
    {
     "data": {
      "text/html": [
       "<pre>  Optimizing model using SGD; tuning step size.</pre>"
      ],
      "text/plain": [
       "  Optimizing model using SGD; tuning step size."
      ]
     },
     "metadata": {},
     "output_type": "display_data"
    },
    {
     "data": {
      "text/html": [
       "<pre>  Using 10000 / 23035 points for tuning the step size.</pre>"
      ],
      "text/plain": [
       "  Using 10000 / 23035 points for tuning the step size."
      ]
     },
     "metadata": {},
     "output_type": "display_data"
    },
    {
     "data": {
      "text/html": [
       "<pre>+---------+-------------------+------------------------------------------+</pre>"
      ],
      "text/plain": [
       "+---------+-------------------+------------------------------------------+"
      ]
     },
     "metadata": {},
     "output_type": "display_data"
    },
    {
     "data": {
      "text/html": [
       "<pre>| Attempt | Initial Step Size | Estimated Objective Value                |</pre>"
      ],
      "text/plain": [
       "| Attempt | Initial Step Size | Estimated Objective Value                |"
      ]
     },
     "metadata": {},
     "output_type": "display_data"
    },
    {
     "data": {
      "text/html": [
       "<pre>+---------+-------------------+------------------------------------------+</pre>"
      ],
      "text/plain": [
       "+---------+-------------------+------------------------------------------+"
      ]
     },
     "metadata": {},
     "output_type": "display_data"
    },
    {
     "data": {
      "text/html": [
       "<pre>| 0       | 0.319362          | Not Viable                               |</pre>"
      ],
      "text/plain": [
       "| 0       | 0.319362          | Not Viable                               |"
      ]
     },
     "metadata": {},
     "output_type": "display_data"
    },
    {
     "data": {
      "text/html": [
       "<pre>| 1       | 0.0798405         | 0.185906                                 |</pre>"
      ],
      "text/plain": [
       "| 1       | 0.0798405         | 0.185906                                 |"
      ]
     },
     "metadata": {},
     "output_type": "display_data"
    },
    {
     "data": {
      "text/html": [
       "<pre>| 2       | 0.0399202         | 0.188271                                 |</pre>"
      ],
      "text/plain": [
       "| 2       | 0.0399202         | 0.188271                                 |"
      ]
     },
     "metadata": {},
     "output_type": "display_data"
    },
    {
     "data": {
      "text/html": [
       "<pre>| 3       | 0.0199601         | 0.194603                                 |</pre>"
      ],
      "text/plain": [
       "| 3       | 0.0199601         | 0.194603                                 |"
      ]
     },
     "metadata": {},
     "output_type": "display_data"
    },
    {
     "data": {
      "text/html": [
       "<pre>| 4       | 0.00998006        | 0.204291                                 |</pre>"
      ],
      "text/plain": [
       "| 4       | 0.00998006        | 0.204291                                 |"
      ]
     },
     "metadata": {},
     "output_type": "display_data"
    },
    {
     "data": {
      "text/html": [
       "<pre>+---------+-------------------+------------------------------------------+</pre>"
      ],
      "text/plain": [
       "+---------+-------------------+------------------------------------------+"
      ]
     },
     "metadata": {},
     "output_type": "display_data"
    },
    {
     "data": {
      "text/html": [
       "<pre>| Final   | 0.0798405         | 0.185906                                 |</pre>"
      ],
      "text/plain": [
       "| Final   | 0.0798405         | 0.185906                                 |"
      ]
     },
     "metadata": {},
     "output_type": "display_data"
    },
    {
     "data": {
      "text/html": [
       "<pre>+---------+-------------------+------------------------------------------+</pre>"
      ],
      "text/plain": [
       "+---------+-------------------+------------------------------------------+"
      ]
     },
     "metadata": {},
     "output_type": "display_data"
    },
    {
     "data": {
      "text/html": [
       "<pre>Starting Optimization.</pre>"
      ],
      "text/plain": [
       "Starting Optimization."
      ]
     },
     "metadata": {},
     "output_type": "display_data"
    },
    {
     "data": {
      "text/html": [
       "<pre>+---------+--------------+-------------------+-----------------------+-------------+</pre>"
      ],
      "text/plain": [
       "+---------+--------------+-------------------+-----------------------+-------------+"
      ]
     },
     "metadata": {},
     "output_type": "display_data"
    },
    {
     "data": {
      "text/html": [
       "<pre>| Iter.   | Elapsed Time | Approx. Objective | Approx. Training RMSE | Step Size   |</pre>"
      ],
      "text/plain": [
       "| Iter.   | Elapsed Time | Approx. Objective | Approx. Training RMSE | Step Size   |"
      ]
     },
     "metadata": {},
     "output_type": "display_data"
    },
    {
     "data": {
      "text/html": [
       "<pre>+---------+--------------+-------------------+-----------------------+-------------+</pre>"
      ],
      "text/plain": [
       "+---------+--------------+-------------------+-----------------------+-------------+"
      ]
     },
     "metadata": {},
     "output_type": "display_data"
    },
    {
     "data": {
      "text/html": [
       "<pre>| Initial | 116us        | 0.240381          | 0.350151              |             |</pre>"
      ],
      "text/plain": [
       "| Initial | 116us        | 0.240381          | 0.350151              |             |"
      ]
     },
     "metadata": {},
     "output_type": "display_data"
    },
    {
     "data": {
      "text/html": [
       "<pre>+---------+--------------+-------------------+-----------------------+-------------+</pre>"
      ],
      "text/plain": [
       "+---------+--------------+-------------------+-----------------------+-------------+"
      ]
     },
     "metadata": {},
     "output_type": "display_data"
    },
    {
     "data": {
      "text/html": [
       "<pre>| 1       | 306.393ms    | 0.116716          | 0.339344              | 0.0798405   |</pre>"
      ],
      "text/plain": [
       "| 1       | 306.393ms    | 0.116716          | 0.339344              | 0.0798405   |"
      ]
     },
     "metadata": {},
     "output_type": "display_data"
    },
    {
     "data": {
      "text/html": [
       "<pre>| 2       | 509.059ms    | 0.112391          | 0.334098              | 0.0798405   |</pre>"
      ],
      "text/plain": [
       "| 2       | 509.059ms    | 0.112391          | 0.334098              | 0.0798405   |"
      ]
     },
     "metadata": {},
     "output_type": "display_data"
    },
    {
     "data": {
      "text/html": [
       "<pre>| 3       | 803.627ms    | 0.112158          | 0.333789              | 0.0798405   |</pre>"
      ],
      "text/plain": [
       "| 3       | 803.627ms    | 0.112158          | 0.333789              | 0.0798405   |"
      ]
     },
     "metadata": {},
     "output_type": "display_data"
    },
    {
     "data": {
      "text/html": [
       "<pre>| 4       | 1.06s        | 0.111784          | 0.333227              | 0.0798405   |</pre>"
      ],
      "text/plain": [
       "| 4       | 1.06s        | 0.111784          | 0.333227              | 0.0798405   |"
      ]
     },
     "metadata": {},
     "output_type": "display_data"
    },
    {
     "data": {
      "text/html": [
       "<pre>| 5       | 1.32s        | 0.111703          | 0.333127              | 0.0798405   |</pre>"
      ],
      "text/plain": [
       "| 5       | 1.32s        | 0.111703          | 0.333127              | 0.0798405   |"
      ]
     },
     "metadata": {},
     "output_type": "display_data"
    },
    {
     "data": {
      "text/html": [
       "<pre>| 6       | 1.54s        | 0.111473          | 0.332766              | 0.0798405   |</pre>"
      ],
      "text/plain": [
       "| 6       | 1.54s        | 0.111473          | 0.332766              | 0.0798405   |"
      ]
     },
     "metadata": {},
     "output_type": "display_data"
    },
    {
     "data": {
      "text/html": [
       "<pre>| 10      | 2.39s        | 0.111373          | 0.332624              | 0.0798405   |</pre>"
      ],
      "text/plain": [
       "| 10      | 2.39s        | 0.111373          | 0.332624              | 0.0798405   |"
      ]
     },
     "metadata": {},
     "output_type": "display_data"
    },
    {
     "data": {
      "text/html": [
       "<pre>| 11      | 2.69s        | 0.11142           | 0.3327                | 0.0798405   |</pre>"
      ],
      "text/plain": [
       "| 11      | 2.69s        | 0.11142           | 0.3327                | 0.0798405   |"
      ]
     },
     "metadata": {},
     "output_type": "display_data"
    },
    {
     "data": {
      "text/html": [
       "<pre>| 15      | 3.35s        | 0.111305          | 0.332525              | 0.0798405   |</pre>"
      ],
      "text/plain": [
       "| 15      | 3.35s        | 0.111305          | 0.332525              | 0.0798405   |"
      ]
     },
     "metadata": {},
     "output_type": "display_data"
    },
    {
     "data": {
      "text/html": [
       "<pre>| 20      | 3.85s        | 0.111237          | 0.332418              | 0.0798405   |</pre>"
      ],
      "text/plain": [
       "| 20      | 3.85s        | 0.111237          | 0.332418              | 0.0798405   |"
      ]
     },
     "metadata": {},
     "output_type": "display_data"
    },
    {
     "data": {
      "text/html": [
       "<pre>| 25      | 4.41s        | 0.111223          | 0.332397              | 0.0798405   |</pre>"
      ],
      "text/plain": [
       "| 25      | 4.41s        | 0.111223          | 0.332397              | 0.0798405   |"
      ]
     },
     "metadata": {},
     "output_type": "display_data"
    },
    {
     "data": {
      "text/html": [
       "<pre>+---------+--------------+-------------------+-----------------------+-------------+</pre>"
      ],
      "text/plain": [
       "+---------+--------------+-------------------+-----------------------+-------------+"
      ]
     },
     "metadata": {},
     "output_type": "display_data"
    },
    {
     "data": {
      "text/html": [
       "<pre>Optimization Complete: Maximum number of passes through the data reached.</pre>"
      ],
      "text/plain": [
       "Optimization Complete: Maximum number of passes through the data reached."
      ]
     },
     "metadata": {},
     "output_type": "display_data"
    },
    {
     "data": {
      "text/html": [
       "<pre>Computing final objective value and training RMSE.</pre>"
      ],
      "text/plain": [
       "Computing final objective value and training RMSE."
      ]
     },
     "metadata": {},
     "output_type": "display_data"
    },
    {
     "data": {
      "text/html": [
       "<pre>       Final objective value: 0.197643</pre>"
      ],
      "text/plain": [
       "       Final objective value: 0.197643"
      ]
     },
     "metadata": {},
     "output_type": "display_data"
    },
    {
     "data": {
      "text/html": [
       "<pre>       Final training RMSE: 0.331709</pre>"
      ],
      "text/plain": [
       "       Final training RMSE: 0.331709"
      ]
     },
     "metadata": {},
     "output_type": "display_data"
    },
    {
     "name": "stdout",
     "output_type": "stream",
     "text": [
      "\n",
      "Precision and recall summary statistics by cutoff\n",
      "+--------+-----------------+------------------+\n",
      "| cutoff |  mean_precision |   mean_recall    |\n",
      "+--------+-----------------+------------------+\n",
      "|   1    |       0.1       | 0.00386407777271 |\n",
      "|   2    |       0.06      | 0.00428960968761 |\n",
      "|   3    | 0.0533333333333 | 0.00505159598898 |\n",
      "|   4    |      0.055      | 0.00585567639702 |\n",
      "|   5    |      0.052      | 0.00585567639702 |\n",
      "|   6    | 0.0513333333333 | 0.00585567639702 |\n",
      "|   7    | 0.0513333333333 | 0.00585567639702 |\n",
      "|   8    | 0.0513333333333 | 0.00585567639702 |\n",
      "|   9    | 0.0513333333333 | 0.00585567639702 |\n",
      "|   10   | 0.0513333333333 | 0.00585567639702 |\n",
      "+--------+-----------------+------------------+\n",
      "[10 rows x 3 columns]\n",
      "\n",
      "('\\nOverall RMSE: ', 0.340910366859333)\n",
      "\n",
      "Per User RMSE (best)\n",
      "+-------+-------+----------------+\n",
      "| STATE | count |      rmse      |\n",
      "+-------+-------+----------------+\n",
      "|   23  |   25  | 0.132359226944 |\n",
      "+-------+-------+----------------+\n",
      "[1 rows x 3 columns]\n",
      "\n",
      "\n",
      "Per User RMSE (worst)\n",
      "+-------+-------+----------------+\n",
      "| STATE | count |      rmse      |\n",
      "+-------+-------+----------------+\n",
      "|   19  |   51  | 0.610560586947 |\n",
      "+-------+-------+----------------+\n",
      "[1 rows x 3 columns]\n",
      "\n",
      "\n",
      "Per Item RMSE (best)\n",
      "+---------+-------+----------------+\n",
      "| WEATHER | count |      rmse      |\n",
      "+---------+-------+----------------+\n",
      "|    11   |   2   | 0.142202759638 |\n",
      "+---------+-------+----------------+\n",
      "[1 rows x 3 columns]\n",
      "\n",
      "\n",
      "Per Item RMSE (worst)\n",
      "+---------+-------+----------------+\n",
      "| WEATHER | count |      rmse      |\n",
      "+---------+-------+----------------+\n",
      "|    3    |   18  | 0.404602597264 |\n",
      "+---------+-------+----------------+\n",
      "[1 rows x 3 columns]\n",
      "\n"
     ]
    }
   ],
   "source": [
    "rec1 = gl.recommender.ranking_factorization_recommender.create(train, \n",
    "                                  user_id=\"STATE\", \n",
    "                                  item_id=\"WEATHER\", \n",
    "                                  target=\"FATALS\",\n",
    "                                  num_factors=8,                 # override the default value\n",
    "                                  regularization=1e-02,           # override the default value\n",
    "                                  linear_regularization = 1e-3)   # override the default value\n",
    "\n",
    "rmse_results = rec1.evaluate(test)"
   ]
  },
  {
   "cell_type": "code",
   "execution_count": 105,
   "metadata": {
    "collapsed": false
   },
   "outputs": [
    {
     "name": "stdout",
     "output_type": "stream",
     "text": [
      "PROGRESS: Evaluate model M0\n",
      "\n",
      "Precision and recall summary statistics by cutoff\n",
      "+--------+-----------------+------------------+\n",
      "| cutoff |  mean_precision |   mean_recall    |\n",
      "+--------+-----------------+------------------+\n",
      "|   1    |       0.1       | 0.00387294302094 |\n",
      "|   2    |       0.06      | 0.00428960968761 |\n",
      "|   3    |       0.06      | 0.00524961579096 |\n",
      "|   4    |      0.055      | 0.00585567639702 |\n",
      "|   5    |      0.052      | 0.00585567639702 |\n",
      "|   6    | 0.0513333333333 | 0.00585567639702 |\n",
      "|   7    | 0.0513333333333 | 0.00585567639702 |\n",
      "|   8    | 0.0513333333333 | 0.00585567639702 |\n",
      "|   9    | 0.0513333333333 | 0.00585567639702 |\n",
      "|   10   | 0.0513333333333 | 0.00585567639702 |\n",
      "+--------+-----------------+------------------+\n",
      "[10 rows x 3 columns]\n",
      "\n",
      "('\\nOverall RMSE: ', 0.49214565720619635)\n",
      "\n",
      "Per User RMSE (best)\n",
      "+-------+-------+----------------+\n",
      "| STATE | count |      rmse      |\n",
      "+-------+-------+----------------+\n",
      "|   56  |   28  | 0.181364487913 |\n",
      "+-------+-------+----------------+\n",
      "[1 rows x 3 columns]\n",
      "\n",
      "\n",
      "Per User RMSE (worst)\n",
      "+-------+-------+----------------+\n",
      "| STATE | count |      rmse      |\n",
      "+-------+-------+----------------+\n",
      "|   31  |   47  | 0.795782447374 |\n",
      "+-------+-------+----------------+\n",
      "[1 rows x 3 columns]\n",
      "\n",
      "\n",
      "Per Item RMSE (best)\n",
      "+---------+-------+----------------+\n",
      "| WEATHER | count |      rmse      |\n",
      "+---------+-------+----------------+\n",
      "|    10   |  977  | 0.443620201502 |\n",
      "+---------+-------+----------------+\n",
      "[1 rows x 3 columns]\n",
      "\n",
      "\n",
      "Per Item RMSE (worst)\n",
      "+---------+-------+---------------+\n",
      "| WEATHER | count |      rmse     |\n",
      "+---------+-------+---------------+\n",
      "|    3    |   18  | 1.22474487139 |\n",
      "+---------+-------+---------------+\n",
      "[1 rows x 3 columns]\n",
      "\n",
      "PROGRESS: Evaluate model M1\n",
      "\n",
      "Precision and recall summary statistics by cutoff\n",
      "+--------+-----------------+------------------+\n",
      "| cutoff |  mean_precision |   mean_recall    |\n",
      "+--------+-----------------+------------------+\n",
      "|   1    |       0.1       | 0.00386407777271 |\n",
      "|   2    |       0.06      | 0.00428960968761 |\n",
      "|   3    | 0.0533333333333 | 0.00505159598898 |\n",
      "|   4    |      0.055      | 0.00585567639702 |\n",
      "|   5    |      0.052      | 0.00585567639702 |\n",
      "|   6    | 0.0513333333333 | 0.00585567639702 |\n",
      "|   7    | 0.0513333333333 | 0.00585567639702 |\n",
      "|   8    | 0.0513333333333 | 0.00585567639702 |\n",
      "|   9    | 0.0513333333333 | 0.00585567639702 |\n",
      "|   10   | 0.0513333333333 | 0.00585567639702 |\n",
      "+--------+-----------------+------------------+\n",
      "[10 rows x 3 columns]\n",
      "\n",
      "('\\nOverall RMSE: ', 0.340910366859333)\n",
      "\n",
      "Per User RMSE (best)\n",
      "+-------+-------+----------------+\n",
      "| STATE | count |      rmse      |\n",
      "+-------+-------+----------------+\n",
      "|   23  |   25  | 0.132359226944 |\n",
      "+-------+-------+----------------+\n",
      "[1 rows x 3 columns]\n",
      "\n",
      "\n",
      "Per User RMSE (worst)\n",
      "+-------+-------+----------------+\n",
      "| STATE | count |      rmse      |\n",
      "+-------+-------+----------------+\n",
      "|   19  |   51  | 0.610560586947 |\n",
      "+-------+-------+----------------+\n",
      "[1 rows x 3 columns]\n",
      "\n",
      "\n",
      "Per Item RMSE (best)\n",
      "+---------+-------+----------------+\n",
      "| WEATHER | count |      rmse      |\n",
      "+---------+-------+----------------+\n",
      "|    11   |   2   | 0.142202759638 |\n",
      "+---------+-------+----------------+\n",
      "[1 rows x 3 columns]\n",
      "\n",
      "\n",
      "Per Item RMSE (worst)\n",
      "+---------+-------+----------------+\n",
      "| WEATHER | count |      rmse      |\n",
      "+---------+-------+----------------+\n",
      "|    3    |   18  | 0.404602597264 |\n",
      "+---------+-------+----------------+\n",
      "[1 rows x 3 columns]\n",
      "\n"
     ]
    }
   ],
   "source": [
    "\n",
    "comparison = gl.recommender.util.compare_models(test, [item_item, rec1])"
   ]
  },
  {
   "cell_type": "code",
   "execution_count": 106,
   "metadata": {
    "collapsed": false
   },
   "outputs": [
    {
     "name": "stdout",
     "output_type": "stream",
     "text": [
      "PROGRESS: Evaluate model M0\n",
      "\n",
      "Precision and recall summary statistics by cutoff\n",
      "+--------+-----------------+------------------+\n",
      "| cutoff |  mean_precision |   mean_recall    |\n",
      "+--------+-----------------+------------------+\n",
      "|   1    |       0.1       | 0.00387294302094 |\n",
      "|   2    |       0.06      | 0.00428960968761 |\n",
      "|   3    |       0.06      | 0.00524961579096 |\n",
      "|   4    |      0.055      | 0.00585567639702 |\n",
      "|   5    |      0.052      | 0.00585567639702 |\n",
      "|   6    | 0.0513333333333 | 0.00585567639702 |\n",
      "|   7    | 0.0513333333333 | 0.00585567639702 |\n",
      "|   8    | 0.0513333333333 | 0.00585567639702 |\n",
      "|   9    | 0.0513333333333 | 0.00585567639702 |\n",
      "|   10   | 0.0513333333333 | 0.00585567639702 |\n",
      "+--------+-----------------+------------------+\n",
      "[10 rows x 3 columns]\n",
      "\n",
      "PROGRESS: Evaluate model M1\n",
      "\n",
      "Precision and recall summary statistics by cutoff\n",
      "+--------+-----------------+------------------+\n",
      "| cutoff |  mean_precision |   mean_recall    |\n",
      "+--------+-----------------+------------------+\n",
      "|   1    |       0.1       | 0.00386407777271 |\n",
      "|   2    |       0.06      | 0.00428960968761 |\n",
      "|   3    | 0.0533333333333 | 0.00505159598898 |\n",
      "|   4    |      0.055      | 0.00585567639702 |\n",
      "|   5    |      0.052      | 0.00585567639702 |\n",
      "|   6    | 0.0513333333333 | 0.00585567639702 |\n",
      "|   7    | 0.0513333333333 | 0.00585567639702 |\n",
      "|   8    | 0.0513333333333 | 0.00585567639702 |\n",
      "|   9    | 0.0513333333333 | 0.00585567639702 |\n",
      "|   10   | 0.0513333333333 | 0.00585567639702 |\n",
      "+--------+-----------------+------------------+\n",
      "[10 rows x 3 columns]\n",
      "\n",
      "Model compare metric: precision_recall\n"
     ]
    }
   ],
   "source": [
    "comparisonstruct = gl.compare(test,[item_item, rec1])"
   ]
  },
  {
   "cell_type": "code",
   "execution_count": 107,
   "metadata": {
    "collapsed": false,
    "scrolled": true
   },
   "outputs": [
    {
     "data": {
      "application/javascript": [
       "$(\"head\").append($(\"<link/>\").attr({\n",
       "  rel:  \"stylesheet\",\n",
       "  type: \"text/css\",\n",
       "  href: \"//cdnjs.cloudflare.com/ajax/libs/font-awesome/4.1.0/css/font-awesome.min.css\"\n",
       "}));\n",
       "$(\"head\").append($(\"<link/>\").attr({\n",
       "  rel:  \"stylesheet\",\n",
       "  type: \"text/css\",\n",
       "  href: \"https://static.turi.com/products/graphlab-create/2.1/canvas/css/canvas.css\"\n",
       "}));\n",
       "\n",
       "            (function(){\n",
       "\n",
       "                var e = null;\n",
       "                if (typeof element == 'undefined') {\n",
       "                    var scripts = document.getElementsByTagName('script');\n",
       "                    var thisScriptTag = scripts[scripts.length-1];\n",
       "                    var parentDiv = thisScriptTag.parentNode;\n",
       "                    e = document.createElement('div');\n",
       "                    parentDiv.appendChild(e);\n",
       "                } else {\n",
       "                    e = element[0];\n",
       "                }\n",
       "\n",
       "                if (typeof requirejs !== 'undefined') {\n",
       "                    // disable load timeout; ipython_app.js is large and can take a while to load.\n",
       "                    requirejs.config({waitSeconds: 0});\n",
       "                }\n",
       "\n",
       "                require(['https://static.turi.com/products/graphlab-create/2.1/canvas/js/ipython_app.js'], function(IPythonApp){\n",
       "                    var app = new IPythonApp();\n",
       "                    app.attachView('model','Comparison', {\"comparison\": {\"dataset_label\": \"test\", \"evaluations\": {\"rec1\": {\"precision_recall\": [{\"cutoff\": 1, \"precision\": 0.1, \"recall\": 0.003864077772711531}, {\"cutoff\": 2, \"precision\": 0.05999999999999999, \"recall\": 0.004289609687605149}, {\"cutoff\": 3, \"precision\": 0.05333333333333333, \"recall\": 0.00505159598897501}, {\"cutoff\": 4, \"precision\": 0.05500000000000001, \"recall\": 0.005855676397015814}, {\"cutoff\": 5, \"precision\": 0.05199999999999999, \"recall\": 0.005855676397015814}, {\"cutoff\": 6, \"precision\": 0.05133333333333334, \"recall\": 0.005855676397015814}, {\"cutoff\": 7, \"precision\": 0.05133333333333334, \"recall\": 0.005855676397015814}, {\"cutoff\": 8, \"precision\": 0.05133333333333334, \"recall\": 0.005855676397015814}, {\"cutoff\": 9, \"precision\": 0.05133333333333334, \"recall\": 0.005855676397015814}, {\"cutoff\": 10, \"precision\": 0.05133333333333335, \"recall\": 0.005855676397015814}, {\"cutoff\": 11, \"precision\": 0.05133333333333335, \"recall\": 0.005855676397015814}, {\"cutoff\": 16, \"precision\": 0.05133333333333335, \"recall\": 0.005855676397015814}, {\"cutoff\": 21, \"precision\": 0.05133333333333335, \"recall\": 0.005855676397015814}, {\"cutoff\": 26, \"precision\": 0.05133333333333335, \"recall\": 0.005855676397015814}, {\"cutoff\": 31, \"precision\": 0.05133333333333335, \"recall\": 0.005855676397015814}, {\"cutoff\": 36, \"precision\": 0.05133333333333335, \"recall\": 0.005855676397015814}, {\"cutoff\": 41, \"precision\": 0.05133333333333335, \"recall\": 0.005855676397015814}, {\"cutoff\": 46, \"precision\": 0.05133333333333335, \"recall\": 0.005855676397015814}]}, \"item_item\": {\"precision_recall\": [{\"cutoff\": 1, \"precision\": 0.1, \"recall\": 0.003872943020938481}, {\"cutoff\": 2, \"precision\": 0.06000000000000001, \"recall\": 0.004289609687605149}, {\"cutoff\": 3, \"precision\": 0.06000000000000001, \"recall\": 0.005249615790955208}, {\"cutoff\": 4, \"precision\": 0.05500000000000001, \"recall\": 0.005855676397015814}, {\"cutoff\": 5, \"precision\": 0.052, \"recall\": 0.005855676397015814}, {\"cutoff\": 6, \"precision\": 0.05133333333333334, \"recall\": 0.005855676397015814}, {\"cutoff\": 7, \"precision\": 0.05133333333333334, \"recall\": 0.005855676397015814}, {\"cutoff\": 8, \"precision\": 0.05133333333333334, \"recall\": 0.005855676397015814}, {\"cutoff\": 9, \"precision\": 0.05133333333333334, \"recall\": 0.005855676397015814}, {\"cutoff\": 10, \"precision\": 0.051333333333333335, \"recall\": 0.005855676397015814}, {\"cutoff\": 11, \"precision\": 0.051333333333333335, \"recall\": 0.005855676397015814}, {\"cutoff\": 16, \"precision\": 0.05133333333333335, \"recall\": 0.005855676397015814}, {\"cutoff\": 21, \"precision\": 0.05133333333333335, \"recall\": 0.005855676397015814}, {\"cutoff\": 26, \"precision\": 0.05133333333333335, \"recall\": 0.005855676397015814}, {\"cutoff\": 31, \"precision\": 0.05133333333333335, \"recall\": 0.005855676397015814}, {\"cutoff\": 36, \"precision\": 0.05133333333333335, \"recall\": 0.005855676397015814}, {\"cutoff\": 41, \"precision\": 0.05133333333333335, \"recall\": 0.005855676397015814}, {\"cutoff\": 46, \"precision\": 0.05133333333333335, \"recall\": 0.005855676397015814}]}}}, \"selected_variable\": {\"comparison\": {\"dataset_label\": \"test\", \"evaluations\": {\"rec1\": {\"precision_recall\": [{\"cutoff\": 1, \"precision\": 0.1, \"recall\": 0.003864077772711531}, {\"cutoff\": 2, \"precision\": 0.05999999999999999, \"recall\": 0.004289609687605149}, {\"cutoff\": 3, \"precision\": 0.05333333333333333, \"recall\": 0.00505159598897501}, {\"cutoff\": 4, \"precision\": 0.05500000000000001, \"recall\": 0.005855676397015814}, {\"cutoff\": 5, \"precision\": 0.05199999999999999, \"recall\": 0.005855676397015814}, {\"cutoff\": 6, \"precision\": 0.05133333333333334, \"recall\": 0.005855676397015814}, {\"cutoff\": 7, \"precision\": 0.05133333333333334, \"recall\": 0.005855676397015814}, {\"cutoff\": 8, \"precision\": 0.05133333333333334, \"recall\": 0.005855676397015814}, {\"cutoff\": 9, \"precision\": 0.05133333333333334, \"recall\": 0.005855676397015814}, {\"cutoff\": 10, \"precision\": 0.05133333333333335, \"recall\": 0.005855676397015814}, {\"cutoff\": 11, \"precision\": 0.05133333333333335, \"recall\": 0.005855676397015814}, {\"cutoff\": 16, \"precision\": 0.05133333333333335, \"recall\": 0.005855676397015814}, {\"cutoff\": 21, \"precision\": 0.05133333333333335, \"recall\": 0.005855676397015814}, {\"cutoff\": 26, \"precision\": 0.05133333333333335, \"recall\": 0.005855676397015814}, {\"cutoff\": 31, \"precision\": 0.05133333333333335, \"recall\": 0.005855676397015814}, {\"cutoff\": 36, \"precision\": 0.05133333333333335, \"recall\": 0.005855676397015814}, {\"cutoff\": 41, \"precision\": 0.05133333333333335, \"recall\": 0.005855676397015814}, {\"cutoff\": 46, \"precision\": 0.05133333333333335, \"recall\": 0.005855676397015814}]}, \"item_item\": {\"precision_recall\": [{\"cutoff\": 1, \"precision\": 0.1, \"recall\": 0.003872943020938481}, {\"cutoff\": 2, \"precision\": 0.06000000000000001, \"recall\": 0.004289609687605149}, {\"cutoff\": 3, \"precision\": 0.06000000000000001, \"recall\": 0.005249615790955208}, {\"cutoff\": 4, \"precision\": 0.05500000000000001, \"recall\": 0.005855676397015814}, {\"cutoff\": 5, \"precision\": 0.052, \"recall\": 0.005855676397015814}, {\"cutoff\": 6, \"precision\": 0.05133333333333334, \"recall\": 0.005855676397015814}, {\"cutoff\": 7, \"precision\": 0.05133333333333334, \"recall\": 0.005855676397015814}, {\"cutoff\": 8, \"precision\": 0.05133333333333334, \"recall\": 0.005855676397015814}, {\"cutoff\": 9, \"precision\": 0.05133333333333334, \"recall\": 0.005855676397015814}, {\"cutoff\": 10, \"precision\": 0.051333333333333335, \"recall\": 0.005855676397015814}, {\"cutoff\": 11, \"precision\": 0.051333333333333335, \"recall\": 0.005855676397015814}, {\"cutoff\": 16, \"precision\": 0.05133333333333335, \"recall\": 0.005855676397015814}, {\"cutoff\": 21, \"precision\": 0.05133333333333335, \"recall\": 0.005855676397015814}, {\"cutoff\": 26, \"precision\": 0.05133333333333335, \"recall\": 0.005855676397015814}, {\"cutoff\": 31, \"precision\": 0.05133333333333335, \"recall\": 0.005855676397015814}, {\"cutoff\": 36, \"precision\": 0.05133333333333335, \"recall\": 0.005855676397015814}, {\"cutoff\": 41, \"precision\": 0.05133333333333335, \"recall\": 0.005855676397015814}, {\"cutoff\": 46, \"precision\": 0.05133333333333335, \"recall\": 0.005855676397015814}]}}}, \"name\": [\"item_item\"], \"view_file\": \"model\", \"view_component\": \"Comparison\", \"view_params\": {\"model_type\": \"recommender\", \"view\": \"Comparison\"}, \"view_components\": [\"Summary\", \"Evaluation\", \"Comparison\"], \"model_type\": \"recommender\", \"attributes\": {\"section_titles\": [\"Schema\", \"Statistics\", \"Training summary\", \"Model Parameters\", \"Other Settings\"], \"sections\": [[[\"User ID\", \"STATE\"], [\"Item ID\", \"WEATHER\"], [\"Target\", \"FATALS\"], [\"Additional observation features\", 0], [\"User side features\", []], [\"Item side features\", []]], [[\"Number of observations\", 23035], [\"Number of users\", 50], [\"Number of items\", 9]], [[\"Training time\", 0.0155]], [[\"Model class\", \"ItemSimilarityRecommender\"], [\"threshold\", 0.001], [\"similarity_type\", \"cosine\"], [\"training_method\", \"auto\"]], [[\"degree_approximation_threshold\", 4096], [\"sparse_density_estimation_sample_size\", 4096], [\"max_data_passes\", 4096], [\"target_memory_usage\", 8589934592], [\"seed_item_set_size\", 50], [\"nearest_neighbors_interaction_proportion_threshold\", 0.05], [\"max_item_neighborhood_size\", 5]]]}, \"evaluations\": [[\"dataset\", {\"precision_recall_overall\": [{\"cutoff\": 1, \"precision\": 0.1, \"recall\": 0.003872943020938481}, {\"cutoff\": 2, \"precision\": 0.06000000000000001, \"recall\": 0.004289609687605149}, {\"cutoff\": 3, \"precision\": 0.06000000000000001, \"recall\": 0.005249615790955208}, {\"cutoff\": 4, \"precision\": 0.05500000000000001, \"recall\": 0.005855676397015814}, {\"cutoff\": 5, \"precision\": 0.052, \"recall\": 0.005855676397015814}, {\"cutoff\": 6, \"precision\": 0.05133333333333334, \"recall\": 0.005855676397015814}, {\"cutoff\": 7, \"precision\": 0.05133333333333334, \"recall\": 0.005855676397015814}, {\"cutoff\": 8, \"precision\": 0.05133333333333334, \"recall\": 0.005855676397015814}, {\"cutoff\": 9, \"precision\": 0.05133333333333334, \"recall\": 0.005855676397015814}, {\"cutoff\": 10, \"precision\": 0.051333333333333335, \"recall\": 0.005855676397015814}, {\"cutoff\": 11, \"precision\": 0.051333333333333335, \"recall\": 0.005855676397015814}, {\"cutoff\": 16, \"precision\": 0.05133333333333335, \"recall\": 0.005855676397015814}, {\"cutoff\": 21, \"precision\": 0.05133333333333335, \"recall\": 0.005855676397015814}, {\"cutoff\": 26, \"precision\": 0.05133333333333335, \"recall\": 0.005855676397015814}, {\"cutoff\": 31, \"precision\": 0.05133333333333335, \"recall\": 0.005855676397015814}, {\"cutoff\": 36, \"precision\": 0.05133333333333335, \"recall\": 0.005855676397015814}, {\"cutoff\": 41, \"precision\": 0.05133333333333335, \"recall\": 0.005855676397015814}, {\"cutoff\": 46, \"precision\": 0.05133333333333335, \"recall\": 0.005855676397015814}], \"precision_recall_by_user\": [{\"count\": 148, \"cutoff\": 1, \"STATE\": 1, \"precision\": 0.0, \"recall\": 0.0}, {\"count\": 148, \"cutoff\": 2, \"STATE\": 1, \"precision\": 0.0, \"recall\": 0.0}, {\"count\": 148, \"cutoff\": 3, \"STATE\": 1, \"precision\": 0.0, \"recall\": 0.0}, {\"count\": 148, \"cutoff\": 4, \"STATE\": 1, \"precision\": 0.0, \"recall\": 0.0}, {\"count\": 148, \"cutoff\": 5, \"STATE\": 1, \"precision\": 0.0, \"recall\": 0.0}, {\"count\": 148, \"cutoff\": 6, \"STATE\": 1, \"precision\": 0.0, \"recall\": 0.0}, {\"count\": 148, \"cutoff\": 7, \"STATE\": 1, \"precision\": 0.0, \"recall\": 0.0}, {\"count\": 148, \"cutoff\": 8, \"STATE\": 1, \"precision\": 0.0, \"recall\": 0.0}, {\"count\": 148, \"cutoff\": 9, \"STATE\": 1, \"precision\": 0.0, \"recall\": 0.0}, {\"count\": 148, \"cutoff\": 10, \"STATE\": 1, \"precision\": 0.0, \"recall\": 0.0}, {\"count\": 148, \"cutoff\": 11, \"STATE\": 1, \"precision\": 0.0, \"recall\": 0.0}, {\"count\": 148, \"cutoff\": 16, \"STATE\": 1, \"precision\": 0.0, \"recall\": 0.0}, {\"count\": 148, \"cutoff\": 21, \"STATE\": 1, \"precision\": 0.0, \"recall\": 0.0}, {\"count\": 148, \"cutoff\": 26, \"STATE\": 1, \"precision\": 0.0, \"recall\": 0.0}, {\"count\": 148, \"cutoff\": 31, \"STATE\": 1, \"precision\": 0.0, \"recall\": 0.0}, {\"count\": 148, \"cutoff\": 36, \"STATE\": 1, \"precision\": 0.0, \"recall\": 0.0}, {\"count\": 148, \"cutoff\": 41, \"STATE\": 1, \"precision\": 0.0, \"recall\": 0.0}, {\"count\": 148, \"cutoff\": 46, \"STATE\": 1, \"precision\": 0.0, \"recall\": 0.0}, {\"count\": 13, \"cutoff\": 1, \"STATE\": 2, \"precision\": 1.0, \"recall\": 0.07692307692307693}, {\"count\": 13, \"cutoff\": 2, \"STATE\": 2, \"precision\": 0.5, \"recall\": 0.07692307692307693}, {\"count\": 13, \"cutoff\": 3, \"STATE\": 2, \"precision\": 0.3333333333333333, \"recall\": 0.07692307692307693}, {\"count\": 13, \"cutoff\": 4, \"STATE\": 2, \"precision\": 0.25, \"recall\": 0.07692307692307693}, {\"count\": 13, \"cutoff\": 5, \"STATE\": 2, \"precision\": 0.25, \"recall\": 0.07692307692307693}, {\"count\": 13, \"cutoff\": 6, \"STATE\": 2, \"precision\": 0.25, \"recall\": 0.07692307692307693}, {\"count\": 13, \"cutoff\": 7, \"STATE\": 2, \"precision\": 0.25, \"recall\": 0.07692307692307693}, {\"count\": 13, \"cutoff\": 8, \"STATE\": 2, \"precision\": 0.25, \"recall\": 0.07692307692307693}, {\"count\": 13, \"cutoff\": 9, \"STATE\": 2, \"precision\": 0.25, \"recall\": 0.07692307692307693}, {\"count\": 13, \"cutoff\": 10, \"STATE\": 2, \"precision\": 0.25, \"recall\": 0.07692307692307693}, {\"count\": 13, \"cutoff\": 11, \"STATE\": 2, \"precision\": 0.25, \"recall\": 0.07692307692307693}, {\"count\": 13, \"cutoff\": 16, \"STATE\": 2, \"precision\": 0.25, \"recall\": 0.07692307692307693}, {\"count\": 13, \"cutoff\": 21, \"STATE\": 2, \"precision\": 0.25, \"recall\": 0.07692307692307693}, {\"count\": 13, \"cutoff\": 26, \"STATE\": 2, \"precision\": 0.25, \"recall\": 0.07692307692307693}, {\"count\": 13, \"cutoff\": 31, \"STATE\": 2, \"precision\": 0.25, \"recall\": 0.07692307692307693}, {\"count\": 13, \"cutoff\": 36, \"STATE\": 2, \"precision\": 0.25, \"recall\": 0.07692307692307693}, {\"count\": 13, \"cutoff\": 41, \"STATE\": 2, \"precision\": 0.25, \"recall\": 0.07692307692307693}, {\"count\": 13, \"cutoff\": 46, \"STATE\": 2, \"precision\": 0.25, \"recall\": 0.07692307692307693}, {\"count\": 123, \"cutoff\": 1, \"STATE\": 4, \"precision\": 1.0, \"recall\": 0.008130081300813009}, {\"count\": 123, \"cutoff\": 2, \"STATE\": 4, \"precision\": 0.5, \"recall\": 0.008130081300813009}, {\"count\": 123, \"cutoff\": 3, \"STATE\": 4, \"precision\": 0.3333333333333333, \"recall\": 0.008130081300813009}, {\"count\": 123, \"cutoff\": 4, \"STATE\": 4, \"precision\": 0.25, \"recall\": 0.008130081300813009}, {\"count\": 123, \"cutoff\": 5, \"STATE\": 4, \"precision\": 0.25, \"recall\": 0.008130081300813009}, {\"count\": 123, \"cutoff\": 6, \"STATE\": 4, \"precision\": 0.25, \"recall\": 0.008130081300813009}, {\"count\": 123, \"cutoff\": 7, \"STATE\": 4, \"precision\": 0.25, \"recall\": 0.008130081300813009}, {\"count\": 123, \"cutoff\": 8, \"STATE\": 4, \"precision\": 0.25, \"recall\": 0.008130081300813009}, {\"count\": 123, \"cutoff\": 9, \"STATE\": 4, \"precision\": 0.25, \"recall\": 0.008130081300813009}, {\"count\": 123, \"cutoff\": 10, \"STATE\": 4, \"precision\": 0.25, \"recall\": 0.008130081300813009}, {\"count\": 123, \"cutoff\": 11, \"STATE\": 4, \"precision\": 0.25, \"recall\": 0.008130081300813009}, {\"count\": 123, \"cutoff\": 16, \"STATE\": 4, \"precision\": 0.25, \"recall\": 0.008130081300813009}, {\"count\": 123, \"cutoff\": 21, \"STATE\": 4, \"precision\": 0.25, \"recall\": 0.008130081300813009}, {\"count\": 123, \"cutoff\": 26, \"STATE\": 4, \"precision\": 0.25, \"recall\": 0.008130081300813009}, {\"count\": 123, \"cutoff\": 31, \"STATE\": 4, \"precision\": 0.25, \"recall\": 0.008130081300813009}, {\"count\": 123, \"cutoff\": 36, \"STATE\": 4, \"precision\": 0.25, \"recall\": 0.008130081300813009}, {\"count\": 123, \"cutoff\": 41, \"STATE\": 4, \"precision\": 0.25, \"recall\": 0.008130081300813009}, {\"count\": 123, \"cutoff\": 46, \"STATE\": 4, \"precision\": 0.25, \"recall\": 0.008130081300813009}, {\"count\": 88, \"cutoff\": 1, \"STATE\": 5, \"precision\": 0.0, \"recall\": 0.0}, {\"count\": 88, \"cutoff\": 2, \"STATE\": 5, \"precision\": 0.0, \"recall\": 0.0}, {\"count\": 88, \"cutoff\": 3, \"STATE\": 5, \"precision\": 0.0, \"recall\": 0.0}, {\"count\": 88, \"cutoff\": 4, \"STATE\": 5, \"precision\": 0.0, \"recall\": 0.0}, {\"count\": 88, \"cutoff\": 5, \"STATE\": 5, \"precision\": 0.0, \"recall\": 0.0}, {\"count\": 88, \"cutoff\": 6, \"STATE\": 5, \"precision\": 0.0, \"recall\": 0.0}, {\"count\": 88, \"cutoff\": 7, \"STATE\": 5, \"precision\": 0.0, \"recall\": 0.0}, {\"count\": 88, \"cutoff\": 8, \"STATE\": 5, \"precision\": 0.0, \"recall\": 0.0}, {\"count\": 88, \"cutoff\": 9, \"STATE\": 5, \"precision\": 0.0, \"recall\": 0.0}, {\"count\": 88, \"cutoff\": 10, \"STATE\": 5, \"precision\": 0.0, \"recall\": 0.0}, {\"count\": 88, \"cutoff\": 11, \"STATE\": 5, \"precision\": 0.0, \"recall\": 0.0}, {\"count\": 88, \"cutoff\": 16, \"STATE\": 5, \"precision\": 0.0, \"recall\": 0.0}, {\"count\": 88, \"cutoff\": 21, \"STATE\": 5, \"precision\": 0.0, \"recall\": 0.0}, {\"count\": 88, \"cutoff\": 26, \"STATE\": 5, \"precision\": 0.0, \"recall\": 0.0}, {\"count\": 88, \"cutoff\": 31, \"STATE\": 5, \"precision\": 0.0, \"recall\": 0.0}, {\"count\": 88, \"cutoff\": 36, \"STATE\": 5, \"precision\": 0.0, \"recall\": 0.0}, {\"count\": 88, \"cutoff\": 41, \"STATE\": 5, \"precision\": 0.0, \"recall\": 0.0}, {\"count\": 88, \"cutoff\": 46, \"STATE\": 5, \"precision\": 0.0, \"recall\": 0.0}, {\"count\": 573, \"cutoff\": 1, \"STATE\": 6, \"precision\": 0.0, \"recall\": 0.0}, {\"count\": 573, \"cutoff\": 2, \"STATE\": 6, \"precision\": 0.0, \"recall\": 0.0}, {\"count\": 573, \"cutoff\": 3, \"STATE\": 6, \"precision\": 0.0, \"recall\": 0.0}, {\"count\": 573, \"cutoff\": 4, \"STATE\": 6, \"precision\": 0.0, \"recall\": 0.0}, {\"count\": 573, \"cutoff\": 5, \"STATE\": 6, \"precision\": 0.0, \"recall\": 0.0}, {\"count\": 573, \"cutoff\": 6, \"STATE\": 6, \"precision\": 0.0, \"recall\": 0.0}, {\"count\": 573, \"cutoff\": 7, \"STATE\": 6, \"precision\": 0.0, \"recall\": 0.0}, {\"count\": 573, \"cutoff\": 8, \"STATE\": 6, \"precision\": 0.0, \"recall\": 0.0}, {\"count\": 573, \"cutoff\": 9, \"STATE\": 6, \"precision\": 0.0, \"recall\": 0.0}, {\"count\": 573, \"cutoff\": 10, \"STATE\": 6, \"precision\": 0.0, \"recall\": 0.0}, {\"count\": 573, \"cutoff\": 11, \"STATE\": 6, \"precision\": 0.0, \"recall\": 0.0}, {\"count\": 573, \"cutoff\": 16, \"STATE\": 6, \"precision\": 0.0, \"recall\": 0.0}, {\"count\": 573, \"cutoff\": 21, \"STATE\": 6, \"precision\": 0.0, \"recall\": 0.0}, {\"count\": 573, \"cutoff\": 26, \"STATE\": 6, \"precision\": 0.0, \"recall\": 0.0}, {\"count\": 573, \"cutoff\": 31, \"STATE\": 6, \"precision\": 0.0, \"recall\": 0.0}, {\"count\": 573, \"cutoff\": 36, \"STATE\": 6, \"precision\": 0.0, \"recall\": 0.0}, {\"count\": 573, \"cutoff\": 41, \"STATE\": 6, \"precision\": 0.0, \"recall\": 0.0}, {\"count\": 573, \"cutoff\": 46, \"STATE\": 6, \"precision\": 0.0, \"recall\": 0.0}, {\"count\": 101, \"cutoff\": 1, \"STATE\": 8, \"precision\": 0.0, \"recall\": 0.0}, {\"count\": 101, \"cutoff\": 2, \"STATE\": 8, \"precision\": 0.0, \"recall\": 0.0}, {\"count\": 101, \"cutoff\": 3, \"STATE\": 8, \"precision\": 0.3333333333333333, \"recall\": 0.009900990099009901}, {\"count\": 101, \"cutoff\": 4, \"STATE\": 8, \"precision\": 0.25, \"recall\": 0.009900990099009901}, {\"count\": 101, \"cutoff\": 5, \"STATE\": 8, \"precision\": 0.2, \"recall\": 0.009900990099009901}, {\"count\": 101, \"cutoff\": 6, \"STATE\": 8, \"precision\": 0.2, \"recall\": 0.009900990099009901}, {\"count\": 101, \"cutoff\": 7, \"STATE\": 8, \"precision\": 0.2, \"recall\": 0.009900990099009901}, {\"count\": 101, \"cutoff\": 8, \"STATE\": 8, \"precision\": 0.2, \"recall\": 0.009900990099009901}, {\"count\": 101, \"cutoff\": 9, \"STATE\": 8, \"precision\": 0.2, \"recall\": 0.009900990099009901}, {\"count\": 101, \"cutoff\": 10, \"STATE\": 8, \"precision\": 0.2, \"recall\": 0.009900990099009901}, {\"count\": 101, \"cutoff\": 11, \"STATE\": 8, \"precision\": 0.2, \"recall\": 0.009900990099009901}, {\"count\": 101, \"cutoff\": 16, \"STATE\": 8, \"precision\": 0.2, \"recall\": 0.009900990099009901}, {\"count\": 101, \"cutoff\": 21, \"STATE\": 8, \"precision\": 0.2, \"recall\": 0.009900990099009901}, {\"count\": 101, \"cutoff\": 26, \"STATE\": 8, \"precision\": 0.2, \"recall\": 0.009900990099009901}, {\"count\": 101, \"cutoff\": 31, \"STATE\": 8, \"precision\": 0.2, \"recall\": 0.009900990099009901}, {\"count\": 101, \"cutoff\": 36, \"STATE\": 8, \"precision\": 0.2, \"recall\": 0.009900990099009901}, {\"count\": 101, \"cutoff\": 41, \"STATE\": 8, \"precision\": 0.2, \"recall\": 0.009900990099009901}, {\"count\": 101, \"cutoff\": 46, \"STATE\": 8, \"precision\": 0.2, \"recall\": 0.009900990099009901}, {\"count\": 54, \"cutoff\": 1, \"STATE\": 9, \"precision\": 0.0, \"recall\": 0.0}, {\"count\": 54, \"cutoff\": 2, \"STATE\": 9, \"precision\": 0.0, \"recall\": 0.0}, {\"count\": 54, \"cutoff\": 3, \"STATE\": 9, \"precision\": 0.0, \"recall\": 0.0}, {\"count\": 54, \"cutoff\": 4, \"STATE\": 9, \"precision\": 0.0, \"recall\": 0.0}, {\"count\": 54, \"cutoff\": 5, \"STATE\": 9, \"precision\": 0.0, \"recall\": 0.0}, {\"count\": 54, \"cutoff\": 6, \"STATE\": 9, \"precision\": 0.0, \"recall\": 0.0}, {\"count\": 54, \"cutoff\": 7, \"STATE\": 9, \"precision\": 0.0, \"recall\": 0.0}, {\"count\": 54, \"cutoff\": 8, \"STATE\": 9, \"precision\": 0.0, \"recall\": 0.0}, {\"count\": 54, \"cutoff\": 9, \"STATE\": 9, \"precision\": 0.0, \"recall\": 0.0}, {\"count\": 54, \"cutoff\": 10, \"STATE\": 9, \"precision\": 0.0, \"recall\": 0.0}, {\"count\": 54, \"cutoff\": 11, \"STATE\": 9, \"precision\": 0.0, \"recall\": 0.0}, {\"count\": 54, \"cutoff\": 16, \"STATE\": 9, \"precision\": 0.0, \"recall\": 0.0}, {\"count\": 54, \"cutoff\": 21, \"STATE\": 9, \"precision\": 0.0, \"recall\": 0.0}, {\"count\": 54, \"cutoff\": 26, \"STATE\": 9, \"precision\": 0.0, \"recall\": 0.0}, {\"count\": 54, \"cutoff\": 31, \"STATE\": 9, \"precision\": 0.0, \"recall\": 0.0}, {\"count\": 54, \"cutoff\": 36, \"STATE\": 9, \"precision\": 0.0, \"recall\": 0.0}, {\"count\": 54, \"cutoff\": 41, \"STATE\": 9, \"precision\": 0.0, \"recall\": 0.0}, {\"count\": 54, \"cutoff\": 46, \"STATE\": 9, \"precision\": 0.0, \"recall\": 0.0}, {\"count\": 13, \"cutoff\": 1, \"STATE\": 10, \"precision\": 0.0, \"recall\": 0.0}, {\"count\": 13, \"cutoff\": 2, \"STATE\": 10, \"precision\": 0.0, \"recall\": 0.0}, {\"count\": 13, \"cutoff\": 3, \"STATE\": 10, \"precision\": 0.0, \"recall\": 0.0}, {\"count\": 13, \"cutoff\": 4, \"STATE\": 10, \"precision\": 0.0, \"recall\": 0.0}, {\"count\": 13, \"cutoff\": 5, \"STATE\": 10, \"precision\": 0.0, \"recall\": 0.0}, {\"count\": 13, \"cutoff\": 6, \"STATE\": 10, \"precision\": 0.0, \"recall\": 0.0}, {\"count\": 13, \"cutoff\": 7, \"STATE\": 10, \"precision\": 0.0, \"recall\": 0.0}, {\"count\": 13, \"cutoff\": 8, \"STATE\": 10, \"precision\": 0.0, \"recall\": 0.0}, {\"count\": 13, \"cutoff\": 9, \"STATE\": 10, \"precision\": 0.0, \"recall\": 0.0}, {\"count\": 13, \"cutoff\": 10, \"STATE\": 10, \"precision\": 0.0, \"recall\": 0.0}, {\"count\": 13, \"cutoff\": 11, \"STATE\": 10, \"precision\": 0.0, \"recall\": 0.0}, {\"count\": 13, \"cutoff\": 16, \"STATE\": 10, \"precision\": 0.0, \"recall\": 0.0}, {\"count\": 13, \"cutoff\": 21, \"STATE\": 10, \"precision\": 0.0, \"recall\": 0.0}, {\"count\": 13, \"cutoff\": 26, \"STATE\": 10, \"precision\": 0.0, \"recall\": 0.0}, {\"count\": 13, \"cutoff\": 31, \"STATE\": 10, \"precision\": 0.0, \"recall\": 0.0}, {\"count\": 13, \"cutoff\": 36, \"STATE\": 10, \"precision\": 0.0, \"recall\": 0.0}, {\"count\": 13, \"cutoff\": 41, \"STATE\": 10, \"precision\": 0.0, \"recall\": 0.0}, {\"count\": 13, \"cutoff\": 46, \"STATE\": 10, \"precision\": 0.0, \"recall\": 0.0}, {\"count\": 303, \"cutoff\": 1, \"STATE\": 12, \"precision\": 0.0, \"recall\": 0.0}, {\"count\": 303, \"cutoff\": 2, \"STATE\": 12, \"precision\": 0.0, \"recall\": 0.0}, {\"count\": 303, \"cutoff\": 3, \"STATE\": 12, \"precision\": 0.0, \"recall\": 0.0}, {\"count\": 303, \"cutoff\": 4, \"STATE\": 12, \"precision\": 0.0, \"recall\": 0.0}, {\"count\": 303, \"cutoff\": 5, \"STATE\": 12, \"precision\": 0.0, \"recall\": 0.0}, {\"count\": 303, \"cutoff\": 6, \"STATE\": 12, \"precision\": 0.0, \"recall\": 0.0}, {\"count\": 303, \"cutoff\": 7, \"STATE\": 12, \"precision\": 0.0, \"recall\": 0.0}, {\"count\": 303, \"cutoff\": 8, \"STATE\": 12, \"precision\": 0.0, \"recall\": 0.0}, {\"count\": 303, \"cutoff\": 9, \"STATE\": 12, \"precision\": 0.0, \"recall\": 0.0}, {\"count\": 303, \"cutoff\": 10, \"STATE\": 12, \"precision\": 0.0, \"recall\": 0.0}, {\"count\": 303, \"cutoff\": 11, \"STATE\": 12, \"precision\": 0.0, \"recall\": 0.0}, {\"count\": 303, \"cutoff\": 16, \"STATE\": 12, \"precision\": 0.0, \"recall\": 0.0}, {\"count\": 303, \"cutoff\": 21, \"STATE\": 12, \"precision\": 0.0, \"recall\": 0.0}, {\"count\": 303, \"cutoff\": 26, \"STATE\": 12, \"precision\": 0.0, \"recall\": 0.0}, {\"count\": 303, \"cutoff\": 31, \"STATE\": 12, \"precision\": 0.0, \"recall\": 0.0}, {\"count\": 303, \"cutoff\": 36, \"STATE\": 12, \"precision\": 0.0, \"recall\": 0.0}, {\"count\": 303, \"cutoff\": 41, \"STATE\": 12, \"precision\": 0.0, \"recall\": 0.0}, {\"count\": 303, \"cutoff\": 46, \"STATE\": 12, \"precision\": 0.0, \"recall\": 0.0}, {\"count\": 261, \"cutoff\": 1, \"STATE\": 13, \"precision\": 0.0, \"recall\": 0.0}, {\"count\": 261, \"cutoff\": 2, \"STATE\": 13, \"precision\": 0.0, \"recall\": 0.0}, {\"count\": 261, \"cutoff\": 3, \"STATE\": 13, \"precision\": 0.0, \"recall\": 0.0}, {\"count\": 261, \"cutoff\": 4, \"STATE\": 13, \"precision\": 0.0, \"recall\": 0.0}, {\"count\": 261, \"cutoff\": 5, \"STATE\": 13, \"precision\": 0.0, \"recall\": 0.0}, {\"count\": 261, \"cutoff\": 6, \"STATE\": 13, \"precision\": 0.0, \"recall\": 0.0}, {\"count\": 261, \"cutoff\": 7, \"STATE\": 13, \"precision\": 0.0, \"recall\": 0.0}, {\"count\": 261, \"cutoff\": 8, \"STATE\": 13, \"precision\": 0.0, \"recall\": 0.0}, {\"count\": 261, \"cutoff\": 9, \"STATE\": 13, \"precision\": 0.0, \"recall\": 0.0}, {\"count\": 261, \"cutoff\": 10, \"STATE\": 13, \"precision\": 0.0, \"recall\": 0.0}, {\"count\": 261, \"cutoff\": 11, \"STATE\": 13, \"precision\": 0.0, \"recall\": 0.0}, {\"count\": 261, \"cutoff\": 16, \"STATE\": 13, \"precision\": 0.0, \"recall\": 0.0}, {\"count\": 261, \"cutoff\": 21, \"STATE\": 13, \"precision\": 0.0, \"recall\": 0.0}, {\"count\": 261, \"cutoff\": 26, \"STATE\": 13, \"precision\": 0.0, \"recall\": 0.0}, {\"count\": 261, \"cutoff\": 31, \"STATE\": 13, \"precision\": 0.0, \"recall\": 0.0}, {\"count\": 261, \"cutoff\": 36, \"STATE\": 13, \"precision\": 0.0, \"recall\": 0.0}, {\"count\": 261, \"cutoff\": 41, \"STATE\": 13, \"precision\": 0.0, \"recall\": 0.0}, {\"count\": 261, \"cutoff\": 46, \"STATE\": 13, \"precision\": 0.0, \"recall\": 0.0}, {\"count\": 14, \"cutoff\": 1, \"STATE\": 15, \"precision\": 0.0, \"recall\": 0.0}, {\"count\": 14, \"cutoff\": 2, \"STATE\": 15, \"precision\": 0.0, \"recall\": 0.0}, {\"count\": 14, \"cutoff\": 3, \"STATE\": 15, \"precision\": 0.0, \"recall\": 0.0}, {\"count\": 14, \"cutoff\": 4, \"STATE\": 15, \"precision\": 0.0, \"recall\": 0.0}, {\"count\": 14, \"cutoff\": 5, \"STATE\": 15, \"precision\": 0.0, \"recall\": 0.0}, {\"count\": 14, \"cutoff\": 6, \"STATE\": 15, \"precision\": 0.0, \"recall\": 0.0}, {\"count\": 14, \"cutoff\": 7, \"STATE\": 15, \"precision\": 0.0, \"recall\": 0.0}, {\"count\": 14, \"cutoff\": 8, \"STATE\": 15, \"precision\": 0.0, \"recall\": 0.0}, {\"count\": 14, \"cutoff\": 9, \"STATE\": 15, \"precision\": 0.0, \"recall\": 0.0}, {\"count\": 14, \"cutoff\": 10, \"STATE\": 15, \"precision\": 0.0, \"recall\": 0.0}, {\"count\": 14, \"cutoff\": 11, \"STATE\": 15, \"precision\": 0.0, \"recall\": 0.0}, {\"count\": 14, \"cutoff\": 16, \"STATE\": 15, \"precision\": 0.0, \"recall\": 0.0}, {\"count\": 14, \"cutoff\": 21, \"STATE\": 15, \"precision\": 0.0, \"recall\": 0.0}, {\"count\": 14, \"cutoff\": 26, \"STATE\": 15, \"precision\": 0.0, \"recall\": 0.0}, {\"count\": 14, \"cutoff\": 31, \"STATE\": 15, \"precision\": 0.0, \"recall\": 0.0}, {\"count\": 14, \"cutoff\": 36, \"STATE\": 15, \"precision\": 0.0, \"recall\": 0.0}, {\"count\": 14, \"cutoff\": 41, \"STATE\": 15, \"precision\": 0.0, \"recall\": 0.0}, {\"count\": 14, \"cutoff\": 46, \"STATE\": 15, \"precision\": 0.0, \"recall\": 0.0}, {\"count\": 33, \"cutoff\": 1, \"STATE\": 16, \"precision\": 0.0, \"recall\": 0.0}, {\"count\": 33, \"cutoff\": 2, \"STATE\": 16, \"precision\": 0.0, \"recall\": 0.0}, {\"count\": 33, \"cutoff\": 3, \"STATE\": 16, \"precision\": 0.0, \"recall\": 0.0}, {\"count\": 33, \"cutoff\": 4, \"STATE\": 16, \"precision\": 0.25, \"recall\": 0.030303030303030304}, {\"count\": 33, \"cutoff\": 5, \"STATE\": 16, \"precision\": 0.25, \"recall\": 0.030303030303030304}, {\"count\": 33, \"cutoff\": 6, \"STATE\": 16, \"precision\": 0.25, \"recall\": 0.030303030303030304}, {\"count\": 33, \"cutoff\": 7, \"STATE\": 16, \"precision\": 0.25, \"recall\": 0.030303030303030304}, {\"count\": 33, \"cutoff\": 8, \"STATE\": 16, \"precision\": 0.25, \"recall\": 0.030303030303030304}, {\"count\": 33, \"cutoff\": 9, \"STATE\": 16, \"precision\": 0.25, \"recall\": 0.030303030303030304}, {\"count\": 33, \"cutoff\": 10, \"STATE\": 16, \"precision\": 0.25, \"recall\": 0.030303030303030304}, {\"count\": 33, \"cutoff\": 11, \"STATE\": 16, \"precision\": 0.25, \"recall\": 0.030303030303030304}, {\"count\": 33, \"cutoff\": 16, \"STATE\": 16, \"precision\": 0.25, \"recall\": 0.030303030303030304}, {\"count\": 33, \"cutoff\": 21, \"STATE\": 16, \"precision\": 0.25, \"recall\": 0.030303030303030304}, {\"count\": 33, \"cutoff\": 26, \"STATE\": 16, \"precision\": 0.25, \"recall\": 0.030303030303030304}, {\"count\": 33, \"cutoff\": 31, \"STATE\": 16, \"precision\": 0.25, \"recall\": 0.030303030303030304}, {\"count\": 33, \"cutoff\": 36, \"STATE\": 16, \"precision\": 0.25, \"recall\": 0.030303030303030304}, {\"count\": 33, \"cutoff\": 41, \"STATE\": 16, \"precision\": 0.25, \"recall\": 0.030303030303030304}, {\"count\": 33, \"cutoff\": 46, \"STATE\": 16, \"precision\": 0.25, \"recall\": 0.030303030303030304}, {\"count\": 167, \"cutoff\": 1, \"STATE\": 17, \"precision\": 0.0, \"recall\": 0.0}, {\"count\": 167, \"cutoff\": 2, \"STATE\": 17, \"precision\": 0.0, \"recall\": 0.0}, {\"count\": 167, \"cutoff\": 3, \"STATE\": 17, \"precision\": 0.0, \"recall\": 0.0}, {\"count\": 167, \"cutoff\": 4, \"STATE\": 17, \"precision\": 0.0, \"recall\": 0.0}, {\"count\": 167, \"cutoff\": 5, \"STATE\": 17, \"precision\": 0.0, \"recall\": 0.0}, {\"count\": 167, \"cutoff\": 6, \"STATE\": 17, \"precision\": 0.0, \"recall\": 0.0}, {\"count\": 167, \"cutoff\": 7, \"STATE\": 17, \"precision\": 0.0, \"recall\": 0.0}, {\"count\": 167, \"cutoff\": 8, \"STATE\": 17, \"precision\": 0.0, \"recall\": 0.0}, {\"count\": 167, \"cutoff\": 9, \"STATE\": 17, \"precision\": 0.0, \"recall\": 0.0}, {\"count\": 167, \"cutoff\": 10, \"STATE\": 17, \"precision\": 0.0, \"recall\": 0.0}, {\"count\": 167, \"cutoff\": 11, \"STATE\": 17, \"precision\": 0.0, \"recall\": 0.0}, {\"count\": 167, \"cutoff\": 16, \"STATE\": 17, \"precision\": 0.0, \"recall\": 0.0}, {\"count\": 167, \"cutoff\": 21, \"STATE\": 17, \"precision\": 0.0, \"recall\": 0.0}, {\"count\": 167, \"cutoff\": 26, \"STATE\": 17, \"precision\": 0.0, \"recall\": 0.0}, {\"count\": 167, \"cutoff\": 31, \"STATE\": 17, \"precision\": 0.0, \"recall\": 0.0}, {\"count\": 167, \"cutoff\": 36, \"STATE\": 17, \"precision\": 0.0, \"recall\": 0.0}, {\"count\": 167, \"cutoff\": 41, \"STATE\": 17, \"precision\": 0.0, \"recall\": 0.0}, {\"count\": 167, \"cutoff\": 46, \"STATE\": 17, \"precision\": 0.0, \"recall\": 0.0}, {\"count\": 166, \"cutoff\": 1, \"STATE\": 18, \"precision\": 0.0, \"recall\": 0.0}, {\"count\": 166, \"cutoff\": 2, \"STATE\": 18, \"precision\": 0.0, \"recall\": 0.0}, {\"count\": 166, \"cutoff\": 3, \"STATE\": 18, \"precision\": 0.0, \"recall\": 0.0}, {\"count\": 166, \"cutoff\": 4, \"STATE\": 18, \"precision\": 0.0, \"recall\": 0.0}, {\"count\": 166, \"cutoff\": 5, \"STATE\": 18, \"precision\": 0.0, \"recall\": 0.0}, {\"count\": 166, \"cutoff\": 6, \"STATE\": 18, \"precision\": 0.0, \"recall\": 0.0}, {\"count\": 166, \"cutoff\": 7, \"STATE\": 18, \"precision\": 0.0, \"recall\": 0.0}, {\"count\": 166, \"cutoff\": 8, \"STATE\": 18, \"precision\": 0.0, \"recall\": 0.0}, {\"count\": 166, \"cutoff\": 9, \"STATE\": 18, \"precision\": 0.0, \"recall\": 0.0}, {\"count\": 166, \"cutoff\": 10, \"STATE\": 18, \"precision\": 0.0, \"recall\": 0.0}, {\"count\": 166, \"cutoff\": 11, \"STATE\": 18, \"precision\": 0.0, \"recall\": 0.0}, {\"count\": 166, \"cutoff\": 16, \"STATE\": 18, \"precision\": 0.0, \"recall\": 0.0}, {\"count\": 166, \"cutoff\": 21, \"STATE\": 18, \"precision\": 0.0, \"recall\": 0.0}, {\"count\": 166, \"cutoff\": 26, \"STATE\": 18, \"precision\": 0.0, \"recall\": 0.0}, {\"count\": 166, \"cutoff\": 31, \"STATE\": 18, \"precision\": 0.0, \"recall\": 0.0}, {\"count\": 166, \"cutoff\": 36, \"STATE\": 18, \"precision\": 0.0, \"recall\": 0.0}, {\"count\": 166, \"cutoff\": 41, \"STATE\": 18, \"precision\": 0.0, \"recall\": 0.0}, {\"count\": 166, \"cutoff\": 46, \"STATE\": 18, \"precision\": 0.0, \"recall\": 0.0}, {\"count\": 51, \"cutoff\": 1, \"STATE\": 19, \"precision\": 0.0, \"recall\": 0.0}, {\"count\": 51, \"cutoff\": 2, \"STATE\": 19, \"precision\": 0.0, \"recall\": 0.0}, {\"count\": 51, \"cutoff\": 3, \"STATE\": 19, \"precision\": 0.0, \"recall\": 0.0}, {\"count\": 51, \"cutoff\": 4, \"STATE\": 19, \"precision\": 0.0, \"recall\": 0.0}, {\"count\": 51, \"cutoff\": 5, \"STATE\": 19, \"precision\": 0.0, \"recall\": 0.0}, {\"count\": 51, \"cutoff\": 6, \"STATE\": 19, \"precision\": 0.0, \"recall\": 0.0}, {\"count\": 51, \"cutoff\": 7, \"STATE\": 19, \"precision\": 0.0, \"recall\": 0.0}, {\"count\": 51, \"cutoff\": 8, \"STATE\": 19, \"precision\": 0.0, \"recall\": 0.0}, {\"count\": 51, \"cutoff\": 9, \"STATE\": 19, \"precision\": 0.0, \"recall\": 0.0}, {\"count\": 51, \"cutoff\": 10, \"STATE\": 19, \"precision\": 0.0, \"recall\": 0.0}, {\"count\": 51, \"cutoff\": 11, \"STATE\": 19, \"precision\": 0.0, \"recall\": 0.0}, {\"count\": 51, \"cutoff\": 16, \"STATE\": 19, \"precision\": 0.0, \"recall\": 0.0}, {\"count\": 51, \"cutoff\": 21, \"STATE\": 19, \"precision\": 0.0, \"recall\": 0.0}, {\"count\": 51, \"cutoff\": 26, \"STATE\": 19, \"precision\": 0.0, \"recall\": 0.0}, {\"count\": 51, \"cutoff\": 31, \"STATE\": 19, \"precision\": 0.0, \"recall\": 0.0}, {\"count\": 51, \"cutoff\": 36, \"STATE\": 19, \"precision\": 0.0, \"recall\": 0.0}, {\"count\": 51, \"cutoff\": 41, \"STATE\": 19, \"precision\": 0.0, \"recall\": 0.0}, {\"count\": 51, \"cutoff\": 46, \"STATE\": 19, \"precision\": 0.0, \"recall\": 0.0}, {\"count\": 63, \"cutoff\": 1, \"STATE\": 20, \"precision\": 0.0, \"recall\": 0.0}, {\"count\": 63, \"cutoff\": 2, \"STATE\": 20, \"precision\": 0.0, \"recall\": 0.0}, {\"count\": 63, \"cutoff\": 3, \"STATE\": 20, \"precision\": 0.0, \"recall\": 0.0}, {\"count\": 63, \"cutoff\": 4, \"STATE\": 20, \"precision\": 0.0, \"recall\": 0.0}, {\"count\": 63, \"cutoff\": 5, \"STATE\": 20, \"precision\": 0.0, \"recall\": 0.0}, {\"count\": 63, \"cutoff\": 6, \"STATE\": 20, \"precision\": 0.0, \"recall\": 0.0}, {\"count\": 63, \"cutoff\": 7, \"STATE\": 20, \"precision\": 0.0, \"recall\": 0.0}, {\"count\": 63, \"cutoff\": 8, \"STATE\": 20, \"precision\": 0.0, \"recall\": 0.0}, {\"count\": 63, \"cutoff\": 9, \"STATE\": 20, \"precision\": 0.0, \"recall\": 0.0}, {\"count\": 63, \"cutoff\": 10, \"STATE\": 20, \"precision\": 0.0, \"recall\": 0.0}, {\"count\": 63, \"cutoff\": 11, \"STATE\": 20, \"precision\": 0.0, \"recall\": 0.0}, {\"count\": 63, \"cutoff\": 16, \"STATE\": 20, \"precision\": 0.0, \"recall\": 0.0}, {\"count\": 63, \"cutoff\": 21, \"STATE\": 20, \"precision\": 0.0, \"recall\": 0.0}, {\"count\": 63, \"cutoff\": 26, \"STATE\": 20, \"precision\": 0.0, \"recall\": 0.0}, {\"count\": 63, \"cutoff\": 31, \"STATE\": 20, \"precision\": 0.0, \"recall\": 0.0}, {\"count\": 63, \"cutoff\": 36, \"STATE\": 20, \"precision\": 0.0, \"recall\": 0.0}, {\"count\": 63, \"cutoff\": 41, \"STATE\": 20, \"precision\": 0.0, \"recall\": 0.0}, {\"count\": 63, \"cutoff\": 46, \"STATE\": 20, \"precision\": 0.0, \"recall\": 0.0}, {\"count\": 132, \"cutoff\": 1, \"STATE\": 21, \"precision\": 0.0, \"recall\": 0.0}, {\"count\": 132, \"cutoff\": 2, \"STATE\": 21, \"precision\": 0.0, \"recall\": 0.0}, {\"count\": 132, \"cutoff\": 3, \"STATE\": 21, \"precision\": 0.0, \"recall\": 0.0}, {\"count\": 132, \"cutoff\": 4, \"STATE\": 21, \"precision\": 0.0, \"recall\": 0.0}, {\"count\": 132, \"cutoff\": 5, \"STATE\": 21, \"precision\": 0.0, \"recall\": 0.0}, {\"count\": 132, \"cutoff\": 6, \"STATE\": 21, \"precision\": 0.0, \"recall\": 0.0}, {\"count\": 132, \"cutoff\": 7, \"STATE\": 21, \"precision\": 0.0, \"recall\": 0.0}, {\"count\": 132, \"cutoff\": 8, \"STATE\": 21, \"precision\": 0.0, \"recall\": 0.0}, {\"count\": 132, \"cutoff\": 9, \"STATE\": 21, \"precision\": 0.0, \"recall\": 0.0}, {\"count\": 132, \"cutoff\": 10, \"STATE\": 21, \"precision\": 0.0, \"recall\": 0.0}, {\"count\": 132, \"cutoff\": 11, \"STATE\": 21, \"precision\": 0.0, \"recall\": 0.0}, {\"count\": 132, \"cutoff\": 16, \"STATE\": 21, \"precision\": 0.0, \"recall\": 0.0}, {\"count\": 132, \"cutoff\": 21, \"STATE\": 21, \"precision\": 0.0, \"recall\": 0.0}, {\"count\": 132, \"cutoff\": 26, \"STATE\": 21, \"precision\": 0.0, \"recall\": 0.0}, {\"count\": 132, \"cutoff\": 31, \"STATE\": 21, \"precision\": 0.0, \"recall\": 0.0}, {\"count\": 132, \"cutoff\": 36, \"STATE\": 21, \"precision\": 0.0, \"recall\": 0.0}, {\"count\": 132, \"cutoff\": 41, \"STATE\": 21, \"precision\": 0.0, \"recall\": 0.0}, {\"count\": 132, \"cutoff\": 46, \"STATE\": 21, \"precision\": 0.0, \"recall\": 0.0}, {\"count\": 131, \"cutoff\": 1, \"STATE\": 22, \"precision\": 0.0, \"recall\": 0.0}, {\"count\": 131, \"cutoff\": 2, \"STATE\": 22, \"precision\": 0.0, \"recall\": 0.0}, {\"count\": 131, \"cutoff\": 3, \"STATE\": 22, \"precision\": 0.0, \"recall\": 0.0}, {\"count\": 131, \"cutoff\": 4, \"STATE\": 22, \"precision\": 0.0, \"recall\": 0.0}, {\"count\": 131, \"cutoff\": 5, \"STATE\": 22, \"precision\": 0.0, \"recall\": 0.0}, {\"count\": 131, \"cutoff\": 6, \"STATE\": 22, \"precision\": 0.0, \"recall\": 0.0}, {\"count\": 131, \"cutoff\": 7, \"STATE\": 22, \"precision\": 0.0, \"recall\": 0.0}, {\"count\": 131, \"cutoff\": 8, \"STATE\": 22, \"precision\": 0.0, \"recall\": 0.0}, {\"count\": 131, \"cutoff\": 9, \"STATE\": 22, \"precision\": 0.0, \"recall\": 0.0}, {\"count\": 131, \"cutoff\": 10, \"STATE\": 22, \"precision\": 0.0, \"recall\": 0.0}, {\"count\": 131, \"cutoff\": 11, \"STATE\": 22, \"precision\": 0.0, \"recall\": 0.0}, {\"count\": 131, \"cutoff\": 16, \"STATE\": 22, \"precision\": 0.0, \"recall\": 0.0}, {\"count\": 131, \"cutoff\": 21, \"STATE\": 22, \"precision\": 0.0, \"recall\": 0.0}, {\"count\": 131, \"cutoff\": 26, \"STATE\": 22, \"precision\": 0.0, \"recall\": 0.0}, {\"count\": 131, \"cutoff\": 31, \"STATE\": 22, \"precision\": 0.0, \"recall\": 0.0}, {\"count\": 131, \"cutoff\": 36, \"STATE\": 22, \"precision\": 0.0, \"recall\": 0.0}, {\"count\": 131, \"cutoff\": 41, \"STATE\": 22, \"precision\": 0.0, \"recall\": 0.0}, {\"count\": 131, \"cutoff\": 46, \"STATE\": 22, \"precision\": 0.0, \"recall\": 0.0}, {\"count\": 25, \"cutoff\": 1, \"STATE\": 23, \"precision\": 0.0, \"recall\": 0.0}, {\"count\": 25, \"cutoff\": 2, \"STATE\": 23, \"precision\": 0.0, \"recall\": 0.0}, {\"count\": 25, \"cutoff\": 3, \"STATE\": 23, \"precision\": 0.0, \"recall\": 0.0}, {\"count\": 25, \"cutoff\": 4, \"STATE\": 23, \"precision\": 0.0, \"recall\": 0.0}, {\"count\": 25, \"cutoff\": 5, \"STATE\": 23, \"precision\": 0.0, \"recall\": 0.0}, {\"count\": 25, \"cutoff\": 6, \"STATE\": 23, \"precision\": 0.0, \"recall\": 0.0}, {\"count\": 25, \"cutoff\": 7, \"STATE\": 23, \"precision\": 0.0, \"recall\": 0.0}, {\"count\": 25, \"cutoff\": 8, \"STATE\": 23, \"precision\": 0.0, \"recall\": 0.0}, {\"count\": 25, \"cutoff\": 9, \"STATE\": 23, \"precision\": 0.0, \"recall\": 0.0}, {\"count\": 25, \"cutoff\": 10, \"STATE\": 23, \"precision\": 0.0, \"recall\": 0.0}, {\"count\": 25, \"cutoff\": 11, \"STATE\": 23, \"precision\": 0.0, \"recall\": 0.0}, {\"count\": 25, \"cutoff\": 16, \"STATE\": 23, \"precision\": 0.0, \"recall\": 0.0}, {\"count\": 25, \"cutoff\": 21, \"STATE\": 23, \"precision\": 0.0, \"recall\": 0.0}, {\"count\": 25, \"cutoff\": 26, \"STATE\": 23, \"precision\": 0.0, \"recall\": 0.0}, {\"count\": 25, \"cutoff\": 31, \"STATE\": 23, \"precision\": 0.0, \"recall\": 0.0}, {\"count\": 25, \"cutoff\": 36, \"STATE\": 23, \"precision\": 0.0, \"recall\": 0.0}, {\"count\": 25, \"cutoff\": 41, \"STATE\": 23, \"precision\": 0.0, \"recall\": 0.0}, {\"count\": 25, \"cutoff\": 46, \"STATE\": 23, \"precision\": 0.0, \"recall\": 0.0}, {\"count\": 86, \"cutoff\": 1, \"STATE\": 24, \"precision\": 0.0, \"recall\": 0.0}, {\"count\": 86, \"cutoff\": 2, \"STATE\": 24, \"precision\": 0.0, \"recall\": 0.0}, {\"count\": 86, \"cutoff\": 3, \"STATE\": 24, \"precision\": 0.0, \"recall\": 0.0}, {\"count\": 86, \"cutoff\": 4, \"STATE\": 24, \"precision\": 0.0, \"recall\": 0.0}, {\"count\": 86, \"cutoff\": 5, \"STATE\": 24, \"precision\": 0.0, \"recall\": 0.0}, {\"count\": 86, \"cutoff\": 6, \"STATE\": 24, \"precision\": 0.0, \"recall\": 0.0}, {\"count\": 86, \"cutoff\": 7, \"STATE\": 24, \"precision\": 0.0, \"recall\": 0.0}, {\"count\": 86, \"cutoff\": 8, \"STATE\": 24, \"precision\": 0.0, \"recall\": 0.0}, {\"count\": 86, \"cutoff\": 9, \"STATE\": 24, \"precision\": 0.0, \"recall\": 0.0}, {\"count\": 86, \"cutoff\": 10, \"STATE\": 24, \"precision\": 0.0, \"recall\": 0.0}, {\"count\": 86, \"cutoff\": 11, \"STATE\": 24, \"precision\": 0.0, \"recall\": 0.0}, {\"count\": 86, \"cutoff\": 16, \"STATE\": 24, \"precision\": 0.0, \"recall\": 0.0}, {\"count\": 86, \"cutoff\": 21, \"STATE\": 24, \"precision\": 0.0, \"recall\": 0.0}, {\"count\": 86, \"cutoff\": 26, \"STATE\": 24, \"precision\": 0.0, \"recall\": 0.0}, {\"count\": 86, \"cutoff\": 31, \"STATE\": 24, \"precision\": 0.0, \"recall\": 0.0}, {\"count\": 86, \"cutoff\": 36, \"STATE\": 24, \"precision\": 0.0, \"recall\": 0.0}, {\"count\": 86, \"cutoff\": 41, \"STATE\": 24, \"precision\": 0.0, \"recall\": 0.0}, {\"count\": 86, \"cutoff\": 46, \"STATE\": 24, \"precision\": 0.0, \"recall\": 0.0}, {\"count\": 24, \"cutoff\": 1, \"STATE\": 25, \"precision\": 0.0, \"recall\": 0.0}, {\"count\": 24, \"cutoff\": 2, \"STATE\": 25, \"precision\": 0.0, \"recall\": 0.0}, {\"count\": 24, \"cutoff\": 3, \"STATE\": 25, \"precision\": 0.0, \"recall\": 0.0}, {\"count\": 24, \"cutoff\": 4, \"STATE\": 25, \"precision\": 0.0, \"recall\": 0.0}, {\"count\": 24, \"cutoff\": 5, \"STATE\": 25, \"precision\": 0.0, \"recall\": 0.0}, {\"count\": 24, \"cutoff\": 6, \"STATE\": 25, \"precision\": 0.0, \"recall\": 0.0}, {\"count\": 24, \"cutoff\": 7, \"STATE\": 25, \"precision\": 0.0, \"recall\": 0.0}, {\"count\": 24, \"cutoff\": 8, \"STATE\": 25, \"precision\": 0.0, \"recall\": 0.0}, {\"count\": 24, \"cutoff\": 9, \"STATE\": 25, \"precision\": 0.0, \"recall\": 0.0}, {\"count\": 24, \"cutoff\": 10, \"STATE\": 25, \"precision\": 0.0, \"recall\": 0.0}, {\"count\": 24, \"cutoff\": 11, \"STATE\": 25, \"precision\": 0.0, \"recall\": 0.0}, {\"count\": 24, \"cutoff\": 16, \"STATE\": 25, \"precision\": 0.0, \"recall\": 0.0}, {\"count\": 24, \"cutoff\": 21, \"STATE\": 25, \"precision\": 0.0, \"recall\": 0.0}, {\"count\": 24, \"cutoff\": 26, \"STATE\": 25, \"precision\": 0.0, \"recall\": 0.0}, {\"count\": 24, \"cutoff\": 31, \"STATE\": 25, \"precision\": 0.0, \"recall\": 0.0}, {\"count\": 24, \"cutoff\": 36, \"STATE\": 25, \"precision\": 0.0, \"recall\": 0.0}, {\"count\": 24, \"cutoff\": 41, \"STATE\": 25, \"precision\": 0.0, \"recall\": 0.0}, {\"count\": 24, \"cutoff\": 46, \"STATE\": 25, \"precision\": 0.0, \"recall\": 0.0}, {\"count\": 179, \"cutoff\": 1, \"STATE\": 26, \"precision\": 0.0, \"recall\": 0.0}, {\"count\": 179, \"cutoff\": 2, \"STATE\": 26, \"precision\": 0.0, \"recall\": 0.0}, {\"count\": 179, \"cutoff\": 3, \"STATE\": 26, \"precision\": 0.0, \"recall\": 0.0}, {\"count\": 179, \"cutoff\": 4, \"STATE\": 26, \"precision\": 0.0, \"recall\": 0.0}, {\"count\": 179, \"cutoff\": 5, \"STATE\": 26, \"precision\": 0.0, \"recall\": 0.0}, {\"count\": 179, \"cutoff\": 6, \"STATE\": 26, \"precision\": 0.0, \"recall\": 0.0}, {\"count\": 179, \"cutoff\": 7, \"STATE\": 26, \"precision\": 0.0, \"recall\": 0.0}, {\"count\": 179, \"cutoff\": 8, \"STATE\": 26, \"precision\": 0.0, \"recall\": 0.0}, {\"count\": 179, \"cutoff\": 9, \"STATE\": 26, \"precision\": 0.0, \"recall\": 0.0}, {\"count\": 179, \"cutoff\": 10, \"STATE\": 26, \"precision\": 0.0, \"recall\": 0.0}, {\"count\": 179, \"cutoff\": 11, \"STATE\": 26, \"precision\": 0.0, \"recall\": 0.0}, {\"count\": 179, \"cutoff\": 16, \"STATE\": 26, \"precision\": 0.0, \"recall\": 0.0}, {\"count\": 179, \"cutoff\": 21, \"STATE\": 26, \"precision\": 0.0, \"recall\": 0.0}, {\"count\": 179, \"cutoff\": 26, \"STATE\": 26, \"precision\": 0.0, \"recall\": 0.0}, {\"count\": 179, \"cutoff\": 31, \"STATE\": 26, \"precision\": 0.0, \"recall\": 0.0}, {\"count\": 179, \"cutoff\": 36, \"STATE\": 26, \"precision\": 0.0, \"recall\": 0.0}, {\"count\": 179, \"cutoff\": 41, \"STATE\": 26, \"precision\": 0.0, \"recall\": 0.0}, {\"count\": 179, \"cutoff\": 46, \"STATE\": 26, \"precision\": 0.0, \"recall\": 0.0}, {\"count\": 72, \"cutoff\": 1, \"STATE\": 27, \"precision\": 0.0, \"recall\": 0.0}, {\"count\": 72, \"cutoff\": 2, \"STATE\": 27, \"precision\": 0.0, \"recall\": 0.0}, {\"count\": 72, \"cutoff\": 3, \"STATE\": 27, \"precision\": 0.0, \"recall\": 0.0}, {\"count\": 72, \"cutoff\": 4, \"STATE\": 27, \"precision\": 0.0, \"recall\": 0.0}, {\"count\": 72, \"cutoff\": 5, \"STATE\": 27, \"precision\": 0.0, \"recall\": 0.0}, {\"count\": 72, \"cutoff\": 6, \"STATE\": 27, \"precision\": 0.0, \"recall\": 0.0}, {\"count\": 72, \"cutoff\": 7, \"STATE\": 27, \"precision\": 0.0, \"recall\": 0.0}, {\"count\": 72, \"cutoff\": 8, \"STATE\": 27, \"precision\": 0.0, \"recall\": 0.0}, {\"count\": 72, \"cutoff\": 9, \"STATE\": 27, \"precision\": 0.0, \"recall\": 0.0}, {\"count\": 72, \"cutoff\": 10, \"STATE\": 27, \"precision\": 0.0, \"recall\": 0.0}, {\"count\": 72, \"cutoff\": 11, \"STATE\": 27, \"precision\": 0.0, \"recall\": 0.0}, {\"count\": 72, \"cutoff\": 16, \"STATE\": 27, \"precision\": 0.0, \"recall\": 0.0}, {\"count\": 72, \"cutoff\": 21, \"STATE\": 27, \"precision\": 0.0, \"recall\": 0.0}, {\"count\": 72, \"cutoff\": 26, \"STATE\": 27, \"precision\": 0.0, \"recall\": 0.0}, {\"count\": 72, \"cutoff\": 31, \"STATE\": 27, \"precision\": 0.0, \"recall\": 0.0}, {\"count\": 72, \"cutoff\": 36, \"STATE\": 27, \"precision\": 0.0, \"recall\": 0.0}, {\"count\": 72, \"cutoff\": 41, \"STATE\": 27, \"precision\": 0.0, \"recall\": 0.0}, {\"count\": 72, \"cutoff\": 46, \"STATE\": 27, \"precision\": 0.0, \"recall\": 0.0}, {\"count\": 120, \"cutoff\": 1, \"STATE\": 28, \"precision\": 0.0, \"recall\": 0.0}, {\"count\": 120, \"cutoff\": 2, \"STATE\": 28, \"precision\": 0.0, \"recall\": 0.0}, {\"count\": 120, \"cutoff\": 3, \"STATE\": 28, \"precision\": 0.0, \"recall\": 0.0}, {\"count\": 120, \"cutoff\": 4, \"STATE\": 28, \"precision\": 0.0, \"recall\": 0.0}, {\"count\": 120, \"cutoff\": 5, \"STATE\": 28, \"precision\": 0.0, \"recall\": 0.0}, {\"count\": 120, \"cutoff\": 6, \"STATE\": 28, \"precision\": 0.0, \"recall\": 0.0}, {\"count\": 120, \"cutoff\": 7, \"STATE\": 28, \"precision\": 0.0, \"recall\": 0.0}, {\"count\": 120, \"cutoff\": 8, \"STATE\": 28, \"precision\": 0.0, \"recall\": 0.0}, {\"count\": 120, \"cutoff\": 9, \"STATE\": 28, \"precision\": 0.0, \"recall\": 0.0}, {\"count\": 120, \"cutoff\": 10, \"STATE\": 28, \"precision\": 0.0, \"recall\": 0.0}, {\"count\": 120, \"cutoff\": 11, \"STATE\": 28, \"precision\": 0.0, \"recall\": 0.0}, {\"count\": 120, \"cutoff\": 16, \"STATE\": 28, \"precision\": 0.0, \"recall\": 0.0}, {\"count\": 120, \"cutoff\": 21, \"STATE\": 28, \"precision\": 0.0, \"recall\": 0.0}, {\"count\": 120, \"cutoff\": 26, \"STATE\": 28, \"precision\": 0.0, \"recall\": 0.0}, {\"count\": 120, \"cutoff\": 31, \"STATE\": 28, \"precision\": 0.0, \"recall\": 0.0}, {\"count\": 120, \"cutoff\": 36, \"STATE\": 28, \"precision\": 0.0, \"recall\": 0.0}, {\"count\": 120, \"cutoff\": 41, \"STATE\": 28, \"precision\": 0.0, \"recall\": 0.0}, {\"count\": 120, \"cutoff\": 46, \"STATE\": 28, \"precision\": 0.0, \"recall\": 0.0}, {\"count\": 158, \"cutoff\": 1, \"STATE\": 29, \"precision\": 0.0, \"recall\": 0.0}, {\"count\": 158, \"cutoff\": 2, \"STATE\": 29, \"precision\": 0.0, \"recall\": 0.0}, {\"count\": 158, \"cutoff\": 3, \"STATE\": 29, \"precision\": 0.0, \"recall\": 0.0}, {\"count\": 158, \"cutoff\": 4, \"STATE\": 29, \"precision\": 0.0, \"recall\": 0.0}, {\"count\": 158, \"cutoff\": 5, \"STATE\": 29, \"precision\": 0.0, \"recall\": 0.0}, {\"count\": 158, \"cutoff\": 6, \"STATE\": 29, \"precision\": 0.0, \"recall\": 0.0}, {\"count\": 158, \"cutoff\": 7, \"STATE\": 29, \"precision\": 0.0, \"recall\": 0.0}, {\"count\": 158, \"cutoff\": 8, \"STATE\": 29, \"precision\": 0.0, \"recall\": 0.0}, {\"count\": 158, \"cutoff\": 9, \"STATE\": 29, \"precision\": 0.0, \"recall\": 0.0}, {\"count\": 158, \"cutoff\": 10, \"STATE\": 29, \"precision\": 0.0, \"recall\": 0.0}, {\"count\": 158, \"cutoff\": 11, \"STATE\": 29, \"precision\": 0.0, \"recall\": 0.0}, {\"count\": 158, \"cutoff\": 16, \"STATE\": 29, \"precision\": 0.0, \"recall\": 0.0}, {\"count\": 158, \"cutoff\": 21, \"STATE\": 29, \"precision\": 0.0, \"recall\": 0.0}, {\"count\": 158, \"cutoff\": 26, \"STATE\": 29, \"precision\": 0.0, \"recall\": 0.0}, {\"count\": 158, \"cutoff\": 31, \"STATE\": 29, \"precision\": 0.0, \"recall\": 0.0}, {\"count\": 158, \"cutoff\": 36, \"STATE\": 29, \"precision\": 0.0, \"recall\": 0.0}, {\"count\": 158, \"cutoff\": 41, \"STATE\": 29, \"precision\": 0.0, \"recall\": 0.0}, {\"count\": 158, \"cutoff\": 46, \"STATE\": 29, \"precision\": 0.0, \"recall\": 0.0}, {\"count\": 32, \"cutoff\": 1, \"STATE\": 30, \"precision\": 0.0, \"recall\": 0.0}, {\"count\": 32, \"cutoff\": 2, \"STATE\": 30, \"precision\": 0.0, \"recall\": 0.0}, {\"count\": 32, \"cutoff\": 3, \"STATE\": 30, \"precision\": 0.3333333333333333, \"recall\": 0.03125}, {\"count\": 32, \"cutoff\": 4, \"STATE\": 30, \"precision\": 0.3333333333333333, \"recall\": 0.03125}, {\"count\": 32, \"cutoff\": 5, \"STATE\": 30, \"precision\": 0.3333333333333333, \"recall\": 0.03125}, {\"count\": 32, \"cutoff\": 6, \"STATE\": 30, \"precision\": 0.3333333333333333, \"recall\": 0.03125}, {\"count\": 32, \"cutoff\": 7, \"STATE\": 30, \"precision\": 0.3333333333333333, \"recall\": 0.03125}, {\"count\": 32, \"cutoff\": 8, \"STATE\": 30, \"precision\": 0.3333333333333333, \"recall\": 0.03125}, {\"count\": 32, \"cutoff\": 9, \"STATE\": 30, \"precision\": 0.3333333333333333, \"recall\": 0.03125}, {\"count\": 32, \"cutoff\": 10, \"STATE\": 30, \"precision\": 0.3333333333333333, \"recall\": 0.03125}, {\"count\": 32, \"cutoff\": 11, \"STATE\": 30, \"precision\": 0.3333333333333333, \"recall\": 0.03125}, {\"count\": 32, \"cutoff\": 16, \"STATE\": 30, \"precision\": 0.3333333333333333, \"recall\": 0.03125}, {\"count\": 32, \"cutoff\": 21, \"STATE\": 30, \"precision\": 0.3333333333333333, \"recall\": 0.03125}, {\"count\": 32, \"cutoff\": 26, \"STATE\": 30, \"precision\": 0.3333333333333333, \"recall\": 0.03125}, {\"count\": 32, \"cutoff\": 31, \"STATE\": 30, \"precision\": 0.3333333333333333, \"recall\": 0.03125}, {\"count\": 32, \"cutoff\": 36, \"STATE\": 30, \"precision\": 0.3333333333333333, \"recall\": 0.03125}, {\"count\": 32, \"cutoff\": 41, \"STATE\": 30, \"precision\": 0.3333333333333333, \"recall\": 0.03125}, {\"count\": 32, \"cutoff\": 46, \"STATE\": 30, \"precision\": 0.3333333333333333, \"recall\": 0.03125}, {\"count\": 47, \"cutoff\": 1, \"STATE\": 31, \"precision\": 1.0, \"recall\": 0.02127659574468085}, {\"count\": 47, \"cutoff\": 2, \"STATE\": 31, \"precision\": 0.5, \"recall\": 0.02127659574468085}, {\"count\": 47, \"cutoff\": 3, \"STATE\": 31, \"precision\": 0.3333333333333333, \"recall\": 0.02127659574468085}, {\"count\": 47, \"cutoff\": 4, \"STATE\": 31, \"precision\": 0.3333333333333333, \"recall\": 0.02127659574468085}, {\"count\": 47, \"cutoff\": 5, \"STATE\": 31, \"precision\": 0.3333333333333333, \"recall\": 0.02127659574468085}, {\"count\": 47, \"cutoff\": 6, \"STATE\": 31, \"precision\": 0.3333333333333333, \"recall\": 0.02127659574468085}, {\"count\": 47, \"cutoff\": 7, \"STATE\": 31, \"precision\": 0.3333333333333333, \"recall\": 0.02127659574468085}, {\"count\": 47, \"cutoff\": 8, \"STATE\": 31, \"precision\": 0.3333333333333333, \"recall\": 0.02127659574468085}, {\"count\": 47, \"cutoff\": 9, \"STATE\": 31, \"precision\": 0.3333333333333333, \"recall\": 0.02127659574468085}, {\"count\": 47, \"cutoff\": 10, \"STATE\": 31, \"precision\": 0.3333333333333333, \"recall\": 0.02127659574468085}, {\"count\": 47, \"cutoff\": 11, \"STATE\": 31, \"precision\": 0.3333333333333333, \"recall\": 0.02127659574468085}, {\"count\": 47, \"cutoff\": 16, \"STATE\": 31, \"precision\": 0.3333333333333333, \"recall\": 0.02127659574468085}, {\"count\": 47, \"cutoff\": 21, \"STATE\": 31, \"precision\": 0.3333333333333333, \"recall\": 0.02127659574468085}, {\"count\": 47, \"cutoff\": 26, \"STATE\": 31, \"precision\": 0.3333333333333333, \"recall\": 0.02127659574468085}, {\"count\": 47, \"cutoff\": 31, \"STATE\": 31, \"precision\": 0.3333333333333333, \"recall\": 0.02127659574468085}, {\"count\": 47, \"cutoff\": 36, \"STATE\": 31, \"precision\": 0.3333333333333333, \"recall\": 0.02127659574468085}, {\"count\": 47, \"cutoff\": 41, \"STATE\": 31, \"precision\": 0.3333333333333333, \"recall\": 0.02127659574468085}, {\"count\": 47, \"cutoff\": 46, \"STATE\": 31, \"precision\": 0.3333333333333333, \"recall\": 0.02127659574468085}, {\"count\": 55, \"cutoff\": 1, \"STATE\": 32, \"precision\": 0.0, \"recall\": 0.0}, {\"count\": 55, \"cutoff\": 2, \"STATE\": 32, \"precision\": 0.0, \"recall\": 0.0}, {\"count\": 55, \"cutoff\": 3, \"STATE\": 32, \"precision\": 0.0, \"recall\": 0.0}, {\"count\": 55, \"cutoff\": 4, \"STATE\": 32, \"precision\": 0.0, \"recall\": 0.0}, {\"count\": 55, \"cutoff\": 5, \"STATE\": 32, \"precision\": 0.0, \"recall\": 0.0}, {\"count\": 55, \"cutoff\": 6, \"STATE\": 32, \"precision\": 0.0, \"recall\": 0.0}, {\"count\": 55, \"cutoff\": 7, \"STATE\": 32, \"precision\": 0.0, \"recall\": 0.0}, {\"count\": 55, \"cutoff\": 8, \"STATE\": 32, \"precision\": 0.0, \"recall\": 0.0}, {\"count\": 55, \"cutoff\": 9, \"STATE\": 32, \"precision\": 0.0, \"recall\": 0.0}, {\"count\": 55, \"cutoff\": 10, \"STATE\": 32, \"precision\": 0.0, \"recall\": 0.0}, {\"count\": 55, \"cutoff\": 11, \"STATE\": 32, \"precision\": 0.0, \"recall\": 0.0}, {\"count\": 55, \"cutoff\": 16, \"STATE\": 32, \"precision\": 0.0, \"recall\": 0.0}, {\"count\": 55, \"cutoff\": 21, \"STATE\": 32, \"precision\": 0.0, \"recall\": 0.0}, {\"count\": 55, \"cutoff\": 26, \"STATE\": 32, \"precision\": 0.0, \"recall\": 0.0}, {\"count\": 55, \"cutoff\": 31, \"STATE\": 32, \"precision\": 0.0, \"recall\": 0.0}, {\"count\": 55, \"cutoff\": 36, \"STATE\": 32, \"precision\": 0.0, \"recall\": 0.0}, {\"count\": 55, \"cutoff\": 41, \"STATE\": 32, \"precision\": 0.0, \"recall\": 0.0}, {\"count\": 55, \"cutoff\": 46, \"STATE\": 32, \"precision\": 0.0, \"recall\": 0.0}, {\"count\": 21, \"cutoff\": 1, \"STATE\": 33, \"precision\": 0.0, \"recall\": 0.0}, {\"count\": 21, \"cutoff\": 2, \"STATE\": 33, \"precision\": 0.0, \"recall\": 0.0}, {\"count\": 21, \"cutoff\": 3, \"STATE\": 33, \"precision\": 0.0, \"recall\": 0.0}, {\"count\": 21, \"cutoff\": 4, \"STATE\": 33, \"precision\": 0.0, \"recall\": 0.0}, {\"count\": 21, \"cutoff\": 5, \"STATE\": 33, \"precision\": 0.0, \"recall\": 0.0}, {\"count\": 21, \"cutoff\": 6, \"STATE\": 33, \"precision\": 0.0, \"recall\": 0.0}, {\"count\": 21, \"cutoff\": 7, \"STATE\": 33, \"precision\": 0.0, \"recall\": 0.0}, {\"count\": 21, \"cutoff\": 8, \"STATE\": 33, \"precision\": 0.0, \"recall\": 0.0}, {\"count\": 21, \"cutoff\": 9, \"STATE\": 33, \"precision\": 0.0, \"recall\": 0.0}, {\"count\": 21, \"cutoff\": 10, \"STATE\": 33, \"precision\": 0.0, \"recall\": 0.0}, {\"count\": 21, \"cutoff\": 11, \"STATE\": 33, \"precision\": 0.0, \"recall\": 0.0}, {\"count\": 21, \"cutoff\": 16, \"STATE\": 33, \"precision\": 0.0, \"recall\": 0.0}, {\"count\": 21, \"cutoff\": 21, \"STATE\": 33, \"precision\": 0.0, \"recall\": 0.0}, {\"count\": 21, \"cutoff\": 26, \"STATE\": 33, \"precision\": 0.0, \"recall\": 0.0}, {\"count\": 21, \"cutoff\": 31, \"STATE\": 33, \"precision\": 0.0, \"recall\": 0.0}, {\"count\": 21, \"cutoff\": 36, \"STATE\": 33, \"precision\": 0.0, \"recall\": 0.0}, {\"count\": 21, \"cutoff\": 41, \"STATE\": 33, \"precision\": 0.0, \"recall\": 0.0}, {\"count\": 21, \"cutoff\": 46, \"STATE\": 33, \"precision\": 0.0, \"recall\": 0.0}, {\"count\": 87, \"cutoff\": 1, \"STATE\": 34, \"precision\": 0.0, \"recall\": 0.0}, {\"count\": 87, \"cutoff\": 2, \"STATE\": 34, \"precision\": 0.0, \"recall\": 0.0}, {\"count\": 87, \"cutoff\": 3, \"STATE\": 34, \"precision\": 0.0, \"recall\": 0.0}, {\"count\": 87, \"cutoff\": 4, \"STATE\": 34, \"precision\": 0.0, \"recall\": 0.0}, {\"count\": 87, \"cutoff\": 5, \"STATE\": 34, \"precision\": 0.0, \"recall\": 0.0}, {\"count\": 87, \"cutoff\": 6, \"STATE\": 34, \"precision\": 0.0, \"recall\": 0.0}, {\"count\": 87, \"cutoff\": 7, \"STATE\": 34, \"precision\": 0.0, \"recall\": 0.0}, {\"count\": 87, \"cutoff\": 8, \"STATE\": 34, \"precision\": 0.0, \"recall\": 0.0}, {\"count\": 87, \"cutoff\": 9, \"STATE\": 34, \"precision\": 0.0, \"recall\": 0.0}, {\"count\": 87, \"cutoff\": 10, \"STATE\": 34, \"precision\": 0.0, \"recall\": 0.0}, {\"count\": 87, \"cutoff\": 11, \"STATE\": 34, \"precision\": 0.0, \"recall\": 0.0}, {\"count\": 87, \"cutoff\": 16, \"STATE\": 34, \"precision\": 0.0, \"recall\": 0.0}, {\"count\": 87, \"cutoff\": 21, \"STATE\": 34, \"precision\": 0.0, \"recall\": 0.0}, {\"count\": 87, \"cutoff\": 26, \"STATE\": 34, \"precision\": 0.0, \"recall\": 0.0}, {\"count\": 87, \"cutoff\": 31, \"STATE\": 34, \"precision\": 0.0, \"recall\": 0.0}, {\"count\": 87, \"cutoff\": 36, \"STATE\": 34, \"precision\": 0.0, \"recall\": 0.0}, {\"count\": 87, \"cutoff\": 41, \"STATE\": 34, \"precision\": 0.0, \"recall\": 0.0}, {\"count\": 87, \"cutoff\": 46, \"STATE\": 34, \"precision\": 0.0, \"recall\": 0.0}, {\"count\": 48, \"cutoff\": 1, \"STATE\": 35, \"precision\": 0.0, \"recall\": 0.0}, {\"count\": 48, \"cutoff\": 2, \"STATE\": 35, \"precision\": 0.5, \"recall\": 0.020833333333333332}, {\"count\": 48, \"cutoff\": 3, \"STATE\": 35, \"precision\": 0.3333333333333333, \"recall\": 0.020833333333333332}, {\"count\": 48, \"cutoff\": 4, \"STATE\": 35, \"precision\": 0.25, \"recall\": 0.020833333333333332}, {\"count\": 48, \"cutoff\": 5, \"STATE\": 35, \"precision\": 0.2, \"recall\": 0.020833333333333332}, {\"count\": 48, \"cutoff\": 6, \"STATE\": 35, \"precision\": 0.16666666666666666, \"recall\": 0.020833333333333332}, {\"count\": 48, \"cutoff\": 7, \"STATE\": 35, \"precision\": 0.16666666666666666, \"recall\": 0.020833333333333332}, {\"count\": 48, \"cutoff\": 8, \"STATE\": 35, \"precision\": 0.16666666666666666, \"recall\": 0.020833333333333332}, {\"count\": 48, \"cutoff\": 9, \"STATE\": 35, \"precision\": 0.16666666666666666, \"recall\": 0.020833333333333332}, {\"count\": 48, \"cutoff\": 10, \"STATE\": 35, \"precision\": 0.16666666666666666, \"recall\": 0.020833333333333332}, {\"count\": 48, \"cutoff\": 11, \"STATE\": 35, \"precision\": 0.16666666666666666, \"recall\": 0.020833333333333332}, {\"count\": 48, \"cutoff\": 16, \"STATE\": 35, \"precision\": 0.16666666666666666, \"recall\": 0.020833333333333332}, {\"count\": 48, \"cutoff\": 21, \"STATE\": 35, \"precision\": 0.16666666666666666, \"recall\": 0.020833333333333332}, {\"count\": 48, \"cutoff\": 26, \"STATE\": 35, \"precision\": 0.16666666666666666, \"recall\": 0.020833333333333332}, {\"count\": 48, \"cutoff\": 31, \"STATE\": 35, \"precision\": 0.16666666666666666, \"recall\": 0.020833333333333332}, {\"count\": 48, \"cutoff\": 36, \"STATE\": 35, \"precision\": 0.16666666666666666, \"recall\": 0.020833333333333332}, {\"count\": 48, \"cutoff\": 41, \"STATE\": 35, \"precision\": 0.16666666666666666, \"recall\": 0.020833333333333332}, {\"count\": 48, \"cutoff\": 46, \"STATE\": 35, \"precision\": 0.16666666666666666, \"recall\": 0.020833333333333332}, {\"count\": 210, \"cutoff\": 1, \"STATE\": 36, \"precision\": 0.0, \"recall\": 0.0}, {\"count\": 210, \"cutoff\": 2, \"STATE\": 36, \"precision\": 0.0, \"recall\": 0.0}, {\"count\": 210, \"cutoff\": 3, \"STATE\": 36, \"precision\": 0.0, \"recall\": 0.0}, {\"count\": 210, \"cutoff\": 4, \"STATE\": 36, \"precision\": 0.0, \"recall\": 0.0}, {\"count\": 210, \"cutoff\": 5, \"STATE\": 36, \"precision\": 0.0, \"recall\": 0.0}, {\"count\": 210, \"cutoff\": 6, \"STATE\": 36, \"precision\": 0.0, \"recall\": 0.0}, {\"count\": 210, \"cutoff\": 7, \"STATE\": 36, \"precision\": 0.0, \"recall\": 0.0}, {\"count\": 210, \"cutoff\": 8, \"STATE\": 36, \"precision\": 0.0, \"recall\": 0.0}, {\"count\": 210, \"cutoff\": 9, \"STATE\": 36, \"precision\": 0.0, \"recall\": 0.0}, {\"count\": 210, \"cutoff\": 10, \"STATE\": 36, \"precision\": 0.0, \"recall\": 0.0}, {\"count\": 210, \"cutoff\": 11, \"STATE\": 36, \"precision\": 0.0, \"recall\": 0.0}, {\"count\": 210, \"cutoff\": 16, \"STATE\": 36, \"precision\": 0.0, \"recall\": 0.0}, {\"count\": 210, \"cutoff\": 21, \"STATE\": 36, \"precision\": 0.0, \"recall\": 0.0}, {\"count\": 210, \"cutoff\": 26, \"STATE\": 36, \"precision\": 0.0, \"recall\": 0.0}, {\"count\": 210, \"cutoff\": 31, \"STATE\": 36, \"precision\": 0.0, \"recall\": 0.0}, {\"count\": 210, \"cutoff\": 36, \"STATE\": 36, \"precision\": 0.0, \"recall\": 0.0}, {\"count\": 210, \"cutoff\": 41, \"STATE\": 36, \"precision\": 0.0, \"recall\": 0.0}, {\"count\": 210, \"cutoff\": 46, \"STATE\": 36, \"precision\": 0.0, \"recall\": 0.0}, {\"count\": 251, \"cutoff\": 1, \"STATE\": 37, \"precision\": 1.0, \"recall\": 0.00398406374501992}, {\"count\": 251, \"cutoff\": 2, \"STATE\": 37, \"precision\": 0.5, \"recall\": 0.00398406374501992}, {\"count\": 251, \"cutoff\": 3, \"STATE\": 37, \"precision\": 0.3333333333333333, \"recall\": 0.00398406374501992}, {\"count\": 251, \"cutoff\": 4, \"STATE\": 37, \"precision\": 0.3333333333333333, \"recall\": 0.00398406374501992}, {\"count\": 251, \"cutoff\": 5, \"STATE\": 37, \"precision\": 0.3333333333333333, \"recall\": 0.00398406374501992}, {\"count\": 251, \"cutoff\": 6, \"STATE\": 37, \"precision\": 0.3333333333333333, \"recall\": 0.00398406374501992}, {\"count\": 251, \"cutoff\": 7, \"STATE\": 37, \"precision\": 0.3333333333333333, \"recall\": 0.00398406374501992}, {\"count\": 251, \"cutoff\": 8, \"STATE\": 37, \"precision\": 0.3333333333333333, \"recall\": 0.00398406374501992}, {\"count\": 251, \"cutoff\": 9, \"STATE\": 37, \"precision\": 0.3333333333333333, \"recall\": 0.00398406374501992}, {\"count\": 251, \"cutoff\": 10, \"STATE\": 37, \"precision\": 0.3333333333333333, \"recall\": 0.00398406374501992}, {\"count\": 251, \"cutoff\": 11, \"STATE\": 37, \"precision\": 0.3333333333333333, \"recall\": 0.00398406374501992}, {\"count\": 251, \"cutoff\": 16, \"STATE\": 37, \"precision\": 0.3333333333333333, \"recall\": 0.00398406374501992}, {\"count\": 251, \"cutoff\": 21, \"STATE\": 37, \"precision\": 0.3333333333333333, \"recall\": 0.00398406374501992}, {\"count\": 251, \"cutoff\": 26, \"STATE\": 37, \"precision\": 0.3333333333333333, \"recall\": 0.00398406374501992}, {\"count\": 251, \"cutoff\": 31, \"STATE\": 37, \"precision\": 0.3333333333333333, \"recall\": 0.00398406374501992}, {\"count\": 251, \"cutoff\": 36, \"STATE\": 37, \"precision\": 0.3333333333333333, \"recall\": 0.00398406374501992}, {\"count\": 251, \"cutoff\": 41, \"STATE\": 37, \"precision\": 0.3333333333333333, \"recall\": 0.00398406374501992}, {\"count\": 251, \"cutoff\": 46, \"STATE\": 37, \"precision\": 0.3333333333333333, \"recall\": 0.00398406374501992}, {\"count\": 19, \"cutoff\": 1, \"STATE\": 38, \"precision\": 0.0, \"recall\": 0.0}, {\"count\": 19, \"cutoff\": 2, \"STATE\": 38, \"precision\": 0.0, \"recall\": 0.0}, {\"count\": 19, \"cutoff\": 3, \"STATE\": 38, \"precision\": 0.0, \"recall\": 0.0}, {\"count\": 19, \"cutoff\": 4, \"STATE\": 38, \"precision\": 0.0, \"recall\": 0.0}, {\"count\": 19, \"cutoff\": 5, \"STATE\": 38, \"precision\": 0.0, \"recall\": 0.0}, {\"count\": 19, \"cutoff\": 6, \"STATE\": 38, \"precision\": 0.0, \"recall\": 0.0}, {\"count\": 19, \"cutoff\": 7, \"STATE\": 38, \"precision\": 0.0, \"recall\": 0.0}, {\"count\": 19, \"cutoff\": 8, \"STATE\": 38, \"precision\": 0.0, \"recall\": 0.0}, {\"count\": 19, \"cutoff\": 9, \"STATE\": 38, \"precision\": 0.0, \"recall\": 0.0}, {\"count\": 19, \"cutoff\": 10, \"STATE\": 38, \"precision\": 0.0, \"recall\": 0.0}, {\"count\": 19, \"cutoff\": 11, \"STATE\": 38, \"precision\": 0.0, \"recall\": 0.0}, {\"count\": 19, \"cutoff\": 16, \"STATE\": 38, \"precision\": 0.0, \"recall\": 0.0}, {\"count\": 19, \"cutoff\": 21, \"STATE\": 38, \"precision\": 0.0, \"recall\": 0.0}, {\"count\": 19, \"cutoff\": 26, \"STATE\": 38, \"precision\": 0.0, \"recall\": 0.0}, {\"count\": 19, \"cutoff\": 31, \"STATE\": 38, \"precision\": 0.0, \"recall\": 0.0}, {\"count\": 19, \"cutoff\": 36, \"STATE\": 38, \"precision\": 0.0, \"recall\": 0.0}, {\"count\": 19, \"cutoff\": 41, \"STATE\": 38, \"precision\": 0.0, \"recall\": 0.0}, {\"count\": 19, \"cutoff\": 46, \"STATE\": 38, \"precision\": 0.0, \"recall\": 0.0}, {\"count\": 196, \"cutoff\": 1, \"STATE\": 39, \"precision\": 0.0, \"recall\": 0.0}, {\"count\": 196, \"cutoff\": 2, \"STATE\": 39, \"precision\": 0.0, \"recall\": 0.0}, {\"count\": 196, \"cutoff\": 3, \"STATE\": 39, \"precision\": 0.0, \"recall\": 0.0}, {\"count\": 196, \"cutoff\": 4, \"STATE\": 39, \"precision\": 0.0, \"recall\": 0.0}, {\"count\": 196, \"cutoff\": 5, \"STATE\": 39, \"precision\": 0.0, \"recall\": 0.0}, {\"count\": 196, \"cutoff\": 6, \"STATE\": 39, \"precision\": 0.0, \"recall\": 0.0}, {\"count\": 196, \"cutoff\": 7, \"STATE\": 39, \"precision\": 0.0, \"recall\": 0.0}, {\"count\": 196, \"cutoff\": 8, \"STATE\": 39, \"precision\": 0.0, \"recall\": 0.0}, {\"count\": 196, \"cutoff\": 9, \"STATE\": 39, \"precision\": 0.0, \"recall\": 0.0}, {\"count\": 196, \"cutoff\": 10, \"STATE\": 39, \"precision\": 0.0, \"recall\": 0.0}, {\"count\": 196, \"cutoff\": 11, \"STATE\": 39, \"precision\": 0.0, \"recall\": 0.0}, {\"count\": 196, \"cutoff\": 16, \"STATE\": 39, \"precision\": 0.0, \"recall\": 0.0}, {\"count\": 196, \"cutoff\": 21, \"STATE\": 39, \"precision\": 0.0, \"recall\": 0.0}, {\"count\": 196, \"cutoff\": 26, \"STATE\": 39, \"precision\": 0.0, \"recall\": 0.0}, {\"count\": 196, \"cutoff\": 31, \"STATE\": 39, \"precision\": 0.0, \"recall\": 0.0}, {\"count\": 196, \"cutoff\": 36, \"STATE\": 39, \"precision\": 0.0, \"recall\": 0.0}, {\"count\": 196, \"cutoff\": 41, \"STATE\": 39, \"precision\": 0.0, \"recall\": 0.0}, {\"count\": 196, \"cutoff\": 46, \"STATE\": 39, \"precision\": 0.0, \"recall\": 0.0}, {\"count\": 102, \"cutoff\": 1, \"STATE\": 40, \"precision\": 0.0, \"recall\": 0.0}, {\"count\": 102, \"cutoff\": 2, \"STATE\": 40, \"precision\": 0.0, \"recall\": 0.0}, {\"count\": 102, \"cutoff\": 3, \"STATE\": 40, \"precision\": 0.0, \"recall\": 0.0}, {\"count\": 102, \"cutoff\": 4, \"STATE\": 40, \"precision\": 0.0, \"recall\": 0.0}, {\"count\": 102, \"cutoff\": 5, \"STATE\": 40, \"precision\": 0.0, \"recall\": 0.0}, {\"count\": 102, \"cutoff\": 6, \"STATE\": 40, \"precision\": 0.0, \"recall\": 0.0}, {\"count\": 102, \"cutoff\": 7, \"STATE\": 40, \"precision\": 0.0, \"recall\": 0.0}, {\"count\": 102, \"cutoff\": 8, \"STATE\": 40, \"precision\": 0.0, \"recall\": 0.0}, {\"count\": 102, \"cutoff\": 9, \"STATE\": 40, \"precision\": 0.0, \"recall\": 0.0}, {\"count\": 102, \"cutoff\": 10, \"STATE\": 40, \"precision\": 0.0, \"recall\": 0.0}, {\"count\": 102, \"cutoff\": 11, \"STATE\": 40, \"precision\": 0.0, \"recall\": 0.0}, {\"count\": 102, \"cutoff\": 16, \"STATE\": 40, \"precision\": 0.0, \"recall\": 0.0}, {\"count\": 102, \"cutoff\": 21, \"STATE\": 40, \"precision\": 0.0, \"recall\": 0.0}, {\"count\": 102, \"cutoff\": 26, \"STATE\": 40, \"precision\": 0.0, \"recall\": 0.0}, {\"count\": 102, \"cutoff\": 31, \"STATE\": 40, \"precision\": 0.0, \"recall\": 0.0}, {\"count\": 102, \"cutoff\": 36, \"STATE\": 40, \"precision\": 0.0, \"recall\": 0.0}, {\"count\": 102, \"cutoff\": 41, \"STATE\": 40, \"precision\": 0.0, \"recall\": 0.0}, {\"count\": 102, \"cutoff\": 46, \"STATE\": 40, \"precision\": 0.0, \"recall\": 0.0}, {\"count\": 77, \"cutoff\": 1, \"STATE\": 41, \"precision\": 0.0, \"recall\": 0.0}, {\"count\": 77, \"cutoff\": 2, \"STATE\": 41, \"precision\": 0.0, \"recall\": 0.0}, {\"count\": 77, \"cutoff\": 3, \"STATE\": 41, \"precision\": 0.0, \"recall\": 0.0}, {\"count\": 77, \"cutoff\": 4, \"STATE\": 41, \"precision\": 0.0, \"recall\": 0.0}, {\"count\": 77, \"cutoff\": 5, \"STATE\": 41, \"precision\": 0.0, \"recall\": 0.0}, {\"count\": 77, \"cutoff\": 6, \"STATE\": 41, \"precision\": 0.0, \"recall\": 0.0}, {\"count\": 77, \"cutoff\": 7, \"STATE\": 41, \"precision\": 0.0, \"recall\": 0.0}, {\"count\": 77, \"cutoff\": 8, \"STATE\": 41, \"precision\": 0.0, \"recall\": 0.0}, {\"count\": 77, \"cutoff\": 9, \"STATE\": 41, \"precision\": 0.0, \"recall\": 0.0}, {\"count\": 77, \"cutoff\": 10, \"STATE\": 41, \"precision\": 0.0, \"recall\": 0.0}, {\"count\": 77, \"cutoff\": 11, \"STATE\": 41, \"precision\": 0.0, \"recall\": 0.0}, {\"count\": 77, \"cutoff\": 16, \"STATE\": 41, \"precision\": 0.0, \"recall\": 0.0}, {\"count\": 77, \"cutoff\": 21, \"STATE\": 41, \"precision\": 0.0, \"recall\": 0.0}, {\"count\": 77, \"cutoff\": 26, \"STATE\": 41, \"precision\": 0.0, \"recall\": 0.0}, {\"count\": 77, \"cutoff\": 31, \"STATE\": 41, \"precision\": 0.0, \"recall\": 0.0}, {\"count\": 77, \"cutoff\": 36, \"STATE\": 41, \"precision\": 0.0, \"recall\": 0.0}, {\"count\": 77, \"cutoff\": 41, \"STATE\": 41, \"precision\": 0.0, \"recall\": 0.0}, {\"count\": 77, \"cutoff\": 46, \"STATE\": 41, \"precision\": 0.0, \"recall\": 0.0}, {\"count\": 225, \"cutoff\": 1, \"STATE\": 42, \"precision\": 0.0, \"recall\": 0.0}, {\"count\": 225, \"cutoff\": 2, \"STATE\": 42, \"precision\": 0.0, \"recall\": 0.0}, {\"count\": 225, \"cutoff\": 3, \"STATE\": 42, \"precision\": 0.0, \"recall\": 0.0}, {\"count\": 225, \"cutoff\": 4, \"STATE\": 42, \"precision\": 0.0, \"recall\": 0.0}, {\"count\": 225, \"cutoff\": 5, \"STATE\": 42, \"precision\": 0.0, \"recall\": 0.0}, {\"count\": 225, \"cutoff\": 6, \"STATE\": 42, \"precision\": 0.0, \"recall\": 0.0}, {\"count\": 225, \"cutoff\": 7, \"STATE\": 42, \"precision\": 0.0, \"recall\": 0.0}, {\"count\": 225, \"cutoff\": 8, \"STATE\": 42, \"precision\": 0.0, \"recall\": 0.0}, {\"count\": 225, \"cutoff\": 9, \"STATE\": 42, \"precision\": 0.0, \"recall\": 0.0}, {\"count\": 225, \"cutoff\": 10, \"STATE\": 42, \"precision\": 0.0, \"recall\": 0.0}, {\"count\": 225, \"cutoff\": 11, \"STATE\": 42, \"precision\": 0.0, \"recall\": 0.0}, {\"count\": 225, \"cutoff\": 16, \"STATE\": 42, \"precision\": 0.0, \"recall\": 0.0}, {\"count\": 225, \"cutoff\": 21, \"STATE\": 42, \"precision\": 0.0, \"recall\": 0.0}, {\"count\": 225, \"cutoff\": 26, \"STATE\": 42, \"precision\": 0.0, \"recall\": 0.0}, {\"count\": 225, \"cutoff\": 31, \"STATE\": 42, \"precision\": 0.0, \"recall\": 0.0}, {\"count\": 225, \"cutoff\": 36, \"STATE\": 42, \"precision\": 0.0, \"recall\": 0.0}, {\"count\": 225, \"cutoff\": 41, \"STATE\": 42, \"precision\": 0.0, \"recall\": 0.0}, {\"count\": 225, \"cutoff\": 46, \"STATE\": 42, \"precision\": 0.0, \"recall\": 0.0}, {\"count\": 9, \"cutoff\": 1, \"STATE\": 44, \"precision\": 0.0, \"recall\": 0.0}, {\"count\": 9, \"cutoff\": 2, \"STATE\": 44, \"precision\": 0.0, \"recall\": 0.0}, {\"count\": 9, \"cutoff\": 3, \"STATE\": 44, \"precision\": 0.0, \"recall\": 0.0}, {\"count\": 9, \"cutoff\": 4, \"STATE\": 44, \"precision\": 0.0, \"recall\": 0.0}, {\"count\": 9, \"cutoff\": 5, \"STATE\": 44, \"precision\": 0.0, \"recall\": 0.0}, {\"count\": 9, \"cutoff\": 6, \"STATE\": 44, \"precision\": 0.0, \"recall\": 0.0}, {\"count\": 9, \"cutoff\": 7, \"STATE\": 44, \"precision\": 0.0, \"recall\": 0.0}, {\"count\": 9, \"cutoff\": 8, \"STATE\": 44, \"precision\": 0.0, \"recall\": 0.0}, {\"count\": 9, \"cutoff\": 9, \"STATE\": 44, \"precision\": 0.0, \"recall\": 0.0}, {\"count\": 9, \"cutoff\": 10, \"STATE\": 44, \"precision\": 0.0, \"recall\": 0.0}, {\"count\": 9, \"cutoff\": 11, \"STATE\": 44, \"precision\": 0.0, \"recall\": 0.0}, {\"count\": 9, \"cutoff\": 16, \"STATE\": 44, \"precision\": 0.0, \"recall\": 0.0}, {\"count\": 9, \"cutoff\": 21, \"STATE\": 44, \"precision\": 0.0, \"recall\": 0.0}, {\"count\": 9, \"cutoff\": 26, \"STATE\": 44, \"precision\": 0.0, \"recall\": 0.0}, {\"count\": 9, \"cutoff\": 31, \"STATE\": 44, \"precision\": 0.0, \"recall\": 0.0}, {\"count\": 9, \"cutoff\": 36, \"STATE\": 44, \"precision\": 0.0, \"recall\": 0.0}, {\"count\": 9, \"cutoff\": 41, \"STATE\": 44, \"precision\": 0.0, \"recall\": 0.0}, {\"count\": 9, \"cutoff\": 46, \"STATE\": 44, \"precision\": 0.0, \"recall\": 0.0}, {\"count\": 167, \"cutoff\": 1, \"STATE\": 45, \"precision\": 0.0, \"recall\": 0.0}, {\"count\": 167, \"cutoff\": 2, \"STATE\": 45, \"precision\": 0.0, \"recall\": 0.0}, {\"count\": 167, \"cutoff\": 3, \"STATE\": 45, \"precision\": 0.0, \"recall\": 0.0}, {\"count\": 167, \"cutoff\": 4, \"STATE\": 45, \"precision\": 0.0, \"recall\": 0.0}, {\"count\": 167, \"cutoff\": 5, \"STATE\": 45, \"precision\": 0.0, \"recall\": 0.0}, {\"count\": 167, \"cutoff\": 6, \"STATE\": 45, \"precision\": 0.0, \"recall\": 0.0}, {\"count\": 167, \"cutoff\": 7, \"STATE\": 45, \"precision\": 0.0, \"recall\": 0.0}, {\"count\": 167, \"cutoff\": 8, \"STATE\": 45, \"precision\": 0.0, \"recall\": 0.0}, {\"count\": 167, \"cutoff\": 9, \"STATE\": 45, \"precision\": 0.0, \"recall\": 0.0}, {\"count\": 167, \"cutoff\": 10, \"STATE\": 45, \"precision\": 0.0, \"recall\": 0.0}, {\"count\": 167, \"cutoff\": 11, \"STATE\": 45, \"precision\": 0.0, \"recall\": 0.0}, {\"count\": 167, \"cutoff\": 16, \"STATE\": 45, \"precision\": 0.0, \"recall\": 0.0}, {\"count\": 167, \"cutoff\": 21, \"STATE\": 45, \"precision\": 0.0, \"recall\": 0.0}, {\"count\": 167, \"cutoff\": 26, \"STATE\": 45, \"precision\": 0.0, \"recall\": 0.0}, {\"count\": 167, \"cutoff\": 31, \"STATE\": 45, \"precision\": 0.0, \"recall\": 0.0}, {\"count\": 167, \"cutoff\": 36, \"STATE\": 45, \"precision\": 0.0, \"recall\": 0.0}, {\"count\": 167, \"cutoff\": 41, \"STATE\": 45, \"precision\": 0.0, \"recall\": 0.0}, {\"count\": 167, \"cutoff\": 46, \"STATE\": 45, \"precision\": 0.0, \"recall\": 0.0}, {\"count\": 24, \"cutoff\": 1, \"STATE\": 46, \"precision\": 0.0, \"recall\": 0.0}, {\"count\": 24, \"cutoff\": 2, \"STATE\": 46, \"precision\": 0.0, \"recall\": 0.0}, {\"count\": 24, \"cutoff\": 3, \"STATE\": 46, \"precision\": 0.0, \"recall\": 0.0}, {\"count\": 24, \"cutoff\": 4, \"STATE\": 46, \"precision\": 0.0, \"recall\": 0.0}, {\"count\": 24, \"cutoff\": 5, \"STATE\": 46, \"precision\": 0.0, \"recall\": 0.0}, {\"count\": 24, \"cutoff\": 6, \"STATE\": 46, \"precision\": 0.0, \"recall\": 0.0}, {\"count\": 24, \"cutoff\": 7, \"STATE\": 46, \"precision\": 0.0, \"recall\": 0.0}, {\"count\": 24, \"cutoff\": 8, \"STATE\": 46, \"precision\": 0.0, \"recall\": 0.0}, {\"count\": 24, \"cutoff\": 9, \"STATE\": 46, \"precision\": 0.0, \"recall\": 0.0}, {\"count\": 24, \"cutoff\": 10, \"STATE\": 46, \"precision\": 0.0, \"recall\": 0.0}, {\"count\": 24, \"cutoff\": 11, \"STATE\": 46, \"precision\": 0.0, \"recall\": 0.0}, {\"count\": 24, \"cutoff\": 16, \"STATE\": 46, \"precision\": 0.0, \"recall\": 0.0}, {\"count\": 24, \"cutoff\": 21, \"STATE\": 46, \"precision\": 0.0, \"recall\": 0.0}, {\"count\": 24, \"cutoff\": 26, \"STATE\": 46, \"precision\": 0.0, \"recall\": 0.0}, {\"count\": 24, \"cutoff\": 31, \"STATE\": 46, \"precision\": 0.0, \"recall\": 0.0}, {\"count\": 24, \"cutoff\": 36, \"STATE\": 46, \"precision\": 0.0, \"recall\": 0.0}, {\"count\": 24, \"cutoff\": 41, \"STATE\": 46, \"precision\": 0.0, \"recall\": 0.0}, {\"count\": 24, \"cutoff\": 46, \"STATE\": 46, \"precision\": 0.0, \"recall\": 0.0}, {\"count\": 165, \"cutoff\": 1, \"STATE\": 47, \"precision\": 0.0, \"recall\": 0.0}, {\"count\": 165, \"cutoff\": 2, \"STATE\": 47, \"precision\": 0.0, \"recall\": 0.0}, {\"count\": 165, \"cutoff\": 3, \"STATE\": 47, \"precision\": 0.0, \"recall\": 0.0}, {\"count\": 165, \"cutoff\": 4, \"STATE\": 47, \"precision\": 0.0, \"recall\": 0.0}, {\"count\": 165, \"cutoff\": 5, \"STATE\": 47, \"precision\": 0.0, \"recall\": 0.0}, {\"count\": 165, \"cutoff\": 6, \"STATE\": 47, \"precision\": 0.0, \"recall\": 0.0}, {\"count\": 165, \"cutoff\": 7, \"STATE\": 47, \"precision\": 0.0, \"recall\": 0.0}, {\"count\": 165, \"cutoff\": 8, \"STATE\": 47, \"precision\": 0.0, \"recall\": 0.0}, {\"count\": 165, \"cutoff\": 9, \"STATE\": 47, \"precision\": 0.0, \"recall\": 0.0}, {\"count\": 165, \"cutoff\": 10, \"STATE\": 47, \"precision\": 0.0, \"recall\": 0.0}, {\"count\": 165, \"cutoff\": 11, \"STATE\": 47, \"precision\": 0.0, \"recall\": 0.0}, {\"count\": 165, \"cutoff\": 16, \"STATE\": 47, \"precision\": 0.0, \"recall\": 0.0}, {\"count\": 165, \"cutoff\": 21, \"STATE\": 47, \"precision\": 0.0, \"recall\": 0.0}, {\"count\": 165, \"cutoff\": 26, \"STATE\": 47, \"precision\": 0.0, \"recall\": 0.0}, {\"count\": 165, \"cutoff\": 31, \"STATE\": 47, \"precision\": 0.0, \"recall\": 0.0}, {\"count\": 165, \"cutoff\": 36, \"STATE\": 47, \"precision\": 0.0, \"recall\": 0.0}, {\"count\": 165, \"cutoff\": 41, \"STATE\": 47, \"precision\": 0.0, \"recall\": 0.0}, {\"count\": 165, \"cutoff\": 46, \"STATE\": 47, \"precision\": 0.0, \"recall\": 0.0}, {\"count\": 475, \"cutoff\": 1, \"STATE\": 48, \"precision\": 0.0, \"recall\": 0.0}, {\"count\": 475, \"cutoff\": 2, \"STATE\": 48, \"precision\": 0.0, \"recall\": 0.0}, {\"count\": 475, \"cutoff\": 3, \"STATE\": 48, \"precision\": 0.0, \"recall\": 0.0}, {\"count\": 475, \"cutoff\": 4, \"STATE\": 48, \"precision\": 0.0, \"recall\": 0.0}, {\"count\": 475, \"cutoff\": 5, \"STATE\": 48, \"precision\": 0.0, \"recall\": 0.0}, {\"count\": 475, \"cutoff\": 6, \"STATE\": 48, \"precision\": 0.0, \"recall\": 0.0}, {\"count\": 475, \"cutoff\": 7, \"STATE\": 48, \"precision\": 0.0, \"recall\": 0.0}, {\"count\": 475, \"cutoff\": 8, \"STATE\": 48, \"precision\": 0.0, \"recall\": 0.0}, {\"count\": 475, \"cutoff\": 9, \"STATE\": 48, \"precision\": 0.0, \"recall\": 0.0}, {\"count\": 475, \"cutoff\": 10, \"STATE\": 48, \"precision\": 0.0, \"recall\": 0.0}, {\"count\": 475, \"cutoff\": 11, \"STATE\": 48, \"precision\": 0.0, \"recall\": 0.0}, {\"count\": 475, \"cutoff\": 16, \"STATE\": 48, \"precision\": 0.0, \"recall\": 0.0}, {\"count\": 475, \"cutoff\": 21, \"STATE\": 48, \"precision\": 0.0, \"recall\": 0.0}, {\"count\": 475, \"cutoff\": 26, \"STATE\": 48, \"precision\": 0.0, \"recall\": 0.0}, {\"count\": 475, \"cutoff\": 31, \"STATE\": 48, \"precision\": 0.0, \"recall\": 0.0}, {\"count\": 475, \"cutoff\": 36, \"STATE\": 48, \"precision\": 0.0, \"recall\": 0.0}, {\"count\": 475, \"cutoff\": 41, \"STATE\": 48, \"precision\": 0.0, \"recall\": 0.0}, {\"count\": 475, \"cutoff\": 46, \"STATE\": 48, \"precision\": 0.0, \"recall\": 0.0}, {\"count\": 49, \"cutoff\": 1, \"STATE\": 49, \"precision\": 0.0, \"recall\": 0.0}, {\"count\": 49, \"cutoff\": 2, \"STATE\": 49, \"precision\": 0.0, \"recall\": 0.0}, {\"count\": 49, \"cutoff\": 3, \"STATE\": 49, \"precision\": 0.0, \"recall\": 0.0}, {\"count\": 49, \"cutoff\": 4, \"STATE\": 49, \"precision\": 0.0, \"recall\": 0.0}, {\"count\": 49, \"cutoff\": 5, \"STATE\": 49, \"precision\": 0.0, \"recall\": 0.0}, {\"count\": 49, \"cutoff\": 6, \"STATE\": 49, \"precision\": 0.0, \"recall\": 0.0}, {\"count\": 49, \"cutoff\": 7, \"STATE\": 49, \"precision\": 0.0, \"recall\": 0.0}, {\"count\": 49, \"cutoff\": 8, \"STATE\": 49, \"precision\": 0.0, \"recall\": 0.0}, {\"count\": 49, \"cutoff\": 9, \"STATE\": 49, \"precision\": 0.0, \"recall\": 0.0}, {\"count\": 49, \"cutoff\": 10, \"STATE\": 49, \"precision\": 0.0, \"recall\": 0.0}, {\"count\": 49, \"cutoff\": 11, \"STATE\": 49, \"precision\": 0.0, \"recall\": 0.0}, {\"count\": 49, \"cutoff\": 16, \"STATE\": 49, \"precision\": 0.0, \"recall\": 0.0}, {\"count\": 49, \"cutoff\": 21, \"STATE\": 49, \"precision\": 0.0, \"recall\": 0.0}, {\"count\": 49, \"cutoff\": 26, \"STATE\": 49, \"precision\": 0.0, \"recall\": 0.0}, {\"count\": 49, \"cutoff\": 31, \"STATE\": 49, \"precision\": 0.0, \"recall\": 0.0}, {\"count\": 49, \"cutoff\": 36, \"STATE\": 49, \"precision\": 0.0, \"recall\": 0.0}, {\"count\": 49, \"cutoff\": 41, \"STATE\": 49, \"precision\": 0.0, \"recall\": 0.0}, {\"count\": 49, \"cutoff\": 46, \"STATE\": 49, \"precision\": 0.0, \"recall\": 0.0}, {\"count\": 12, \"cutoff\": 1, \"STATE\": 50, \"precision\": 1.0, \"recall\": 0.08333333333333333}, {\"count\": 12, \"cutoff\": 2, \"STATE\": 50, \"precision\": 0.5, \"recall\": 0.08333333333333333}, {\"count\": 12, \"cutoff\": 3, \"STATE\": 50, \"precision\": 0.3333333333333333, \"recall\": 0.08333333333333333}, {\"count\": 12, \"cutoff\": 4, \"STATE\": 50, \"precision\": 0.25, \"recall\": 0.08333333333333333}, {\"count\": 12, \"cutoff\": 5, \"STATE\": 50, \"precision\": 0.2, \"recall\": 0.08333333333333333}, {\"count\": 12, \"cutoff\": 6, \"STATE\": 50, \"precision\": 0.2, \"recall\": 0.08333333333333333}, {\"count\": 12, \"cutoff\": 7, \"STATE\": 50, \"precision\": 0.2, \"recall\": 0.08333333333333333}, {\"count\": 12, \"cutoff\": 8, \"STATE\": 50, \"precision\": 0.2, \"recall\": 0.08333333333333333}, {\"count\": 12, \"cutoff\": 9, \"STATE\": 50, \"precision\": 0.2, \"recall\": 0.08333333333333333}, {\"count\": 12, \"cutoff\": 10, \"STATE\": 50, \"precision\": 0.2, \"recall\": 0.08333333333333333}, {\"count\": 12, \"cutoff\": 11, \"STATE\": 50, \"precision\": 0.2, \"recall\": 0.08333333333333333}, {\"count\": 12, \"cutoff\": 16, \"STATE\": 50, \"precision\": 0.2, \"recall\": 0.08333333333333333}, {\"count\": 12, \"cutoff\": 21, \"STATE\": 50, \"precision\": 0.2, \"recall\": 0.08333333333333333}, {\"count\": 12, \"cutoff\": 26, \"STATE\": 50, \"precision\": 0.2, \"recall\": 0.08333333333333333}, {\"count\": 12, \"cutoff\": 31, \"STATE\": 50, \"precision\": 0.2, \"recall\": 0.08333333333333333}, {\"count\": 12, \"cutoff\": 36, \"STATE\": 50, \"precision\": 0.2, \"recall\": 0.08333333333333333}, {\"count\": 12, \"cutoff\": 41, \"STATE\": 50, \"precision\": 0.2, \"recall\": 0.08333333333333333}, {\"count\": 12, \"cutoff\": 46, \"STATE\": 50, \"precision\": 0.2, \"recall\": 0.08333333333333333}, {\"count\": 146, \"cutoff\": 1, \"STATE\": 51, \"precision\": 0.0, \"recall\": 0.0}, {\"count\": 146, \"cutoff\": 2, \"STATE\": 51, \"precision\": 0.0, \"recall\": 0.0}, {\"count\": 146, \"cutoff\": 3, \"STATE\": 51, \"precision\": 0.3333333333333333, \"recall\": 0.00684931506849315}, {\"count\": 146, \"cutoff\": 4, \"STATE\": 51, \"precision\": 0.25, \"recall\": 0.00684931506849315}, {\"count\": 146, \"cutoff\": 5, \"STATE\": 51, \"precision\": 0.25, \"recall\": 0.00684931506849315}, {\"count\": 146, \"cutoff\": 6, \"STATE\": 51, \"precision\": 0.25, \"recall\": 0.00684931506849315}, {\"count\": 146, \"cutoff\": 7, \"STATE\": 51, \"precision\": 0.25, \"recall\": 0.00684931506849315}, {\"count\": 146, \"cutoff\": 8, \"STATE\": 51, \"precision\": 0.25, \"recall\": 0.00684931506849315}, {\"count\": 146, \"cutoff\": 9, \"STATE\": 51, \"precision\": 0.25, \"recall\": 0.00684931506849315}, {\"count\": 146, \"cutoff\": 10, \"STATE\": 51, \"precision\": 0.25, \"recall\": 0.00684931506849315}, {\"count\": 146, \"cutoff\": 11, \"STATE\": 51, \"precision\": 0.25, \"recall\": 0.00684931506849315}, {\"count\": 146, \"cutoff\": 16, \"STATE\": 51, \"precision\": 0.25, \"recall\": 0.00684931506849315}, {\"count\": 146, \"cutoff\": 21, \"STATE\": 51, \"precision\": 0.25, \"recall\": 0.00684931506849315}, {\"count\": 146, \"cutoff\": 26, \"STATE\": 51, \"precision\": 0.25, \"recall\": 0.00684931506849315}, {\"count\": 146, \"cutoff\": 31, \"STATE\": 51, \"precision\": 0.25, \"recall\": 0.00684931506849315}, {\"count\": 146, \"cutoff\": 36, \"STATE\": 51, \"precision\": 0.25, \"recall\": 0.00684931506849315}, {\"count\": 146, \"cutoff\": 41, \"STATE\": 51, \"precision\": 0.25, \"recall\": 0.00684931506849315}, {\"count\": 146, \"cutoff\": 46, \"STATE\": 51, \"precision\": 0.25, \"recall\": 0.00684931506849315}, {\"count\": 97, \"cutoff\": 1, \"STATE\": 53, \"precision\": 0.0, \"recall\": 0.0}, {\"count\": 97, \"cutoff\": 2, \"STATE\": 53, \"precision\": 0.0, \"recall\": 0.0}, {\"count\": 97, \"cutoff\": 3, \"STATE\": 53, \"precision\": 0.0, \"recall\": 0.0}, {\"count\": 97, \"cutoff\": 4, \"STATE\": 53, \"precision\": 0.0, \"recall\": 0.0}, {\"count\": 97, \"cutoff\": 5, \"STATE\": 53, \"precision\": 0.0, \"recall\": 0.0}, {\"count\": 97, \"cutoff\": 6, \"STATE\": 53, \"precision\": 0.0, \"recall\": 0.0}, {\"count\": 97, \"cutoff\": 7, \"STATE\": 53, \"precision\": 0.0, \"recall\": 0.0}, {\"count\": 97, \"cutoff\": 8, \"STATE\": 53, \"precision\": 0.0, \"recall\": 0.0}, {\"count\": 97, \"cutoff\": 9, \"STATE\": 53, \"precision\": 0.0, \"recall\": 0.0}, {\"count\": 97, \"cutoff\": 10, \"STATE\": 53, \"precision\": 0.0, \"recall\": 0.0}, {\"count\": 97, \"cutoff\": 11, \"STATE\": 53, \"precision\": 0.0, \"recall\": 0.0}, {\"count\": 97, \"cutoff\": 16, \"STATE\": 53, \"precision\": 0.0, \"recall\": 0.0}, {\"count\": 97, \"cutoff\": 21, \"STATE\": 53, \"precision\": 0.0, \"recall\": 0.0}, {\"count\": 97, \"cutoff\": 26, \"STATE\": 53, \"precision\": 0.0, \"recall\": 0.0}, {\"count\": 97, \"cutoff\": 31, \"STATE\": 53, \"precision\": 0.0, \"recall\": 0.0}, {\"count\": 97, \"cutoff\": 36, \"STATE\": 53, \"precision\": 0.0, \"recall\": 0.0}, {\"count\": 97, \"cutoff\": 41, \"STATE\": 53, \"precision\": 0.0, \"recall\": 0.0}, {\"count\": 97, \"cutoff\": 46, \"STATE\": 53, \"precision\": 0.0, \"recall\": 0.0}, {\"count\": 56, \"cutoff\": 1, \"STATE\": 54, \"precision\": 0.0, \"recall\": 0.0}, {\"count\": 56, \"cutoff\": 2, \"STATE\": 54, \"precision\": 0.0, \"recall\": 0.0}, {\"count\": 56, \"cutoff\": 3, \"STATE\": 54, \"precision\": 0.0, \"recall\": 0.0}, {\"count\": 56, \"cutoff\": 4, \"STATE\": 54, \"precision\": 0.0, \"recall\": 0.0}, {\"count\": 56, \"cutoff\": 5, \"STATE\": 54, \"precision\": 0.0, \"recall\": 0.0}, {\"count\": 56, \"cutoff\": 6, \"STATE\": 54, \"precision\": 0.0, \"recall\": 0.0}, {\"count\": 56, \"cutoff\": 7, \"STATE\": 54, \"precision\": 0.0, \"recall\": 0.0}, {\"count\": 56, \"cutoff\": 8, \"STATE\": 54, \"precision\": 0.0, \"recall\": 0.0}, {\"count\": 56, \"cutoff\": 9, \"STATE\": 54, \"precision\": 0.0, \"recall\": 0.0}, {\"count\": 56, \"cutoff\": 10, \"STATE\": 54, \"precision\": 0.0, \"recall\": 0.0}, {\"count\": 56, \"cutoff\": 11, \"STATE\": 54, \"precision\": 0.0, \"recall\": 0.0}, {\"count\": 56, \"cutoff\": 16, \"STATE\": 54, \"precision\": 0.0, \"recall\": 0.0}, {\"count\": 56, \"cutoff\": 21, \"STATE\": 54, \"precision\": 0.0, \"recall\": 0.0}, {\"count\": 56, \"cutoff\": 26, \"STATE\": 54, \"precision\": 0.0, \"recall\": 0.0}, {\"count\": 56, \"cutoff\": 31, \"STATE\": 54, \"precision\": 0.0, \"recall\": 0.0}, {\"count\": 56, \"cutoff\": 36, \"STATE\": 54, \"precision\": 0.0, \"recall\": 0.0}, {\"count\": 56, \"cutoff\": 41, \"STATE\": 54, \"precision\": 0.0, \"recall\": 0.0}, {\"count\": 56, \"cutoff\": 46, \"STATE\": 54, \"precision\": 0.0, \"recall\": 0.0}, {\"count\": 92, \"cutoff\": 1, \"STATE\": 55, \"precision\": 0.0, \"recall\": 0.0}, {\"count\": 92, \"cutoff\": 2, \"STATE\": 55, \"precision\": 0.0, \"recall\": 0.0}, {\"count\": 92, \"cutoff\": 3, \"STATE\": 55, \"precision\": 0.0, \"recall\": 0.0}, {\"count\": 92, \"cutoff\": 4, \"STATE\": 55, \"precision\": 0.0, \"recall\": 0.0}, {\"count\": 92, \"cutoff\": 5, \"STATE\": 55, \"precision\": 0.0, \"recall\": 0.0}, {\"count\": 92, \"cutoff\": 6, \"STATE\": 55, \"precision\": 0.0, \"recall\": 0.0}, {\"count\": 92, \"cutoff\": 7, \"STATE\": 55, \"precision\": 0.0, \"recall\": 0.0}, {\"count\": 92, \"cutoff\": 8, \"STATE\": 55, \"precision\": 0.0, \"recall\": 0.0}, {\"count\": 92, \"cutoff\": 9, \"STATE\": 55, \"precision\": 0.0, \"recall\": 0.0}, {\"count\": 92, \"cutoff\": 10, \"STATE\": 55, \"precision\": 0.0, \"recall\": 0.0}, {\"count\": 92, \"cutoff\": 11, \"STATE\": 55, \"precision\": 0.0, \"recall\": 0.0}, {\"count\": 92, \"cutoff\": 16, \"STATE\": 55, \"precision\": 0.0, \"recall\": 0.0}, {\"count\": 92, \"cutoff\": 21, \"STATE\": 55, \"precision\": 0.0, \"recall\": 0.0}, {\"count\": 92, \"cutoff\": 26, \"STATE\": 55, \"precision\": 0.0, \"recall\": 0.0}, {\"count\": 92, \"cutoff\": 31, \"STATE\": 55, \"precision\": 0.0, \"recall\": 0.0}, {\"count\": 92, \"cutoff\": 36, \"STATE\": 55, \"precision\": 0.0, \"recall\": 0.0}, {\"count\": 92, \"cutoff\": 41, \"STATE\": 55, \"precision\": 0.0, \"recall\": 0.0}, {\"count\": 92, \"cutoff\": 46, \"STATE\": 55, \"precision\": 0.0, \"recall\": 0.0}, {\"count\": 28, \"cutoff\": 1, \"STATE\": 56, \"precision\": 0.0, \"recall\": 0.0}, {\"count\": 28, \"cutoff\": 2, \"STATE\": 56, \"precision\": 0.0, \"recall\": 0.0}, {\"count\": 28, \"cutoff\": 3, \"STATE\": 56, \"precision\": 0.0, \"recall\": 0.0}, {\"count\": 28, \"cutoff\": 4, \"STATE\": 56, \"precision\": 0.0, \"recall\": 0.0}, {\"count\": 28, \"cutoff\": 5, \"STATE\": 56, \"precision\": 0.0, \"recall\": 0.0}, {\"count\": 28, \"cutoff\": 6, \"STATE\": 56, \"precision\": 0.0, \"recall\": 0.0}, {\"count\": 28, \"cutoff\": 7, \"STATE\": 56, \"precision\": 0.0, \"recall\": 0.0}, {\"count\": 28, \"cutoff\": 8, \"STATE\": 56, \"precision\": 0.0, \"recall\": 0.0}, {\"count\": 28, \"cutoff\": 9, \"STATE\": 56, \"precision\": 0.0, \"recall\": 0.0}, {\"count\": 28, \"cutoff\": 10, \"STATE\": 56, \"precision\": 0.0, \"recall\": 0.0}, {\"count\": 28, \"cutoff\": 11, \"STATE\": 56, \"precision\": 0.0, \"recall\": 0.0}, {\"count\": 28, \"cutoff\": 16, \"STATE\": 56, \"precision\": 0.0, \"recall\": 0.0}, {\"count\": 28, \"cutoff\": 21, \"STATE\": 56, \"precision\": 0.0, \"recall\": 0.0}, {\"count\": 28, \"cutoff\": 26, \"STATE\": 56, \"precision\": 0.0, \"recall\": 0.0}, {\"count\": 28, \"cutoff\": 31, \"STATE\": 56, \"precision\": 0.0, \"recall\": 0.0}, {\"count\": 28, \"cutoff\": 36, \"STATE\": 56, \"precision\": 0.0, \"recall\": 0.0}, {\"count\": 28, \"cutoff\": 41, \"STATE\": 56, \"precision\": 0.0, \"recall\": 0.0}, {\"count\": 28, \"cutoff\": 46, \"STATE\": 56, \"precision\": 0.0, \"recall\": 0.0}]}]], \"type\": \"Model\"}, \"ipython\": true, \"view_params\": {\"model_type\": \"recommender\", \"view\": \"Comparison\"}, \"model_type\": \"recommender\", \"attributes\": {\"section_titles\": [\"Schema\", \"Statistics\", \"Training summary\", \"Model Parameters\", \"Other Settings\"], \"sections\": [[[\"User ID\", \"STATE\"], [\"Item ID\", \"WEATHER\"], [\"Target\", \"FATALS\"], [\"Additional observation features\", 0], [\"User side features\", []], [\"Item side features\", []]], [[\"Number of observations\", 23035], [\"Number of users\", 50], [\"Number of items\", 9]], [[\"Training time\", 0.0155]], [[\"Model class\", \"ItemSimilarityRecommender\"], [\"threshold\", 0.001], [\"similarity_type\", \"cosine\"], [\"training_method\", \"auto\"]], [[\"degree_approximation_threshold\", 4096], [\"sparse_density_estimation_sample_size\", 4096], [\"max_data_passes\", 4096], [\"target_memory_usage\", 8589934592], [\"seed_item_set_size\", 50], [\"nearest_neighbors_interaction_proportion_threshold\", 0.05], [\"max_item_neighborhood_size\", 5]]]}, \"evaluations\": [[\"dataset\", {\"precision_recall_overall\": [{\"cutoff\": 1, \"precision\": 0.1, \"recall\": 0.003872943020938481}, {\"cutoff\": 2, \"precision\": 0.06000000000000001, \"recall\": 0.004289609687605149}, {\"cutoff\": 3, \"precision\": 0.06000000000000001, \"recall\": 0.005249615790955208}, {\"cutoff\": 4, \"precision\": 0.05500000000000001, \"recall\": 0.005855676397015814}, {\"cutoff\": 5, \"precision\": 0.052, \"recall\": 0.005855676397015814}, {\"cutoff\": 6, \"precision\": 0.05133333333333334, \"recall\": 0.005855676397015814}, {\"cutoff\": 7, \"precision\": 0.05133333333333334, \"recall\": 0.005855676397015814}, {\"cutoff\": 8, \"precision\": 0.05133333333333334, \"recall\": 0.005855676397015814}, {\"cutoff\": 9, \"precision\": 0.05133333333333334, \"recall\": 0.005855676397015814}, {\"cutoff\": 10, \"precision\": 0.051333333333333335, \"recall\": 0.005855676397015814}, {\"cutoff\": 11, \"precision\": 0.051333333333333335, \"recall\": 0.005855676397015814}, {\"cutoff\": 16, \"precision\": 0.05133333333333335, \"recall\": 0.005855676397015814}, {\"cutoff\": 21, \"precision\": 0.05133333333333335, \"recall\": 0.005855676397015814}, {\"cutoff\": 26, \"precision\": 0.05133333333333335, \"recall\": 0.005855676397015814}, {\"cutoff\": 31, \"precision\": 0.05133333333333335, \"recall\": 0.005855676397015814}, {\"cutoff\": 36, \"precision\": 0.05133333333333335, \"recall\": 0.005855676397015814}, {\"cutoff\": 41, \"precision\": 0.05133333333333335, \"recall\": 0.005855676397015814}, {\"cutoff\": 46, \"precision\": 0.05133333333333335, \"recall\": 0.005855676397015814}], \"precision_recall_by_user\": [{\"count\": 148, \"cutoff\": 1, \"STATE\": 1, \"precision\": 0.0, \"recall\": 0.0}, {\"count\": 148, \"cutoff\": 2, \"STATE\": 1, \"precision\": 0.0, \"recall\": 0.0}, {\"count\": 148, \"cutoff\": 3, \"STATE\": 1, \"precision\": 0.0, \"recall\": 0.0}, {\"count\": 148, \"cutoff\": 4, \"STATE\": 1, \"precision\": 0.0, \"recall\": 0.0}, {\"count\": 148, \"cutoff\": 5, \"STATE\": 1, \"precision\": 0.0, \"recall\": 0.0}, {\"count\": 148, \"cutoff\": 6, \"STATE\": 1, \"precision\": 0.0, \"recall\": 0.0}, {\"count\": 148, \"cutoff\": 7, \"STATE\": 1, \"precision\": 0.0, \"recall\": 0.0}, {\"count\": 148, \"cutoff\": 8, \"STATE\": 1, \"precision\": 0.0, \"recall\": 0.0}, {\"count\": 148, \"cutoff\": 9, \"STATE\": 1, \"precision\": 0.0, \"recall\": 0.0}, {\"count\": 148, \"cutoff\": 10, \"STATE\": 1, \"precision\": 0.0, \"recall\": 0.0}, {\"count\": 148, \"cutoff\": 11, \"STATE\": 1, \"precision\": 0.0, \"recall\": 0.0}, {\"count\": 148, \"cutoff\": 16, \"STATE\": 1, \"precision\": 0.0, \"recall\": 0.0}, {\"count\": 148, \"cutoff\": 21, \"STATE\": 1, \"precision\": 0.0, \"recall\": 0.0}, {\"count\": 148, \"cutoff\": 26, \"STATE\": 1, \"precision\": 0.0, \"recall\": 0.0}, {\"count\": 148, \"cutoff\": 31, \"STATE\": 1, \"precision\": 0.0, \"recall\": 0.0}, {\"count\": 148, \"cutoff\": 36, \"STATE\": 1, \"precision\": 0.0, \"recall\": 0.0}, {\"count\": 148, \"cutoff\": 41, \"STATE\": 1, \"precision\": 0.0, \"recall\": 0.0}, {\"count\": 148, \"cutoff\": 46, \"STATE\": 1, \"precision\": 0.0, \"recall\": 0.0}, {\"count\": 13, \"cutoff\": 1, \"STATE\": 2, \"precision\": 1.0, \"recall\": 0.07692307692307693}, {\"count\": 13, \"cutoff\": 2, \"STATE\": 2, \"precision\": 0.5, \"recall\": 0.07692307692307693}, {\"count\": 13, \"cutoff\": 3, \"STATE\": 2, \"precision\": 0.3333333333333333, \"recall\": 0.07692307692307693}, {\"count\": 13, \"cutoff\": 4, \"STATE\": 2, \"precision\": 0.25, \"recall\": 0.07692307692307693}, {\"count\": 13, \"cutoff\": 5, \"STATE\": 2, \"precision\": 0.25, \"recall\": 0.07692307692307693}, {\"count\": 13, \"cutoff\": 6, \"STATE\": 2, \"precision\": 0.25, \"recall\": 0.07692307692307693}, {\"count\": 13, \"cutoff\": 7, \"STATE\": 2, \"precision\": 0.25, \"recall\": 0.07692307692307693}, {\"count\": 13, \"cutoff\": 8, \"STATE\": 2, \"precision\": 0.25, \"recall\": 0.07692307692307693}, {\"count\": 13, \"cutoff\": 9, \"STATE\": 2, \"precision\": 0.25, \"recall\": 0.07692307692307693}, {\"count\": 13, \"cutoff\": 10, \"STATE\": 2, \"precision\": 0.25, \"recall\": 0.07692307692307693}, {\"count\": 13, \"cutoff\": 11, \"STATE\": 2, \"precision\": 0.25, \"recall\": 0.07692307692307693}, {\"count\": 13, \"cutoff\": 16, \"STATE\": 2, \"precision\": 0.25, \"recall\": 0.07692307692307693}, {\"count\": 13, \"cutoff\": 21, \"STATE\": 2, \"precision\": 0.25, \"recall\": 0.07692307692307693}, {\"count\": 13, \"cutoff\": 26, \"STATE\": 2, \"precision\": 0.25, \"recall\": 0.07692307692307693}, {\"count\": 13, \"cutoff\": 31, \"STATE\": 2, \"precision\": 0.25, \"recall\": 0.07692307692307693}, {\"count\": 13, \"cutoff\": 36, \"STATE\": 2, \"precision\": 0.25, \"recall\": 0.07692307692307693}, {\"count\": 13, \"cutoff\": 41, \"STATE\": 2, \"precision\": 0.25, \"recall\": 0.07692307692307693}, {\"count\": 13, \"cutoff\": 46, \"STATE\": 2, \"precision\": 0.25, \"recall\": 0.07692307692307693}, {\"count\": 123, \"cutoff\": 1, \"STATE\": 4, \"precision\": 1.0, \"recall\": 0.008130081300813009}, {\"count\": 123, \"cutoff\": 2, \"STATE\": 4, \"precision\": 0.5, \"recall\": 0.008130081300813009}, {\"count\": 123, \"cutoff\": 3, \"STATE\": 4, \"precision\": 0.3333333333333333, \"recall\": 0.008130081300813009}, {\"count\": 123, \"cutoff\": 4, \"STATE\": 4, \"precision\": 0.25, \"recall\": 0.008130081300813009}, {\"count\": 123, \"cutoff\": 5, \"STATE\": 4, \"precision\": 0.25, \"recall\": 0.008130081300813009}, {\"count\": 123, \"cutoff\": 6, \"STATE\": 4, \"precision\": 0.25, \"recall\": 0.008130081300813009}, {\"count\": 123, \"cutoff\": 7, \"STATE\": 4, \"precision\": 0.25, \"recall\": 0.008130081300813009}, {\"count\": 123, \"cutoff\": 8, \"STATE\": 4, \"precision\": 0.25, \"recall\": 0.008130081300813009}, {\"count\": 123, \"cutoff\": 9, \"STATE\": 4, \"precision\": 0.25, \"recall\": 0.008130081300813009}, {\"count\": 123, \"cutoff\": 10, \"STATE\": 4, \"precision\": 0.25, \"recall\": 0.008130081300813009}, {\"count\": 123, \"cutoff\": 11, \"STATE\": 4, \"precision\": 0.25, \"recall\": 0.008130081300813009}, {\"count\": 123, \"cutoff\": 16, \"STATE\": 4, \"precision\": 0.25, \"recall\": 0.008130081300813009}, {\"count\": 123, \"cutoff\": 21, \"STATE\": 4, \"precision\": 0.25, \"recall\": 0.008130081300813009}, {\"count\": 123, \"cutoff\": 26, \"STATE\": 4, \"precision\": 0.25, \"recall\": 0.008130081300813009}, {\"count\": 123, \"cutoff\": 31, \"STATE\": 4, \"precision\": 0.25, \"recall\": 0.008130081300813009}, {\"count\": 123, \"cutoff\": 36, \"STATE\": 4, \"precision\": 0.25, \"recall\": 0.008130081300813009}, {\"count\": 123, \"cutoff\": 41, \"STATE\": 4, \"precision\": 0.25, \"recall\": 0.008130081300813009}, {\"count\": 123, \"cutoff\": 46, \"STATE\": 4, \"precision\": 0.25, \"recall\": 0.008130081300813009}, {\"count\": 88, \"cutoff\": 1, \"STATE\": 5, \"precision\": 0.0, \"recall\": 0.0}, {\"count\": 88, \"cutoff\": 2, \"STATE\": 5, \"precision\": 0.0, \"recall\": 0.0}, {\"count\": 88, \"cutoff\": 3, \"STATE\": 5, \"precision\": 0.0, \"recall\": 0.0}, {\"count\": 88, \"cutoff\": 4, \"STATE\": 5, \"precision\": 0.0, \"recall\": 0.0}, {\"count\": 88, \"cutoff\": 5, \"STATE\": 5, \"precision\": 0.0, \"recall\": 0.0}, {\"count\": 88, \"cutoff\": 6, \"STATE\": 5, \"precision\": 0.0, \"recall\": 0.0}, {\"count\": 88, \"cutoff\": 7, \"STATE\": 5, \"precision\": 0.0, \"recall\": 0.0}, {\"count\": 88, \"cutoff\": 8, \"STATE\": 5, \"precision\": 0.0, \"recall\": 0.0}, {\"count\": 88, \"cutoff\": 9, \"STATE\": 5, \"precision\": 0.0, \"recall\": 0.0}, {\"count\": 88, \"cutoff\": 10, \"STATE\": 5, \"precision\": 0.0, \"recall\": 0.0}, {\"count\": 88, \"cutoff\": 11, \"STATE\": 5, \"precision\": 0.0, \"recall\": 0.0}, {\"count\": 88, \"cutoff\": 16, \"STATE\": 5, \"precision\": 0.0, \"recall\": 0.0}, {\"count\": 88, \"cutoff\": 21, \"STATE\": 5, \"precision\": 0.0, \"recall\": 0.0}, {\"count\": 88, \"cutoff\": 26, \"STATE\": 5, \"precision\": 0.0, \"recall\": 0.0}, {\"count\": 88, \"cutoff\": 31, \"STATE\": 5, \"precision\": 0.0, \"recall\": 0.0}, {\"count\": 88, \"cutoff\": 36, \"STATE\": 5, \"precision\": 0.0, \"recall\": 0.0}, {\"count\": 88, \"cutoff\": 41, \"STATE\": 5, \"precision\": 0.0, \"recall\": 0.0}, {\"count\": 88, \"cutoff\": 46, \"STATE\": 5, \"precision\": 0.0, \"recall\": 0.0}, {\"count\": 573, \"cutoff\": 1, \"STATE\": 6, \"precision\": 0.0, \"recall\": 0.0}, {\"count\": 573, \"cutoff\": 2, \"STATE\": 6, \"precision\": 0.0, \"recall\": 0.0}, {\"count\": 573, \"cutoff\": 3, \"STATE\": 6, \"precision\": 0.0, \"recall\": 0.0}, {\"count\": 573, \"cutoff\": 4, \"STATE\": 6, \"precision\": 0.0, \"recall\": 0.0}, {\"count\": 573, \"cutoff\": 5, \"STATE\": 6, \"precision\": 0.0, \"recall\": 0.0}, {\"count\": 573, \"cutoff\": 6, \"STATE\": 6, \"precision\": 0.0, \"recall\": 0.0}, {\"count\": 573, \"cutoff\": 7, \"STATE\": 6, \"precision\": 0.0, \"recall\": 0.0}, {\"count\": 573, \"cutoff\": 8, \"STATE\": 6, \"precision\": 0.0, \"recall\": 0.0}, {\"count\": 573, \"cutoff\": 9, \"STATE\": 6, \"precision\": 0.0, \"recall\": 0.0}, {\"count\": 573, \"cutoff\": 10, \"STATE\": 6, \"precision\": 0.0, \"recall\": 0.0}, {\"count\": 573, \"cutoff\": 11, \"STATE\": 6, \"precision\": 0.0, \"recall\": 0.0}, {\"count\": 573, \"cutoff\": 16, \"STATE\": 6, \"precision\": 0.0, \"recall\": 0.0}, {\"count\": 573, \"cutoff\": 21, \"STATE\": 6, \"precision\": 0.0, \"recall\": 0.0}, {\"count\": 573, \"cutoff\": 26, \"STATE\": 6, \"precision\": 0.0, \"recall\": 0.0}, {\"count\": 573, \"cutoff\": 31, \"STATE\": 6, \"precision\": 0.0, \"recall\": 0.0}, {\"count\": 573, \"cutoff\": 36, \"STATE\": 6, \"precision\": 0.0, \"recall\": 0.0}, {\"count\": 573, \"cutoff\": 41, \"STATE\": 6, \"precision\": 0.0, \"recall\": 0.0}, {\"count\": 573, \"cutoff\": 46, \"STATE\": 6, \"precision\": 0.0, \"recall\": 0.0}, {\"count\": 101, \"cutoff\": 1, \"STATE\": 8, \"precision\": 0.0, \"recall\": 0.0}, {\"count\": 101, \"cutoff\": 2, \"STATE\": 8, \"precision\": 0.0, \"recall\": 0.0}, {\"count\": 101, \"cutoff\": 3, \"STATE\": 8, \"precision\": 0.3333333333333333, \"recall\": 0.009900990099009901}, {\"count\": 101, \"cutoff\": 4, \"STATE\": 8, \"precision\": 0.25, \"recall\": 0.009900990099009901}, {\"count\": 101, \"cutoff\": 5, \"STATE\": 8, \"precision\": 0.2, \"recall\": 0.009900990099009901}, {\"count\": 101, \"cutoff\": 6, \"STATE\": 8, \"precision\": 0.2, \"recall\": 0.009900990099009901}, {\"count\": 101, \"cutoff\": 7, \"STATE\": 8, \"precision\": 0.2, \"recall\": 0.009900990099009901}, {\"count\": 101, \"cutoff\": 8, \"STATE\": 8, \"precision\": 0.2, \"recall\": 0.009900990099009901}, {\"count\": 101, \"cutoff\": 9, \"STATE\": 8, \"precision\": 0.2, \"recall\": 0.009900990099009901}, {\"count\": 101, \"cutoff\": 10, \"STATE\": 8, \"precision\": 0.2, \"recall\": 0.009900990099009901}, {\"count\": 101, \"cutoff\": 11, \"STATE\": 8, \"precision\": 0.2, \"recall\": 0.009900990099009901}, {\"count\": 101, \"cutoff\": 16, \"STATE\": 8, \"precision\": 0.2, \"recall\": 0.009900990099009901}, {\"count\": 101, \"cutoff\": 21, \"STATE\": 8, \"precision\": 0.2, \"recall\": 0.009900990099009901}, {\"count\": 101, \"cutoff\": 26, \"STATE\": 8, \"precision\": 0.2, \"recall\": 0.009900990099009901}, {\"count\": 101, \"cutoff\": 31, \"STATE\": 8, \"precision\": 0.2, \"recall\": 0.009900990099009901}, {\"count\": 101, \"cutoff\": 36, \"STATE\": 8, \"precision\": 0.2, \"recall\": 0.009900990099009901}, {\"count\": 101, \"cutoff\": 41, \"STATE\": 8, \"precision\": 0.2, \"recall\": 0.009900990099009901}, {\"count\": 101, \"cutoff\": 46, \"STATE\": 8, \"precision\": 0.2, \"recall\": 0.009900990099009901}, {\"count\": 54, \"cutoff\": 1, \"STATE\": 9, \"precision\": 0.0, \"recall\": 0.0}, {\"count\": 54, \"cutoff\": 2, \"STATE\": 9, \"precision\": 0.0, \"recall\": 0.0}, {\"count\": 54, \"cutoff\": 3, \"STATE\": 9, \"precision\": 0.0, \"recall\": 0.0}, {\"count\": 54, \"cutoff\": 4, \"STATE\": 9, \"precision\": 0.0, \"recall\": 0.0}, {\"count\": 54, \"cutoff\": 5, \"STATE\": 9, \"precision\": 0.0, \"recall\": 0.0}, {\"count\": 54, \"cutoff\": 6, \"STATE\": 9, \"precision\": 0.0, \"recall\": 0.0}, {\"count\": 54, \"cutoff\": 7, \"STATE\": 9, \"precision\": 0.0, \"recall\": 0.0}, {\"count\": 54, \"cutoff\": 8, \"STATE\": 9, \"precision\": 0.0, \"recall\": 0.0}, {\"count\": 54, \"cutoff\": 9, \"STATE\": 9, \"precision\": 0.0, \"recall\": 0.0}, {\"count\": 54, \"cutoff\": 10, \"STATE\": 9, \"precision\": 0.0, \"recall\": 0.0}, {\"count\": 54, \"cutoff\": 11, \"STATE\": 9, \"precision\": 0.0, \"recall\": 0.0}, {\"count\": 54, \"cutoff\": 16, \"STATE\": 9, \"precision\": 0.0, \"recall\": 0.0}, {\"count\": 54, \"cutoff\": 21, \"STATE\": 9, \"precision\": 0.0, \"recall\": 0.0}, {\"count\": 54, \"cutoff\": 26, \"STATE\": 9, \"precision\": 0.0, \"recall\": 0.0}, {\"count\": 54, \"cutoff\": 31, \"STATE\": 9, \"precision\": 0.0, \"recall\": 0.0}, {\"count\": 54, \"cutoff\": 36, \"STATE\": 9, \"precision\": 0.0, \"recall\": 0.0}, {\"count\": 54, \"cutoff\": 41, \"STATE\": 9, \"precision\": 0.0, \"recall\": 0.0}, {\"count\": 54, \"cutoff\": 46, \"STATE\": 9, \"precision\": 0.0, \"recall\": 0.0}, {\"count\": 13, \"cutoff\": 1, \"STATE\": 10, \"precision\": 0.0, \"recall\": 0.0}, {\"count\": 13, \"cutoff\": 2, \"STATE\": 10, \"precision\": 0.0, \"recall\": 0.0}, {\"count\": 13, \"cutoff\": 3, \"STATE\": 10, \"precision\": 0.0, \"recall\": 0.0}, {\"count\": 13, \"cutoff\": 4, \"STATE\": 10, \"precision\": 0.0, \"recall\": 0.0}, {\"count\": 13, \"cutoff\": 5, \"STATE\": 10, \"precision\": 0.0, \"recall\": 0.0}, {\"count\": 13, \"cutoff\": 6, \"STATE\": 10, \"precision\": 0.0, \"recall\": 0.0}, {\"count\": 13, \"cutoff\": 7, \"STATE\": 10, \"precision\": 0.0, \"recall\": 0.0}, {\"count\": 13, \"cutoff\": 8, \"STATE\": 10, \"precision\": 0.0, \"recall\": 0.0}, {\"count\": 13, \"cutoff\": 9, \"STATE\": 10, \"precision\": 0.0, \"recall\": 0.0}, {\"count\": 13, \"cutoff\": 10, \"STATE\": 10, \"precision\": 0.0, \"recall\": 0.0}, {\"count\": 13, \"cutoff\": 11, \"STATE\": 10, \"precision\": 0.0, \"recall\": 0.0}, {\"count\": 13, \"cutoff\": 16, \"STATE\": 10, \"precision\": 0.0, \"recall\": 0.0}, {\"count\": 13, \"cutoff\": 21, \"STATE\": 10, \"precision\": 0.0, \"recall\": 0.0}, {\"count\": 13, \"cutoff\": 26, \"STATE\": 10, \"precision\": 0.0, \"recall\": 0.0}, {\"count\": 13, \"cutoff\": 31, \"STATE\": 10, \"precision\": 0.0, \"recall\": 0.0}, {\"count\": 13, \"cutoff\": 36, \"STATE\": 10, \"precision\": 0.0, \"recall\": 0.0}, {\"count\": 13, \"cutoff\": 41, \"STATE\": 10, \"precision\": 0.0, \"recall\": 0.0}, {\"count\": 13, \"cutoff\": 46, \"STATE\": 10, \"precision\": 0.0, \"recall\": 0.0}, {\"count\": 303, \"cutoff\": 1, \"STATE\": 12, \"precision\": 0.0, \"recall\": 0.0}, {\"count\": 303, \"cutoff\": 2, \"STATE\": 12, \"precision\": 0.0, \"recall\": 0.0}, {\"count\": 303, \"cutoff\": 3, \"STATE\": 12, \"precision\": 0.0, \"recall\": 0.0}, {\"count\": 303, \"cutoff\": 4, \"STATE\": 12, \"precision\": 0.0, \"recall\": 0.0}, {\"count\": 303, \"cutoff\": 5, \"STATE\": 12, \"precision\": 0.0, \"recall\": 0.0}, {\"count\": 303, \"cutoff\": 6, \"STATE\": 12, \"precision\": 0.0, \"recall\": 0.0}, {\"count\": 303, \"cutoff\": 7, \"STATE\": 12, \"precision\": 0.0, \"recall\": 0.0}, {\"count\": 303, \"cutoff\": 8, \"STATE\": 12, \"precision\": 0.0, \"recall\": 0.0}, {\"count\": 303, \"cutoff\": 9, \"STATE\": 12, \"precision\": 0.0, \"recall\": 0.0}, {\"count\": 303, \"cutoff\": 10, \"STATE\": 12, \"precision\": 0.0, \"recall\": 0.0}, {\"count\": 303, \"cutoff\": 11, \"STATE\": 12, \"precision\": 0.0, \"recall\": 0.0}, {\"count\": 303, \"cutoff\": 16, \"STATE\": 12, \"precision\": 0.0, \"recall\": 0.0}, {\"count\": 303, \"cutoff\": 21, \"STATE\": 12, \"precision\": 0.0, \"recall\": 0.0}, {\"count\": 303, \"cutoff\": 26, \"STATE\": 12, \"precision\": 0.0, \"recall\": 0.0}, {\"count\": 303, \"cutoff\": 31, \"STATE\": 12, \"precision\": 0.0, \"recall\": 0.0}, {\"count\": 303, \"cutoff\": 36, \"STATE\": 12, \"precision\": 0.0, \"recall\": 0.0}, {\"count\": 303, \"cutoff\": 41, \"STATE\": 12, \"precision\": 0.0, \"recall\": 0.0}, {\"count\": 303, \"cutoff\": 46, \"STATE\": 12, \"precision\": 0.0, \"recall\": 0.0}, {\"count\": 261, \"cutoff\": 1, \"STATE\": 13, \"precision\": 0.0, \"recall\": 0.0}, {\"count\": 261, \"cutoff\": 2, \"STATE\": 13, \"precision\": 0.0, \"recall\": 0.0}, {\"count\": 261, \"cutoff\": 3, \"STATE\": 13, \"precision\": 0.0, \"recall\": 0.0}, {\"count\": 261, \"cutoff\": 4, \"STATE\": 13, \"precision\": 0.0, \"recall\": 0.0}, {\"count\": 261, \"cutoff\": 5, \"STATE\": 13, \"precision\": 0.0, \"recall\": 0.0}, {\"count\": 261, \"cutoff\": 6, \"STATE\": 13, \"precision\": 0.0, \"recall\": 0.0}, {\"count\": 261, \"cutoff\": 7, \"STATE\": 13, \"precision\": 0.0, \"recall\": 0.0}, {\"count\": 261, \"cutoff\": 8, \"STATE\": 13, \"precision\": 0.0, \"recall\": 0.0}, {\"count\": 261, \"cutoff\": 9, \"STATE\": 13, \"precision\": 0.0, \"recall\": 0.0}, {\"count\": 261, \"cutoff\": 10, \"STATE\": 13, \"precision\": 0.0, \"recall\": 0.0}, {\"count\": 261, \"cutoff\": 11, \"STATE\": 13, \"precision\": 0.0, \"recall\": 0.0}, {\"count\": 261, \"cutoff\": 16, \"STATE\": 13, \"precision\": 0.0, \"recall\": 0.0}, {\"count\": 261, \"cutoff\": 21, \"STATE\": 13, \"precision\": 0.0, \"recall\": 0.0}, {\"count\": 261, \"cutoff\": 26, \"STATE\": 13, \"precision\": 0.0, \"recall\": 0.0}, {\"count\": 261, \"cutoff\": 31, \"STATE\": 13, \"precision\": 0.0, \"recall\": 0.0}, {\"count\": 261, \"cutoff\": 36, \"STATE\": 13, \"precision\": 0.0, \"recall\": 0.0}, {\"count\": 261, \"cutoff\": 41, \"STATE\": 13, \"precision\": 0.0, \"recall\": 0.0}, {\"count\": 261, \"cutoff\": 46, \"STATE\": 13, \"precision\": 0.0, \"recall\": 0.0}, {\"count\": 14, \"cutoff\": 1, \"STATE\": 15, \"precision\": 0.0, \"recall\": 0.0}, {\"count\": 14, \"cutoff\": 2, \"STATE\": 15, \"precision\": 0.0, \"recall\": 0.0}, {\"count\": 14, \"cutoff\": 3, \"STATE\": 15, \"precision\": 0.0, \"recall\": 0.0}, {\"count\": 14, \"cutoff\": 4, \"STATE\": 15, \"precision\": 0.0, \"recall\": 0.0}, {\"count\": 14, \"cutoff\": 5, \"STATE\": 15, \"precision\": 0.0, \"recall\": 0.0}, {\"count\": 14, \"cutoff\": 6, \"STATE\": 15, \"precision\": 0.0, \"recall\": 0.0}, {\"count\": 14, \"cutoff\": 7, \"STATE\": 15, \"precision\": 0.0, \"recall\": 0.0}, {\"count\": 14, \"cutoff\": 8, \"STATE\": 15, \"precision\": 0.0, \"recall\": 0.0}, {\"count\": 14, \"cutoff\": 9, \"STATE\": 15, \"precision\": 0.0, \"recall\": 0.0}, {\"count\": 14, \"cutoff\": 10, \"STATE\": 15, \"precision\": 0.0, \"recall\": 0.0}, {\"count\": 14, \"cutoff\": 11, \"STATE\": 15, \"precision\": 0.0, \"recall\": 0.0}, {\"count\": 14, \"cutoff\": 16, \"STATE\": 15, \"precision\": 0.0, \"recall\": 0.0}, {\"count\": 14, \"cutoff\": 21, \"STATE\": 15, \"precision\": 0.0, \"recall\": 0.0}, {\"count\": 14, \"cutoff\": 26, \"STATE\": 15, \"precision\": 0.0, \"recall\": 0.0}, {\"count\": 14, \"cutoff\": 31, \"STATE\": 15, \"precision\": 0.0, \"recall\": 0.0}, {\"count\": 14, \"cutoff\": 36, \"STATE\": 15, \"precision\": 0.0, \"recall\": 0.0}, {\"count\": 14, \"cutoff\": 41, \"STATE\": 15, \"precision\": 0.0, \"recall\": 0.0}, {\"count\": 14, \"cutoff\": 46, \"STATE\": 15, \"precision\": 0.0, \"recall\": 0.0}, {\"count\": 33, \"cutoff\": 1, \"STATE\": 16, \"precision\": 0.0, \"recall\": 0.0}, {\"count\": 33, \"cutoff\": 2, \"STATE\": 16, \"precision\": 0.0, \"recall\": 0.0}, {\"count\": 33, \"cutoff\": 3, \"STATE\": 16, \"precision\": 0.0, \"recall\": 0.0}, {\"count\": 33, \"cutoff\": 4, \"STATE\": 16, \"precision\": 0.25, \"recall\": 0.030303030303030304}, {\"count\": 33, \"cutoff\": 5, \"STATE\": 16, \"precision\": 0.25, \"recall\": 0.030303030303030304}, {\"count\": 33, \"cutoff\": 6, \"STATE\": 16, \"precision\": 0.25, \"recall\": 0.030303030303030304}, {\"count\": 33, \"cutoff\": 7, \"STATE\": 16, \"precision\": 0.25, \"recall\": 0.030303030303030304}, {\"count\": 33, \"cutoff\": 8, \"STATE\": 16, \"precision\": 0.25, \"recall\": 0.030303030303030304}, {\"count\": 33, \"cutoff\": 9, \"STATE\": 16, \"precision\": 0.25, \"recall\": 0.030303030303030304}, {\"count\": 33, \"cutoff\": 10, \"STATE\": 16, \"precision\": 0.25, \"recall\": 0.030303030303030304}, {\"count\": 33, \"cutoff\": 11, \"STATE\": 16, \"precision\": 0.25, \"recall\": 0.030303030303030304}, {\"count\": 33, \"cutoff\": 16, \"STATE\": 16, \"precision\": 0.25, \"recall\": 0.030303030303030304}, {\"count\": 33, \"cutoff\": 21, \"STATE\": 16, \"precision\": 0.25, \"recall\": 0.030303030303030304}, {\"count\": 33, \"cutoff\": 26, \"STATE\": 16, \"precision\": 0.25, \"recall\": 0.030303030303030304}, {\"count\": 33, \"cutoff\": 31, \"STATE\": 16, \"precision\": 0.25, \"recall\": 0.030303030303030304}, {\"count\": 33, \"cutoff\": 36, \"STATE\": 16, \"precision\": 0.25, \"recall\": 0.030303030303030304}, {\"count\": 33, \"cutoff\": 41, \"STATE\": 16, \"precision\": 0.25, \"recall\": 0.030303030303030304}, {\"count\": 33, \"cutoff\": 46, \"STATE\": 16, \"precision\": 0.25, \"recall\": 0.030303030303030304}, {\"count\": 167, \"cutoff\": 1, \"STATE\": 17, \"precision\": 0.0, \"recall\": 0.0}, {\"count\": 167, \"cutoff\": 2, \"STATE\": 17, \"precision\": 0.0, \"recall\": 0.0}, {\"count\": 167, \"cutoff\": 3, \"STATE\": 17, \"precision\": 0.0, \"recall\": 0.0}, {\"count\": 167, \"cutoff\": 4, \"STATE\": 17, \"precision\": 0.0, \"recall\": 0.0}, {\"count\": 167, \"cutoff\": 5, \"STATE\": 17, \"precision\": 0.0, \"recall\": 0.0}, {\"count\": 167, \"cutoff\": 6, \"STATE\": 17, \"precision\": 0.0, \"recall\": 0.0}, {\"count\": 167, \"cutoff\": 7, \"STATE\": 17, \"precision\": 0.0, \"recall\": 0.0}, {\"count\": 167, \"cutoff\": 8, \"STATE\": 17, \"precision\": 0.0, \"recall\": 0.0}, {\"count\": 167, \"cutoff\": 9, \"STATE\": 17, \"precision\": 0.0, \"recall\": 0.0}, {\"count\": 167, \"cutoff\": 10, \"STATE\": 17, \"precision\": 0.0, \"recall\": 0.0}, {\"count\": 167, \"cutoff\": 11, \"STATE\": 17, \"precision\": 0.0, \"recall\": 0.0}, {\"count\": 167, \"cutoff\": 16, \"STATE\": 17, \"precision\": 0.0, \"recall\": 0.0}, {\"count\": 167, \"cutoff\": 21, \"STATE\": 17, \"precision\": 0.0, \"recall\": 0.0}, {\"count\": 167, \"cutoff\": 26, \"STATE\": 17, \"precision\": 0.0, \"recall\": 0.0}, {\"count\": 167, \"cutoff\": 31, \"STATE\": 17, \"precision\": 0.0, \"recall\": 0.0}, {\"count\": 167, \"cutoff\": 36, \"STATE\": 17, \"precision\": 0.0, \"recall\": 0.0}, {\"count\": 167, \"cutoff\": 41, \"STATE\": 17, \"precision\": 0.0, \"recall\": 0.0}, {\"count\": 167, \"cutoff\": 46, \"STATE\": 17, \"precision\": 0.0, \"recall\": 0.0}, {\"count\": 166, \"cutoff\": 1, \"STATE\": 18, \"precision\": 0.0, \"recall\": 0.0}, {\"count\": 166, \"cutoff\": 2, \"STATE\": 18, \"precision\": 0.0, \"recall\": 0.0}, {\"count\": 166, \"cutoff\": 3, \"STATE\": 18, \"precision\": 0.0, \"recall\": 0.0}, {\"count\": 166, \"cutoff\": 4, \"STATE\": 18, \"precision\": 0.0, \"recall\": 0.0}, {\"count\": 166, \"cutoff\": 5, \"STATE\": 18, \"precision\": 0.0, \"recall\": 0.0}, {\"count\": 166, \"cutoff\": 6, \"STATE\": 18, \"precision\": 0.0, \"recall\": 0.0}, {\"count\": 166, \"cutoff\": 7, \"STATE\": 18, \"precision\": 0.0, \"recall\": 0.0}, {\"count\": 166, \"cutoff\": 8, \"STATE\": 18, \"precision\": 0.0, \"recall\": 0.0}, {\"count\": 166, \"cutoff\": 9, \"STATE\": 18, \"precision\": 0.0, \"recall\": 0.0}, {\"count\": 166, \"cutoff\": 10, \"STATE\": 18, \"precision\": 0.0, \"recall\": 0.0}, {\"count\": 166, \"cutoff\": 11, \"STATE\": 18, \"precision\": 0.0, \"recall\": 0.0}, {\"count\": 166, \"cutoff\": 16, \"STATE\": 18, \"precision\": 0.0, \"recall\": 0.0}, {\"count\": 166, \"cutoff\": 21, \"STATE\": 18, \"precision\": 0.0, \"recall\": 0.0}, {\"count\": 166, \"cutoff\": 26, \"STATE\": 18, \"precision\": 0.0, \"recall\": 0.0}, {\"count\": 166, \"cutoff\": 31, \"STATE\": 18, \"precision\": 0.0, \"recall\": 0.0}, {\"count\": 166, \"cutoff\": 36, \"STATE\": 18, \"precision\": 0.0, \"recall\": 0.0}, {\"count\": 166, \"cutoff\": 41, \"STATE\": 18, \"precision\": 0.0, \"recall\": 0.0}, {\"count\": 166, \"cutoff\": 46, \"STATE\": 18, \"precision\": 0.0, \"recall\": 0.0}, {\"count\": 51, \"cutoff\": 1, \"STATE\": 19, \"precision\": 0.0, \"recall\": 0.0}, {\"count\": 51, \"cutoff\": 2, \"STATE\": 19, \"precision\": 0.0, \"recall\": 0.0}, {\"count\": 51, \"cutoff\": 3, \"STATE\": 19, \"precision\": 0.0, \"recall\": 0.0}, {\"count\": 51, \"cutoff\": 4, \"STATE\": 19, \"precision\": 0.0, \"recall\": 0.0}, {\"count\": 51, \"cutoff\": 5, \"STATE\": 19, \"precision\": 0.0, \"recall\": 0.0}, {\"count\": 51, \"cutoff\": 6, \"STATE\": 19, \"precision\": 0.0, \"recall\": 0.0}, {\"count\": 51, \"cutoff\": 7, \"STATE\": 19, \"precision\": 0.0, \"recall\": 0.0}, {\"count\": 51, \"cutoff\": 8, \"STATE\": 19, \"precision\": 0.0, \"recall\": 0.0}, {\"count\": 51, \"cutoff\": 9, \"STATE\": 19, \"precision\": 0.0, \"recall\": 0.0}, {\"count\": 51, \"cutoff\": 10, \"STATE\": 19, \"precision\": 0.0, \"recall\": 0.0}, {\"count\": 51, \"cutoff\": 11, \"STATE\": 19, \"precision\": 0.0, \"recall\": 0.0}, {\"count\": 51, \"cutoff\": 16, \"STATE\": 19, \"precision\": 0.0, \"recall\": 0.0}, {\"count\": 51, \"cutoff\": 21, \"STATE\": 19, \"precision\": 0.0, \"recall\": 0.0}, {\"count\": 51, \"cutoff\": 26, \"STATE\": 19, \"precision\": 0.0, \"recall\": 0.0}, {\"count\": 51, \"cutoff\": 31, \"STATE\": 19, \"precision\": 0.0, \"recall\": 0.0}, {\"count\": 51, \"cutoff\": 36, \"STATE\": 19, \"precision\": 0.0, \"recall\": 0.0}, {\"count\": 51, \"cutoff\": 41, \"STATE\": 19, \"precision\": 0.0, \"recall\": 0.0}, {\"count\": 51, \"cutoff\": 46, \"STATE\": 19, \"precision\": 0.0, \"recall\": 0.0}, {\"count\": 63, \"cutoff\": 1, \"STATE\": 20, \"precision\": 0.0, \"recall\": 0.0}, {\"count\": 63, \"cutoff\": 2, \"STATE\": 20, \"precision\": 0.0, \"recall\": 0.0}, {\"count\": 63, \"cutoff\": 3, \"STATE\": 20, \"precision\": 0.0, \"recall\": 0.0}, {\"count\": 63, \"cutoff\": 4, \"STATE\": 20, \"precision\": 0.0, \"recall\": 0.0}, {\"count\": 63, \"cutoff\": 5, \"STATE\": 20, \"precision\": 0.0, \"recall\": 0.0}, {\"count\": 63, \"cutoff\": 6, \"STATE\": 20, \"precision\": 0.0, \"recall\": 0.0}, {\"count\": 63, \"cutoff\": 7, \"STATE\": 20, \"precision\": 0.0, \"recall\": 0.0}, {\"count\": 63, \"cutoff\": 8, \"STATE\": 20, \"precision\": 0.0, \"recall\": 0.0}, {\"count\": 63, \"cutoff\": 9, \"STATE\": 20, \"precision\": 0.0, \"recall\": 0.0}, {\"count\": 63, \"cutoff\": 10, \"STATE\": 20, \"precision\": 0.0, \"recall\": 0.0}, {\"count\": 63, \"cutoff\": 11, \"STATE\": 20, \"precision\": 0.0, \"recall\": 0.0}, {\"count\": 63, \"cutoff\": 16, \"STATE\": 20, \"precision\": 0.0, \"recall\": 0.0}, {\"count\": 63, \"cutoff\": 21, \"STATE\": 20, \"precision\": 0.0, \"recall\": 0.0}, {\"count\": 63, \"cutoff\": 26, \"STATE\": 20, \"precision\": 0.0, \"recall\": 0.0}, {\"count\": 63, \"cutoff\": 31, \"STATE\": 20, \"precision\": 0.0, \"recall\": 0.0}, {\"count\": 63, \"cutoff\": 36, \"STATE\": 20, \"precision\": 0.0, \"recall\": 0.0}, {\"count\": 63, \"cutoff\": 41, \"STATE\": 20, \"precision\": 0.0, \"recall\": 0.0}, {\"count\": 63, \"cutoff\": 46, \"STATE\": 20, \"precision\": 0.0, \"recall\": 0.0}, {\"count\": 132, \"cutoff\": 1, \"STATE\": 21, \"precision\": 0.0, \"recall\": 0.0}, {\"count\": 132, \"cutoff\": 2, \"STATE\": 21, \"precision\": 0.0, \"recall\": 0.0}, {\"count\": 132, \"cutoff\": 3, \"STATE\": 21, \"precision\": 0.0, \"recall\": 0.0}, {\"count\": 132, \"cutoff\": 4, \"STATE\": 21, \"precision\": 0.0, \"recall\": 0.0}, {\"count\": 132, \"cutoff\": 5, \"STATE\": 21, \"precision\": 0.0, \"recall\": 0.0}, {\"count\": 132, \"cutoff\": 6, \"STATE\": 21, \"precision\": 0.0, \"recall\": 0.0}, {\"count\": 132, \"cutoff\": 7, \"STATE\": 21, \"precision\": 0.0, \"recall\": 0.0}, {\"count\": 132, \"cutoff\": 8, \"STATE\": 21, \"precision\": 0.0, \"recall\": 0.0}, {\"count\": 132, \"cutoff\": 9, \"STATE\": 21, \"precision\": 0.0, \"recall\": 0.0}, {\"count\": 132, \"cutoff\": 10, \"STATE\": 21, \"precision\": 0.0, \"recall\": 0.0}, {\"count\": 132, \"cutoff\": 11, \"STATE\": 21, \"precision\": 0.0, \"recall\": 0.0}, {\"count\": 132, \"cutoff\": 16, \"STATE\": 21, \"precision\": 0.0, \"recall\": 0.0}, {\"count\": 132, \"cutoff\": 21, \"STATE\": 21, \"precision\": 0.0, \"recall\": 0.0}, {\"count\": 132, \"cutoff\": 26, \"STATE\": 21, \"precision\": 0.0, \"recall\": 0.0}, {\"count\": 132, \"cutoff\": 31, \"STATE\": 21, \"precision\": 0.0, \"recall\": 0.0}, {\"count\": 132, \"cutoff\": 36, \"STATE\": 21, \"precision\": 0.0, \"recall\": 0.0}, {\"count\": 132, \"cutoff\": 41, \"STATE\": 21, \"precision\": 0.0, \"recall\": 0.0}, {\"count\": 132, \"cutoff\": 46, \"STATE\": 21, \"precision\": 0.0, \"recall\": 0.0}, {\"count\": 131, \"cutoff\": 1, \"STATE\": 22, \"precision\": 0.0, \"recall\": 0.0}, {\"count\": 131, \"cutoff\": 2, \"STATE\": 22, \"precision\": 0.0, \"recall\": 0.0}, {\"count\": 131, \"cutoff\": 3, \"STATE\": 22, \"precision\": 0.0, \"recall\": 0.0}, {\"count\": 131, \"cutoff\": 4, \"STATE\": 22, \"precision\": 0.0, \"recall\": 0.0}, {\"count\": 131, \"cutoff\": 5, \"STATE\": 22, \"precision\": 0.0, \"recall\": 0.0}, {\"count\": 131, \"cutoff\": 6, \"STATE\": 22, \"precision\": 0.0, \"recall\": 0.0}, {\"count\": 131, \"cutoff\": 7, \"STATE\": 22, \"precision\": 0.0, \"recall\": 0.0}, {\"count\": 131, \"cutoff\": 8, \"STATE\": 22, \"precision\": 0.0, \"recall\": 0.0}, {\"count\": 131, \"cutoff\": 9, \"STATE\": 22, \"precision\": 0.0, \"recall\": 0.0}, {\"count\": 131, \"cutoff\": 10, \"STATE\": 22, \"precision\": 0.0, \"recall\": 0.0}, {\"count\": 131, \"cutoff\": 11, \"STATE\": 22, \"precision\": 0.0, \"recall\": 0.0}, {\"count\": 131, \"cutoff\": 16, \"STATE\": 22, \"precision\": 0.0, \"recall\": 0.0}, {\"count\": 131, \"cutoff\": 21, \"STATE\": 22, \"precision\": 0.0, \"recall\": 0.0}, {\"count\": 131, \"cutoff\": 26, \"STATE\": 22, \"precision\": 0.0, \"recall\": 0.0}, {\"count\": 131, \"cutoff\": 31, \"STATE\": 22, \"precision\": 0.0, \"recall\": 0.0}, {\"count\": 131, \"cutoff\": 36, \"STATE\": 22, \"precision\": 0.0, \"recall\": 0.0}, {\"count\": 131, \"cutoff\": 41, \"STATE\": 22, \"precision\": 0.0, \"recall\": 0.0}, {\"count\": 131, \"cutoff\": 46, \"STATE\": 22, \"precision\": 0.0, \"recall\": 0.0}, {\"count\": 25, \"cutoff\": 1, \"STATE\": 23, \"precision\": 0.0, \"recall\": 0.0}, {\"count\": 25, \"cutoff\": 2, \"STATE\": 23, \"precision\": 0.0, \"recall\": 0.0}, {\"count\": 25, \"cutoff\": 3, \"STATE\": 23, \"precision\": 0.0, \"recall\": 0.0}, {\"count\": 25, \"cutoff\": 4, \"STATE\": 23, \"precision\": 0.0, \"recall\": 0.0}, {\"count\": 25, \"cutoff\": 5, \"STATE\": 23, \"precision\": 0.0, \"recall\": 0.0}, {\"count\": 25, \"cutoff\": 6, \"STATE\": 23, \"precision\": 0.0, \"recall\": 0.0}, {\"count\": 25, \"cutoff\": 7, \"STATE\": 23, \"precision\": 0.0, \"recall\": 0.0}, {\"count\": 25, \"cutoff\": 8, \"STATE\": 23, \"precision\": 0.0, \"recall\": 0.0}, {\"count\": 25, \"cutoff\": 9, \"STATE\": 23, \"precision\": 0.0, \"recall\": 0.0}, {\"count\": 25, \"cutoff\": 10, \"STATE\": 23, \"precision\": 0.0, \"recall\": 0.0}, {\"count\": 25, \"cutoff\": 11, \"STATE\": 23, \"precision\": 0.0, \"recall\": 0.0}, {\"count\": 25, \"cutoff\": 16, \"STATE\": 23, \"precision\": 0.0, \"recall\": 0.0}, {\"count\": 25, \"cutoff\": 21, \"STATE\": 23, \"precision\": 0.0, \"recall\": 0.0}, {\"count\": 25, \"cutoff\": 26, \"STATE\": 23, \"precision\": 0.0, \"recall\": 0.0}, {\"count\": 25, \"cutoff\": 31, \"STATE\": 23, \"precision\": 0.0, \"recall\": 0.0}, {\"count\": 25, \"cutoff\": 36, \"STATE\": 23, \"precision\": 0.0, \"recall\": 0.0}, {\"count\": 25, \"cutoff\": 41, \"STATE\": 23, \"precision\": 0.0, \"recall\": 0.0}, {\"count\": 25, \"cutoff\": 46, \"STATE\": 23, \"precision\": 0.0, \"recall\": 0.0}, {\"count\": 86, \"cutoff\": 1, \"STATE\": 24, \"precision\": 0.0, \"recall\": 0.0}, {\"count\": 86, \"cutoff\": 2, \"STATE\": 24, \"precision\": 0.0, \"recall\": 0.0}, {\"count\": 86, \"cutoff\": 3, \"STATE\": 24, \"precision\": 0.0, \"recall\": 0.0}, {\"count\": 86, \"cutoff\": 4, \"STATE\": 24, \"precision\": 0.0, \"recall\": 0.0}, {\"count\": 86, \"cutoff\": 5, \"STATE\": 24, \"precision\": 0.0, \"recall\": 0.0}, {\"count\": 86, \"cutoff\": 6, \"STATE\": 24, \"precision\": 0.0, \"recall\": 0.0}, {\"count\": 86, \"cutoff\": 7, \"STATE\": 24, \"precision\": 0.0, \"recall\": 0.0}, {\"count\": 86, \"cutoff\": 8, \"STATE\": 24, \"precision\": 0.0, \"recall\": 0.0}, {\"count\": 86, \"cutoff\": 9, \"STATE\": 24, \"precision\": 0.0, \"recall\": 0.0}, {\"count\": 86, \"cutoff\": 10, \"STATE\": 24, \"precision\": 0.0, \"recall\": 0.0}, {\"count\": 86, \"cutoff\": 11, \"STATE\": 24, \"precision\": 0.0, \"recall\": 0.0}, {\"count\": 86, \"cutoff\": 16, \"STATE\": 24, \"precision\": 0.0, \"recall\": 0.0}, {\"count\": 86, \"cutoff\": 21, \"STATE\": 24, \"precision\": 0.0, \"recall\": 0.0}, {\"count\": 86, \"cutoff\": 26, \"STATE\": 24, \"precision\": 0.0, \"recall\": 0.0}, {\"count\": 86, \"cutoff\": 31, \"STATE\": 24, \"precision\": 0.0, \"recall\": 0.0}, {\"count\": 86, \"cutoff\": 36, \"STATE\": 24, \"precision\": 0.0, \"recall\": 0.0}, {\"count\": 86, \"cutoff\": 41, \"STATE\": 24, \"precision\": 0.0, \"recall\": 0.0}, {\"count\": 86, \"cutoff\": 46, \"STATE\": 24, \"precision\": 0.0, \"recall\": 0.0}, {\"count\": 24, \"cutoff\": 1, \"STATE\": 25, \"precision\": 0.0, \"recall\": 0.0}, {\"count\": 24, \"cutoff\": 2, \"STATE\": 25, \"precision\": 0.0, \"recall\": 0.0}, {\"count\": 24, \"cutoff\": 3, \"STATE\": 25, \"precision\": 0.0, \"recall\": 0.0}, {\"count\": 24, \"cutoff\": 4, \"STATE\": 25, \"precision\": 0.0, \"recall\": 0.0}, {\"count\": 24, \"cutoff\": 5, \"STATE\": 25, \"precision\": 0.0, \"recall\": 0.0}, {\"count\": 24, \"cutoff\": 6, \"STATE\": 25, \"precision\": 0.0, \"recall\": 0.0}, {\"count\": 24, \"cutoff\": 7, \"STATE\": 25, \"precision\": 0.0, \"recall\": 0.0}, {\"count\": 24, \"cutoff\": 8, \"STATE\": 25, \"precision\": 0.0, \"recall\": 0.0}, {\"count\": 24, \"cutoff\": 9, \"STATE\": 25, \"precision\": 0.0, \"recall\": 0.0}, {\"count\": 24, \"cutoff\": 10, \"STATE\": 25, \"precision\": 0.0, \"recall\": 0.0}, {\"count\": 24, \"cutoff\": 11, \"STATE\": 25, \"precision\": 0.0, \"recall\": 0.0}, {\"count\": 24, \"cutoff\": 16, \"STATE\": 25, \"precision\": 0.0, \"recall\": 0.0}, {\"count\": 24, \"cutoff\": 21, \"STATE\": 25, \"precision\": 0.0, \"recall\": 0.0}, {\"count\": 24, \"cutoff\": 26, \"STATE\": 25, \"precision\": 0.0, \"recall\": 0.0}, {\"count\": 24, \"cutoff\": 31, \"STATE\": 25, \"precision\": 0.0, \"recall\": 0.0}, {\"count\": 24, \"cutoff\": 36, \"STATE\": 25, \"precision\": 0.0, \"recall\": 0.0}, {\"count\": 24, \"cutoff\": 41, \"STATE\": 25, \"precision\": 0.0, \"recall\": 0.0}, {\"count\": 24, \"cutoff\": 46, \"STATE\": 25, \"precision\": 0.0, \"recall\": 0.0}, {\"count\": 179, \"cutoff\": 1, \"STATE\": 26, \"precision\": 0.0, \"recall\": 0.0}, {\"count\": 179, \"cutoff\": 2, \"STATE\": 26, \"precision\": 0.0, \"recall\": 0.0}, {\"count\": 179, \"cutoff\": 3, \"STATE\": 26, \"precision\": 0.0, \"recall\": 0.0}, {\"count\": 179, \"cutoff\": 4, \"STATE\": 26, \"precision\": 0.0, \"recall\": 0.0}, {\"count\": 179, \"cutoff\": 5, \"STATE\": 26, \"precision\": 0.0, \"recall\": 0.0}, {\"count\": 179, \"cutoff\": 6, \"STATE\": 26, \"precision\": 0.0, \"recall\": 0.0}, {\"count\": 179, \"cutoff\": 7, \"STATE\": 26, \"precision\": 0.0, \"recall\": 0.0}, {\"count\": 179, \"cutoff\": 8, \"STATE\": 26, \"precision\": 0.0, \"recall\": 0.0}, {\"count\": 179, \"cutoff\": 9, \"STATE\": 26, \"precision\": 0.0, \"recall\": 0.0}, {\"count\": 179, \"cutoff\": 10, \"STATE\": 26, \"precision\": 0.0, \"recall\": 0.0}, {\"count\": 179, \"cutoff\": 11, \"STATE\": 26, \"precision\": 0.0, \"recall\": 0.0}, {\"count\": 179, \"cutoff\": 16, \"STATE\": 26, \"precision\": 0.0, \"recall\": 0.0}, {\"count\": 179, \"cutoff\": 21, \"STATE\": 26, \"precision\": 0.0, \"recall\": 0.0}, {\"count\": 179, \"cutoff\": 26, \"STATE\": 26, \"precision\": 0.0, \"recall\": 0.0}, {\"count\": 179, \"cutoff\": 31, \"STATE\": 26, \"precision\": 0.0, \"recall\": 0.0}, {\"count\": 179, \"cutoff\": 36, \"STATE\": 26, \"precision\": 0.0, \"recall\": 0.0}, {\"count\": 179, \"cutoff\": 41, \"STATE\": 26, \"precision\": 0.0, \"recall\": 0.0}, {\"count\": 179, \"cutoff\": 46, \"STATE\": 26, \"precision\": 0.0, \"recall\": 0.0}, {\"count\": 72, \"cutoff\": 1, \"STATE\": 27, \"precision\": 0.0, \"recall\": 0.0}, {\"count\": 72, \"cutoff\": 2, \"STATE\": 27, \"precision\": 0.0, \"recall\": 0.0}, {\"count\": 72, \"cutoff\": 3, \"STATE\": 27, \"precision\": 0.0, \"recall\": 0.0}, {\"count\": 72, \"cutoff\": 4, \"STATE\": 27, \"precision\": 0.0, \"recall\": 0.0}, {\"count\": 72, \"cutoff\": 5, \"STATE\": 27, \"precision\": 0.0, \"recall\": 0.0}, {\"count\": 72, \"cutoff\": 6, \"STATE\": 27, \"precision\": 0.0, \"recall\": 0.0}, {\"count\": 72, \"cutoff\": 7, \"STATE\": 27, \"precision\": 0.0, \"recall\": 0.0}, {\"count\": 72, \"cutoff\": 8, \"STATE\": 27, \"precision\": 0.0, \"recall\": 0.0}, {\"count\": 72, \"cutoff\": 9, \"STATE\": 27, \"precision\": 0.0, \"recall\": 0.0}, {\"count\": 72, \"cutoff\": 10, \"STATE\": 27, \"precision\": 0.0, \"recall\": 0.0}, {\"count\": 72, \"cutoff\": 11, \"STATE\": 27, \"precision\": 0.0, \"recall\": 0.0}, {\"count\": 72, \"cutoff\": 16, \"STATE\": 27, \"precision\": 0.0, \"recall\": 0.0}, {\"count\": 72, \"cutoff\": 21, \"STATE\": 27, \"precision\": 0.0, \"recall\": 0.0}, {\"count\": 72, \"cutoff\": 26, \"STATE\": 27, \"precision\": 0.0, \"recall\": 0.0}, {\"count\": 72, \"cutoff\": 31, \"STATE\": 27, \"precision\": 0.0, \"recall\": 0.0}, {\"count\": 72, \"cutoff\": 36, \"STATE\": 27, \"precision\": 0.0, \"recall\": 0.0}, {\"count\": 72, \"cutoff\": 41, \"STATE\": 27, \"precision\": 0.0, \"recall\": 0.0}, {\"count\": 72, \"cutoff\": 46, \"STATE\": 27, \"precision\": 0.0, \"recall\": 0.0}, {\"count\": 120, \"cutoff\": 1, \"STATE\": 28, \"precision\": 0.0, \"recall\": 0.0}, {\"count\": 120, \"cutoff\": 2, \"STATE\": 28, \"precision\": 0.0, \"recall\": 0.0}, {\"count\": 120, \"cutoff\": 3, \"STATE\": 28, \"precision\": 0.0, \"recall\": 0.0}, {\"count\": 120, \"cutoff\": 4, \"STATE\": 28, \"precision\": 0.0, \"recall\": 0.0}, {\"count\": 120, \"cutoff\": 5, \"STATE\": 28, \"precision\": 0.0, \"recall\": 0.0}, {\"count\": 120, \"cutoff\": 6, \"STATE\": 28, \"precision\": 0.0, \"recall\": 0.0}, {\"count\": 120, \"cutoff\": 7, \"STATE\": 28, \"precision\": 0.0, \"recall\": 0.0}, {\"count\": 120, \"cutoff\": 8, \"STATE\": 28, \"precision\": 0.0, \"recall\": 0.0}, {\"count\": 120, \"cutoff\": 9, \"STATE\": 28, \"precision\": 0.0, \"recall\": 0.0}, {\"count\": 120, \"cutoff\": 10, \"STATE\": 28, \"precision\": 0.0, \"recall\": 0.0}, {\"count\": 120, \"cutoff\": 11, \"STATE\": 28, \"precision\": 0.0, \"recall\": 0.0}, {\"count\": 120, \"cutoff\": 16, \"STATE\": 28, \"precision\": 0.0, \"recall\": 0.0}, {\"count\": 120, \"cutoff\": 21, \"STATE\": 28, \"precision\": 0.0, \"recall\": 0.0}, {\"count\": 120, \"cutoff\": 26, \"STATE\": 28, \"precision\": 0.0, \"recall\": 0.0}, {\"count\": 120, \"cutoff\": 31, \"STATE\": 28, \"precision\": 0.0, \"recall\": 0.0}, {\"count\": 120, \"cutoff\": 36, \"STATE\": 28, \"precision\": 0.0, \"recall\": 0.0}, {\"count\": 120, \"cutoff\": 41, \"STATE\": 28, \"precision\": 0.0, \"recall\": 0.0}, {\"count\": 120, \"cutoff\": 46, \"STATE\": 28, \"precision\": 0.0, \"recall\": 0.0}, {\"count\": 158, \"cutoff\": 1, \"STATE\": 29, \"precision\": 0.0, \"recall\": 0.0}, {\"count\": 158, \"cutoff\": 2, \"STATE\": 29, \"precision\": 0.0, \"recall\": 0.0}, {\"count\": 158, \"cutoff\": 3, \"STATE\": 29, \"precision\": 0.0, \"recall\": 0.0}, {\"count\": 158, \"cutoff\": 4, \"STATE\": 29, \"precision\": 0.0, \"recall\": 0.0}, {\"count\": 158, \"cutoff\": 5, \"STATE\": 29, \"precision\": 0.0, \"recall\": 0.0}, {\"count\": 158, \"cutoff\": 6, \"STATE\": 29, \"precision\": 0.0, \"recall\": 0.0}, {\"count\": 158, \"cutoff\": 7, \"STATE\": 29, \"precision\": 0.0, \"recall\": 0.0}, {\"count\": 158, \"cutoff\": 8, \"STATE\": 29, \"precision\": 0.0, \"recall\": 0.0}, {\"count\": 158, \"cutoff\": 9, \"STATE\": 29, \"precision\": 0.0, \"recall\": 0.0}, {\"count\": 158, \"cutoff\": 10, \"STATE\": 29, \"precision\": 0.0, \"recall\": 0.0}, {\"count\": 158, \"cutoff\": 11, \"STATE\": 29, \"precision\": 0.0, \"recall\": 0.0}, {\"count\": 158, \"cutoff\": 16, \"STATE\": 29, \"precision\": 0.0, \"recall\": 0.0}, {\"count\": 158, \"cutoff\": 21, \"STATE\": 29, \"precision\": 0.0, \"recall\": 0.0}, {\"count\": 158, \"cutoff\": 26, \"STATE\": 29, \"precision\": 0.0, \"recall\": 0.0}, {\"count\": 158, \"cutoff\": 31, \"STATE\": 29, \"precision\": 0.0, \"recall\": 0.0}, {\"count\": 158, \"cutoff\": 36, \"STATE\": 29, \"precision\": 0.0, \"recall\": 0.0}, {\"count\": 158, \"cutoff\": 41, \"STATE\": 29, \"precision\": 0.0, \"recall\": 0.0}, {\"count\": 158, \"cutoff\": 46, \"STATE\": 29, \"precision\": 0.0, \"recall\": 0.0}, {\"count\": 32, \"cutoff\": 1, \"STATE\": 30, \"precision\": 0.0, \"recall\": 0.0}, {\"count\": 32, \"cutoff\": 2, \"STATE\": 30, \"precision\": 0.0, \"recall\": 0.0}, {\"count\": 32, \"cutoff\": 3, \"STATE\": 30, \"precision\": 0.3333333333333333, \"recall\": 0.03125}, {\"count\": 32, \"cutoff\": 4, \"STATE\": 30, \"precision\": 0.3333333333333333, \"recall\": 0.03125}, {\"count\": 32, \"cutoff\": 5, \"STATE\": 30, \"precision\": 0.3333333333333333, \"recall\": 0.03125}, {\"count\": 32, \"cutoff\": 6, \"STATE\": 30, \"precision\": 0.3333333333333333, \"recall\": 0.03125}, {\"count\": 32, \"cutoff\": 7, \"STATE\": 30, \"precision\": 0.3333333333333333, \"recall\": 0.03125}, {\"count\": 32, \"cutoff\": 8, \"STATE\": 30, \"precision\": 0.3333333333333333, \"recall\": 0.03125}, {\"count\": 32, \"cutoff\": 9, \"STATE\": 30, \"precision\": 0.3333333333333333, \"recall\": 0.03125}, {\"count\": 32, \"cutoff\": 10, \"STATE\": 30, \"precision\": 0.3333333333333333, \"recall\": 0.03125}, {\"count\": 32, \"cutoff\": 11, \"STATE\": 30, \"precision\": 0.3333333333333333, \"recall\": 0.03125}, {\"count\": 32, \"cutoff\": 16, \"STATE\": 30, \"precision\": 0.3333333333333333, \"recall\": 0.03125}, {\"count\": 32, \"cutoff\": 21, \"STATE\": 30, \"precision\": 0.3333333333333333, \"recall\": 0.03125}, {\"count\": 32, \"cutoff\": 26, \"STATE\": 30, \"precision\": 0.3333333333333333, \"recall\": 0.03125}, {\"count\": 32, \"cutoff\": 31, \"STATE\": 30, \"precision\": 0.3333333333333333, \"recall\": 0.03125}, {\"count\": 32, \"cutoff\": 36, \"STATE\": 30, \"precision\": 0.3333333333333333, \"recall\": 0.03125}, {\"count\": 32, \"cutoff\": 41, \"STATE\": 30, \"precision\": 0.3333333333333333, \"recall\": 0.03125}, {\"count\": 32, \"cutoff\": 46, \"STATE\": 30, \"precision\": 0.3333333333333333, \"recall\": 0.03125}, {\"count\": 47, \"cutoff\": 1, \"STATE\": 31, \"precision\": 1.0, \"recall\": 0.02127659574468085}, {\"count\": 47, \"cutoff\": 2, \"STATE\": 31, \"precision\": 0.5, \"recall\": 0.02127659574468085}, {\"count\": 47, \"cutoff\": 3, \"STATE\": 31, \"precision\": 0.3333333333333333, \"recall\": 0.02127659574468085}, {\"count\": 47, \"cutoff\": 4, \"STATE\": 31, \"precision\": 0.3333333333333333, \"recall\": 0.02127659574468085}, {\"count\": 47, \"cutoff\": 5, \"STATE\": 31, \"precision\": 0.3333333333333333, \"recall\": 0.02127659574468085}, {\"count\": 47, \"cutoff\": 6, \"STATE\": 31, \"precision\": 0.3333333333333333, \"recall\": 0.02127659574468085}, {\"count\": 47, \"cutoff\": 7, \"STATE\": 31, \"precision\": 0.3333333333333333, \"recall\": 0.02127659574468085}, {\"count\": 47, \"cutoff\": 8, \"STATE\": 31, \"precision\": 0.3333333333333333, \"recall\": 0.02127659574468085}, {\"count\": 47, \"cutoff\": 9, \"STATE\": 31, \"precision\": 0.3333333333333333, \"recall\": 0.02127659574468085}, {\"count\": 47, \"cutoff\": 10, \"STATE\": 31, \"precision\": 0.3333333333333333, \"recall\": 0.02127659574468085}, {\"count\": 47, \"cutoff\": 11, \"STATE\": 31, \"precision\": 0.3333333333333333, \"recall\": 0.02127659574468085}, {\"count\": 47, \"cutoff\": 16, \"STATE\": 31, \"precision\": 0.3333333333333333, \"recall\": 0.02127659574468085}, {\"count\": 47, \"cutoff\": 21, \"STATE\": 31, \"precision\": 0.3333333333333333, \"recall\": 0.02127659574468085}, {\"count\": 47, \"cutoff\": 26, \"STATE\": 31, \"precision\": 0.3333333333333333, \"recall\": 0.02127659574468085}, {\"count\": 47, \"cutoff\": 31, \"STATE\": 31, \"precision\": 0.3333333333333333, \"recall\": 0.02127659574468085}, {\"count\": 47, \"cutoff\": 36, \"STATE\": 31, \"precision\": 0.3333333333333333, \"recall\": 0.02127659574468085}, {\"count\": 47, \"cutoff\": 41, \"STATE\": 31, \"precision\": 0.3333333333333333, \"recall\": 0.02127659574468085}, {\"count\": 47, \"cutoff\": 46, \"STATE\": 31, \"precision\": 0.3333333333333333, \"recall\": 0.02127659574468085}, {\"count\": 55, \"cutoff\": 1, \"STATE\": 32, \"precision\": 0.0, \"recall\": 0.0}, {\"count\": 55, \"cutoff\": 2, \"STATE\": 32, \"precision\": 0.0, \"recall\": 0.0}, {\"count\": 55, \"cutoff\": 3, \"STATE\": 32, \"precision\": 0.0, \"recall\": 0.0}, {\"count\": 55, \"cutoff\": 4, \"STATE\": 32, \"precision\": 0.0, \"recall\": 0.0}, {\"count\": 55, \"cutoff\": 5, \"STATE\": 32, \"precision\": 0.0, \"recall\": 0.0}, {\"count\": 55, \"cutoff\": 6, \"STATE\": 32, \"precision\": 0.0, \"recall\": 0.0}, {\"count\": 55, \"cutoff\": 7, \"STATE\": 32, \"precision\": 0.0, \"recall\": 0.0}, {\"count\": 55, \"cutoff\": 8, \"STATE\": 32, \"precision\": 0.0, \"recall\": 0.0}, {\"count\": 55, \"cutoff\": 9, \"STATE\": 32, \"precision\": 0.0, \"recall\": 0.0}, {\"count\": 55, \"cutoff\": 10, \"STATE\": 32, \"precision\": 0.0, \"recall\": 0.0}, {\"count\": 55, \"cutoff\": 11, \"STATE\": 32, \"precision\": 0.0, \"recall\": 0.0}, {\"count\": 55, \"cutoff\": 16, \"STATE\": 32, \"precision\": 0.0, \"recall\": 0.0}, {\"count\": 55, \"cutoff\": 21, \"STATE\": 32, \"precision\": 0.0, \"recall\": 0.0}, {\"count\": 55, \"cutoff\": 26, \"STATE\": 32, \"precision\": 0.0, \"recall\": 0.0}, {\"count\": 55, \"cutoff\": 31, \"STATE\": 32, \"precision\": 0.0, \"recall\": 0.0}, {\"count\": 55, \"cutoff\": 36, \"STATE\": 32, \"precision\": 0.0, \"recall\": 0.0}, {\"count\": 55, \"cutoff\": 41, \"STATE\": 32, \"precision\": 0.0, \"recall\": 0.0}, {\"count\": 55, \"cutoff\": 46, \"STATE\": 32, \"precision\": 0.0, \"recall\": 0.0}, {\"count\": 21, \"cutoff\": 1, \"STATE\": 33, \"precision\": 0.0, \"recall\": 0.0}, {\"count\": 21, \"cutoff\": 2, \"STATE\": 33, \"precision\": 0.0, \"recall\": 0.0}, {\"count\": 21, \"cutoff\": 3, \"STATE\": 33, \"precision\": 0.0, \"recall\": 0.0}, {\"count\": 21, \"cutoff\": 4, \"STATE\": 33, \"precision\": 0.0, \"recall\": 0.0}, {\"count\": 21, \"cutoff\": 5, \"STATE\": 33, \"precision\": 0.0, \"recall\": 0.0}, {\"count\": 21, \"cutoff\": 6, \"STATE\": 33, \"precision\": 0.0, \"recall\": 0.0}, {\"count\": 21, \"cutoff\": 7, \"STATE\": 33, \"precision\": 0.0, \"recall\": 0.0}, {\"count\": 21, \"cutoff\": 8, \"STATE\": 33, \"precision\": 0.0, \"recall\": 0.0}, {\"count\": 21, \"cutoff\": 9, \"STATE\": 33, \"precision\": 0.0, \"recall\": 0.0}, {\"count\": 21, \"cutoff\": 10, \"STATE\": 33, \"precision\": 0.0, \"recall\": 0.0}, {\"count\": 21, \"cutoff\": 11, \"STATE\": 33, \"precision\": 0.0, \"recall\": 0.0}, {\"count\": 21, \"cutoff\": 16, \"STATE\": 33, \"precision\": 0.0, \"recall\": 0.0}, {\"count\": 21, \"cutoff\": 21, \"STATE\": 33, \"precision\": 0.0, \"recall\": 0.0}, {\"count\": 21, \"cutoff\": 26, \"STATE\": 33, \"precision\": 0.0, \"recall\": 0.0}, {\"count\": 21, \"cutoff\": 31, \"STATE\": 33, \"precision\": 0.0, \"recall\": 0.0}, {\"count\": 21, \"cutoff\": 36, \"STATE\": 33, \"precision\": 0.0, \"recall\": 0.0}, {\"count\": 21, \"cutoff\": 41, \"STATE\": 33, \"precision\": 0.0, \"recall\": 0.0}, {\"count\": 21, \"cutoff\": 46, \"STATE\": 33, \"precision\": 0.0, \"recall\": 0.0}, {\"count\": 87, \"cutoff\": 1, \"STATE\": 34, \"precision\": 0.0, \"recall\": 0.0}, {\"count\": 87, \"cutoff\": 2, \"STATE\": 34, \"precision\": 0.0, \"recall\": 0.0}, {\"count\": 87, \"cutoff\": 3, \"STATE\": 34, \"precision\": 0.0, \"recall\": 0.0}, {\"count\": 87, \"cutoff\": 4, \"STATE\": 34, \"precision\": 0.0, \"recall\": 0.0}, {\"count\": 87, \"cutoff\": 5, \"STATE\": 34, \"precision\": 0.0, \"recall\": 0.0}, {\"count\": 87, \"cutoff\": 6, \"STATE\": 34, \"precision\": 0.0, \"recall\": 0.0}, {\"count\": 87, \"cutoff\": 7, \"STATE\": 34, \"precision\": 0.0, \"recall\": 0.0}, {\"count\": 87, \"cutoff\": 8, \"STATE\": 34, \"precision\": 0.0, \"recall\": 0.0}, {\"count\": 87, \"cutoff\": 9, \"STATE\": 34, \"precision\": 0.0, \"recall\": 0.0}, {\"count\": 87, \"cutoff\": 10, \"STATE\": 34, \"precision\": 0.0, \"recall\": 0.0}, {\"count\": 87, \"cutoff\": 11, \"STATE\": 34, \"precision\": 0.0, \"recall\": 0.0}, {\"count\": 87, \"cutoff\": 16, \"STATE\": 34, \"precision\": 0.0, \"recall\": 0.0}, {\"count\": 87, \"cutoff\": 21, \"STATE\": 34, \"precision\": 0.0, \"recall\": 0.0}, {\"count\": 87, \"cutoff\": 26, \"STATE\": 34, \"precision\": 0.0, \"recall\": 0.0}, {\"count\": 87, \"cutoff\": 31, \"STATE\": 34, \"precision\": 0.0, \"recall\": 0.0}, {\"count\": 87, \"cutoff\": 36, \"STATE\": 34, \"precision\": 0.0, \"recall\": 0.0}, {\"count\": 87, \"cutoff\": 41, \"STATE\": 34, \"precision\": 0.0, \"recall\": 0.0}, {\"count\": 87, \"cutoff\": 46, \"STATE\": 34, \"precision\": 0.0, \"recall\": 0.0}, {\"count\": 48, \"cutoff\": 1, \"STATE\": 35, \"precision\": 0.0, \"recall\": 0.0}, {\"count\": 48, \"cutoff\": 2, \"STATE\": 35, \"precision\": 0.5, \"recall\": 0.020833333333333332}, {\"count\": 48, \"cutoff\": 3, \"STATE\": 35, \"precision\": 0.3333333333333333, \"recall\": 0.020833333333333332}, {\"count\": 48, \"cutoff\": 4, \"STATE\": 35, \"precision\": 0.25, \"recall\": 0.020833333333333332}, {\"count\": 48, \"cutoff\": 5, \"STATE\": 35, \"precision\": 0.2, \"recall\": 0.020833333333333332}, {\"count\": 48, \"cutoff\": 6, \"STATE\": 35, \"precision\": 0.16666666666666666, \"recall\": 0.020833333333333332}, {\"count\": 48, \"cutoff\": 7, \"STATE\": 35, \"precision\": 0.16666666666666666, \"recall\": 0.020833333333333332}, {\"count\": 48, \"cutoff\": 8, \"STATE\": 35, \"precision\": 0.16666666666666666, \"recall\": 0.020833333333333332}, {\"count\": 48, \"cutoff\": 9, \"STATE\": 35, \"precision\": 0.16666666666666666, \"recall\": 0.020833333333333332}, {\"count\": 48, \"cutoff\": 10, \"STATE\": 35, \"precision\": 0.16666666666666666, \"recall\": 0.020833333333333332}, {\"count\": 48, \"cutoff\": 11, \"STATE\": 35, \"precision\": 0.16666666666666666, \"recall\": 0.020833333333333332}, {\"count\": 48, \"cutoff\": 16, \"STATE\": 35, \"precision\": 0.16666666666666666, \"recall\": 0.020833333333333332}, {\"count\": 48, \"cutoff\": 21, \"STATE\": 35, \"precision\": 0.16666666666666666, \"recall\": 0.020833333333333332}, {\"count\": 48, \"cutoff\": 26, \"STATE\": 35, \"precision\": 0.16666666666666666, \"recall\": 0.020833333333333332}, {\"count\": 48, \"cutoff\": 31, \"STATE\": 35, \"precision\": 0.16666666666666666, \"recall\": 0.020833333333333332}, {\"count\": 48, \"cutoff\": 36, \"STATE\": 35, \"precision\": 0.16666666666666666, \"recall\": 0.020833333333333332}, {\"count\": 48, \"cutoff\": 41, \"STATE\": 35, \"precision\": 0.16666666666666666, \"recall\": 0.020833333333333332}, {\"count\": 48, \"cutoff\": 46, \"STATE\": 35, \"precision\": 0.16666666666666666, \"recall\": 0.020833333333333332}, {\"count\": 210, \"cutoff\": 1, \"STATE\": 36, \"precision\": 0.0, \"recall\": 0.0}, {\"count\": 210, \"cutoff\": 2, \"STATE\": 36, \"precision\": 0.0, \"recall\": 0.0}, {\"count\": 210, \"cutoff\": 3, \"STATE\": 36, \"precision\": 0.0, \"recall\": 0.0}, {\"count\": 210, \"cutoff\": 4, \"STATE\": 36, \"precision\": 0.0, \"recall\": 0.0}, {\"count\": 210, \"cutoff\": 5, \"STATE\": 36, \"precision\": 0.0, \"recall\": 0.0}, {\"count\": 210, \"cutoff\": 6, \"STATE\": 36, \"precision\": 0.0, \"recall\": 0.0}, {\"count\": 210, \"cutoff\": 7, \"STATE\": 36, \"precision\": 0.0, \"recall\": 0.0}, {\"count\": 210, \"cutoff\": 8, \"STATE\": 36, \"precision\": 0.0, \"recall\": 0.0}, {\"count\": 210, \"cutoff\": 9, \"STATE\": 36, \"precision\": 0.0, \"recall\": 0.0}, {\"count\": 210, \"cutoff\": 10, \"STATE\": 36, \"precision\": 0.0, \"recall\": 0.0}, {\"count\": 210, \"cutoff\": 11, \"STATE\": 36, \"precision\": 0.0, \"recall\": 0.0}, {\"count\": 210, \"cutoff\": 16, \"STATE\": 36, \"precision\": 0.0, \"recall\": 0.0}, {\"count\": 210, \"cutoff\": 21, \"STATE\": 36, \"precision\": 0.0, \"recall\": 0.0}, {\"count\": 210, \"cutoff\": 26, \"STATE\": 36, \"precision\": 0.0, \"recall\": 0.0}, {\"count\": 210, \"cutoff\": 31, \"STATE\": 36, \"precision\": 0.0, \"recall\": 0.0}, {\"count\": 210, \"cutoff\": 36, \"STATE\": 36, \"precision\": 0.0, \"recall\": 0.0}, {\"count\": 210, \"cutoff\": 41, \"STATE\": 36, \"precision\": 0.0, \"recall\": 0.0}, {\"count\": 210, \"cutoff\": 46, \"STATE\": 36, \"precision\": 0.0, \"recall\": 0.0}, {\"count\": 251, \"cutoff\": 1, \"STATE\": 37, \"precision\": 1.0, \"recall\": 0.00398406374501992}, {\"count\": 251, \"cutoff\": 2, \"STATE\": 37, \"precision\": 0.5, \"recall\": 0.00398406374501992}, {\"count\": 251, \"cutoff\": 3, \"STATE\": 37, \"precision\": 0.3333333333333333, \"recall\": 0.00398406374501992}, {\"count\": 251, \"cutoff\": 4, \"STATE\": 37, \"precision\": 0.3333333333333333, \"recall\": 0.00398406374501992}, {\"count\": 251, \"cutoff\": 5, \"STATE\": 37, \"precision\": 0.3333333333333333, \"recall\": 0.00398406374501992}, {\"count\": 251, \"cutoff\": 6, \"STATE\": 37, \"precision\": 0.3333333333333333, \"recall\": 0.00398406374501992}, {\"count\": 251, \"cutoff\": 7, \"STATE\": 37, \"precision\": 0.3333333333333333, \"recall\": 0.00398406374501992}, {\"count\": 251, \"cutoff\": 8, \"STATE\": 37, \"precision\": 0.3333333333333333, \"recall\": 0.00398406374501992}, {\"count\": 251, \"cutoff\": 9, \"STATE\": 37, \"precision\": 0.3333333333333333, \"recall\": 0.00398406374501992}, {\"count\": 251, \"cutoff\": 10, \"STATE\": 37, \"precision\": 0.3333333333333333, \"recall\": 0.00398406374501992}, {\"count\": 251, \"cutoff\": 11, \"STATE\": 37, \"precision\": 0.3333333333333333, \"recall\": 0.00398406374501992}, {\"count\": 251, \"cutoff\": 16, \"STATE\": 37, \"precision\": 0.3333333333333333, \"recall\": 0.00398406374501992}, {\"count\": 251, \"cutoff\": 21, \"STATE\": 37, \"precision\": 0.3333333333333333, \"recall\": 0.00398406374501992}, {\"count\": 251, \"cutoff\": 26, \"STATE\": 37, \"precision\": 0.3333333333333333, \"recall\": 0.00398406374501992}, {\"count\": 251, \"cutoff\": 31, \"STATE\": 37, \"precision\": 0.3333333333333333, \"recall\": 0.00398406374501992}, {\"count\": 251, \"cutoff\": 36, \"STATE\": 37, \"precision\": 0.3333333333333333, \"recall\": 0.00398406374501992}, {\"count\": 251, \"cutoff\": 41, \"STATE\": 37, \"precision\": 0.3333333333333333, \"recall\": 0.00398406374501992}, {\"count\": 251, \"cutoff\": 46, \"STATE\": 37, \"precision\": 0.3333333333333333, \"recall\": 0.00398406374501992}, {\"count\": 19, \"cutoff\": 1, \"STATE\": 38, \"precision\": 0.0, \"recall\": 0.0}, {\"count\": 19, \"cutoff\": 2, \"STATE\": 38, \"precision\": 0.0, \"recall\": 0.0}, {\"count\": 19, \"cutoff\": 3, \"STATE\": 38, \"precision\": 0.0, \"recall\": 0.0}, {\"count\": 19, \"cutoff\": 4, \"STATE\": 38, \"precision\": 0.0, \"recall\": 0.0}, {\"count\": 19, \"cutoff\": 5, \"STATE\": 38, \"precision\": 0.0, \"recall\": 0.0}, {\"count\": 19, \"cutoff\": 6, \"STATE\": 38, \"precision\": 0.0, \"recall\": 0.0}, {\"count\": 19, \"cutoff\": 7, \"STATE\": 38, \"precision\": 0.0, \"recall\": 0.0}, {\"count\": 19, \"cutoff\": 8, \"STATE\": 38, \"precision\": 0.0, \"recall\": 0.0}, {\"count\": 19, \"cutoff\": 9, \"STATE\": 38, \"precision\": 0.0, \"recall\": 0.0}, {\"count\": 19, \"cutoff\": 10, \"STATE\": 38, \"precision\": 0.0, \"recall\": 0.0}, {\"count\": 19, \"cutoff\": 11, \"STATE\": 38, \"precision\": 0.0, \"recall\": 0.0}, {\"count\": 19, \"cutoff\": 16, \"STATE\": 38, \"precision\": 0.0, \"recall\": 0.0}, {\"count\": 19, \"cutoff\": 21, \"STATE\": 38, \"precision\": 0.0, \"recall\": 0.0}, {\"count\": 19, \"cutoff\": 26, \"STATE\": 38, \"precision\": 0.0, \"recall\": 0.0}, {\"count\": 19, \"cutoff\": 31, \"STATE\": 38, \"precision\": 0.0, \"recall\": 0.0}, {\"count\": 19, \"cutoff\": 36, \"STATE\": 38, \"precision\": 0.0, \"recall\": 0.0}, {\"count\": 19, \"cutoff\": 41, \"STATE\": 38, \"precision\": 0.0, \"recall\": 0.0}, {\"count\": 19, \"cutoff\": 46, \"STATE\": 38, \"precision\": 0.0, \"recall\": 0.0}, {\"count\": 196, \"cutoff\": 1, \"STATE\": 39, \"precision\": 0.0, \"recall\": 0.0}, {\"count\": 196, \"cutoff\": 2, \"STATE\": 39, \"precision\": 0.0, \"recall\": 0.0}, {\"count\": 196, \"cutoff\": 3, \"STATE\": 39, \"precision\": 0.0, \"recall\": 0.0}, {\"count\": 196, \"cutoff\": 4, \"STATE\": 39, \"precision\": 0.0, \"recall\": 0.0}, {\"count\": 196, \"cutoff\": 5, \"STATE\": 39, \"precision\": 0.0, \"recall\": 0.0}, {\"count\": 196, \"cutoff\": 6, \"STATE\": 39, \"precision\": 0.0, \"recall\": 0.0}, {\"count\": 196, \"cutoff\": 7, \"STATE\": 39, \"precision\": 0.0, \"recall\": 0.0}, {\"count\": 196, \"cutoff\": 8, \"STATE\": 39, \"precision\": 0.0, \"recall\": 0.0}, {\"count\": 196, \"cutoff\": 9, \"STATE\": 39, \"precision\": 0.0, \"recall\": 0.0}, {\"count\": 196, \"cutoff\": 10, \"STATE\": 39, \"precision\": 0.0, \"recall\": 0.0}, {\"count\": 196, \"cutoff\": 11, \"STATE\": 39, \"precision\": 0.0, \"recall\": 0.0}, {\"count\": 196, \"cutoff\": 16, \"STATE\": 39, \"precision\": 0.0, \"recall\": 0.0}, {\"count\": 196, \"cutoff\": 21, \"STATE\": 39, \"precision\": 0.0, \"recall\": 0.0}, {\"count\": 196, \"cutoff\": 26, \"STATE\": 39, \"precision\": 0.0, \"recall\": 0.0}, {\"count\": 196, \"cutoff\": 31, \"STATE\": 39, \"precision\": 0.0, \"recall\": 0.0}, {\"count\": 196, \"cutoff\": 36, \"STATE\": 39, \"precision\": 0.0, \"recall\": 0.0}, {\"count\": 196, \"cutoff\": 41, \"STATE\": 39, \"precision\": 0.0, \"recall\": 0.0}, {\"count\": 196, \"cutoff\": 46, \"STATE\": 39, \"precision\": 0.0, \"recall\": 0.0}, {\"count\": 102, \"cutoff\": 1, \"STATE\": 40, \"precision\": 0.0, \"recall\": 0.0}, {\"count\": 102, \"cutoff\": 2, \"STATE\": 40, \"precision\": 0.0, \"recall\": 0.0}, {\"count\": 102, \"cutoff\": 3, \"STATE\": 40, \"precision\": 0.0, \"recall\": 0.0}, {\"count\": 102, \"cutoff\": 4, \"STATE\": 40, \"precision\": 0.0, \"recall\": 0.0}, {\"count\": 102, \"cutoff\": 5, \"STATE\": 40, \"precision\": 0.0, \"recall\": 0.0}, {\"count\": 102, \"cutoff\": 6, \"STATE\": 40, \"precision\": 0.0, \"recall\": 0.0}, {\"count\": 102, \"cutoff\": 7, \"STATE\": 40, \"precision\": 0.0, \"recall\": 0.0}, {\"count\": 102, \"cutoff\": 8, \"STATE\": 40, \"precision\": 0.0, \"recall\": 0.0}, {\"count\": 102, \"cutoff\": 9, \"STATE\": 40, \"precision\": 0.0, \"recall\": 0.0}, {\"count\": 102, \"cutoff\": 10, \"STATE\": 40, \"precision\": 0.0, \"recall\": 0.0}, {\"count\": 102, \"cutoff\": 11, \"STATE\": 40, \"precision\": 0.0, \"recall\": 0.0}, {\"count\": 102, \"cutoff\": 16, \"STATE\": 40, \"precision\": 0.0, \"recall\": 0.0}, {\"count\": 102, \"cutoff\": 21, \"STATE\": 40, \"precision\": 0.0, \"recall\": 0.0}, {\"count\": 102, \"cutoff\": 26, \"STATE\": 40, \"precision\": 0.0, \"recall\": 0.0}, {\"count\": 102, \"cutoff\": 31, \"STATE\": 40, \"precision\": 0.0, \"recall\": 0.0}, {\"count\": 102, \"cutoff\": 36, \"STATE\": 40, \"precision\": 0.0, \"recall\": 0.0}, {\"count\": 102, \"cutoff\": 41, \"STATE\": 40, \"precision\": 0.0, \"recall\": 0.0}, {\"count\": 102, \"cutoff\": 46, \"STATE\": 40, \"precision\": 0.0, \"recall\": 0.0}, {\"count\": 77, \"cutoff\": 1, \"STATE\": 41, \"precision\": 0.0, \"recall\": 0.0}, {\"count\": 77, \"cutoff\": 2, \"STATE\": 41, \"precision\": 0.0, \"recall\": 0.0}, {\"count\": 77, \"cutoff\": 3, \"STATE\": 41, \"precision\": 0.0, \"recall\": 0.0}, {\"count\": 77, \"cutoff\": 4, \"STATE\": 41, \"precision\": 0.0, \"recall\": 0.0}, {\"count\": 77, \"cutoff\": 5, \"STATE\": 41, \"precision\": 0.0, \"recall\": 0.0}, {\"count\": 77, \"cutoff\": 6, \"STATE\": 41, \"precision\": 0.0, \"recall\": 0.0}, {\"count\": 77, \"cutoff\": 7, \"STATE\": 41, \"precision\": 0.0, \"recall\": 0.0}, {\"count\": 77, \"cutoff\": 8, \"STATE\": 41, \"precision\": 0.0, \"recall\": 0.0}, {\"count\": 77, \"cutoff\": 9, \"STATE\": 41, \"precision\": 0.0, \"recall\": 0.0}, {\"count\": 77, \"cutoff\": 10, \"STATE\": 41, \"precision\": 0.0, \"recall\": 0.0}, {\"count\": 77, \"cutoff\": 11, \"STATE\": 41, \"precision\": 0.0, \"recall\": 0.0}, {\"count\": 77, \"cutoff\": 16, \"STATE\": 41, \"precision\": 0.0, \"recall\": 0.0}, {\"count\": 77, \"cutoff\": 21, \"STATE\": 41, \"precision\": 0.0, \"recall\": 0.0}, {\"count\": 77, \"cutoff\": 26, \"STATE\": 41, \"precision\": 0.0, \"recall\": 0.0}, {\"count\": 77, \"cutoff\": 31, \"STATE\": 41, \"precision\": 0.0, \"recall\": 0.0}, {\"count\": 77, \"cutoff\": 36, \"STATE\": 41, \"precision\": 0.0, \"recall\": 0.0}, {\"count\": 77, \"cutoff\": 41, \"STATE\": 41, \"precision\": 0.0, \"recall\": 0.0}, {\"count\": 77, \"cutoff\": 46, \"STATE\": 41, \"precision\": 0.0, \"recall\": 0.0}, {\"count\": 225, \"cutoff\": 1, \"STATE\": 42, \"precision\": 0.0, \"recall\": 0.0}, {\"count\": 225, \"cutoff\": 2, \"STATE\": 42, \"precision\": 0.0, \"recall\": 0.0}, {\"count\": 225, \"cutoff\": 3, \"STATE\": 42, \"precision\": 0.0, \"recall\": 0.0}, {\"count\": 225, \"cutoff\": 4, \"STATE\": 42, \"precision\": 0.0, \"recall\": 0.0}, {\"count\": 225, \"cutoff\": 5, \"STATE\": 42, \"precision\": 0.0, \"recall\": 0.0}, {\"count\": 225, \"cutoff\": 6, \"STATE\": 42, \"precision\": 0.0, \"recall\": 0.0}, {\"count\": 225, \"cutoff\": 7, \"STATE\": 42, \"precision\": 0.0, \"recall\": 0.0}, {\"count\": 225, \"cutoff\": 8, \"STATE\": 42, \"precision\": 0.0, \"recall\": 0.0}, {\"count\": 225, \"cutoff\": 9, \"STATE\": 42, \"precision\": 0.0, \"recall\": 0.0}, {\"count\": 225, \"cutoff\": 10, \"STATE\": 42, \"precision\": 0.0, \"recall\": 0.0}, {\"count\": 225, \"cutoff\": 11, \"STATE\": 42, \"precision\": 0.0, \"recall\": 0.0}, {\"count\": 225, \"cutoff\": 16, \"STATE\": 42, \"precision\": 0.0, \"recall\": 0.0}, {\"count\": 225, \"cutoff\": 21, \"STATE\": 42, \"precision\": 0.0, \"recall\": 0.0}, {\"count\": 225, \"cutoff\": 26, \"STATE\": 42, \"precision\": 0.0, \"recall\": 0.0}, {\"count\": 225, \"cutoff\": 31, \"STATE\": 42, \"precision\": 0.0, \"recall\": 0.0}, {\"count\": 225, \"cutoff\": 36, \"STATE\": 42, \"precision\": 0.0, \"recall\": 0.0}, {\"count\": 225, \"cutoff\": 41, \"STATE\": 42, \"precision\": 0.0, \"recall\": 0.0}, {\"count\": 225, \"cutoff\": 46, \"STATE\": 42, \"precision\": 0.0, \"recall\": 0.0}, {\"count\": 9, \"cutoff\": 1, \"STATE\": 44, \"precision\": 0.0, \"recall\": 0.0}, {\"count\": 9, \"cutoff\": 2, \"STATE\": 44, \"precision\": 0.0, \"recall\": 0.0}, {\"count\": 9, \"cutoff\": 3, \"STATE\": 44, \"precision\": 0.0, \"recall\": 0.0}, {\"count\": 9, \"cutoff\": 4, \"STATE\": 44, \"precision\": 0.0, \"recall\": 0.0}, {\"count\": 9, \"cutoff\": 5, \"STATE\": 44, \"precision\": 0.0, \"recall\": 0.0}, {\"count\": 9, \"cutoff\": 6, \"STATE\": 44, \"precision\": 0.0, \"recall\": 0.0}, {\"count\": 9, \"cutoff\": 7, \"STATE\": 44, \"precision\": 0.0, \"recall\": 0.0}, {\"count\": 9, \"cutoff\": 8, \"STATE\": 44, \"precision\": 0.0, \"recall\": 0.0}, {\"count\": 9, \"cutoff\": 9, \"STATE\": 44, \"precision\": 0.0, \"recall\": 0.0}, {\"count\": 9, \"cutoff\": 10, \"STATE\": 44, \"precision\": 0.0, \"recall\": 0.0}, {\"count\": 9, \"cutoff\": 11, \"STATE\": 44, \"precision\": 0.0, \"recall\": 0.0}, {\"count\": 9, \"cutoff\": 16, \"STATE\": 44, \"precision\": 0.0, \"recall\": 0.0}, {\"count\": 9, \"cutoff\": 21, \"STATE\": 44, \"precision\": 0.0, \"recall\": 0.0}, {\"count\": 9, \"cutoff\": 26, \"STATE\": 44, \"precision\": 0.0, \"recall\": 0.0}, {\"count\": 9, \"cutoff\": 31, \"STATE\": 44, \"precision\": 0.0, \"recall\": 0.0}, {\"count\": 9, \"cutoff\": 36, \"STATE\": 44, \"precision\": 0.0, \"recall\": 0.0}, {\"count\": 9, \"cutoff\": 41, \"STATE\": 44, \"precision\": 0.0, \"recall\": 0.0}, {\"count\": 9, \"cutoff\": 46, \"STATE\": 44, \"precision\": 0.0, \"recall\": 0.0}, {\"count\": 167, \"cutoff\": 1, \"STATE\": 45, \"precision\": 0.0, \"recall\": 0.0}, {\"count\": 167, \"cutoff\": 2, \"STATE\": 45, \"precision\": 0.0, \"recall\": 0.0}, {\"count\": 167, \"cutoff\": 3, \"STATE\": 45, \"precision\": 0.0, \"recall\": 0.0}, {\"count\": 167, \"cutoff\": 4, \"STATE\": 45, \"precision\": 0.0, \"recall\": 0.0}, {\"count\": 167, \"cutoff\": 5, \"STATE\": 45, \"precision\": 0.0, \"recall\": 0.0}, {\"count\": 167, \"cutoff\": 6, \"STATE\": 45, \"precision\": 0.0, \"recall\": 0.0}, {\"count\": 167, \"cutoff\": 7, \"STATE\": 45, \"precision\": 0.0, \"recall\": 0.0}, {\"count\": 167, \"cutoff\": 8, \"STATE\": 45, \"precision\": 0.0, \"recall\": 0.0}, {\"count\": 167, \"cutoff\": 9, \"STATE\": 45, \"precision\": 0.0, \"recall\": 0.0}, {\"count\": 167, \"cutoff\": 10, \"STATE\": 45, \"precision\": 0.0, \"recall\": 0.0}, {\"count\": 167, \"cutoff\": 11, \"STATE\": 45, \"precision\": 0.0, \"recall\": 0.0}, {\"count\": 167, \"cutoff\": 16, \"STATE\": 45, \"precision\": 0.0, \"recall\": 0.0}, {\"count\": 167, \"cutoff\": 21, \"STATE\": 45, \"precision\": 0.0, \"recall\": 0.0}, {\"count\": 167, \"cutoff\": 26, \"STATE\": 45, \"precision\": 0.0, \"recall\": 0.0}, {\"count\": 167, \"cutoff\": 31, \"STATE\": 45, \"precision\": 0.0, \"recall\": 0.0}, {\"count\": 167, \"cutoff\": 36, \"STATE\": 45, \"precision\": 0.0, \"recall\": 0.0}, {\"count\": 167, \"cutoff\": 41, \"STATE\": 45, \"precision\": 0.0, \"recall\": 0.0}, {\"count\": 167, \"cutoff\": 46, \"STATE\": 45, \"precision\": 0.0, \"recall\": 0.0}, {\"count\": 24, \"cutoff\": 1, \"STATE\": 46, \"precision\": 0.0, \"recall\": 0.0}, {\"count\": 24, \"cutoff\": 2, \"STATE\": 46, \"precision\": 0.0, \"recall\": 0.0}, {\"count\": 24, \"cutoff\": 3, \"STATE\": 46, \"precision\": 0.0, \"recall\": 0.0}, {\"count\": 24, \"cutoff\": 4, \"STATE\": 46, \"precision\": 0.0, \"recall\": 0.0}, {\"count\": 24, \"cutoff\": 5, \"STATE\": 46, \"precision\": 0.0, \"recall\": 0.0}, {\"count\": 24, \"cutoff\": 6, \"STATE\": 46, \"precision\": 0.0, \"recall\": 0.0}, {\"count\": 24, \"cutoff\": 7, \"STATE\": 46, \"precision\": 0.0, \"recall\": 0.0}, {\"count\": 24, \"cutoff\": 8, \"STATE\": 46, \"precision\": 0.0, \"recall\": 0.0}, {\"count\": 24, \"cutoff\": 9, \"STATE\": 46, \"precision\": 0.0, \"recall\": 0.0}, {\"count\": 24, \"cutoff\": 10, \"STATE\": 46, \"precision\": 0.0, \"recall\": 0.0}, {\"count\": 24, \"cutoff\": 11, \"STATE\": 46, \"precision\": 0.0, \"recall\": 0.0}, {\"count\": 24, \"cutoff\": 16, \"STATE\": 46, \"precision\": 0.0, \"recall\": 0.0}, {\"count\": 24, \"cutoff\": 21, \"STATE\": 46, \"precision\": 0.0, \"recall\": 0.0}, {\"count\": 24, \"cutoff\": 26, \"STATE\": 46, \"precision\": 0.0, \"recall\": 0.0}, {\"count\": 24, \"cutoff\": 31, \"STATE\": 46, \"precision\": 0.0, \"recall\": 0.0}, {\"count\": 24, \"cutoff\": 36, \"STATE\": 46, \"precision\": 0.0, \"recall\": 0.0}, {\"count\": 24, \"cutoff\": 41, \"STATE\": 46, \"precision\": 0.0, \"recall\": 0.0}, {\"count\": 24, \"cutoff\": 46, \"STATE\": 46, \"precision\": 0.0, \"recall\": 0.0}, {\"count\": 165, \"cutoff\": 1, \"STATE\": 47, \"precision\": 0.0, \"recall\": 0.0}, {\"count\": 165, \"cutoff\": 2, \"STATE\": 47, \"precision\": 0.0, \"recall\": 0.0}, {\"count\": 165, \"cutoff\": 3, \"STATE\": 47, \"precision\": 0.0, \"recall\": 0.0}, {\"count\": 165, \"cutoff\": 4, \"STATE\": 47, \"precision\": 0.0, \"recall\": 0.0}, {\"count\": 165, \"cutoff\": 5, \"STATE\": 47, \"precision\": 0.0, \"recall\": 0.0}, {\"count\": 165, \"cutoff\": 6, \"STATE\": 47, \"precision\": 0.0, \"recall\": 0.0}, {\"count\": 165, \"cutoff\": 7, \"STATE\": 47, \"precision\": 0.0, \"recall\": 0.0}, {\"count\": 165, \"cutoff\": 8, \"STATE\": 47, \"precision\": 0.0, \"recall\": 0.0}, {\"count\": 165, \"cutoff\": 9, \"STATE\": 47, \"precision\": 0.0, \"recall\": 0.0}, {\"count\": 165, \"cutoff\": 10, \"STATE\": 47, \"precision\": 0.0, \"recall\": 0.0}, {\"count\": 165, \"cutoff\": 11, \"STATE\": 47, \"precision\": 0.0, \"recall\": 0.0}, {\"count\": 165, \"cutoff\": 16, \"STATE\": 47, \"precision\": 0.0, \"recall\": 0.0}, {\"count\": 165, \"cutoff\": 21, \"STATE\": 47, \"precision\": 0.0, \"recall\": 0.0}, {\"count\": 165, \"cutoff\": 26, \"STATE\": 47, \"precision\": 0.0, \"recall\": 0.0}, {\"count\": 165, \"cutoff\": 31, \"STATE\": 47, \"precision\": 0.0, \"recall\": 0.0}, {\"count\": 165, \"cutoff\": 36, \"STATE\": 47, \"precision\": 0.0, \"recall\": 0.0}, {\"count\": 165, \"cutoff\": 41, \"STATE\": 47, \"precision\": 0.0, \"recall\": 0.0}, {\"count\": 165, \"cutoff\": 46, \"STATE\": 47, \"precision\": 0.0, \"recall\": 0.0}, {\"count\": 475, \"cutoff\": 1, \"STATE\": 48, \"precision\": 0.0, \"recall\": 0.0}, {\"count\": 475, \"cutoff\": 2, \"STATE\": 48, \"precision\": 0.0, \"recall\": 0.0}, {\"count\": 475, \"cutoff\": 3, \"STATE\": 48, \"precision\": 0.0, \"recall\": 0.0}, {\"count\": 475, \"cutoff\": 4, \"STATE\": 48, \"precision\": 0.0, \"recall\": 0.0}, {\"count\": 475, \"cutoff\": 5, \"STATE\": 48, \"precision\": 0.0, \"recall\": 0.0}, {\"count\": 475, \"cutoff\": 6, \"STATE\": 48, \"precision\": 0.0, \"recall\": 0.0}, {\"count\": 475, \"cutoff\": 7, \"STATE\": 48, \"precision\": 0.0, \"recall\": 0.0}, {\"count\": 475, \"cutoff\": 8, \"STATE\": 48, \"precision\": 0.0, \"recall\": 0.0}, {\"count\": 475, \"cutoff\": 9, \"STATE\": 48, \"precision\": 0.0, \"recall\": 0.0}, {\"count\": 475, \"cutoff\": 10, \"STATE\": 48, \"precision\": 0.0, \"recall\": 0.0}, {\"count\": 475, \"cutoff\": 11, \"STATE\": 48, \"precision\": 0.0, \"recall\": 0.0}, {\"count\": 475, \"cutoff\": 16, \"STATE\": 48, \"precision\": 0.0, \"recall\": 0.0}, {\"count\": 475, \"cutoff\": 21, \"STATE\": 48, \"precision\": 0.0, \"recall\": 0.0}, {\"count\": 475, \"cutoff\": 26, \"STATE\": 48, \"precision\": 0.0, \"recall\": 0.0}, {\"count\": 475, \"cutoff\": 31, \"STATE\": 48, \"precision\": 0.0, \"recall\": 0.0}, {\"count\": 475, \"cutoff\": 36, \"STATE\": 48, \"precision\": 0.0, \"recall\": 0.0}, {\"count\": 475, \"cutoff\": 41, \"STATE\": 48, \"precision\": 0.0, \"recall\": 0.0}, {\"count\": 475, \"cutoff\": 46, \"STATE\": 48, \"precision\": 0.0, \"recall\": 0.0}, {\"count\": 49, \"cutoff\": 1, \"STATE\": 49, \"precision\": 0.0, \"recall\": 0.0}, {\"count\": 49, \"cutoff\": 2, \"STATE\": 49, \"precision\": 0.0, \"recall\": 0.0}, {\"count\": 49, \"cutoff\": 3, \"STATE\": 49, \"precision\": 0.0, \"recall\": 0.0}, {\"count\": 49, \"cutoff\": 4, \"STATE\": 49, \"precision\": 0.0, \"recall\": 0.0}, {\"count\": 49, \"cutoff\": 5, \"STATE\": 49, \"precision\": 0.0, \"recall\": 0.0}, {\"count\": 49, \"cutoff\": 6, \"STATE\": 49, \"precision\": 0.0, \"recall\": 0.0}, {\"count\": 49, \"cutoff\": 7, \"STATE\": 49, \"precision\": 0.0, \"recall\": 0.0}, {\"count\": 49, \"cutoff\": 8, \"STATE\": 49, \"precision\": 0.0, \"recall\": 0.0}, {\"count\": 49, \"cutoff\": 9, \"STATE\": 49, \"precision\": 0.0, \"recall\": 0.0}, {\"count\": 49, \"cutoff\": 10, \"STATE\": 49, \"precision\": 0.0, \"recall\": 0.0}, {\"count\": 49, \"cutoff\": 11, \"STATE\": 49, \"precision\": 0.0, \"recall\": 0.0}, {\"count\": 49, \"cutoff\": 16, \"STATE\": 49, \"precision\": 0.0, \"recall\": 0.0}, {\"count\": 49, \"cutoff\": 21, \"STATE\": 49, \"precision\": 0.0, \"recall\": 0.0}, {\"count\": 49, \"cutoff\": 26, \"STATE\": 49, \"precision\": 0.0, \"recall\": 0.0}, {\"count\": 49, \"cutoff\": 31, \"STATE\": 49, \"precision\": 0.0, \"recall\": 0.0}, {\"count\": 49, \"cutoff\": 36, \"STATE\": 49, \"precision\": 0.0, \"recall\": 0.0}, {\"count\": 49, \"cutoff\": 41, \"STATE\": 49, \"precision\": 0.0, \"recall\": 0.0}, {\"count\": 49, \"cutoff\": 46, \"STATE\": 49, \"precision\": 0.0, \"recall\": 0.0}, {\"count\": 12, \"cutoff\": 1, \"STATE\": 50, \"precision\": 1.0, \"recall\": 0.08333333333333333}, {\"count\": 12, \"cutoff\": 2, \"STATE\": 50, \"precision\": 0.5, \"recall\": 0.08333333333333333}, {\"count\": 12, \"cutoff\": 3, \"STATE\": 50, \"precision\": 0.3333333333333333, \"recall\": 0.08333333333333333}, {\"count\": 12, \"cutoff\": 4, \"STATE\": 50, \"precision\": 0.25, \"recall\": 0.08333333333333333}, {\"count\": 12, \"cutoff\": 5, \"STATE\": 50, \"precision\": 0.2, \"recall\": 0.08333333333333333}, {\"count\": 12, \"cutoff\": 6, \"STATE\": 50, \"precision\": 0.2, \"recall\": 0.08333333333333333}, {\"count\": 12, \"cutoff\": 7, \"STATE\": 50, \"precision\": 0.2, \"recall\": 0.08333333333333333}, {\"count\": 12, \"cutoff\": 8, \"STATE\": 50, \"precision\": 0.2, \"recall\": 0.08333333333333333}, {\"count\": 12, \"cutoff\": 9, \"STATE\": 50, \"precision\": 0.2, \"recall\": 0.08333333333333333}, {\"count\": 12, \"cutoff\": 10, \"STATE\": 50, \"precision\": 0.2, \"recall\": 0.08333333333333333}, {\"count\": 12, \"cutoff\": 11, \"STATE\": 50, \"precision\": 0.2, \"recall\": 0.08333333333333333}, {\"count\": 12, \"cutoff\": 16, \"STATE\": 50, \"precision\": 0.2, \"recall\": 0.08333333333333333}, {\"count\": 12, \"cutoff\": 21, \"STATE\": 50, \"precision\": 0.2, \"recall\": 0.08333333333333333}, {\"count\": 12, \"cutoff\": 26, \"STATE\": 50, \"precision\": 0.2, \"recall\": 0.08333333333333333}, {\"count\": 12, \"cutoff\": 31, \"STATE\": 50, \"precision\": 0.2, \"recall\": 0.08333333333333333}, {\"count\": 12, \"cutoff\": 36, \"STATE\": 50, \"precision\": 0.2, \"recall\": 0.08333333333333333}, {\"count\": 12, \"cutoff\": 41, \"STATE\": 50, \"precision\": 0.2, \"recall\": 0.08333333333333333}, {\"count\": 12, \"cutoff\": 46, \"STATE\": 50, \"precision\": 0.2, \"recall\": 0.08333333333333333}, {\"count\": 146, \"cutoff\": 1, \"STATE\": 51, \"precision\": 0.0, \"recall\": 0.0}, {\"count\": 146, \"cutoff\": 2, \"STATE\": 51, \"precision\": 0.0, \"recall\": 0.0}, {\"count\": 146, \"cutoff\": 3, \"STATE\": 51, \"precision\": 0.3333333333333333, \"recall\": 0.00684931506849315}, {\"count\": 146, \"cutoff\": 4, \"STATE\": 51, \"precision\": 0.25, \"recall\": 0.00684931506849315}, {\"count\": 146, \"cutoff\": 5, \"STATE\": 51, \"precision\": 0.25, \"recall\": 0.00684931506849315}, {\"count\": 146, \"cutoff\": 6, \"STATE\": 51, \"precision\": 0.25, \"recall\": 0.00684931506849315}, {\"count\": 146, \"cutoff\": 7, \"STATE\": 51, \"precision\": 0.25, \"recall\": 0.00684931506849315}, {\"count\": 146, \"cutoff\": 8, \"STATE\": 51, \"precision\": 0.25, \"recall\": 0.00684931506849315}, {\"count\": 146, \"cutoff\": 9, \"STATE\": 51, \"precision\": 0.25, \"recall\": 0.00684931506849315}, {\"count\": 146, \"cutoff\": 10, \"STATE\": 51, \"precision\": 0.25, \"recall\": 0.00684931506849315}, {\"count\": 146, \"cutoff\": 11, \"STATE\": 51, \"precision\": 0.25, \"recall\": 0.00684931506849315}, {\"count\": 146, \"cutoff\": 16, \"STATE\": 51, \"precision\": 0.25, \"recall\": 0.00684931506849315}, {\"count\": 146, \"cutoff\": 21, \"STATE\": 51, \"precision\": 0.25, \"recall\": 0.00684931506849315}, {\"count\": 146, \"cutoff\": 26, \"STATE\": 51, \"precision\": 0.25, \"recall\": 0.00684931506849315}, {\"count\": 146, \"cutoff\": 31, \"STATE\": 51, \"precision\": 0.25, \"recall\": 0.00684931506849315}, {\"count\": 146, \"cutoff\": 36, \"STATE\": 51, \"precision\": 0.25, \"recall\": 0.00684931506849315}, {\"count\": 146, \"cutoff\": 41, \"STATE\": 51, \"precision\": 0.25, \"recall\": 0.00684931506849315}, {\"count\": 146, \"cutoff\": 46, \"STATE\": 51, \"precision\": 0.25, \"recall\": 0.00684931506849315}, {\"count\": 97, \"cutoff\": 1, \"STATE\": 53, \"precision\": 0.0, \"recall\": 0.0}, {\"count\": 97, \"cutoff\": 2, \"STATE\": 53, \"precision\": 0.0, \"recall\": 0.0}, {\"count\": 97, \"cutoff\": 3, \"STATE\": 53, \"precision\": 0.0, \"recall\": 0.0}, {\"count\": 97, \"cutoff\": 4, \"STATE\": 53, \"precision\": 0.0, \"recall\": 0.0}, {\"count\": 97, \"cutoff\": 5, \"STATE\": 53, \"precision\": 0.0, \"recall\": 0.0}, {\"count\": 97, \"cutoff\": 6, \"STATE\": 53, \"precision\": 0.0, \"recall\": 0.0}, {\"count\": 97, \"cutoff\": 7, \"STATE\": 53, \"precision\": 0.0, \"recall\": 0.0}, {\"count\": 97, \"cutoff\": 8, \"STATE\": 53, \"precision\": 0.0, \"recall\": 0.0}, {\"count\": 97, \"cutoff\": 9, \"STATE\": 53, \"precision\": 0.0, \"recall\": 0.0}, {\"count\": 97, \"cutoff\": 10, \"STATE\": 53, \"precision\": 0.0, \"recall\": 0.0}, {\"count\": 97, \"cutoff\": 11, \"STATE\": 53, \"precision\": 0.0, \"recall\": 0.0}, {\"count\": 97, \"cutoff\": 16, \"STATE\": 53, \"precision\": 0.0, \"recall\": 0.0}, {\"count\": 97, \"cutoff\": 21, \"STATE\": 53, \"precision\": 0.0, \"recall\": 0.0}, {\"count\": 97, \"cutoff\": 26, \"STATE\": 53, \"precision\": 0.0, \"recall\": 0.0}, {\"count\": 97, \"cutoff\": 31, \"STATE\": 53, \"precision\": 0.0, \"recall\": 0.0}, {\"count\": 97, \"cutoff\": 36, \"STATE\": 53, \"precision\": 0.0, \"recall\": 0.0}, {\"count\": 97, \"cutoff\": 41, \"STATE\": 53, \"precision\": 0.0, \"recall\": 0.0}, {\"count\": 97, \"cutoff\": 46, \"STATE\": 53, \"precision\": 0.0, \"recall\": 0.0}, {\"count\": 56, \"cutoff\": 1, \"STATE\": 54, \"precision\": 0.0, \"recall\": 0.0}, {\"count\": 56, \"cutoff\": 2, \"STATE\": 54, \"precision\": 0.0, \"recall\": 0.0}, {\"count\": 56, \"cutoff\": 3, \"STATE\": 54, \"precision\": 0.0, \"recall\": 0.0}, {\"count\": 56, \"cutoff\": 4, \"STATE\": 54, \"precision\": 0.0, \"recall\": 0.0}, {\"count\": 56, \"cutoff\": 5, \"STATE\": 54, \"precision\": 0.0, \"recall\": 0.0}, {\"count\": 56, \"cutoff\": 6, \"STATE\": 54, \"precision\": 0.0, \"recall\": 0.0}, {\"count\": 56, \"cutoff\": 7, \"STATE\": 54, \"precision\": 0.0, \"recall\": 0.0}, {\"count\": 56, \"cutoff\": 8, \"STATE\": 54, \"precision\": 0.0, \"recall\": 0.0}, {\"count\": 56, \"cutoff\": 9, \"STATE\": 54, \"precision\": 0.0, \"recall\": 0.0}, {\"count\": 56, \"cutoff\": 10, \"STATE\": 54, \"precision\": 0.0, \"recall\": 0.0}, {\"count\": 56, \"cutoff\": 11, \"STATE\": 54, \"precision\": 0.0, \"recall\": 0.0}, {\"count\": 56, \"cutoff\": 16, \"STATE\": 54, \"precision\": 0.0, \"recall\": 0.0}, {\"count\": 56, \"cutoff\": 21, \"STATE\": 54, \"precision\": 0.0, \"recall\": 0.0}, {\"count\": 56, \"cutoff\": 26, \"STATE\": 54, \"precision\": 0.0, \"recall\": 0.0}, {\"count\": 56, \"cutoff\": 31, \"STATE\": 54, \"precision\": 0.0, \"recall\": 0.0}, {\"count\": 56, \"cutoff\": 36, \"STATE\": 54, \"precision\": 0.0, \"recall\": 0.0}, {\"count\": 56, \"cutoff\": 41, \"STATE\": 54, \"precision\": 0.0, \"recall\": 0.0}, {\"count\": 56, \"cutoff\": 46, \"STATE\": 54, \"precision\": 0.0, \"recall\": 0.0}, {\"count\": 92, \"cutoff\": 1, \"STATE\": 55, \"precision\": 0.0, \"recall\": 0.0}, {\"count\": 92, \"cutoff\": 2, \"STATE\": 55, \"precision\": 0.0, \"recall\": 0.0}, {\"count\": 92, \"cutoff\": 3, \"STATE\": 55, \"precision\": 0.0, \"recall\": 0.0}, {\"count\": 92, \"cutoff\": 4, \"STATE\": 55, \"precision\": 0.0, \"recall\": 0.0}, {\"count\": 92, \"cutoff\": 5, \"STATE\": 55, \"precision\": 0.0, \"recall\": 0.0}, {\"count\": 92, \"cutoff\": 6, \"STATE\": 55, \"precision\": 0.0, \"recall\": 0.0}, {\"count\": 92, \"cutoff\": 7, \"STATE\": 55, \"precision\": 0.0, \"recall\": 0.0}, {\"count\": 92, \"cutoff\": 8, \"STATE\": 55, \"precision\": 0.0, \"recall\": 0.0}, {\"count\": 92, \"cutoff\": 9, \"STATE\": 55, \"precision\": 0.0, \"recall\": 0.0}, {\"count\": 92, \"cutoff\": 10, \"STATE\": 55, \"precision\": 0.0, \"recall\": 0.0}, {\"count\": 92, \"cutoff\": 11, \"STATE\": 55, \"precision\": 0.0, \"recall\": 0.0}, {\"count\": 92, \"cutoff\": 16, \"STATE\": 55, \"precision\": 0.0, \"recall\": 0.0}, {\"count\": 92, \"cutoff\": 21, \"STATE\": 55, \"precision\": 0.0, \"recall\": 0.0}, {\"count\": 92, \"cutoff\": 26, \"STATE\": 55, \"precision\": 0.0, \"recall\": 0.0}, {\"count\": 92, \"cutoff\": 31, \"STATE\": 55, \"precision\": 0.0, \"recall\": 0.0}, {\"count\": 92, \"cutoff\": 36, \"STATE\": 55, \"precision\": 0.0, \"recall\": 0.0}, {\"count\": 92, \"cutoff\": 41, \"STATE\": 55, \"precision\": 0.0, \"recall\": 0.0}, {\"count\": 92, \"cutoff\": 46, \"STATE\": 55, \"precision\": 0.0, \"recall\": 0.0}, {\"count\": 28, \"cutoff\": 1, \"STATE\": 56, \"precision\": 0.0, \"recall\": 0.0}, {\"count\": 28, \"cutoff\": 2, \"STATE\": 56, \"precision\": 0.0, \"recall\": 0.0}, {\"count\": 28, \"cutoff\": 3, \"STATE\": 56, \"precision\": 0.0, \"recall\": 0.0}, {\"count\": 28, \"cutoff\": 4, \"STATE\": 56, \"precision\": 0.0, \"recall\": 0.0}, {\"count\": 28, \"cutoff\": 5, \"STATE\": 56, \"precision\": 0.0, \"recall\": 0.0}, {\"count\": 28, \"cutoff\": 6, \"STATE\": 56, \"precision\": 0.0, \"recall\": 0.0}, {\"count\": 28, \"cutoff\": 7, \"STATE\": 56, \"precision\": 0.0, \"recall\": 0.0}, {\"count\": 28, \"cutoff\": 8, \"STATE\": 56, \"precision\": 0.0, \"recall\": 0.0}, {\"count\": 28, \"cutoff\": 9, \"STATE\": 56, \"precision\": 0.0, \"recall\": 0.0}, {\"count\": 28, \"cutoff\": 10, \"STATE\": 56, \"precision\": 0.0, \"recall\": 0.0}, {\"count\": 28, \"cutoff\": 11, \"STATE\": 56, \"precision\": 0.0, \"recall\": 0.0}, {\"count\": 28, \"cutoff\": 16, \"STATE\": 56, \"precision\": 0.0, \"recall\": 0.0}, {\"count\": 28, \"cutoff\": 21, \"STATE\": 56, \"precision\": 0.0, \"recall\": 0.0}, {\"count\": 28, \"cutoff\": 26, \"STATE\": 56, \"precision\": 0.0, \"recall\": 0.0}, {\"count\": 28, \"cutoff\": 31, \"STATE\": 56, \"precision\": 0.0, \"recall\": 0.0}, {\"count\": 28, \"cutoff\": 36, \"STATE\": 56, \"precision\": 0.0, \"recall\": 0.0}, {\"count\": 28, \"cutoff\": 41, \"STATE\": 56, \"precision\": 0.0, \"recall\": 0.0}, {\"count\": 28, \"cutoff\": 46, \"STATE\": 56, \"precision\": 0.0, \"recall\": 0.0}]}]]}, e);\n",
       "                });\n",
       "            })();\n",
       "        "
      ]
     },
     "metadata": {},
     "output_type": "display_data"
    }
   ],
   "source": [
    "gl.show_comparison(comparisonstruct,[item_item, rec1])"
   ]
  },
  {
   "cell_type": "markdown",
   "metadata": {},
   "source": [
    "The recommendation seems to provide a lower rates for precision and recall than that of the item-item."
   ]
  },
  {
   "cell_type": "code",
   "execution_count": 108,
   "metadata": {
    "collapsed": false
   },
   "outputs": [
    {
     "name": "stderr",
     "output_type": "stream",
     "text": [
      "[INFO] graphlab.deploy.job: Validating job.\n",
      "[INFO] graphlab.deploy.map_job: Validation complete. Job: 'Model-Parameter-Search-Aug-13-2017-20-21-5400000' ready for execution\n",
      "[INFO] graphlab.deploy.map_job: Job: 'Model-Parameter-Search-Aug-13-2017-20-21-5400000' scheduled.\n",
      "[INFO] graphlab.deploy.job: Validating job.\n",
      "[INFO] graphlab.deploy.map_job: A job with name 'Model-Parameter-Search-Aug-13-2017-20-21-5400000' already exists. Renaming the job to 'Model-Parameter-Search-Aug-13-2017-20-21-5400000-656cc'.\n",
      "[INFO] graphlab.deploy.map_job: Validation complete. Job: 'Model-Parameter-Search-Aug-13-2017-20-21-5400000-656cc' ready for execution\n",
      "[INFO] graphlab.deploy.map_job: Job: 'Model-Parameter-Search-Aug-13-2017-20-21-5400000-656cc' scheduled.\n"
     ]
    }
   ],
   "source": [
    "params = {'user_id': 'STATE', \n",
    "          'item_id': 'WEATHER', \n",
    "          'target': 'FATALS',\n",
    "          'num_factors': [8, 12, 16, 24, 32], \n",
    "          'regularization':[0.001] ,\n",
    "          'linear_regularization': [0.001]}\n",
    "\n",
    "job = gl.model_parameter_search.create( (train,test),\n",
    "        gl.recommender.ranking_factorization_recommender.create,\n",
    "        params,\n",
    "        max_models=5,\n",
    "        environment=None)\n",
    "\n",
    "# also note thatthis evaluator also supports sklearn\n",
    "# https://dato.com/products/create/docs/generated/graphlab.toolkits.model_parameter_search.create.html?highlight=model_parameter_search"
   ]
  },
  {
   "cell_type": "code",
   "execution_count": 109,
   "metadata": {
    "collapsed": false
   },
   "outputs": [
    {
     "data": {
      "text/plain": [
       "{'Canceled': 0, 'Completed': 0, 'Failed': 0, 'Pending': 5, 'Running': 0}"
      ]
     },
     "execution_count": 109,
     "metadata": {},
     "output_type": "execute_result"
    }
   ],
   "source": [
    "job.get_status()"
   ]
  },
  {
   "cell_type": "code",
   "execution_count": 110,
   "metadata": {
    "collapsed": false
   },
   "outputs": [
    {
     "data": {
      "text/html": [
       "<div style=\"max-height:1000px;max-width:1500px;overflow:auto;\"><table frame=\"box\" rules=\"cols\">\n",
       "    <tr>\n",
       "        <th style=\"padding-left: 1em; padding-right: 1em; text-align: center\">model_id</th>\n",
       "        <th style=\"padding-left: 1em; padding-right: 1em; text-align: center\">item_id</th>\n",
       "        <th style=\"padding-left: 1em; padding-right: 1em; text-align: center\">linear_regularization</th>\n",
       "        <th style=\"padding-left: 1em; padding-right: 1em; text-align: center\">max_iterations</th>\n",
       "        <th style=\"padding-left: 1em; padding-right: 1em; text-align: center\">num_factors</th>\n",
       "        <th style=\"padding-left: 1em; padding-right: 1em; text-align: center\">num_sampled_negative_exam<br>ples ...</th>\n",
       "        <th style=\"padding-left: 1em; padding-right: 1em; text-align: center\">ranking_regularization</th>\n",
       "    </tr>\n",
       "    <tr>\n",
       "        <td style=\"padding-left: 1em; padding-right: 1em; text-align: center; vertical-align: top\">1</td>\n",
       "        <td style=\"padding-left: 1em; padding-right: 1em; text-align: center; vertical-align: top\">WEATHER</td>\n",
       "        <td style=\"padding-left: 1em; padding-right: 1em; text-align: center; vertical-align: top\">0.001</td>\n",
       "        <td style=\"padding-left: 1em; padding-right: 1em; text-align: center; vertical-align: top\">50</td>\n",
       "        <td style=\"padding-left: 1em; padding-right: 1em; text-align: center; vertical-align: top\">8</td>\n",
       "        <td style=\"padding-left: 1em; padding-right: 1em; text-align: center; vertical-align: top\">8</td>\n",
       "        <td style=\"padding-left: 1em; padding-right: 1em; text-align: center; vertical-align: top\">0.5</td>\n",
       "    </tr>\n",
       "    <tr>\n",
       "        <td style=\"padding-left: 1em; padding-right: 1em; text-align: center; vertical-align: top\">0</td>\n",
       "        <td style=\"padding-left: 1em; padding-right: 1em; text-align: center; vertical-align: top\">WEATHER</td>\n",
       "        <td style=\"padding-left: 1em; padding-right: 1em; text-align: center; vertical-align: top\">0.001</td>\n",
       "        <td style=\"padding-left: 1em; padding-right: 1em; text-align: center; vertical-align: top\">50</td>\n",
       "        <td style=\"padding-left: 1em; padding-right: 1em; text-align: center; vertical-align: top\">24</td>\n",
       "        <td style=\"padding-left: 1em; padding-right: 1em; text-align: center; vertical-align: top\">8</td>\n",
       "        <td style=\"padding-left: 1em; padding-right: 1em; text-align: center; vertical-align: top\">0.5</td>\n",
       "    </tr>\n",
       "    <tr>\n",
       "        <td style=\"padding-left: 1em; padding-right: 1em; text-align: center; vertical-align: top\">3</td>\n",
       "        <td style=\"padding-left: 1em; padding-right: 1em; text-align: center; vertical-align: top\">WEATHER</td>\n",
       "        <td style=\"padding-left: 1em; padding-right: 1em; text-align: center; vertical-align: top\">0.001</td>\n",
       "        <td style=\"padding-left: 1em; padding-right: 1em; text-align: center; vertical-align: top\">25</td>\n",
       "        <td style=\"padding-left: 1em; padding-right: 1em; text-align: center; vertical-align: top\">24</td>\n",
       "        <td style=\"padding-left: 1em; padding-right: 1em; text-align: center; vertical-align: top\">4</td>\n",
       "        <td style=\"padding-left: 1em; padding-right: 1em; text-align: center; vertical-align: top\">0.5</td>\n",
       "    </tr>\n",
       "    <tr>\n",
       "        <td style=\"padding-left: 1em; padding-right: 1em; text-align: center; vertical-align: top\">2</td>\n",
       "        <td style=\"padding-left: 1em; padding-right: 1em; text-align: center; vertical-align: top\">WEATHER</td>\n",
       "        <td style=\"padding-left: 1em; padding-right: 1em; text-align: center; vertical-align: top\">0.001</td>\n",
       "        <td style=\"padding-left: 1em; padding-right: 1em; text-align: center; vertical-align: top\">25</td>\n",
       "        <td style=\"padding-left: 1em; padding-right: 1em; text-align: center; vertical-align: top\">24</td>\n",
       "        <td style=\"padding-left: 1em; padding-right: 1em; text-align: center; vertical-align: top\">4</td>\n",
       "        <td style=\"padding-left: 1em; padding-right: 1em; text-align: center; vertical-align: top\">0.1</td>\n",
       "    </tr>\n",
       "    <tr>\n",
       "        <td style=\"padding-left: 1em; padding-right: 1em; text-align: center; vertical-align: top\">4</td>\n",
       "        <td style=\"padding-left: 1em; padding-right: 1em; text-align: center; vertical-align: top\">WEATHER</td>\n",
       "        <td style=\"padding-left: 1em; padding-right: 1em; text-align: center; vertical-align: top\">0.001</td>\n",
       "        <td style=\"padding-left: 1em; padding-right: 1em; text-align: center; vertical-align: top\">50</td>\n",
       "        <td style=\"padding-left: 1em; padding-right: 1em; text-align: center; vertical-align: top\">8</td>\n",
       "        <td style=\"padding-left: 1em; padding-right: 1em; text-align: center; vertical-align: top\">8</td>\n",
       "        <td style=\"padding-left: 1em; padding-right: 1em; text-align: center; vertical-align: top\">0.25</td>\n",
       "    </tr>\n",
       "</table>\n",
       "<table frame=\"box\" rules=\"cols\">\n",
       "    <tr>\n",
       "        <th style=\"padding-left: 1em; padding-right: 1em; text-align: center\">regularization</th>\n",
       "        <th style=\"padding-left: 1em; padding-right: 1em; text-align: center\">target</th>\n",
       "        <th style=\"padding-left: 1em; padding-right: 1em; text-align: center\">user_id</th>\n",
       "        <th style=\"padding-left: 1em; padding-right: 1em; text-align: center\">training_precision@5</th>\n",
       "        <th style=\"padding-left: 1em; padding-right: 1em; text-align: center\">training_recall@5</th>\n",
       "        <th style=\"padding-left: 1em; padding-right: 1em; text-align: center\">training_rmse</th>\n",
       "        <th style=\"padding-left: 1em; padding-right: 1em; text-align: center\">validation_precision@5</th>\n",
       "    </tr>\n",
       "    <tr>\n",
       "        <td style=\"padding-left: 1em; padding-right: 1em; text-align: center; vertical-align: top\">0.001</td>\n",
       "        <td style=\"padding-left: 1em; padding-right: 1em; text-align: center; vertical-align: top\">FATALS</td>\n",
       "        <td style=\"padding-left: 1em; padding-right: 1em; text-align: center; vertical-align: top\">STATE</td>\n",
       "        <td style=\"padding-left: 1em; padding-right: 1em; text-align: center; vertical-align: top\">0.888</td>\n",
       "        <td style=\"padding-left: 1em; padding-right: 1em; text-align: center; vertical-align: top\">0.0236984082479</td>\n",
       "        <td style=\"padding-left: 1em; padding-right: 1em; text-align: center; vertical-align: top\">0.337271256395</td>\n",
       "        <td style=\"padding-left: 1em; padding-right: 1em; text-align: center; vertical-align: top\">0.052</td>\n",
       "    </tr>\n",
       "    <tr>\n",
       "        <td style=\"padding-left: 1em; padding-right: 1em; text-align: center; vertical-align: top\">0.001</td>\n",
       "        <td style=\"padding-left: 1em; padding-right: 1em; text-align: center; vertical-align: top\">FATALS</td>\n",
       "        <td style=\"padding-left: 1em; padding-right: 1em; text-align: center; vertical-align: top\">STATE</td>\n",
       "        <td style=\"padding-left: 1em; padding-right: 1em; text-align: center; vertical-align: top\">0.916</td>\n",
       "        <td style=\"padding-left: 1em; padding-right: 1em; text-align: center; vertical-align: top\">0.02485691372</td>\n",
       "        <td style=\"padding-left: 1em; padding-right: 1em; text-align: center; vertical-align: top\">0.33140110575</td>\n",
       "        <td style=\"padding-left: 1em; padding-right: 1em; text-align: center; vertical-align: top\">0.052</td>\n",
       "    </tr>\n",
       "    <tr>\n",
       "        <td style=\"padding-left: 1em; padding-right: 1em; text-align: center; vertical-align: top\">0.001</td>\n",
       "        <td style=\"padding-left: 1em; padding-right: 1em; text-align: center; vertical-align: top\">FATALS</td>\n",
       "        <td style=\"padding-left: 1em; padding-right: 1em; text-align: center; vertical-align: top\">STATE</td>\n",
       "        <td style=\"padding-left: 1em; padding-right: 1em; text-align: center; vertical-align: top\">0.86</td>\n",
       "        <td style=\"padding-left: 1em; padding-right: 1em; text-align: center; vertical-align: top\">0.0220597204654</td>\n",
       "        <td style=\"padding-left: 1em; padding-right: 1em; text-align: center; vertical-align: top\">0.332521329278</td>\n",
       "        <td style=\"padding-left: 1em; padding-right: 1em; text-align: center; vertical-align: top\">0.052</td>\n",
       "    </tr>\n",
       "    <tr>\n",
       "        <td style=\"padding-left: 1em; padding-right: 1em; text-align: center; vertical-align: top\">0.001</td>\n",
       "        <td style=\"padding-left: 1em; padding-right: 1em; text-align: center; vertical-align: top\">FATALS</td>\n",
       "        <td style=\"padding-left: 1em; padding-right: 1em; text-align: center; vertical-align: top\">STATE</td>\n",
       "        <td style=\"padding-left: 1em; padding-right: 1em; text-align: center; vertical-align: top\">0.856</td>\n",
       "        <td style=\"padding-left: 1em; padding-right: 1em; text-align: center; vertical-align: top\">0.0219015334853</td>\n",
       "        <td style=\"padding-left: 1em; padding-right: 1em; text-align: center; vertical-align: top\">0.345050450602</td>\n",
       "        <td style=\"padding-left: 1em; padding-right: 1em; text-align: center; vertical-align: top\">0.052</td>\n",
       "    </tr>\n",
       "    <tr>\n",
       "        <td style=\"padding-left: 1em; padding-right: 1em; text-align: center; vertical-align: top\">0.001</td>\n",
       "        <td style=\"padding-left: 1em; padding-right: 1em; text-align: center; vertical-align: top\">FATALS</td>\n",
       "        <td style=\"padding-left: 1em; padding-right: 1em; text-align: center; vertical-align: top\">STATE</td>\n",
       "        <td style=\"padding-left: 1em; padding-right: 1em; text-align: center; vertical-align: top\">0.86</td>\n",
       "        <td style=\"padding-left: 1em; padding-right: 1em; text-align: center; vertical-align: top\">0.0219724554711</td>\n",
       "        <td style=\"padding-left: 1em; padding-right: 1em; text-align: center; vertical-align: top\">0.333669536121</td>\n",
       "        <td style=\"padding-left: 1em; padding-right: 1em; text-align: center; vertical-align: top\">0.052</td>\n",
       "    </tr>\n",
       "</table>\n",
       "<table frame=\"box\" rules=\"cols\">\n",
       "    <tr>\n",
       "        <th style=\"padding-left: 1em; padding-right: 1em; text-align: center\">validation_recall@5</th>\n",
       "        <th style=\"padding-left: 1em; padding-right: 1em; text-align: center\">validation_rmse</th>\n",
       "    </tr>\n",
       "    <tr>\n",
       "        <td style=\"padding-left: 1em; padding-right: 1em; text-align: center; vertical-align: top\">0.00585567639702</td>\n",
       "        <td style=\"padding-left: 1em; padding-right: 1em; text-align: center; vertical-align: top\">0.351505877718</td>\n",
       "    </tr>\n",
       "    <tr>\n",
       "        <td style=\"padding-left: 1em; padding-right: 1em; text-align: center; vertical-align: top\">0.00585567639702</td>\n",
       "        <td style=\"padding-left: 1em; padding-right: 1em; text-align: center; vertical-align: top\">0.341085626499</td>\n",
       "    </tr>\n",
       "    <tr>\n",
       "        <td style=\"padding-left: 1em; padding-right: 1em; text-align: center; vertical-align: top\">0.00585567639702</td>\n",
       "        <td style=\"padding-left: 1em; padding-right: 1em; text-align: center; vertical-align: top\">0.344279543406</td>\n",
       "    </tr>\n",
       "    <tr>\n",
       "        <td style=\"padding-left: 1em; padding-right: 1em; text-align: center; vertical-align: top\">0.00585567639702</td>\n",
       "        <td style=\"padding-left: 1em; padding-right: 1em; text-align: center; vertical-align: top\">0.360602667768</td>\n",
       "    </tr>\n",
       "    <tr>\n",
       "        <td style=\"padding-left: 1em; padding-right: 1em; text-align: center; vertical-align: top\">0.00585567639702</td>\n",
       "        <td style=\"padding-left: 1em; padding-right: 1em; text-align: center; vertical-align: top\">0.346792966743</td>\n",
       "    </tr>\n",
       "</table>\n",
       "[5 rows x 16 columns]<br/>\n",
       "</div>"
      ],
      "text/plain": [
       "Columns:\n",
       "\tmodel_id\tint\n",
       "\titem_id\tstr\n",
       "\tlinear_regularization\tfloat\n",
       "\tmax_iterations\tint\n",
       "\tnum_factors\tint\n",
       "\tnum_sampled_negative_examples\tint\n",
       "\tranking_regularization\tfloat\n",
       "\tregularization\tfloat\n",
       "\ttarget\tstr\n",
       "\tuser_id\tstr\n",
       "\ttraining_precision@5\tfloat\n",
       "\ttraining_recall@5\tfloat\n",
       "\ttraining_rmse\tfloat\n",
       "\tvalidation_precision@5\tfloat\n",
       "\tvalidation_recall@5\tfloat\n",
       "\tvalidation_rmse\tfloat\n",
       "\n",
       "Rows: 5\n",
       "\n",
       "Data:\n",
       "+----------+---------+-----------------------+----------------+-------------+-------------------------------+\n",
       "| model_id | item_id | linear_regularization | max_iterations | num_factors | num_sampled_negative_examples |\n",
       "+----------+---------+-----------------------+----------------+-------------+-------------------------------+\n",
       "|    1     | WEATHER |         0.001         |       50       |      8      |               8               |\n",
       "|    0     | WEATHER |         0.001         |       50       |      24     |               8               |\n",
       "|    3     | WEATHER |         0.001         |       25       |      24     |               4               |\n",
       "|    2     | WEATHER |         0.001         |       25       |      24     |               4               |\n",
       "|    4     | WEATHER |         0.001         |       50       |      8      |               8               |\n",
       "+----------+---------+-----------------------+----------------+-------------+-------------------------------+\n",
       "+------------------------+----------------+--------+---------+----------------------+\n",
       "| ranking_regularization | regularization | target | user_id | training_precision@5 |\n",
       "+------------------------+----------------+--------+---------+----------------------+\n",
       "|          0.5           |     0.001      | FATALS |  STATE  |        0.888         |\n",
       "|          0.5           |     0.001      | FATALS |  STATE  |        0.916         |\n",
       "|          0.5           |     0.001      | FATALS |  STATE  |         0.86         |\n",
       "|          0.1           |     0.001      | FATALS |  STATE  |        0.856         |\n",
       "|          0.25          |     0.001      | FATALS |  STATE  |         0.86         |\n",
       "+------------------------+----------------+--------+---------+----------------------+\n",
       "+-------------------+----------------+------------------------+---------------------+\n",
       "| training_recall@5 | training_rmse  | validation_precision@5 | validation_recall@5 |\n",
       "+-------------------+----------------+------------------------+---------------------+\n",
       "|  0.0236984082479  | 0.337271256395 |         0.052          |   0.00585567639702  |\n",
       "|   0.02485691372   | 0.33140110575  |         0.052          |   0.00585567639702  |\n",
       "|  0.0220597204654  | 0.332521329278 |         0.052          |   0.00585567639702  |\n",
       "|  0.0219015334853  | 0.345050450602 |         0.052          |   0.00585567639702  |\n",
       "|  0.0219724554711  | 0.333669536121 |         0.052          |   0.00585567639702  |\n",
       "+-------------------+----------------+------------------------+---------------------+\n",
       "+-----------------+\n",
       "| validation_rmse |\n",
       "+-----------------+\n",
       "|  0.351505877718 |\n",
       "|  0.341085626499 |\n",
       "|  0.344279543406 |\n",
       "|  0.360602667768 |\n",
       "|  0.346792966743 |\n",
       "+-----------------+\n",
       "[5 rows x 16 columns]"
      ]
     },
     "execution_count": 110,
     "metadata": {},
     "output_type": "execute_result"
    }
   ],
   "source": [
    "job_result = job.get_results()\n",
    "\n",
    "job_result.head()"
   ]
  },
  {
   "cell_type": "code",
   "execution_count": 111,
   "metadata": {
    "collapsed": false
   },
   "outputs": [
    {
     "data": {
      "text/plain": [
       "{'item_id': 'WEATHER',\n",
       " 'linear_regularization': 0.001,\n",
       " 'max_iterations': 50,\n",
       " 'num_factors': 24,\n",
       " 'num_sampled_negative_examples': 8,\n",
       " 'ranking_regularization': 0.5,\n",
       " 'regularization': 0.001,\n",
       " 'target': 'FATALS',\n",
       " 'user_id': 'STATE'}"
      ]
     },
     "execution_count": 111,
     "metadata": {},
     "output_type": "execute_result"
    }
   ],
   "source": [
    "bst_prms = job.get_best_params()\n",
    "bst_prms"
   ]
  },
  {
   "cell_type": "code",
   "execution_count": 112,
   "metadata": {
    "collapsed": false
   },
   "outputs": [
    {
     "data": {
      "text/plain": [
       "[Class                            : RankingFactorizationRecommender\n",
       " \n",
       " Schema\n",
       " ------\n",
       " User ID                          : STATE\n",
       " Item ID                          : WEATHER\n",
       " Target                           : FATALS\n",
       " Additional observation features  : 18\n",
       " User side features               : []\n",
       " Item side features               : []\n",
       " \n",
       " Statistics\n",
       " ----------\n",
       " Number of observations           : 23035\n",
       " Number of users                  : 50\n",
       " Number of items                  : 9\n",
       " \n",
       " Training summary\n",
       " ----------------\n",
       " Training time                    : 13.0606\n",
       " \n",
       " Model Parameters\n",
       " ----------------\n",
       " Model class                      : RankingFactorizationRecommender\n",
       " num_factors                      : 24\n",
       " binary_target                    : 0\n",
       " side_data_factorization          : 1\n",
       " solver                           : auto\n",
       " nmf                              : 0\n",
       " max_iterations                   : 50\n",
       " \n",
       " Regularization Settings\n",
       " -----------------------\n",
       " regularization                   : 0.001\n",
       " regularization_type              : normal\n",
       " linear_regularization            : 0.001\n",
       " ranking_regularization           : 0.5\n",
       " unobserved_rating_value          : -1.79769313486e+308\n",
       " num_sampled_negative_examples    : 8\n",
       " ials_confidence_scaling_type     : auto\n",
       " ials_confidence_scaling_factor   : 1\n",
       " \n",
       " Optimization Settings\n",
       " ---------------------\n",
       " init_random_sigma                : 0.01\n",
       " sgd_convergence_interval         : 4\n",
       " sgd_convergence_threshold        : 0.0\n",
       " sgd_max_trial_iterations         : 5\n",
       " sgd_sampling_block_size          : 131072\n",
       " sgd_step_adjustment_interval     : 4\n",
       " sgd_step_size                    : 0.0\n",
       " sgd_trial_sample_minimum_size    : 10000\n",
       " sgd_trial_sample_proportion      : 0.125\n",
       " step_size_decrease_rate          : 0.75\n",
       " additional_iterations_if_unhealthy : 5\n",
       " adagrad_momentum_weighting       : 0.9\n",
       " num_tempering_iterations         : 4\n",
       " tempering_regularization_start_value : 0.0\n",
       " track_exact_loss                 : 0,\n",
       " Class                            : RankingFactorizationRecommender\n",
       " \n",
       " Schema\n",
       " ------\n",
       " User ID                          : STATE\n",
       " Item ID                          : WEATHER\n",
       " Target                           : FATALS\n",
       " Additional observation features  : 18\n",
       " User side features               : []\n",
       " Item side features               : []\n",
       " \n",
       " Statistics\n",
       " ----------\n",
       " Number of observations           : 23035\n",
       " Number of users                  : 50\n",
       " Number of items                  : 9\n",
       " \n",
       " Training summary\n",
       " ----------------\n",
       " Training time                    : 6.9469\n",
       " \n",
       " Model Parameters\n",
       " ----------------\n",
       " Model class                      : RankingFactorizationRecommender\n",
       " num_factors                      : 8\n",
       " binary_target                    : 0\n",
       " side_data_factorization          : 1\n",
       " solver                           : auto\n",
       " nmf                              : 0\n",
       " max_iterations                   : 50\n",
       " \n",
       " Regularization Settings\n",
       " -----------------------\n",
       " regularization                   : 0.001\n",
       " regularization_type              : normal\n",
       " linear_regularization            : 0.001\n",
       " ranking_regularization           : 0.5\n",
       " unobserved_rating_value          : -1.79769313486e+308\n",
       " num_sampled_negative_examples    : 8\n",
       " ials_confidence_scaling_type     : auto\n",
       " ials_confidence_scaling_factor   : 1\n",
       " \n",
       " Optimization Settings\n",
       " ---------------------\n",
       " init_random_sigma                : 0.01\n",
       " sgd_convergence_interval         : 4\n",
       " sgd_convergence_threshold        : 0.0\n",
       " sgd_max_trial_iterations         : 5\n",
       " sgd_sampling_block_size          : 131072\n",
       " sgd_step_adjustment_interval     : 4\n",
       " sgd_step_size                    : 0.0\n",
       " sgd_trial_sample_minimum_size    : 10000\n",
       " sgd_trial_sample_proportion      : 0.125\n",
       " step_size_decrease_rate          : 0.75\n",
       " additional_iterations_if_unhealthy : 5\n",
       " adagrad_momentum_weighting       : 0.9\n",
       " num_tempering_iterations         : 4\n",
       " tempering_regularization_start_value : 0.0\n",
       " track_exact_loss                 : 0,\n",
       " Class                            : RankingFactorizationRecommender\n",
       " \n",
       " Schema\n",
       " ------\n",
       " User ID                          : STATE\n",
       " Item ID                          : WEATHER\n",
       " Target                           : FATALS\n",
       " Additional observation features  : 18\n",
       " User side features               : []\n",
       " Item side features               : []\n",
       " \n",
       " Statistics\n",
       " ----------\n",
       " Number of observations           : 23035\n",
       " Number of users                  : 50\n",
       " Number of items                  : 9\n",
       " \n",
       " Training summary\n",
       " ----------------\n",
       " Training time                    : 8.8969\n",
       " \n",
       " Model Parameters\n",
       " ----------------\n",
       " Model class                      : RankingFactorizationRecommender\n",
       " num_factors                      : 24\n",
       " binary_target                    : 0\n",
       " side_data_factorization          : 1\n",
       " solver                           : auto\n",
       " nmf                              : 0\n",
       " max_iterations                   : 25\n",
       " \n",
       " Regularization Settings\n",
       " -----------------------\n",
       " regularization                   : 0.001\n",
       " regularization_type              : normal\n",
       " linear_regularization            : 0.001\n",
       " ranking_regularization           : 0.1\n",
       " unobserved_rating_value          : -1.79769313486e+308\n",
       " num_sampled_negative_examples    : 4\n",
       " ials_confidence_scaling_type     : auto\n",
       " ials_confidence_scaling_factor   : 1\n",
       " \n",
       " Optimization Settings\n",
       " ---------------------\n",
       " init_random_sigma                : 0.01\n",
       " sgd_convergence_interval         : 4\n",
       " sgd_convergence_threshold        : 0.0\n",
       " sgd_max_trial_iterations         : 5\n",
       " sgd_sampling_block_size          : 131072\n",
       " sgd_step_adjustment_interval     : 4\n",
       " sgd_step_size                    : 0.0\n",
       " sgd_trial_sample_minimum_size    : 10000\n",
       " sgd_trial_sample_proportion      : 0.125\n",
       " step_size_decrease_rate          : 0.75\n",
       " additional_iterations_if_unhealthy : 5\n",
       " adagrad_momentum_weighting       : 0.9\n",
       " num_tempering_iterations         : 4\n",
       " tempering_regularization_start_value : 0.0\n",
       " track_exact_loss                 : 0,\n",
       " Class                            : RankingFactorizationRecommender\n",
       " \n",
       " Schema\n",
       " ------\n",
       " User ID                          : STATE\n",
       " Item ID                          : WEATHER\n",
       " Target                           : FATALS\n",
       " Additional observation features  : 18\n",
       " User side features               : []\n",
       " Item side features               : []\n",
       " \n",
       " Statistics\n",
       " ----------\n",
       " Number of observations           : 23035\n",
       " Number of users                  : 50\n",
       " Number of items                  : 9\n",
       " \n",
       " Training summary\n",
       " ----------------\n",
       " Training time                    : 12.2378\n",
       " \n",
       " Model Parameters\n",
       " ----------------\n",
       " Model class                      : RankingFactorizationRecommender\n",
       " num_factors                      : 24\n",
       " binary_target                    : 0\n",
       " side_data_factorization          : 1\n",
       " solver                           : auto\n",
       " nmf                              : 0\n",
       " max_iterations                   : 25\n",
       " \n",
       " Regularization Settings\n",
       " -----------------------\n",
       " regularization                   : 0.001\n",
       " regularization_type              : normal\n",
       " linear_regularization            : 0.001\n",
       " ranking_regularization           : 0.5\n",
       " unobserved_rating_value          : -1.79769313486e+308\n",
       " num_sampled_negative_examples    : 4\n",
       " ials_confidence_scaling_type     : auto\n",
       " ials_confidence_scaling_factor   : 1\n",
       " \n",
       " Optimization Settings\n",
       " ---------------------\n",
       " init_random_sigma                : 0.01\n",
       " sgd_convergence_interval         : 4\n",
       " sgd_convergence_threshold        : 0.0\n",
       " sgd_max_trial_iterations         : 5\n",
       " sgd_sampling_block_size          : 131072\n",
       " sgd_step_adjustment_interval     : 4\n",
       " sgd_step_size                    : 0.0\n",
       " sgd_trial_sample_minimum_size    : 10000\n",
       " sgd_trial_sample_proportion      : 0.125\n",
       " step_size_decrease_rate          : 0.75\n",
       " additional_iterations_if_unhealthy : 5\n",
       " adagrad_momentum_weighting       : 0.9\n",
       " num_tempering_iterations         : 4\n",
       " tempering_regularization_start_value : 0.0\n",
       " track_exact_loss                 : 0,\n",
       " Class                            : RankingFactorizationRecommender\n",
       " \n",
       " Schema\n",
       " ------\n",
       " User ID                          : STATE\n",
       " Item ID                          : WEATHER\n",
       " Target                           : FATALS\n",
       " Additional observation features  : 18\n",
       " User side features               : []\n",
       " Item side features               : []\n",
       " \n",
       " Statistics\n",
       " ----------\n",
       " Number of observations           : 23035\n",
       " Number of users                  : 50\n",
       " Number of items                  : 9\n",
       " \n",
       " Training summary\n",
       " ----------------\n",
       " Training time                    : 7.5232\n",
       " \n",
       " Model Parameters\n",
       " ----------------\n",
       " Model class                      : RankingFactorizationRecommender\n",
       " num_factors                      : 8\n",
       " binary_target                    : 0\n",
       " side_data_factorization          : 1\n",
       " solver                           : auto\n",
       " nmf                              : 0\n",
       " max_iterations                   : 50\n",
       " \n",
       " Regularization Settings\n",
       " -----------------------\n",
       " regularization                   : 0.001\n",
       " regularization_type              : normal\n",
       " linear_regularization            : 0.001\n",
       " ranking_regularization           : 0.25\n",
       " unobserved_rating_value          : -1.79769313486e+308\n",
       " num_sampled_negative_examples    : 8\n",
       " ials_confidence_scaling_type     : auto\n",
       " ials_confidence_scaling_factor   : 1\n",
       " \n",
       " Optimization Settings\n",
       " ---------------------\n",
       " init_random_sigma                : 0.01\n",
       " sgd_convergence_interval         : 4\n",
       " sgd_convergence_threshold        : 0.0\n",
       " sgd_max_trial_iterations         : 5\n",
       " sgd_sampling_block_size          : 131072\n",
       " sgd_step_adjustment_interval     : 4\n",
       " sgd_step_size                    : 0.0\n",
       " sgd_trial_sample_minimum_size    : 10000\n",
       " sgd_trial_sample_proportion      : 0.125\n",
       " step_size_decrease_rate          : 0.75\n",
       " additional_iterations_if_unhealthy : 5\n",
       " adagrad_momentum_weighting       : 0.9\n",
       " num_tempering_iterations         : 4\n",
       " tempering_regularization_start_value : 0.0\n",
       " track_exact_loss                 : 0]"
      ]
     },
     "execution_count": 112,
     "metadata": {},
     "output_type": "execute_result"
    }
   ],
   "source": [
    "\n",
    "models = job.get_models()\n",
    "models"
   ]
  },
  {
   "cell_type": "markdown",
   "metadata": {
    "collapsed": true
   },
   "source": [
    "Based on the training time, the second model seems to be the most efficient. As most of the other parameters do not change much between models. "
   ]
  }
 ],
 "metadata": {
  "kernelspec": {
   "display_name": "python_2.7",
   "language": "python",
   "name": "python2.7"
  },
  "language_info": {
   "codemirror_mode": {
    "name": "ipython",
    "version": 2
   },
   "file_extension": ".py",
   "mimetype": "text/x-python",
   "name": "python",
   "nbconvert_exporter": "python",
   "pygments_lexer": "ipython2",
   "version": "2.7.13"
  }
 },
 "nbformat": 4,
 "nbformat_minor": 2
}
